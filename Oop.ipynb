{
  "nbformat": 4,
  "nbformat_minor": 0,
  "metadata": {
    "colab": {
      "name": "Oop.ipynb",
      "provenance": [],
      "authorship_tag": "ABX9TyP0WjN0R5iqvXOcIfelGF8y",
      "include_colab_link": true
    },
    "kernelspec": {
      "name": "python3",
      "display_name": "Python 3"
    }
  },
  "cells": [
    {
      "cell_type": "markdown",
      "metadata": {
        "id": "view-in-github",
        "colab_type": "text"
      },
      "source": [
        "<a href=\"https://colab.research.google.com/github/vishvas-chauhan/First_Repository/blob/master/Oop.ipynb\" target=\"_parent\"><img src=\"https://colab.research.google.com/assets/colab-badge.svg\" alt=\"Open In Colab\"/></a>"
      ]
    },
    {
      "cell_type": "code",
      "metadata": {
        "id": "cREJ6zik1lMN"
      },
      "source": [
        "class employee:\n",
        "\n",
        "  empcount=0\n",
        "  def __init__(self,name,salary):\n",
        "    self.name = name\n",
        "    self.salary =salary\n",
        "    employee.empcount +=1\n",
        "  def displaycount(self):\n",
        "    print (employee.empcount)\n",
        "  def displayemployee(self):\n",
        "    print(self.name,self.salary)"
      ],
      "execution_count": null,
      "outputs": []
    },
    {
      "cell_type": "code",
      "metadata": {
        "id": "oUBkiK3H1lJE"
      },
      "source": [
        "emp1 = employee(\"Zara\", 2000)\n",
        "emp2 = employee(\"Manni\", 5000)"
      ],
      "execution_count": null,
      "outputs": []
    },
    {
      "cell_type": "code",
      "metadata": {
        "colab": {
          "base_uri": "https://localhost:8080/"
        },
        "id": "G9f06VmT1lGO",
        "outputId": "0b1943af-9264-4dc4-9dd1-3ef093a45495"
      },
      "source": [
        "employee.empcount"
      ],
      "execution_count": null,
      "outputs": [
        {
          "output_type": "execute_result",
          "data": {
            "text/plain": [
              "4"
            ]
          },
          "metadata": {
            "tags": []
          },
          "execution_count": 16
        }
      ]
    },
    {
      "cell_type": "code",
      "metadata": {
        "colab": {
          "base_uri": "https://localhost:8080/"
        },
        "id": "hyj4jUBX1lEM",
        "outputId": "9509840f-85bc-49d2-a6a3-50692c68ac3b"
      },
      "source": [
        "class vector:\n",
        "  def __init__(self,a,b):\n",
        "    self.a=a\n",
        "    self.b=b\n",
        "  def __str__(self):\n",
        "    return '(%d, %d)'% (self.a, self.b)\n",
        "  def __add__(self,other):\n",
        "    return vector(self.a+other.a, self.b+other.b)\n",
        "v1=vector(2,5)\n",
        "v2=vector(5,6)\n",
        "print(v1+v2)"
      ],
      "execution_count": null,
      "outputs": [
        {
          "output_type": "stream",
          "text": [
            "(7, 11)\n"
          ],
          "name": "stdout"
        }
      ]
    },
    {
      "cell_type": "code",
      "metadata": {
        "colab": {
          "base_uri": "https://localhost:8080/",
          "height": 35
        },
        "id": "ewBfCMOC4jp0",
        "outputId": "4535d6c9-130c-4e4b-f82e-cd4a5e4cf94b"
      },
      "source": [
        "class vehicle:\n",
        "  def __init__(self,name,model,max_speed):\n",
        "    self.name=name\n",
        "    self.model=model\n",
        "    self.max_speed=max_speed\n",
        "  \n",
        "  def carrying_capacity(self,capacity):\n",
        "    return f\"The cc of the {self.name} is {capacity}\"\n",
        "\n",
        "class bus(vehicle):\n",
        "  def carrying_capacity(self,capacity=50):\n",
        "    return super().carrying_capacity(capacity=50)\n",
        "schoolbus = bus('bmw',2010,'200KM/h')\n",
        "schoolbus.carrying_capacity()\n",
        "\n"
      ],
      "execution_count": null,
      "outputs": [
        {
          "output_type": "execute_result",
          "data": {
            "application/vnd.google.colaboratory.intrinsic+json": {
              "type": "string"
            },
            "text/plain": [
              "'The cc of the bmw is 50'"
            ]
          },
          "metadata": {
            "tags": []
          },
          "execution_count": 19
        }
      ]
    },
    {
      "cell_type": "code",
      "metadata": {
        "id": "2Snd7fH8oDk5"
      },
      "source": [
        "import pandas as pd"
      ],
      "execution_count": null,
      "outputs": []
    },
    {
      "cell_type": "code",
      "metadata": {
        "id": "rwS3IhRWoXkH"
      },
      "source": [
        "pd"
      ],
      "execution_count": null,
      "outputs": []
    },
    {
      "cell_type": "code",
      "metadata": {
        "colab": {
          "base_uri": "https://localhost:8080/"
        },
        "id": "2g0CbPCANTwS",
        "outputId": "498b5852-ae78-4264-9cb3-fe2f961bfd74"
      },
      "source": [
        "class vehicle:\n",
        "  def __init__(self,max_speed,milage):\n",
        "    self.max_speed= max_speed\n",
        "    self.milage=milage\n",
        "\n",
        "bus=vehicle(200,25)\n",
        "bus.max_speed,bus.milage    "
      ],
      "execution_count": null,
      "outputs": [
        {
          "output_type": "execute_result",
          "data": {
            "text/plain": [
              "(200, 25)"
            ]
          },
          "metadata": {
            "tags": []
          },
          "execution_count": 1
        }
      ]
    },
    {
      "cell_type": "code",
      "metadata": {
        "id": "LZkhoQDAOOiX"
      },
      "source": [
        "class vcle:\n",
        "  pass"
      ],
      "execution_count": null,
      "outputs": []
    },
    {
      "cell_type": "code",
      "metadata": {
        "colab": {
          "base_uri": "https://localhost:8080/"
        },
        "id": "xUDMpXEVOOlW",
        "outputId": "8a24d985-3ee3-42e4-ab9b-49536b522a94"
      },
      "source": [
        "class vehicle:\n",
        "  def __init__(self,name,model):\n",
        "    self.name=name\n",
        "    self.model=model\n",
        "\n",
        "class bus(vehicle):\n",
        "  pass\n",
        "\n",
        "school_bus= bus(\"ashok\",2015)\n",
        "school_bus.name, school_bus.model"
      ],
      "execution_count": null,
      "outputs": [
        {
          "output_type": "execute_result",
          "data": {
            "text/plain": [
              "('ashok', 2015)"
            ]
          },
          "metadata": {
            "tags": []
          },
          "execution_count": 3
        }
      ]
    },
    {
      "cell_type": "code",
      "metadata": {
        "colab": {
          "base_uri": "https://localhost:8080/"
        },
        "id": "HLjymyFYOOo4",
        "outputId": "18168570-8866-4126-ee31-8814f2f7571a"
      },
      "source": [
        "class vehicle:\n",
        "  color='White'\n",
        "  def __init__(self,name,model):\n",
        "    self.name=name\n",
        "    self.model=model\n",
        "  \n",
        "  def seating_capacity(self,capacity):\n",
        "    return f\"the capacity of {self.name} is {capacity}\"\n",
        "  \n",
        "class bus(vehicle):\n",
        "  def seating_capacity(self,capacity=50):\n",
        "    return super().seating_capacity(capacity)\n",
        "\n",
        "schoolbus= bus('ashoka',2018)\n",
        "/*-*/7410.\n",
        ".print(schoolbus.color, schoolbus.name,\" has \", schoolbus.seating_capacity())\n"
      ],
      "execution_count": null,
      "outputs": [
        {
          "output_type": "stream",
          "text": [
            "White ashoka  has  the capacity of ashoka is 50\n"
          ],
          "name": "stdout"
        }
      ]
    },
    {
      "cell_type": "code",
      "metadata": {
        "colab": {
          "base_uri": "https://localhost:8080/"
        },
        "id": "MQyMMa1nTZR7",
        "outputId": "401a1f01-d766-442e-9a50-dd44d5fdf0d6"
      },
      "source": [
        "class vehicle:\n",
        "  def __init__(self,seating_capacity):\n",
        "    self.seating_capacity=seating_capacity\n",
        "\n",
        "  def fare(self):\n",
        "    return self.seating_capacity*100\n",
        "\n",
        "class bus(vehicle):\n",
        "  \n",
        "  def fare(self):\n",
        "    fare= super().fare()\n",
        "    total_fare= fare+fare*0.1\n",
        "    return total_fare\n",
        "\n",
        "school_bus= bus(50)\n",
        "school_bus.fare()"
      ],
      "execution_count": null,
      "outputs": [
        {
          "output_type": "execute_result",
          "data": {
            "text/plain": [
              "5500.0"
            ]
          },
          "metadata": {
            "tags": []
          },
          "execution_count": 31
        }
      ]
    },
    {
      "cell_type": "code",
      "metadata": {
        "colab": {
          "base_uri": "https://localhost:8080/"
        },
        "id": "AR7adoHLTZU9",
        "outputId": "f4c96daa-4821-4d90-88e6-3471b1030c76"
      },
      "source": [
        "class vehicle:\n",
        "  colot= 'white'\n",
        "  def __init__(self,name):\n",
        "    self.name= name\n",
        "\n",
        "class bus(vehicle):\n",
        "  pass\n",
        "\n",
        "school_bus= bus('gopal')\n",
        "isinstance(school_bus,vehicle)"
      ],
      "execution_count": null,
      "outputs": [
        {
          "output_type": "execute_result",
          "data": {
            "text/plain": [
              "True"
            ]
          },
          "metadata": {
            "tags": []
          },
          "execution_count": 37
        }
      ]
    },
    {
      "cell_type": "code",
      "metadata": {
        "id": "z5GJpUrlTZYH"
      },
      "source": [
        "#while loop\n"
      ],
      "execution_count": null,
      "outputs": []
    },
    {
      "cell_type": "code",
      "metadata": {
        "colab": {
          "base_uri": "https://localhost:8080/"
        },
        "id": "XzQbrpHXOOrn",
        "outputId": "b5cd50d1-d0f2-4049-d7c8-43a606fb8695"
      },
      "source": [
        "num = 1\n",
        "while num <=10:#there should be a condition for breaking\n",
        "  print(num)\n",
        "  num = num+ 1\n"
      ],
      "execution_count": null,
      "outputs": [
        {
          "output_type": "stream",
          "text": [
            "1\n",
            "2\n",
            "3\n",
            "4\n",
            "5\n",
            "6\n",
            "7\n",
            "8\n",
            "9\n",
            "10\n"
          ],
          "name": "stdout"
        }
      ]
    },
    {
      "cell_type": "code",
      "metadata": {
        "colab": {
          "base_uri": "https://localhost:8080/"
        },
        "id": "xrEvnXpoOOut",
        "outputId": "26f9cacc-f2b4-403f-a2d4-102319c62299"
      },
      "source": [
        "print('second number pattern')\n",
        "\n",
        "for row in range(1,6):\n",
        "  for column in range(1,row+1):\n",
        "    print(column,end=\"\")\n",
        "  print(\"\")"
      ],
      "execution_count": null,
      "outputs": [
        {
          "output_type": "stream",
          "text": [
            "second number pattern\n",
            "1\n",
            "12\n",
            "123\n",
            "1234\n",
            "12345\n"
          ],
          "name": "stdout"
        }
      ]
    },
    {
      "cell_type": "code",
      "metadata": {
        "id": "Vpae8Tm1OOxy"
      },
      "source": [
        "list1 = [12, 15, 32, 42, 55, 75, 122, 132, 150, 180, 200]"
      ],
      "execution_count": null,
      "outputs": []
    },
    {
      "cell_type": "code",
      "metadata": {
        "id": "1PVpH13sn2Ei"
      },
      "source": [
        ""
      ],
      "execution_count": null,
      "outputs": []
    },
    {
      "cell_type": "code",
      "metadata": {
        "colab": {
          "base_uri": "https://localhost:8080/"
        },
        "id": "6TMzxcZZm__s",
        "outputId": "257dd9a4-fbf0-4ad4-96a1-eb1c4c91ac58"
      },
      "source": [
        "[n for n in list1 if n <=150 and n%5 ==0]"
      ],
      "execution_count": null,
      "outputs": [
        {
          "output_type": "execute_result",
          "data": {
            "text/plain": [
              "[15, 55, 75, 150]"
            ]
          },
          "metadata": {
            "tags": []
          },
          "execution_count": 83
        }
      ]
    },
    {
      "cell_type": "code",
      "metadata": {
        "id": "LsYWYVxJnwec"
      },
      "source": [
        ""
      ],
      "execution_count": null,
      "outputs": []
    },
    {
      "cell_type": "code",
      "metadata": {
        "colab": {
          "base_uri": "https://localhost:8080/"
        },
        "id": "dWFXHES8OO04",
        "outputId": "258e3dcd-7ac2-4d41-cb04-0ca0fd9b07d4"
      },
      "source": [
        "for row in range(1,6):\n",
        "  print(row)"
      ],
      "execution_count": null,
      "outputs": [
        {
          "output_type": "stream",
          "text": [
            "1\n",
            "2\n",
            "3\n",
            "4\n",
            "5\n"
          ],
          "name": "stdout"
        }
      ]
    },
    {
      "cell_type": "code",
      "metadata": {
        "id": "uvArx5-JOO4C"
      },
      "source": [
        "#function\n",
        "def fun(name,age):\n",
        "  print(name,age)"
      ],
      "execution_count": null,
      "outputs": []
    },
    {
      "cell_type": "code",
      "metadata": {
        "colab": {
          "base_uri": "https://localhost:8080/"
        },
        "id": "fwQlW_CjqYth",
        "outputId": "a57119f8-cd97-4825-c6b4-394da7c146b7"
      },
      "source": [
        "fun('kallu',30)"
      ],
      "execution_count": null,
      "outputs": [
        {
          "output_type": "stream",
          "text": [
            "kallu 30\n"
          ],
          "name": "stdout"
        }
      ]
    },
    {
      "cell_type": "code",
      "metadata": {
        "id": "IqUt2IHONT5G"
      },
      "source": [
        "def func1(*args):\n",
        "  for i in args:\n",
        "    print(i)\n"
      ],
      "execution_count": null,
      "outputs": []
    },
    {
      "cell_type": "code",
      "metadata": {
        "colab": {
          "base_uri": "https://localhost:8080/"
        },
        "id": "uuZSeC4LroI7",
        "outputId": "333f9583-9263-47e4-e068-1cb6b954342b"
      },
      "source": [
        "func1(20,30)\n",
        "func1(20,40)"
      ],
      "execution_count": null,
      "outputs": [
        {
          "output_type": "stream",
          "text": [
            "20\n",
            "30\n",
            "20\n",
            "40\n"
          ],
          "name": "stdout"
        }
      ]
    },
    {
      "cell_type": "code",
      "metadata": {
        "id": "IOOwoiAiqgM9"
      },
      "source": [
        "#Exercise 3: Write a function calculation() such that it can accept two variables and calculate the addition and subtraction of them. And also it must return both addition and subtraction in a single return call"
      ],
      "execution_count": null,
      "outputs": []
    },
    {
      "cell_type": "code",
      "metadata": {
        "colab": {
          "base_uri": "https://localhost:8080/"
        },
        "id": "OSLIU4eBqgP8",
        "outputId": "74c2e5c6-ae43-4109-a750-c7cc2656c1f3"
      },
      "source": [
        "def calculation(a,b):\n",
        "  return a+b,a-b\n",
        "  \n",
        "dsz = calculation(40,10)\n",
        "print(dsz)"
      ],
      "execution_count": null,
      "outputs": [
        {
          "output_type": "stream",
          "text": [
            "(50, 30)\n"
          ],
          "name": "stdout"
        }
      ]
    },
    {
      "cell_type": "code",
      "metadata": {
        "colab": {
          "base_uri": "https://localhost:8080/"
        },
        "id": "W-XG0Kb024WX",
        "outputId": "c3a0c978-6ce9-42ee-a6d1-b1a5f50ea73c"
      },
      "source": [
        "def showemployee(name,salary):\n",
        "  for n in salary:\n",
        "    if salary =='':\n",
        "      return 9000\n",
        "    else:\n",
        "      return name,salary\n",
        "showemployee(\"vis\",'no')\n"
      ],
      "execution_count": null,
      "outputs": [
        {
          "output_type": "execute_result",
          "data": {
            "text/plain": [
              "('vis', 'no')"
            ]
          },
          "metadata": {
            "tags": []
          },
          "execution_count": 114
        }
      ]
    },
    {
      "cell_type": "code",
      "metadata": {
        "colab": {
          "base_uri": "https://localhost:8080/"
        },
        "id": "AB8GfMsY24hz",
        "outputId": "1eb6abfc-ba24-4dc9-e0f0-34c213376c39"
      },
      "source": [
        "def showEmployee(name, salary=9000):\n",
        "    print(\"Employee\", name, \"salary is:\", salary)\n",
        "\n",
        "showEmployee(\"Ben\", 9000)\n",
        "showEmployee(\"Ben\")"
      ],
      "execution_count": null,
      "outputs": [
        {
          "output_type": "stream",
          "text": [
            "Employee Ben salary is: 9000\n",
            "Employee Ben salary is: 9000\n"
          ],
          "name": "stdout"
        }
      ]
    },
    {
      "cell_type": "code",
      "metadata": {
        "colab": {
          "base_uri": "https://localhost:8080/"
        },
        "id": "vE7jJ-J14eN2",
        "outputId": "08b66d89-c8d4-4ba7-d50a-137b43cdf9e6"
      },
      "source": [
        "def outerfun(a, b):\n",
        "  square =a**2\n",
        "  def innerfun(a,b):\n",
        "    return a+b\n",
        "  add= innerfun(a,b)\n",
        "  return add+5\n",
        "\n",
        "outerfun(2,3)"
      ],
      "execution_count": null,
      "outputs": [
        {
          "output_type": "execute_result",
          "data": {
            "text/plain": [
              "10"
            ]
          },
          "metadata": {
            "tags": []
          },
          "execution_count": 118
        }
      ]
    },
    {
      "cell_type": "code",
      "metadata": {
        "colab": {
          "base_uri": "https://localhost:8080/"
        },
        "id": "Cn9qgt8A4eQr",
        "outputId": "5bc98075-1e4f-4483-e99e-007e2c8a76e8"
      },
      "source": [
        "def calculateSum(num):\n",
        "    if num:\n",
        "        return num + calculateSum(num-1)\n",
        "    else:\n",
        "        return 0\n",
        "\n",
        "res = calculateSum(3)\n",
        "print(res)"
      ],
      "execution_count": null,
      "outputs": [
        {
          "output_type": "stream",
          "text": [
            "6\n"
          ],
          "name": "stdout"
        }
      ]
    },
    {
      "cell_type": "code",
      "metadata": {
        "id": "QG16ZeJO4eUG"
      },
      "source": [
        "def displayStudent(name, age):\n",
        "    print(name, age)\n",
        "\n",
        "displayStudent(\"Emma\", 26)"
      ],
      "execution_count": null,
      "outputs": []
    },
    {
      "cell_type": "code",
      "metadata": {
        "id": "WzN5EwkI4eWX"
      },
      "source": [
        ""
      ],
      "execution_count": null,
      "outputs": []
    },
    {
      "cell_type": "code",
      "metadata": {
        "id": "OhSa_Mzf4eYu"
      },
      "source": [
        ""
      ],
      "execution_count": null,
      "outputs": []
    },
    {
      "cell_type": "code",
      "metadata": {
        "colab": {
          "base_uri": "https://localhost:8080/"
        },
        "id": "zEaHPYR6zcmm",
        "outputId": "fb3a61d4-0add-43a5-d57b-1002f454de99"
      },
      "source": [
        "class cal:\n",
        "  def __init__(self,num1,num2):\n",
        "    self.num1=num1\n",
        "    self.num2=num2\n",
        "  def addition(self):\n",
        "    return self.num1+self.num2\n",
        "  def sub(self):\n",
        "    return self.num1-self.num2\n",
        "\n",
        "test= cal(40,10)\n",
        "test.addition()"
      ],
      "execution_count": null,
      "outputs": [
        {
          "output_type": "execute_result",
          "data": {
            "text/plain": [
              "50"
            ]
          },
          "metadata": {
            "tags": []
          },
          "execution_count": 108
        }
      ]
    },
    {
      "cell_type": "code",
      "metadata": {
        "id": "NE6o5ltxqgTG"
      },
      "source": [
        ""
      ],
      "execution_count": null,
      "outputs": []
    },
    {
      "cell_type": "code",
      "metadata": {
        "id": "BKxG5Eh-qgVo"
      },
      "source": [
        ""
      ],
      "execution_count": null,
      "outputs": []
    },
    {
      "cell_type": "code",
      "metadata": {
        "id": "rR5zbEzQqgZI"
      },
      "source": [
        ""
      ],
      "execution_count": null,
      "outputs": []
    },
    {
      "cell_type": "code",
      "metadata": {
        "id": "GfURzxtZqgbU"
      },
      "source": [
        ""
      ],
      "execution_count": null,
      "outputs": []
    },
    {
      "cell_type": "code",
      "metadata": {
        "colab": {
          "base_uri": "https://localhost:8080/"
        },
        "id": "Gu0eaYzp8htM",
        "outputId": "3e02ed2e-b26a-42fc-8af0-c0d8ad20fc91"
      },
      "source": [
        "class Vehicle:\n",
        "    # Class attribute\n",
        "    color = \"White\"\n",
        "\n",
        "    def __init__(self, name, max_speed, mileage):\n",
        "        self.name = name\n",
        "        self.max_speed = max_speed\n",
        "        self.mileage = mileage\n",
        "\n",
        "class Bus(Vehicle):\n",
        "    pass\n",
        "\n",
        "class Car(Vehicle):\n",
        "    pass\n",
        "\n",
        "School_bus = Bus(\"School Volvo\", 180, 12)\n",
        "print(School_bus.color, School_bus.name, \"Speed:\", School_bus.max_speed, \"Mileage:\", School_bus.mileage)\n",
        "\n",
        "car = Car(\"Audi Q5\", 240, 18)\n",
        "print(car.color, car.name, \"Speed:\", car.max_speed, \"Mileage:\", car.mileage)"
      ],
      "execution_count": null,
      "outputs": [
        {
          "output_type": "stream",
          "text": [
            "White School Volvo Speed: 180 Mileage: 12\n",
            "White Audi Q5 Speed: 240 Mileage: 18\n"
          ],
          "name": "stdout"
        }
      ]
    },
    {
      "cell_type": "code",
      "metadata": {
        "colab": {
          "base_uri": "https://localhost:8080/"
        },
        "id": "kf5UStim4koz",
        "outputId": "5b2ee17a-09f7-4926-a98a-0a9844d183e4"
      },
      "source": [
        "class Vehicle:\n",
        "    def __init__(self, name, mileage, capacity):\n",
        "        self.name = name\n",
        "        self.mileage = mileage\n",
        "        self.capacity = capacity\n",
        "\n",
        "    def fare(self):\n",
        "        return self.capacity * 100\n",
        "\n",
        "class Bus(Vehicle):\n",
        "    pass\n",
        "\n",
        "School_bus = Bus(\"School Volvo\", 12, 50)\n",
        "print(\"Total Bus fare is:\", School_bus.fare())"
      ],
      "execution_count": null,
      "outputs": [
        {
          "output_type": "stream",
          "text": [
            "Total Bus fare is: 5000\n"
          ],
          "name": "stdout"
        }
      ]
    },
    {
      "cell_type": "code",
      "metadata": {
        "colab": {
          "base_uri": "https://localhost:8080/"
        },
        "id": "hq5Jj9_r4kr2",
        "outputId": "3f234dd4-4c33-42f8-8ad0-568571c5ef94"
      },
      "source": [
        "class vehicle:\n",
        "  def __init__(self,name,milage,capacity):\n",
        "    self.name = name\n",
        "    self.milage=milage\n",
        "    self.capacity=capacity\n",
        "  \n",
        "  def fare(self):\n",
        "    return self.capacity * 100\n",
        "\n",
        "class bus(vehicle):\n",
        "  def fare(self):\n",
        "    amount = super().fare()\n",
        "    amount = amount + amount*0.1\n",
        "    return amount\n",
        "\n",
        "schoolbus=bus(\"School Volvo\", 12, 50)\n",
        "print(print(\"Total Bus fare is:\", schoolbus.fare()))"
      ],
      "execution_count": null,
      "outputs": [
        {
          "output_type": "stream",
          "text": [
            "Total Bus fare is: 5500.0\n",
            "None\n"
          ],
          "name": "stdout"
        }
      ]
    },
    {
      "cell_type": "code",
      "metadata": {
        "id": "-qvAXkjV4kux"
      },
      "source": [
        ""
      ],
      "execution_count": null,
      "outputs": []
    },
    {
      "cell_type": "code",
      "metadata": {
        "id": "D8R8cbe94kxx"
      },
      "source": [
        ""
      ],
      "execution_count": null,
      "outputs": []
    },
    {
      "cell_type": "code",
      "metadata": {
        "id": "UCpe7O8Y4k0-"
      },
      "source": [
        ""
      ],
      "execution_count": null,
      "outputs": []
    },
    {
      "cell_type": "code",
      "metadata": {
        "id": "xiB399bnBYvB"
      },
      "source": [
        "import pandas as pd"
      ],
      "execution_count": null,
      "outputs": []
    },
    {
      "cell_type": "code",
      "metadata": {
        "id": "TeVTxNAKybU3"
      },
      "source": [
        "text = [\"Come whenever you can. I just need more details from you about why you don't take it extra dispatch and how it is linked with the beginning of the season. It means the rest of the fabric would be used in the future. If yes, then please share the production requirements.\"]"
      ],
      "execution_count": null,
      "outputs": []
    },
    {
      "cell_type": "code",
      "metadata": {
        "id": "JFcWf2_3BoUM"
      },
      "source": [
        "class person:\n",
        "  def __init__(self,name,age):\n",
        "    self.name =  name\n",
        "    self.age = age"
      ],
      "execution_count": null,
      "outputs": []
    },
    {
      "cell_type": "code",
      "metadata": {
        "id": "yeE6Vr_ayo7F",
        "colab": {
          "base_uri": "https://localhost:8080/"
        },
        "outputId": "6a869361-f520-47ac-a649-5c7f48762e30"
      },
      "source": [
        "#first class function:\n",
        "class person:\n",
        "  def __init__(self,name, age):\n",
        "    self.name = name\n",
        "    self.age =  age\n",
        "customer= person('lolu',27)\n",
        "customer.name,customer.age"
      ],
      "execution_count": null,
      "outputs": [
        {
          "output_type": "execute_result",
          "data": {
            "text/plain": [
              "('lolu', 27)"
            ]
          },
          "metadata": {
            "tags": []
          },
          "execution_count": 5
        }
      ]
    },
    {
      "cell_type": "code",
      "metadata": {
        "id": "B4JR-7D7BoXS"
      },
      "source": [
        "author = person('marium',27)\n"
      ],
      "execution_count": null,
      "outputs": []
    },
    {
      "cell_type": "code",
      "metadata": {
        "colab": {
          "base_uri": "https://localhost:8080/",
          "height": 35
        },
        "id": "RYlb3ed7BoaU",
        "outputId": "e3e80d75-851d-434e-dda6-1235f46900b6"
      },
      "source": [
        "author.name"
      ],
      "execution_count": null,
      "outputs": [
        {
          "output_type": "execute_result",
          "data": {
            "application/vnd.google.colaboratory.intrinsic+json": {
              "type": "string"
            },
            "text/plain": [
              "'marium'"
            ]
          },
          "metadata": {
            "tags": []
          },
          "execution_count": 4
        }
      ]
    },
    {
      "cell_type": "code",
      "metadata": {
        "id": "ehZzvyzTBodW"
      },
      "source": [
        "class person:\n",
        "  def __init__(self, name, age):\n",
        "    self.name = name\n",
        "    self.age = age\n",
        "\n",
        "  def introductyouself(self):\n",
        "    print(\"My name is\" +\" \"+ self.name)\n",
        "    print(\"My age is\" + \" \"+str(self.age))\n"
      ],
      "execution_count": null,
      "outputs": []
    },
    {
      "cell_type": "code",
      "metadata": {
        "id": "RzFSbjZ-AFjz"
      },
      "source": [
        "author=person('marium',28)\n"
      ],
      "execution_count": null,
      "outputs": []
    },
    {
      "cell_type": "code",
      "metadata": {
        "colab": {
          "base_uri": "https://localhost:8080/"
        },
        "id": "-7cXwe7PDli8",
        "outputId": "e5668cfa-7b73-48ce-f074-d94403ba389d"
      },
      "source": [
        "author.introductyouself()"
      ],
      "execution_count": null,
      "outputs": [
        {
          "output_type": "stream",
          "text": [
            "My name is marium\n",
            "My age is 28\n"
          ],
          "name": "stdout"
        }
      ]
    },
    {
      "cell_type": "code",
      "metadata": {
        "id": "u2qBcGVnDll_"
      },
      "source": [
        "#inheritance"
      ],
      "execution_count": null,
      "outputs": []
    },
    {
      "cell_type": "code",
      "metadata": {
        "id": "-6zFiYttDloy"
      },
      "source": [
        "class person:\n",
        "  def __init__(self, name , age):\n",
        "    self.name = name\n",
        "    self.age = age\n",
        "  def introduceyourself(self):\n",
        "    print(\"my name is \"+ self.name)\n",
        "    print(\"my age is \"+ str(self.name))\n",
        "  def stateprofession(self,age):\n",
        "    print(\"I am not a teacher\")\n"
      ],
      "execution_count": null,
      "outputs": []
    },
    {
      "cell_type": "code",
      "metadata": {
        "id": "bRV4NKZeDlrj"
      },
      "source": [
        "class teacher(person):\n",
        "  def stateprofession(self):\n",
        "    print(\"I am a teacher\")"
      ],
      "execution_count": null,
      "outputs": []
    },
    {
      "cell_type": "code",
      "metadata": {
        "id": "MEgilmjnJYi8"
      },
      "source": [
        "author = person('marium', 30)"
      ],
      "execution_count": null,
      "outputs": []
    },
    {
      "cell_type": "code",
      "metadata": {
        "colab": {
          "base_uri": "https://localhost:8080/"
        },
        "id": "NqsYLxe3JhjH",
        "outputId": "2aa5fba9-7ea2-4028-e4ff-54bf6c1fe999"
      },
      "source": [
        "author.stateprofession(30)"
      ],
      "execution_count": null,
      "outputs": [
        {
          "output_type": "stream",
          "text": [
            "I am not a teacher\n"
          ],
          "name": "stdout"
        }
      ]
    },
    {
      "cell_type": "code",
      "metadata": {
        "id": "6V3XO7JODluU"
      },
      "source": [
        "class teacher(person):\n",
        "  def __init__(self,name,age):\n",
        "    self.courses =[]\n",
        "    super().__init__(name,age)\n",
        "  \n",
        "  def stateprofession(self):\n",
        "    print (\" i am a teacher\")"
      ],
      "execution_count": null,
      "outputs": []
    },
    {
      "cell_type": "code",
      "metadata": {
        "id": "eCviCG-dDlxP"
      },
      "source": [
        "author= person('marium',20)"
      ],
      "execution_count": null,
      "outputs": []
    },
    {
      "cell_type": "code",
      "metadata": {
        "colab": {
          "base_uri": "https://localhost:8080/",
          "height": 171
        },
        "id": "ZToWZt9ADl0E",
        "outputId": "dd2ccd79-2ffc-403b-bdde-71e984854c86"
      },
      "source": [
        "author.stateprofession()"
      ],
      "execution_count": null,
      "outputs": [
        {
          "output_type": "error",
          "ename": "AttributeError",
          "evalue": "ignored",
          "traceback": [
            "\u001b[0;31m---------------------------------------------------------------------------\u001b[0m",
            "\u001b[0;31mAttributeError\u001b[0m                            Traceback (most recent call last)",
            "\u001b[0;32m<ipython-input-33-100e53f82cfa>\u001b[0m in \u001b[0;36m<module>\u001b[0;34m()\u001b[0m\n\u001b[0;32m----> 1\u001b[0;31m \u001b[0mauthor\u001b[0m\u001b[0;34m.\u001b[0m\u001b[0mstateprofession\u001b[0m\u001b[0;34m(\u001b[0m\u001b[0;34m)\u001b[0m\u001b[0;34m\u001b[0m\u001b[0;34m\u001b[0m\u001b[0m\n\u001b[0m",
            "\u001b[0;31mAttributeError\u001b[0m: 'person' object has no attribute 'stateprofession'"
          ]
        }
      ]
    },
    {
      "cell_type": "code",
      "metadata": {
        "colab": {
          "base_uri": "https://localhost:8080/"
        },
        "id": "Hx9TbYMBDl3M",
        "outputId": "244855d3-612d-4694-b4da-7cfb650873f6"
      },
      "source": [
        "class Tweet:\n",
        "    def __init__(self, message, time):\n",
        "        self.message = message\n",
        "        self.time = time # we will assume here that time is a numerical value\n",
        "        \n",
        "    def __lt__(self, other):\n",
        "        return self.time < other.time\n",
        "        \n",
        "    def __gt__(self, other):\n",
        "        return self.time > other.time    \n",
        "    \n",
        "\n",
        "oldtweet = Tweet(\"this is an old tweet\",20)\n",
        "newtweet = Tweet(\"this is a new tweet\",1000)\n",
        "print(newtweet > oldtweet)"
      ],
      "execution_count": null,
      "outputs": [
        {
          "output_type": "stream",
          "text": [
            "True\n"
          ],
          "name": "stdout"
        }
      ]
    },
    {
      "cell_type": "code",
      "metadata": {
        "colab": {
          "base_uri": "https://localhost:8080/"
        },
        "id": "21RdEXdbNLJJ",
        "outputId": "ea81ae0d-db1a-4561-d3d8-9b8b5776632a"
      },
      "source": [
        "#use sorted function\n",
        "tweets = [newtweet,oldtweet]\n",
        "\n",
        "for tweet in sorted(tweets):\n",
        "  print(tweet.time)"
      ],
      "execution_count": null,
      "outputs": [
        {
          "output_type": "stream",
          "text": [
            "20\n",
            "1000\n"
          ],
          "name": "stdout"
        }
      ]
    },
    {
      "cell_type": "code",
      "metadata": {
        "colab": {
          "base_uri": "https://localhost:8080/"
        },
        "id": "PbFez6T4Oi3E",
        "outputId": "c1c651ce-e14d-426d-d441-227ff6ef07bc"
      },
      "source": [
        "fruits =[ 'banana', 'orange', 'apple']\n",
        "print('banana' in fruits)"
      ],
      "execution_count": null,
      "outputs": [
        {
          "output_type": "stream",
          "text": [
            "True\n"
          ],
          "name": "stdout"
        }
      ]
    },
    {
      "cell_type": "code",
      "metadata": {
        "id": "DYFeG08YO1nL"
      },
      "source": [
        "#overaloading can be done by __contains__ method"
      ],
      "execution_count": null,
      "outputs": []
    },
    {
      "cell_type": "code",
      "metadata": {
        "colab": {
          "base_uri": "https://localhost:8080/",
          "height": 129
        },
        "id": "uu3W0ngTOi6G",
        "outputId": "b99aa24f-31b4-4c61-a606-bbaabd4b8d30"
      },
      "source": [
        "class Tweet:\n",
        "    def __init__(self, message, time):\n",
        "        self.message = message\n",
        "        self.time = time\n",
        "\n",
        "    def __lt__(self, other):\n",
        "        return self.time < other.time\n",
        "        \n",
        "    def __contains__(self, word):\n",
        "        #Implement the method\n",
        "\n",
        "tweet = Tweet(\"I just flushed my toilet\",20)\n",
        "#now write code to check if the word \"flushed\" is in the tweet\n",
        "#and print something nice if that's the case"
      ],
      "execution_count": null,
      "outputs": [
        {
          "output_type": "error",
          "ename": "IndentationError",
          "evalue": "ignored",
          "traceback": [
            "\u001b[0;36m  File \u001b[0;32m\"<ipython-input-62-c028b1144951>\"\u001b[0;36m, line \u001b[0;32m12\u001b[0m\n\u001b[0;31m    tweet = Tweet(\"I just flushed my toilet\",20)\u001b[0m\n\u001b[0m                                                ^\u001b[0m\n\u001b[0;31mIndentationError\u001b[0m\u001b[0;31m:\u001b[0m expected an indented block\n"
          ]
        }
      ]
    },
    {
      "cell_type": "code",
      "metadata": {
        "id": "n5JGu8lYNLMM"
      },
      "source": [
        "class person:\n",
        "  def __init__(self,name,gender,yob):\n",
        "    self.name = name\n",
        "    self.gender = gender\n",
        "    self.yob = yob\n",
        "  \n",
        "  def age(self,current_year):\n",
        "    return current_year-self.yob"
      ],
      "execution_count": null,
      "outputs": []
    },
    {
      "cell_type": "code",
      "metadata": {
        "id": "LMbsAfMCNLPE"
      },
      "source": [
        "class employee(person):\n",
        "  def __init__(self,name, gender, yob, dept, join_year):\n",
        "    super().__init__(name, gender, yob)\n",
        "    self.dept= dept\n",
        "    self.join_year= join_year \n",
        "    self.retire_age = 60\n",
        "  \n",
        "  def service_remain(self,currenty_year):\n",
        "    return self.retire_age-super().age(currenty_year)"
      ],
      "execution_count": null,
      "outputs": []
    },
    {
      "cell_type": "code",
      "metadata": {
        "id": "7eUV-W2WNLR_"
      },
      "source": [
        "emp = employee('joh', 'male', 1980, 'HR',2010)"
      ],
      "execution_count": null,
      "outputs": []
    },
    {
      "cell_type": "code",
      "metadata": {
        "id": "bCYn2WIaNLVR"
      },
      "source": [
        "emp.service_remain(2021)"
      ],
      "execution_count": null,
      "outputs": []
    },
    {
      "cell_type": "code",
      "metadata": {
        "id": "cqozjaoKNLYb"
      },
      "source": [
        "class MultiColumnLabelEncoder:\n",
        "    def __init__(self,columns = None):\n",
        "        self.columns = columns # array of column names to encode\n",
        "\n",
        "    def fit(self,X,y=None):\n",
        "        return self # not relevant here\n",
        "\n",
        "    def transform(self,X):\n",
        "        '''\n",
        "        Transforms columns of X specified in self.columns using\n",
        "        LabelEncoder(). If no columns specified, transforms all\n",
        "        columns in X.\n",
        "        '''\n",
        "        output = X.copy()\n",
        "        if self.columns is not None:\n",
        "            for col in self.columns:\n",
        "                output[col] = le.fit_transform(output[col])\n",
        "        else:\n",
        "            for colname,col in output.iteritems():\n",
        "                output[colname] = le.fit_transform(col)\n",
        "        return output\n",
        "\n",
        "    def fit_transform(self,X,y=None):\n",
        "        return self.fit(X,y).transform(X)\n",
        "\n",
        "    def inverse_transform(self, X):\n",
        "        output = X.copy()\n",
        "        if self.columns is not None:\n",
        "            for col in self.columns:\n",
        "                output[col] = le.inverse_transform(output[col])\n",
        "        else:\n",
        "            for colname,col in output.iteritems():\n",
        "                output[colname] = le.inverse_transform(col)\n",
        "        return output\n",
        "\n",
        "    def fit_inv_transform(self,X,y=None):\n",
        "        return self.fit(X,y).inverse_transform(X) "
      ],
      "execution_count": null,
      "outputs": []
    },
    {
      "cell_type": "code",
      "metadata": {
        "id": "rpI2wv-IDl6a"
      },
      "source": [
        "class TokenizerWrap(Tokenizer):\n",
        "    \"\"\"Wrap the Tokenizer-class from Keras with more functionality.\"\"\"\n",
        "    \n",
        "    def __init__(self, texts, padding,\n",
        "                 reverse=False, num_words=None):\n",
        "        \"\"\"\n",
        "        :param texts: List of strings. This is the data-set.\n",
        "        :param padding: Either 'post' or 'pre' padding.\n",
        "        :param reverse: Boolean whether to reverse token-lists.\n",
        "        :param num_words: Max number of words to use.\n",
        "        \"\"\"\n",
        "\n",
        "        Tokenizer.__init__(self, num_words=num_words)\n",
        "\n",
        "        # Create the vocabulary from the texts.\n",
        "        self.fit_on_texts(texts)\n",
        "\n",
        "        # Create inverse lookup from integer-tokens to words.\n",
        "        self.index_to_word = dict(zip(self.word_index.values(),\n",
        "                                      self.word_index.keys()))\n",
        "\n",
        "        # Convert all texts to lists of integer-tokens.\n",
        "        # Note that the sequences may have different lengths.\n",
        "        self.tokens = self.texts_to_sequences(texts)\n",
        "\n",
        "        if reverse:\n",
        "            # Reverse the token-sequences.\n",
        "            self.tokens = [list(reversed(x)) for x in self.tokens]\n",
        "        \n",
        "            # Sequences that are too long should now be truncated\n",
        "            # at the beginning, which corresponds to the end of\n",
        "            # the original sequences.\n",
        "            truncating = 'pre'\n",
        "        else:\n",
        "            # Sequences that are too long should be truncated\n",
        "            # at the end.\n",
        "            truncating = 'post'\n",
        "\n",
        "        # The number of integer-tokens in each sequence.\n",
        "        self.num_tokens = [len(x) for x in self.tokens]\n",
        "\n",
        "        # Max number of tokens to use in all sequences.\n",
        "        # We will pad / truncate all sequences to this length.\n",
        "        # This is a compromise so we save a lot of memory and\n",
        "        # only have to truncate maybe 5% of all the sequences.\n",
        "        self.max_tokens = np.mean(self.num_tokens) \\\n",
        "                          + 2 * np.std(self.num_tokens)\n",
        "        self.max_tokens = int(self.max_tokens)\n",
        "\n",
        "        # Pad / truncate all token-sequences to the given length.\n",
        "        # This creates a 2-dim numpy matrix that is easier to use.\n",
        "        self.tokens_padded = pad_sequences(self.tokens,\n",
        "                                           maxlen=self.max_tokens,\n",
        "                                           padding=padding,\n",
        "                                           truncating=truncating)\n",
        "\n",
        "    def token_to_word(self, token):\n",
        "        \"\"\"Lookup a single word from an integer-token.\"\"\"\n",
        "\n",
        "        word = \" \" if token == 0 else self.index_to_word[token]\n",
        "        return word \n",
        "\n",
        "    def tokens_to_string(self, tokens):\n",
        "        \"\"\"Convert a list of integer-tokens to a string.\"\"\"\n",
        "\n",
        "        # Create a list of the individual words.\n",
        "        words = [self.index_to_word[token]\n",
        "                 for token in tokens\n",
        "                 if token != 0]\n",
        "        \n",
        "        # Concatenate the words to a single string\n",
        "        # with space between all the words.\n",
        "        text = \" \".join(words)\n",
        "\n",
        "        return text\n",
        "    \n",
        "    def text_to_tokens(self, text, reverse=False, padding=False):\n",
        "        \"\"\"\n",
        "        Convert a single text-string to tokens with optional\n",
        "        reversal and padding.\n",
        "        \"\"\"\n",
        "\n",
        "        # Convert to tokens. Note that we assume there is only\n",
        "        # a single text-string so we wrap it in a list.\n",
        "        tokens = self.texts_to_sequences([text])\n",
        "        tokens = np.array(tokens)\n",
        "\n",
        "        if reverse:\n",
        "            # Reverse the tokens.\n",
        "            tokens = np.flip(tokens, axis=1)\n",
        "\n",
        "            # Sequences that are too long should now be truncated\n",
        "            # at the beginning, which corresponds to the end of\n",
        "            # the original sequences.\n",
        "            truncating = 'pre'\n",
        "        else:\n",
        "            # Sequences that are too long should be truncated\n",
        "            # at the end.\n",
        "            truncating = 'post'\n",
        "\n",
        "        if padding:\n",
        "            # Pad and truncate sequences to the given length.\n",
        "            tokens = pad_sequences(tokens,\n",
        "                                   maxlen=self.max_tokens,\n",
        "                                   padding='pre',\n",
        "                                   truncating=truncating)\n",
        "\n",
        "        return tokens"
      ],
      "execution_count": null,
      "outputs": []
    },
    {
      "cell_type": "code",
      "metadata": {
        "id": "9CHqa8WD44r8"
      },
      "source": [
        "import urllib\n",
        "\n",
        "link = \"http://www.somesite.com/details.pl?urn=2344\"\n",
        "f = urllib.urlopen(link)\n",
        "myfile = f.read()\n",
        "print(myfile)"
      ],
      "execution_count": null,
      "outputs": []
    },
    {
      "cell_type": "code",
      "metadata": {
        "id": "7tEUEOyo44uz"
      },
      "source": [
        ""
      ],
      "execution_count": null,
      "outputs": []
    },
    {
      "cell_type": "code",
      "metadata": {
        "id": "UzrZZU7e44xc"
      },
      "source": [
        ""
      ],
      "execution_count": null,
      "outputs": []
    },
    {
      "cell_type": "code",
      "metadata": {
        "id": "vHadHj9A440x"
      },
      "source": [
        ""
      ],
      "execution_count": null,
      "outputs": []
    },
    {
      "cell_type": "code",
      "metadata": {
        "id": "Ez2wn6Q8447T"
      },
      "source": [
        ""
      ],
      "execution_count": null,
      "outputs": []
    },
    {
      "cell_type": "code",
      "metadata": {
        "id": "xC0ou469449X"
      },
      "source": [
        ""
      ],
      "execution_count": null,
      "outputs": []
    },
    {
      "cell_type": "code",
      "metadata": {
        "id": "dpkOXlHs45AH"
      },
      "source": [
        ""
      ],
      "execution_count": null,
      "outputs": []
    },
    {
      "cell_type": "code",
      "metadata": {
        "id": "lsgiJLyW45Ct"
      },
      "source": [
        ""
      ],
      "execution_count": null,
      "outputs": []
    },
    {
      "cell_type": "code",
      "metadata": {
        "id": "aaS8kvNr45GD"
      },
      "source": [
        ""
      ],
      "execution_count": null,
      "outputs": []
    }
  ]
}