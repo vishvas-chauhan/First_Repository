{
  "nbformat": 4,
  "nbformat_minor": 0,
  "metadata": {
    "colab": {
      "name": "bq_python.ipynb",
      "provenance": [],
      "authorship_tag": "ABX9TyOV4JtICiwvUsdAmblp+55D",
      "include_colab_link": true
    },
    "kernelspec": {
      "name": "python3",
      "display_name": "Python 3"
    },
    "language_info": {
      "name": "python"
    }
  },
  "cells": [
    {
      "cell_type": "markdown",
      "metadata": {
        "id": "view-in-github",
        "colab_type": "text"
      },
      "source": [
        "<a href=\"https://colab.research.google.com/github/vishvas-chauhan/First_Repository/blob/master/bq_python.ipynb\" target=\"_parent\"><img src=\"https://colab.research.google.com/assets/colab-badge.svg\" alt=\"Open In Colab\"/></a>"
      ]
    },
    {
      "cell_type": "code",
      "metadata": {
        "colab": {
          "base_uri": "https://localhost:8080/"
        },
        "id": "bjFSLNi1aQGT",
        "outputId": "8411085e-aa99-4c07-a148-0802d62903e9"
      },
      "source": [
        "from google.colab import auth\n",
        "auth.authenticate_user()\n",
        "print('Authenticated')"
      ],
      "execution_count": 1,
      "outputs": [
        {
          "output_type": "stream",
          "name": "stdout",
          "text": [
            "Authenticated\n"
          ]
        }
      ]
    },
    {
      "cell_type": "code",
      "metadata": {
        "id": "Lo51IL3oUlZq"
      },
      "source": [
        "%%bigquery --project paris-air-quality-321222 df\n",
        "SELECT * FROM `bigquery-public-data`.new_york_citibike.INFORMATION_SCHEMA.COLUMNS\n",
        "\n"
      ],
      "execution_count": 9,
      "outputs": []
    },
    {
      "cell_type": "code",
      "metadata": {
        "colab": {
          "base_uri": "https://localhost:8080/",
          "height": 309
        },
        "id": "yhnXBYXYdJTS",
        "outputId": "746296b6-eee8-4fa5-955c-119fbaa2397e"
      },
      "source": [
        "df.head()"
      ],
      "execution_count": 11,
      "outputs": [
        {
          "output_type": "execute_result",
          "data": {
            "text/html": [
              "<div>\n",
              "<style scoped>\n",
              "    .dataframe tbody tr th:only-of-type {\n",
              "        vertical-align: middle;\n",
              "    }\n",
              "\n",
              "    .dataframe tbody tr th {\n",
              "        vertical-align: top;\n",
              "    }\n",
              "\n",
              "    .dataframe thead th {\n",
              "        text-align: right;\n",
              "    }\n",
              "</style>\n",
              "<table border=\"1\" class=\"dataframe\">\n",
              "  <thead>\n",
              "    <tr style=\"text-align: right;\">\n",
              "      <th></th>\n",
              "      <th>table_catalog</th>\n",
              "      <th>table_schema</th>\n",
              "      <th>table_name</th>\n",
              "      <th>column_name</th>\n",
              "      <th>ordinal_position</th>\n",
              "      <th>is_nullable</th>\n",
              "      <th>data_type</th>\n",
              "      <th>is_generated</th>\n",
              "      <th>generation_expression</th>\n",
              "      <th>is_stored</th>\n",
              "      <th>is_hidden</th>\n",
              "      <th>is_updatable</th>\n",
              "      <th>is_system_defined</th>\n",
              "      <th>is_partitioning_column</th>\n",
              "      <th>clustering_ordinal_position</th>\n",
              "    </tr>\n",
              "  </thead>\n",
              "  <tbody>\n",
              "    <tr>\n",
              "      <th>0</th>\n",
              "      <td>bigquery-public-data</td>\n",
              "      <td>new_york_citibike</td>\n",
              "      <td>citibike_stations</td>\n",
              "      <td>station_id</td>\n",
              "      <td>1</td>\n",
              "      <td>NO</td>\n",
              "      <td>INT64</td>\n",
              "      <td>NEVER</td>\n",
              "      <td>None</td>\n",
              "      <td>None</td>\n",
              "      <td>NO</td>\n",
              "      <td>None</td>\n",
              "      <td>NO</td>\n",
              "      <td>NO</td>\n",
              "      <td>None</td>\n",
              "    </tr>\n",
              "    <tr>\n",
              "      <th>1</th>\n",
              "      <td>bigquery-public-data</td>\n",
              "      <td>new_york_citibike</td>\n",
              "      <td>citibike_stations</td>\n",
              "      <td>name</td>\n",
              "      <td>2</td>\n",
              "      <td>YES</td>\n",
              "      <td>STRING</td>\n",
              "      <td>NEVER</td>\n",
              "      <td>None</td>\n",
              "      <td>None</td>\n",
              "      <td>NO</td>\n",
              "      <td>None</td>\n",
              "      <td>NO</td>\n",
              "      <td>NO</td>\n",
              "      <td>None</td>\n",
              "    </tr>\n",
              "    <tr>\n",
              "      <th>2</th>\n",
              "      <td>bigquery-public-data</td>\n",
              "      <td>new_york_citibike</td>\n",
              "      <td>citibike_stations</td>\n",
              "      <td>short_name</td>\n",
              "      <td>3</td>\n",
              "      <td>YES</td>\n",
              "      <td>STRING</td>\n",
              "      <td>NEVER</td>\n",
              "      <td>None</td>\n",
              "      <td>None</td>\n",
              "      <td>NO</td>\n",
              "      <td>None</td>\n",
              "      <td>NO</td>\n",
              "      <td>NO</td>\n",
              "      <td>None</td>\n",
              "    </tr>\n",
              "    <tr>\n",
              "      <th>3</th>\n",
              "      <td>bigquery-public-data</td>\n",
              "      <td>new_york_citibike</td>\n",
              "      <td>citibike_stations</td>\n",
              "      <td>latitude</td>\n",
              "      <td>4</td>\n",
              "      <td>YES</td>\n",
              "      <td>FLOAT64</td>\n",
              "      <td>NEVER</td>\n",
              "      <td>None</td>\n",
              "      <td>None</td>\n",
              "      <td>NO</td>\n",
              "      <td>None</td>\n",
              "      <td>NO</td>\n",
              "      <td>NO</td>\n",
              "      <td>None</td>\n",
              "    </tr>\n",
              "    <tr>\n",
              "      <th>4</th>\n",
              "      <td>bigquery-public-data</td>\n",
              "      <td>new_york_citibike</td>\n",
              "      <td>citibike_stations</td>\n",
              "      <td>longitude</td>\n",
              "      <td>5</td>\n",
              "      <td>YES</td>\n",
              "      <td>FLOAT64</td>\n",
              "      <td>NEVER</td>\n",
              "      <td>None</td>\n",
              "      <td>None</td>\n",
              "      <td>NO</td>\n",
              "      <td>None</td>\n",
              "      <td>NO</td>\n",
              "      <td>NO</td>\n",
              "      <td>None</td>\n",
              "    </tr>\n",
              "  </tbody>\n",
              "</table>\n",
              "</div>"
            ],
            "text/plain": [
              "          table_catalog  ... clustering_ordinal_position\n",
              "0  bigquery-public-data  ...                        None\n",
              "1  bigquery-public-data  ...                        None\n",
              "2  bigquery-public-data  ...                        None\n",
              "3  bigquery-public-data  ...                        None\n",
              "4  bigquery-public-data  ...                        None\n",
              "\n",
              "[5 rows x 15 columns]"
            ]
          },
          "metadata": {},
          "execution_count": 11
        }
      ]
    },
    {
      "cell_type": "code",
      "metadata": {
        "id": "GepkGz6jb-Cg"
      },
      "source": [
        "result = df.groupby(\"table_name\").column_name.apply(list).to_dict()"
      ],
      "execution_count": 35,
      "outputs": []
    },
    {
      "cell_type": "code",
      "metadata": {
        "colab": {
          "base_uri": "https://localhost:8080/"
        },
        "id": "2J8Hb6dxdUWU",
        "outputId": "1e0d94fd-57e4-4149-fe45-78c574694c7a"
      },
      "source": [
        "all_tables = sorted(list(result.keys()))\n",
        "all_tables"
      ],
      "execution_count": 15,
      "outputs": [
        {
          "output_type": "execute_result",
          "data": {
            "text/plain": [
              "['citibike_stations', 'citibike_trips']"
            ]
          },
          "metadata": {},
          "execution_count": 15
        }
      ]
    },
    {
      "cell_type": "code",
      "metadata": {
        "colab": {
          "base_uri": "https://localhost:8080/"
        },
        "id": "jpqhH6gaeXLN",
        "outputId": "b4209d5f-c893-4163-ae76-eb480f7b3f07"
      },
      "source": [
        "result"
      ],
      "execution_count": 67,
      "outputs": [
        {
          "output_type": "execute_result",
          "data": {
            "text/plain": [
              "{'citibike_stations': ['station_id',\n",
              "  'name',\n",
              "  'short_name',\n",
              "  'latitude',\n",
              "  'longitude',\n",
              "  'region_id',\n",
              "  'rental_methods',\n",
              "  'capacity',\n",
              "  'eightd_has_key_dispenser',\n",
              "  'num_bikes_available',\n",
              "  'num_bikes_disabled',\n",
              "  'num_docks_available',\n",
              "  'num_docks_disabled',\n",
              "  'is_installed',\n",
              "  'is_renting',\n",
              "  'is_returning',\n",
              "  'eightd_has_available_keys',\n",
              "  'last_reported'],\n",
              " 'citibike_trips': ['tripduration',\n",
              "  'starttime',\n",
              "  'stoptime',\n",
              "  'start_station_id',\n",
              "  'start_station_name',\n",
              "  'start_station_latitude',\n",
              "  'start_station_longitude',\n",
              "  'end_station_id',\n",
              "  'end_station_name',\n",
              "  'end_station_latitude',\n",
              "  'end_station_longitude',\n",
              "  'bikeid',\n",
              "  'usertype',\n",
              "  'birth_year',\n",
              "  'gender',\n",
              "  'customer_plan']}"
            ]
          },
          "metadata": {},
          "execution_count": 67
        }
      ]
    },
    {
      "cell_type": "code",
      "metadata": {
        "colab": {
          "base_uri": "https://localhost:8080/"
        },
        "id": "joRUs2Rbe9js",
        "outputId": "38247f8e-669b-499a-be1d-3ce428ba363c"
      },
      "source": [
        "[k for k,v in result.items() if 'station_id' in v]"
      ],
      "execution_count": 28,
      "outputs": [
        {
          "output_type": "execute_result",
          "data": {
            "text/plain": [
              "['citibike_stations']"
            ]
          },
          "metadata": {},
          "execution_count": 28
        }
      ]
    },
    {
      "cell_type": "code",
      "metadata": {
        "colab": {
          "base_uri": "https://localhost:8080/"
        },
        "id": "Pw3U1vnfgXBb",
        "outputId": "33ddc6b2-2759-4244-d803-bfbf03b54646"
      },
      "source": [
        "[v for k,v in result.items() for i in result.values() if v==i]"
      ],
      "execution_count": 38,
      "outputs": [
        {
          "output_type": "execute_result",
          "data": {
            "text/plain": [
              "[['station_id',\n",
              "  'name',\n",
              "  'short_name',\n",
              "  'latitude',\n",
              "  'longitude',\n",
              "  'region_id',\n",
              "  'rental_methods',\n",
              "  'capacity',\n",
              "  'eightd_has_key_dispenser',\n",
              "  'num_bikes_available',\n",
              "  'num_bikes_disabled',\n",
              "  'num_docks_available',\n",
              "  'num_docks_disabled',\n",
              "  'is_installed',\n",
              "  'is_renting',\n",
              "  'is_returning',\n",
              "  'eightd_has_available_keys',\n",
              "  'last_reported'],\n",
              " ['tripduration',\n",
              "  'starttime',\n",
              "  'stoptime',\n",
              "  'start_station_id',\n",
              "  'start_station_name',\n",
              "  'start_station_latitude',\n",
              "  'start_station_longitude',\n",
              "  'end_station_id',\n",
              "  'end_station_name',\n",
              "  'end_station_latitude',\n",
              "  'end_station_longitude',\n",
              "  'bikeid',\n",
              "  'usertype',\n",
              "  'birth_year',\n",
              "  'gender',\n",
              "  'customer_plan']]"
            ]
          },
          "metadata": {},
          "execution_count": 38
        }
      ]
    },
    {
      "cell_type": "code",
      "metadata": {
        "id": "rjg1JdIxfcHN"
      },
      "source": [
        "l =[]\n",
        "for table, columns in result.items():\n",
        "  for item in result.values():\n",
        "     if item in result.values()==columns in result.items():\n",
        "       l.append(items)"
      ],
      "execution_count": 40,
      "outputs": []
    },
    {
      "cell_type": "code",
      "metadata": {
        "colab": {
          "base_uri": "https://localhost:8080/"
        },
        "id": "669zyiAKiQlQ",
        "outputId": "edbfb2a7-c3fe-416d-d2a1-7cf45622a57d"
      },
      "source": [
        "l"
      ],
      "execution_count": 41,
      "outputs": [
        {
          "output_type": "execute_result",
          "data": {
            "text/plain": [
              "[]"
            ]
          },
          "metadata": {},
          "execution_count": 41
        }
      ]
    },
    {
      "cell_type": "code",
      "metadata": {
        "id": "PXSeW4NiiTMM"
      },
      "source": [
        "%%bigquery --project paris-air-quality-321222 df2\n",
        "SELECT * FROM `bigquery-public-data`.new_york_citibike.INFORMATION_SCHEMA.COLUMNS where table_name ='citibike_stations'"
      ],
      "execution_count": 52,
      "outputs": []
    },
    {
      "cell_type": "code",
      "metadata": {
        "id": "YrDfcCMMi9ti"
      },
      "source": [
        "%%bigquery --project paris-air-quality-321222 df3\n",
        "SELECT * FROM `bigquery-public-data`.new_york_citibike.INFORMATION_SCHEMA.COLUMNS where table_name ='citibike_trips'"
      ],
      "execution_count": 53,
      "outputs": []
    },
    {
      "cell_type": "code",
      "metadata": {
        "colab": {
          "base_uri": "https://localhost:8080/"
        },
        "id": "d5UL3sh3ifNC",
        "outputId": "8387c200-5264-4ad5-b7dd-11b16bf99752"
      },
      "source": [
        "[x for x in list(df2.column_name) if x in list(df3.column_name)] #list(df2.column_name) "
      ],
      "execution_count": 54,
      "outputs": [
        {
          "output_type": "execute_result",
          "data": {
            "text/plain": [
              "[]"
            ]
          },
          "metadata": {},
          "execution_count": 54
        }
      ]
    },
    {
      "cell_type": "code",
      "metadata": {
        "colab": {
          "base_uri": "https://localhost:8080/"
        },
        "id": "yod4n13vjeZ6",
        "outputId": "495e2594-7495-4786-d72d-6ad8061251bf"
      },
      "source": [
        "list(df2.column_name)"
      ],
      "execution_count": 59,
      "outputs": [
        {
          "output_type": "execute_result",
          "data": {
            "text/plain": [
              "['station_id',\n",
              " 'name',\n",
              " 'short_name',\n",
              " 'latitude',\n",
              " 'longitude',\n",
              " 'region_id',\n",
              " 'rental_methods',\n",
              " 'capacity',\n",
              " 'eightd_has_key_dispenser',\n",
              " 'num_bikes_available',\n",
              " 'num_bikes_disabled',\n",
              " 'num_docks_available',\n",
              " 'num_docks_disabled',\n",
              " 'is_installed',\n",
              " 'is_renting',\n",
              " 'is_returning',\n",
              " 'eightd_has_available_keys',\n",
              " 'last_reported']"
            ]
          },
          "metadata": {},
          "execution_count": 59
        }
      ]
    },
    {
      "cell_type": "code",
      "metadata": {
        "colab": {
          "base_uri": "https://localhost:8080/"
        },
        "id": "orIpRGOgjWls",
        "outputId": "733ffc1c-b109-4057-be61-fbe6eb52f675"
      },
      "source": [
        "list(df3.column_name)"
      ],
      "execution_count": 58,
      "outputs": [
        {
          "output_type": "execute_result",
          "data": {
            "text/plain": [
              "['tripduration',\n",
              " 'starttime',\n",
              " 'stoptime',\n",
              " 'start_station_id',\n",
              " 'start_station_name',\n",
              " 'start_station_latitude',\n",
              " 'start_station_longitude',\n",
              " 'end_station_id',\n",
              " 'end_station_name',\n",
              " 'end_station_latitude',\n",
              " 'end_station_longitude',\n",
              " 'bikeid',\n",
              " 'usertype',\n",
              " 'birth_year',\n",
              " 'gender',\n",
              " 'customer_plan']"
            ]
          },
          "metadata": {},
          "execution_count": 58
        }
      ]
    },
    {
      "cell_type": "code",
      "metadata": {
        "id": "mKW4Yq8hjW05"
      },
      "source": [
        "test_dict1 = { \"Key1\" : [1, 3, 4], \"key2\" : [4, 5] }\n",
        "test_dict2 = { \"Key1\" : {1, 3, 4}, \"key2\" : {4, 5} }\n"
      ],
      "execution_count": 63,
      "outputs": []
    },
    {
      "cell_type": "code",
      "metadata": {
        "colab": {
          "base_uri": "https://localhost:8080/"
        },
        "id": "mZOWyR-bj5Kw",
        "outputId": "3c085c3e-880c-4c6f-88dc-08f5393a316c"
      },
      "source": [
        "#matching columns\n",
        "set.intersection(*test_dict2.values())"
      ],
      "execution_count": 64,
      "outputs": [
        {
          "output_type": "execute_result",
          "data": {
            "text/plain": [
              "{4}"
            ]
          },
          "metadata": {},
          "execution_count": 64
        }
      ]
    },
    {
      "cell_type": "code",
      "metadata": {
        "colab": {
          "base_uri": "https://localhost:8080/"
        },
        "id": "fDKJE0WwmkkX",
        "outputId": "796aebb2-7ed4-4c61-8389-fe07b8683f5b"
      },
      "source": [
        "l =[]\n",
        "for table, columns in test_dict1.items():\n",
        "  for item in test_dict1.values():\n",
        "     if item in test_dict1.values()==columns in test_dict1.items():\n",
        "       l.append(items)\n",
        "l"
      ],
      "execution_count": 66,
      "outputs": [
        {
          "output_type": "execute_result",
          "data": {
            "text/plain": [
              "[]"
            ]
          },
          "metadata": {},
          "execution_count": 66
        }
      ]
    }
  ]
}