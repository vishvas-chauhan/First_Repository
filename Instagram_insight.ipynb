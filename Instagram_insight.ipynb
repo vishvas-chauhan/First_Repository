{
  "nbformat": 4,
  "nbformat_minor": 0,
  "metadata": {
    "colab": {
      "name": "Instagram_insight.ipynb",
      "provenance": [],
      "authorship_tag": "ABX9TyOvQ6zEUGUFiDabUqDCY6eZ",
      "include_colab_link": true
    },
    "kernelspec": {
      "name": "python3",
      "display_name": "Python 3"
    },
    "language_info": {
      "name": "python"
    }
  },
  "cells": [
    {
      "cell_type": "markdown",
      "metadata": {
        "id": "view-in-github",
        "colab_type": "text"
      },
      "source": [
        "<a href=\"https://colab.research.google.com/github/vishvas-chauhan/First_Repository/blob/master/Instagram_insight.ipynb\" target=\"_parent\"><img src=\"https://colab.research.google.com/assets/colab-badge.svg\" alt=\"Open In Colab\"/></a>"
      ]
    },
    {
      "cell_type": "code",
      "metadata": {
        "colab": {
          "base_uri": "https://localhost:8080/"
        },
        "id": "49NsQWUaOIVw",
        "outputId": "d5390f28-56bb-4650-b29f-0064faa040e2"
      },
      "source": [
        "import sys\n",
        "sys.stdout.write(\"hello from Python %sn\" % (sys.version,))"
      ],
      "execution_count": null,
      "outputs": [
        {
          "output_type": "stream",
          "text": [
            "hello from Python 3.7.10 (default, Feb 20 2021, 21:17:23) \n",
            "[GCC 7.5.0]n"
          ],
          "name": "stdout"
        }
      ]
    },
    {
      "cell_type": "code",
      "metadata": {
        "colab": {
          "base_uri": "https://localhost:8080/"
        },
        "id": "PMr16H6HPZ4g",
        "outputId": "af7a5555-d2fe-4bcd-e6e7-5c81fc3dd110"
      },
      "source": [
        "!pip install python-instagram"
      ],
      "execution_count": null,
      "outputs": [
        {
          "output_type": "stream",
          "text": [
            "Collecting python-instagram\n",
            "  Downloading https://files.pythonhosted.org/packages/35/a9/c33c2224e4bbc8579940199c98cc980ee5424623f72e142612ba03c567ea/python-instagram-1.3.2.tar.gz\n",
            "Collecting simplejson\n",
            "\u001b[?25l  Downloading https://files.pythonhosted.org/packages/a8/04/377418ac1e530ce2a196b54c6552c018fdf1fe776718053efb1f216bffcd/simplejson-3.17.2-cp37-cp37m-manylinux2010_x86_64.whl (128kB)\n",
            "\u001b[K     |████████████████████████████████| 133kB 7.8MB/s \n",
            "\u001b[?25hRequirement already satisfied: httplib2 in /usr/local/lib/python3.7/dist-packages (from python-instagram) (0.17.4)\n",
            "Requirement already satisfied: six in /usr/local/lib/python3.7/dist-packages (from python-instagram) (1.15.0)\n",
            "Building wheels for collected packages: python-instagram\n",
            "  Building wheel for python-instagram (setup.py) ... \u001b[?25l\u001b[?25hdone\n",
            "  Created wheel for python-instagram: filename=python_instagram-1.3.2-cp37-none-any.whl size=11397 sha256=3551d539c91a81758d3e319e01451e654ca32d7d6b89e197ce27b0e05f520885\n",
            "  Stored in directory: /root/.cache/pip/wheels/26/ba/4d/9cb3a7a08248f372ad9f1edba6749bbe6caa28404bea4471fe\n",
            "Successfully built python-instagram\n",
            "Installing collected packages: simplejson, python-instagram\n",
            "Successfully installed python-instagram-1.3.2 simplejson-3.17.2\n"
          ],
          "name": "stdout"
        }
      ]
    },
    {
      "cell_type": "code",
      "metadata": {
        "id": "ZeLXYZzRRXRI"
      },
      "source": [
        "from instagram.client import InstagramAPI\n",
        "\n",
        "access_token = \"YOUR_ACCESS_TOKEN\"\n",
        "client_secret = \"YOUR_CLIENT_SECRET\"\n",
        "api = InstagramAPI(access_token=access_token, client_secret=client_secret)\n",
        "recent_media, next_ = api.user_recent_media(user_id=\"userid\", count=10)\n",
        "for media in recent_media:\n",
        "   print media.caption.text"
      ],
      "execution_count": null,
      "outputs": []
    },
    {
      "cell_type": "code",
      "metadata": {
        "id": "VKaWJiEnPZ7b"
      },
      "source": [
        "api = InstagramAPI(client_id='YOUR_CLIENT_ID', client_secret='YOUR_CLIENT_SECRET')\n",
        "popular_media = api.media_popular(count=20)\n",
        "for media in popular_media:\n",
        "    print media.images['standard_resolution'].url"
      ],
      "execution_count": null,
      "outputs": []
    },
    {
      "cell_type": "code",
      "metadata": {
        "id": "jJ91YK2SPZ-G"
      },
      "source": [
        "# Subscribe to updates for all users authenticated to your app\n",
        "api.create_subscription(object='user', aspect='media', callback_url='http://mydomain.com/hook/instagram')\n",
        "\n",
        "# Subscribe to all media tagged with 'fox'\n",
        "api.create_subscription(object='tag', object_id='fox', aspect='media', callback_url='http://mydomain.com/hook/instagram')\n",
        "\n",
        "# Subscribe to all media in a given location\n",
        "api.create_subscription(object='location', object_id='1257285', aspect='media', callback_url='http://mydomain.com/hook/instagram')\n",
        "\n",
        "# Subscribe to all media in a geographic area\n",
        "api.create_subscription(object='geography', lat=35.657872, lng=139.70232, radius=1000, aspect='media', callback_url='http://mydomain.com/hook/instagram')"
      ],
      "execution_count": null,
      "outputs": []
    },
    {
      "cell_type": "code",
      "metadata": {
        "id": "VuTwBSrhPaA3"
      },
      "source": [
        "# React to user type updates\n",
        "reactor = subscriptions.SubscriptionsReactor()\n",
        "reactor.register_callback(subscriptions.SubscriptionType.USER, process_user_update)"
      ],
      "execution_count": null,
      "outputs": []
    },
    {
      "cell_type": "code",
      "metadata": {
        "id": "36-5mT7rPaDn"
      },
      "source": [
        "api.list_subscriptions()\n",
        "api.delete_subscriptions(id=342342)"
      ],
      "execution_count": null,
      "outputs": []
    },
    {
      "cell_type": "code",
      "metadata": {
        "id": "mwl63_E3PaF_"
      },
      "source": [
        "recent_media, next_ = api.user_recent_media()\n",
        "photos = []\n",
        "for media in recent_media:\n",
        "    photos.append('<img src=\"%s\"/>' % media.images['thumbnail'].url)"
      ],
      "execution_count": null,
      "outputs": []
    },
    {
      "cell_type": "code",
      "metadata": {
        "id": "gpBTqrIfSYGR"
      },
      "source": [
        "follows, next_ = api.user_follows()\n",
        "while next_:\n",
        "    more_follows, next_ = api.user_follows(with_next_url=next_)\n",
        "    follows.extend(more_follows)"
      ],
      "execution_count": null,
      "outputs": []
    },
    {
      "cell_type": "code",
      "metadata": {
        "id": "-s6_DEL0SYJE"
      },
      "source": [
        "api.user(user_id)\n",
        "api.user_media_feed()*\n",
        "api.user_liked_media()*\n",
        "api.user_recent_media(user_id, count, max_id)*\n",
        "api.user_search(q, count, lat, lng, min_timestamp, max_timestamp)"
      ],
      "execution_count": null,
      "outputs": []
    },
    {
      "cell_type": "code",
      "metadata": {
        "id": "wh7vEIKrSYLy"
      },
      "source": [
        "api.user_incoming_requests()\n",
        "api.user_follows(user_id)*\n",
        "api.user_followed_by(user_id)*\n",
        "api.follow_user(user_id)\n",
        "api.unfollow_user(user_id)\n",
        "api.block_user(user_id)\n",
        "api.unblock_user(user_id)\n",
        "api.approve_user_request(user_id)\n",
        "api.ignore_user_request(user_id)\n",
        "api.user_relationship(user_id)"
      ],
      "execution_count": null,
      "outputs": []
    },
    {
      "cell_type": "code",
      "metadata": {
        "id": "xdxR6HlpSYOg"
      },
      "source": [
        "api.media(media_id)\n",
        "api.media_popular(count, max_id)\n",
        "api.media_search(q, count, lat, lng, min_timestamp, max_timestamp)"
      ],
      "execution_count": null,
      "outputs": []
    },
    {
      "cell_type": "code",
      "metadata": {
        "id": "A6gYnHZ0SYRF"
      },
      "source": [
        "api.media_comments(media_id)\n",
        "api.create_media_comment(media_id, text)\n",
        "api.delete_comment(media_id, comment_id)"
      ],
      "execution_count": null,
      "outputs": []
    },
    {
      "cell_type": "code",
      "metadata": {
        "id": "f9jznikuSYTg"
      },
      "source": [
        "api.media_likes(media_id)\n",
        "api.like_media(media_id)\n",
        "api.unlike_media(media_id)"
      ],
      "execution_count": null,
      "outputs": []
    },
    {
      "cell_type": "code",
      "metadata": {
        "id": "l5Le3W_vSYWG"
      },
      "source": [
        "api.tag(tag_name) \n",
        "api.tag_recent_media(count, max_tag_id, tag_name)*\n",
        "api.tag_search(q, count)"
      ],
      "execution_count": null,
      "outputs": []
    },
    {
      "cell_type": "code",
      "metadata": {
        "id": "qY7I77U_SYZB"
      },
      "source": [
        "api.location(location_id)\n",
        "api.location_recent_media(count, max_id, location_id)*\n",
        "api.location_search(q, count, lat, lng, foursquare_id, foursquare_v2_id)"
      ],
      "execution_count": null,
      "outputs": []
    },
    {
      "cell_type": "code",
      "metadata": {
        "id": "-R5-47QcSmWd"
      },
      "source": [
        "api.geography_recent_media(count, max_id, geography_id)*"
      ],
      "execution_count": null,
      "outputs": []
    },
    {
      "cell_type": "code",
      "metadata": {
        "id": "xsmKHpU1SmZY"
      },
      "source": [
        "from instagram.bind import InstagramAPIError\n",
        "\n",
        "try:\n",
        "   # your code goes here\n",
        "except InstagramAPIError as e:\n",
        "   if (e.status_code == 400):\n",
        "      print \"\\nUser is set to private.\""
      ],
      "execution_count": null,
      "outputs": []
    },
    {
      "cell_type": "code",
      "metadata": {
        "id": "Wq4gDOtSSmcF"
      },
      "source": [
        "sudo pip install --upgrade six"
      ],
      "execution_count": null,
      "outputs": []
    },
    {
      "cell_type": "code",
      "metadata": {
        "id": "XP1Ay19bSwsp"
      },
      "source": [
        ""
      ],
      "execution_count": null,
      "outputs": []
    },
    {
      "cell_type": "code",
      "metadata": {
        "id": "YaMFsq5LSmel"
      },
      "source": [
        ""
      ],
      "execution_count": null,
      "outputs": []
    },
    {
      "cell_type": "code",
      "metadata": {
        "id": "svAqz-69SmhM"
      },
      "source": [
        ""
      ],
      "execution_count": null,
      "outputs": []
    },
    {
      "cell_type": "code",
      "metadata": {
        "id": "BMQTMeKmSmj8"
      },
      "source": [
        ""
      ],
      "execution_count": null,
      "outputs": []
    },
    {
      "cell_type": "code",
      "metadata": {
        "id": "QQ0WOlGvSmnK"
      },
      "source": [
        ""
      ],
      "execution_count": null,
      "outputs": []
    },
    {
      "cell_type": "code",
      "metadata": {
        "id": "JnyCD4oWSYbP"
      },
      "source": [
        ""
      ],
      "execution_count": null,
      "outputs": []
    }
  ]
}