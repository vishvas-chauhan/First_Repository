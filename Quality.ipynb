{
  "nbformat": 4,
  "nbformat_minor": 0,
  "metadata": {
    "colab": {
      "name": "Quality.ipynb",
      "provenance": [],
      "include_colab_link": true
    },
    "kernelspec": {
      "name": "python3",
      "display_name": "Python 3"
    },
    "language_info": {
      "name": "python"
    }
  },
  "cells": [
    {
      "cell_type": "markdown",
      "metadata": {
        "id": "view-in-github",
        "colab_type": "text"
      },
      "source": [
        "<a href=\"https://colab.research.google.com/github/vishvas-chauhan/First_Repository/blob/master/Quality.ipynb\" target=\"_parent\"><img src=\"https://colab.research.google.com/assets/colab-badge.svg\" alt=\"Open In Colab\"/></a>"
      ]
    },
    {
      "cell_type": "code",
      "metadata": {
        "id": "GO9MZy7rf2cF"
      },
      "source": [
        "import matplotlib.pyplot as plt\n",
        "import seaborn as sns\n",
        "import pandas as pd\n",
        "import numpy as np\n",
        "\n",
        "import gspread\n",
        "import gspread_dataframe as gd\n",
        "from google.colab import auth\n",
        "auth.authenticate_user()\n",
        "\n",
        "import gspread\n",
        "from oauth2client.client import GoogleCredentials\n",
        "\n",
        "gc = gspread.authorize(GoogleCredentials.get_application_default())"
      ],
      "execution_count": null,
      "outputs": []
    },
    {
      "cell_type": "markdown",
      "metadata": {
        "id": "q0i6HkG9UyX9"
      },
      "source": [
        "##quality"
      ]
    },
    {
      "cell_type": "code",
      "metadata": {
        "id": "EJWI9pB6f48R"
      },
      "source": [
        "ss21FS = gc.open(\"Full Production\").worksheet(\"ss21FS\")\n",
        "df_ss21FS = gd.get_as_dataframe(ss21FS)\n",
        "\n",
        "SS21SSh = gc.open(\"Full Production\").worksheet(\"SS21SSh\")\n",
        "df_SS21SSh = gd.get_as_dataframe(SS21SSh)\n",
        "\n",
        "f20main = gc.open(\"Full Production\").worksheet(\"f20main\")\n",
        "df_f20main = gd.get_as_dataframe(f20main)"
      ],
      "execution_count": null,
      "outputs": []
    },
    {
      "cell_type": "code",
      "metadata": {
        "id": "5rNlswCmf4_h"
      },
      "source": [
        "selected_col=['Style','Product ID','Season','Product Category 1','Product Category 2','Product Category 3','Product Category 5','Fabric','Colour','Sizes','Manufacturer','Manufacturer Country','Textile Content',\n",
        "               'Product Category 4','Labels','Sales Order Quantity','Image Path']"
      ],
      "execution_count": null,
      "outputs": []
    },
    {
      "cell_type": "code",
      "metadata": {
        "id": "5j_zxOddgJX_"
      },
      "source": [
        "df_ss21FS=df_ss21FS[selected_col]\n",
        "df_SS21SSh=df_SS21SSh[selected_col]\n",
        "df_f20main=df_f20main[selected_col]"
      ],
      "execution_count": null,
      "outputs": []
    },
    {
      "cell_type": "code",
      "metadata": {
        "id": "WskXnAeEgKU5",
        "colab": {
          "base_uri": "https://localhost:8080/"
        },
        "outputId": "d1331c5f-9e37-4f7e-b99a-33ec1bebe916"
      },
      "source": [
        "frames = [df_ss21FS,df_SS21SSh,df_f20main]\n",
        "result = pd.concat(frames)\n",
        "result['Season'].value_counts()"
      ],
      "execution_count": null,
      "outputs": [
        {
          "output_type": "execute_result",
          "data": {
            "text/plain": [
              "SS21 // SECOND SHOWROOM            260\n",
              "FW20 // MAIN MIND MELANGE MOTOR    256\n",
              "SS21 // FIRST SHOWROOM             169\n",
              "Name: Season, dtype: int64"
            ]
          },
          "metadata": {
            "tags": []
          },
          "execution_count": 6
        }
      ]
    },
    {
      "cell_type": "code",
      "metadata": {
        "colab": {
          "base_uri": "https://localhost:8080/"
        },
        "id": "hTq_VNnwgQxd",
        "outputId": "13336f38-a41a-4c2a-a8bf-80b247011c44"
      },
      "source": [
        "result = pd.concat(frames)\n",
        "result['Season'].value_counts()"
      ],
      "execution_count": null,
      "outputs": [
        {
          "output_type": "execute_result",
          "data": {
            "text/plain": [
              "SS21 // SECOND SHOWROOM            260\n",
              "FW20 // MAIN MIND MELANGE MOTOR    256\n",
              "SS21 // FIRST SHOWROOM             169\n",
              "Name: Season, dtype: int64"
            ]
          },
          "metadata": {
            "tags": []
          },
          "execution_count": 7
        }
      ]
    },
    {
      "cell_type": "code",
      "metadata": {
        "colab": {
          "base_uri": "https://localhost:8080/"
        },
        "id": "3u61Ph4mgUQB",
        "outputId": "d018a7e2-a48e-4180-ea7d-25f7f290d786"
      },
      "source": [
        "result=result.dropna(axis=0,how='all')\n",
        "print(result.shape)"
      ],
      "execution_count": null,
      "outputs": [
        {
          "output_type": "stream",
          "text": [
            "(685, 17)\n"
          ],
          "name": "stdout"
        }
      ]
    },
    {
      "cell_type": "code",
      "metadata": {
        "colab": {
          "base_uri": "https://localhost:8080/"
        },
        "id": "zHP3Q2KOgVGt",
        "outputId": "e71b716c-957f-4942-d413-8f792b992e3f"
      },
      "source": [
        "result['Season'].value_counts()"
      ],
      "execution_count": null,
      "outputs": [
        {
          "output_type": "execute_result",
          "data": {
            "text/plain": [
              "SS21 // SECOND SHOWROOM            260\n",
              "FW20 // MAIN MIND MELANGE MOTOR    256\n",
              "SS21 // FIRST SHOWROOM             169\n",
              "Name: Season, dtype: int64"
            ]
          },
          "metadata": {
            "tags": []
          },
          "execution_count": 9
        }
      ]
    },
    {
      "cell_type": "code",
      "metadata": {
        "id": "W14r12TAGsYl"
      },
      "source": [
        "#res_col=res_col.groupby('Fabric')['Fabric'].count().rename('total').reset_index()"
      ],
      "execution_count": null,
      "outputs": []
    },
    {
      "cell_type": "code",
      "metadata": {
        "id": "a4uAJDVbTpMc"
      },
      "source": [
        "#result.loc[result['Season'] =='SS21 // SECOND SHOWROOM', 'Season'] = '121'"
      ],
      "execution_count": null,
      "outputs": []
    },
    {
      "cell_type": "code",
      "metadata": {
        "id": "pzvHgRWRr9Ho"
      },
      "source": [
        "#result['Labels'].value_counts(),result['b'].value_counts()"
      ],
      "execution_count": null,
      "outputs": []
    },
    {
      "cell_type": "code",
      "metadata": {
        "id": "10yjrgYwjniD"
      },
      "source": [
        "result['Labels']=result['Labels'].astype(str)\n",
        "#result['b']=result['b'].astype(str)"
      ],
      "execution_count": null,
      "outputs": []
    },
    {
      "cell_type": "code",
      "metadata": {
        "id": "nCsUkI0SM4hg"
      },
      "source": [
        "result=result[result['Labels']!='nan']"
      ],
      "execution_count": null,
      "outputs": []
    },
    {
      "cell_type": "code",
      "metadata": {
        "id": "xiC_B5zD8o_s",
        "colab": {
          "base_uri": "https://localhost:8080/"
        },
        "outputId": "f9c1779a-336c-48ba-e64c-4ad850ba18ea"
      },
      "source": [
        "result['Labels'].value_counts()"
      ],
      "execution_count": null,
      "outputs": [
        {
          "output_type": "execute_result",
          "data": {
            "text/plain": [
              "IN-CR-FD            5\n",
              "INX-3CR-AB          4\n",
              "EX-1CR-FP           4\n",
              "IN-1CR-AM           3\n",
              "IN-CR-TS            3\n",
              "EX-PR-9FS           2\n",
              "EX-PR-26FS          2\n",
              "IN-3CR-FD           2\n",
              "INX-3CR-AB-AM       2\n",
              "EX-CR-FP            2\n",
              "EX-CR-NB            2\n",
              "IN-3CR-AM           2\n",
              "IN-CR-TE            2\n",
              "IN-DV-NF            2\n",
              "IN-1CR-FS           2\n",
              "EX-1CR-NL           2\n",
              "IN-CR-AB            1\n",
              "IN-CR-136FY         1\n",
              "EX-1CR-AL           1\n",
              "UN-CR-1FD           1\n",
              "IN-PR-NL-4NB-4NI    1\n",
              "IN-1CR-73FD-FY      1\n",
              "EX-PR-6AL           1\n",
              "IN-CR-AC            1\n",
              "IN-PR-FY            1\n",
              "INX-CR-AL-TE        1\n",
              "IN-PR-56FY          1\n",
              "EX-CR-AE            1\n",
              "CF-CR-FD-AZ         1\n",
              "IN-CR-FD-NL         1\n",
              "EX-CR-NI            1\n",
              "IN-CR-1AM           1\n",
              "EX-CR-AB            1\n",
              "IN-CR-NB            1\n",
              "EX-CR-WS            1\n",
              "IN-CR-AZ            1\n",
              "Name: Labels, dtype: int64"
            ]
          },
          "metadata": {
            "tags": []
          },
          "execution_count": 15
        }
      ]
    },
    {
      "cell_type": "code",
      "metadata": {
        "id": "G7vjF28TqHDo"
      },
      "source": [
        "result['z']=result['Labels'].apply(lambda x:x.split('-')[0])"
      ],
      "execution_count": null,
      "outputs": []
    },
    {
      "cell_type": "code",
      "metadata": {
        "id": "CgS6OUMtx4Em"
      },
      "source": [
        "#result['z']=result['z'].str.get(0)"
      ],
      "execution_count": null,
      "outputs": []
    },
    {
      "cell_type": "code",
      "metadata": {
        "id": "Vqb_0AuEm64i",
        "colab": {
          "base_uri": "https://localhost:8080/"
        },
        "outputId": "ddebbc9e-be8f-47b9-f2d7-e03fafb9b394"
      },
      "source": [
        "result['z'].value_counts()"
      ],
      "execution_count": null,
      "outputs": [
        {
          "output_type": "execute_result",
          "data": {
            "text/plain": [
              "IN     32\n",
              "EX     20\n",
              "INX     7\n",
              "CF      1\n",
              "UN      1\n",
              "Name: z, dtype: int64"
            ]
          },
          "metadata": {
            "tags": []
          },
          "execution_count": 18
        }
      ]
    },
    {
      "cell_type": "code",
      "metadata": {
        "id": "U_w5iqxlyOss"
      },
      "source": [
        "#result['Labels']=result['Labels'].fillna('XX-XX')"
      ],
      "execution_count": null,
      "outputs": []
    },
    {
      "cell_type": "code",
      "metadata": {
        "id": "QfZTbY2uZhch"
      },
      "source": [
        "result['a']=result['Labels'].apply(lambda x:x.split('-')[1:])\n"
      ],
      "execution_count": null,
      "outputs": []
    },
    {
      "cell_type": "code",
      "metadata": {
        "id": "dSbIZRnAz09c"
      },
      "source": [
        "result['a']=result['a'].str.get(0)"
      ],
      "execution_count": null,
      "outputs": []
    },
    {
      "cell_type": "code",
      "metadata": {
        "id": "m7iJFAOahfoj"
      },
      "source": [
        "result['b']=result['Labels'].apply(lambda x:x.split('-')[2:])"
      ],
      "execution_count": null,
      "outputs": []
    },
    {
      "cell_type": "code",
      "metadata": {
        "id": "QuuuT07gz-E-"
      },
      "source": [
        "result['b']=result['b'].str.get(0)"
      ],
      "execution_count": null,
      "outputs": []
    },
    {
      "cell_type": "code",
      "metadata": {
        "id": "xCOo3idPhgP6"
      },
      "source": [
        "result['c']=result['Labels'].apply(lambda x:x.split('-')[3:])"
      ],
      "execution_count": null,
      "outputs": []
    },
    {
      "cell_type": "code",
      "metadata": {
        "id": "kMnQNU5Ahm--"
      },
      "source": [
        "result['c']=result['c'].str.get(0)"
      ],
      "execution_count": null,
      "outputs": []
    },
    {
      "cell_type": "code",
      "metadata": {
        "id": "WiMIKwjmtY3g"
      },
      "source": [
        "result['d']=result['Labels'].apply(lambda x:x.split('-')[4:])"
      ],
      "execution_count": null,
      "outputs": []
    },
    {
      "cell_type": "code",
      "metadata": {
        "id": "0WYwB8DFtZ-A"
      },
      "source": [
        "result['d']=result['d'].str.get(0)"
      ],
      "execution_count": null,
      "outputs": []
    },
    {
      "cell_type": "code",
      "metadata": {
        "id": "ZH3I5J6QyE7R",
        "colab": {
          "base_uri": "https://localhost:8080/"
        },
        "outputId": "70d85db2-0a5f-4378-b825-97d3af25f9ee"
      },
      "source": [
        "result['z'].value_counts(),result['a'].value_counts(),result['b'].value_counts(),result['c'].value_counts(),result['d'].value_counts()"
      ],
      "execution_count": null,
      "outputs": [
        {
          "output_type": "execute_result",
          "data": {
            "text/plain": [
              "(IN     32\n",
              " EX     20\n",
              " INX     7\n",
              " CF      1\n",
              " UN      1\n",
              " Name: z, dtype: int64, CR     28\n",
              " 1CR    13\n",
              " 3CR    10\n",
              " PR      8\n",
              " DV      2\n",
              " Name: a, dtype: int64, FD       9\n",
              " AB       8\n",
              " FP       6\n",
              " AM       5\n",
              " NB       3\n",
              " NL       3\n",
              " TS       3\n",
              " FS       2\n",
              " TE       2\n",
              " NF       2\n",
              " 9FS      2\n",
              " AL       2\n",
              " 26FS     2\n",
              " 1AM      1\n",
              " AZ       1\n",
              " 73FD     1\n",
              " FY       1\n",
              " 6AL      1\n",
              " AE       1\n",
              " 1FD      1\n",
              " NI       1\n",
              " 56FY     1\n",
              " AC       1\n",
              " WS       1\n",
              " 136FY    1\n",
              " Name: b, dtype: int64, AM     2\n",
              " 4NB    1\n",
              " TE     1\n",
              " NL     1\n",
              " FY     1\n",
              " AZ     1\n",
              " Name: c, dtype: int64, 4NI    1\n",
              " Name: d, dtype: int64)"
            ]
          },
          "metadata": {
            "tags": []
          },
          "execution_count": 28
        }
      ]
    },
    {
      "cell_type": "code",
      "metadata": {
        "id": "G3nNC_5IyBcp"
      },
      "source": [
        "inex= [result['z'].str.contains(\"INX\")== True,result['z'].str.contains(\"EX\")== True,result['z'].str.contains(\"IN\")== True,result['z'].str.contains(\"CF\")== True,result['z'].str.contains(\"UN\")== True]\n",
        "inexchoice=['BOTH','Factory','Internal','Customer Fault','Unknown']\n",
        "result['Int/Ext']=np.select(inex,inexchoice,default='no issue')"
      ],
      "execution_count": null,
      "outputs": []
    },
    {
      "cell_type": "code",
      "metadata": {
        "colab": {
          "base_uri": "https://localhost:8080/"
        },
        "id": "4cceGlpwKFOZ",
        "outputId": "40a3dd66-c847-4463-ef1d-b1b9ddbfd991"
      },
      "source": [
        "result['z'].value_counts()"
      ],
      "execution_count": null,
      "outputs": [
        {
          "output_type": "execute_result",
          "data": {
            "text/plain": [
              "IN     32\n",
              "EX     20\n",
              "INX     7\n",
              "CF      1\n",
              "UN      1\n",
              "Name: z, dtype: int64"
            ]
          },
          "metadata": {
            "tags": []
          },
          "execution_count": 30
        }
      ]
    },
    {
      "cell_type": "code",
      "metadata": {
        "id": "c6STeunYo8pN"
      },
      "source": [
        "con_main= [result['a'].str.contains(\"CR\")== True,result['a'].str.contains(\"PR\")== True,result['a'].str.contains(\"DV\")== True]\n",
        "choice=['Client Return','Production','Development']\n",
        "result['main']=np.select(con_main,choice,default='no issue')"
      ],
      "execution_count": null,
      "outputs": []
    },
    {
      "cell_type": "code",
      "metadata": {
        "id": "8WHXd3ETr27I"
      },
      "source": [
        "con_sub= [result['b'].str.contains(\"FD\")==True,\n",
        "          result['b'].str.contains(\"FS\")==True,\n",
        "          result['b'].str.contains(\"FP\")==True,\n",
        "          result['b'].str.contains(\"FY\")==True,\n",
        "          result['b'].str.contains(\"FR\")==True,\n",
        "          result['b'].str.contains(\"FH\")==True,\n",
        "          result['b'].str.contains(\"FE\")==True,\n",
        "          result['b'].str.contains(\"AB\")==True,\n",
        "          result['b'].str.contains(\"AZ\")==True,\n",
        "          result['b'].str.contains(\"AC\")==True,\n",
        "          result['b'].str.contains(\"AM\")==True,\n",
        "          result['b'].str.contains(\"AL\")==True,\n",
        "          result['b'].str.contains(\"BC\")==True,\n",
        "          result['b'].str.contains(\"BZ\")==True,\n",
        "          result['b'].str.contains(\"BB\")==True,\n",
        "          result['b'].str.contains(\"TS\")==True,\n",
        "          result['b'].str.contains(\"TE\")==True,\n",
        "          result['b'].str.contains(\"NL\")==True,\n",
        "          result['b'].str.contains(\"NB\")==True,\n",
        "          result['b'].str.contains(\"NI\")==True,\n",
        "          result['b'].str.contains(\"NF\")==True,\n",
        "          result['b'].str.contains(\"WS\")==True,\n",
        "          result['b'].str.contains(\"AE\")==True]\n",
        "choice2=['Fabric Damage','Fabric Staining','Fabric Print Finish','Fabric Dyeing','Fabric Recycled','Fabric Shrinkage','Fabric Enlargement',\n",
        "         'Garment Acc Button','Garment Acc Zipper','Garment Acc Chain','Garment Acc MS Closures','Garment Acc Label',\n",
        "         'Bags Chain Straps','Bags Zipper','Bags Ball Bags','Pattern Shrinkage','Pattern Enlargement',\n",
        "         'Finishing Loose','Finishing Breakage','Finishing Inconsistent','Techfile not followed','Shoe size wrong','Elastic Damage']\n",
        "result['sub_details']=np.select(con_sub,choice2,default='no issue')"
      ],
      "execution_count": null,
      "outputs": []
    },
    {
      "cell_type": "code",
      "metadata": {
        "id": "zTNzQmVuapHz"
      },
      "source": [
        "cond_c= [result['c'].str.contains(\"FD\")==True,\n",
        "          result['c'].str.contains(\"FS\")==True,\n",
        "          result['c'].str.contains(\"FP\")==True,\n",
        "          result['c'].str.contains(\"FY\")==True,\n",
        "          result['c'].str.contains(\"FR\")==True,\n",
        "          result['c'].str.contains(\"FH\")==True,\n",
        "          result['c'].str.contains(\"FE\")==True,\n",
        "          result['c'].str.contains(\"AB\")==True,\n",
        "          result['c'].str.contains(\"AZ\")==True,\n",
        "          result['c'].str.contains(\"AC\")==True,\n",
        "          result['c'].str.contains(\"AM\")==True,\n",
        "          result['c'].str.contains(\"AL\")==True,\n",
        "          result['c'].str.contains(\"BC\")==True,\n",
        "          result['c'].str.contains(\"BZ\")==True,\n",
        "          result['c'].str.contains(\"BB\")==True,\n",
        "          result['c'].str.contains(\"TS\")==True,\n",
        "          result['c'].str.contains(\"TE\")==True,\n",
        "          result['c'].str.contains(\"NL\")==True,\n",
        "          result['c'].str.contains(\"NB\")==True,\n",
        "          result['c'].str.contains(\"NI\")==True,\n",
        "          result['c'].str.contains(\"NF\")==True,\n",
        "          result['c'].str.contains(\"WS\")==True,\n",
        "          result['b'].str.contains(\"AE\")==True]\n",
        "choice_c=['Fabric Damage','Fabric Staining','Fabric Print Finish','Fabric Dyeing','Fabric Recycled','Fabric Shrinkage','Fabric Enlargement',\n",
        "         'Garment Acc Button','Garment Acc Zipper','Garment Acc Chain','Garment Acc MS Closures','Garment Acc Label',\n",
        "         'Bags Chain Straps','Bags Zipper','Bags Ball Bags','Pattern Shrinkage','Pattern Enlargement',\n",
        "         'Finishing Loose','Finishing Breakage','Finishing Inconsistent','Techfile not followed','Shoe size wrong','Elastic Damage']\n",
        "result['c_details']=np.select(cond_c,choice_c,default='no issue')"
      ],
      "execution_count": null,
      "outputs": []
    },
    {
      "cell_type": "code",
      "metadata": {
        "id": "Z_wVpaDt1-sB"
      },
      "source": [
        "cond_d= [result['d'].str.contains(\"FD\")==True,\n",
        "          result['d'].str.contains(\"FS\")==True,\n",
        "          result['d'].str.contains(\"FP\")==True,\n",
        "          result['d'].str.contains(\"FY\")==True,\n",
        "          result['d'].str.contains(\"FR\")==True,\n",
        "          result['d'].str.contains(\"FH\")==True,\n",
        "          result['d'].str.contains(\"FE\")==True,\n",
        "          result['d'].str.contains(\"AB\")==True,\n",
        "          result['d'].str.contains(\"AZ\")==True,\n",
        "          result['d'].str.contains(\"AC\")==True,\n",
        "          result['d'].str.contains(\"AM\")==True,\n",
        "          result['d'].str.contains(\"AL\")==True,\n",
        "          result['d'].str.contains(\"BC\")==True,\n",
        "          result['d'].str.contains(\"BZ\")==True,\n",
        "          result['d'].str.contains(\"BB\")==True,\n",
        "          result['d'].str.contains(\"TS\")==True,\n",
        "          result['d'].str.contains(\"TE\")==True,\n",
        "          result['d'].str.contains(\"NL\")==True,\n",
        "          result['d'].str.contains(\"NB\")==True,\n",
        "          result['d'].str.contains(\"NI\")==True,\n",
        "          result['d'].str.contains(\"NF\")==True,\n",
        "          result['d'].str.contains(\"WS\")==True,\n",
        "          result['b'].str.contains(\"AE\")==True]\n",
        "choice_d=['Fabric Damage','Fabric Staining','Fabric Print Finish','Fabric Dyeing','Fabric Recycled','Fabric Shrinkage','Fabric Enlargement',\n",
        "         'Garment Acc Button','Garment Acc Zipper','Garment Acc Chain','Garment Acc MS Closures','Garment Acc Label',\n",
        "         'Bags Chain Straps','Bags Zipper','Bags Ball Bags','Pattern Shrinkage','Pattern Enlargement',\n",
        "         'Finishing Loose','Finishing Breakage','Finishing Inconsistent','Techfile not followed','Shoe size wrong','Elastic Damage']\n",
        "result['d_details']=np.select(cond_d,choice_d,default='no issue')"
      ],
      "execution_count": null,
      "outputs": []
    },
    {
      "cell_type": "code",
      "metadata": {
        "id": "U-wTGvarO6Ak"
      },
      "source": [
        ""
      ],
      "execution_count": null,
      "outputs": []
    },
    {
      "cell_type": "code",
      "metadata": {
        "id": "XVqmpgwFdUMu"
      },
      "source": [
        "result['Total_CR_quantity']=result['Labels'].apply(lambda x:x.split('-')[1:]).str.get(0).str.extract('(\\d+)').fillna(0)\n",
        "result['Total_a_defects']=result['Labels'].apply(lambda x:x.split('-')[2:]).str.get(0).str.extract('(\\d+)').fillna(0)\n",
        "result['Total_b_defects']=result['Labels'].apply(lambda x:x.split('-')[3:]).str.get(0).str.extract('(\\d+)').fillna(0)\n",
        "result['Total_c_defects']=result['Labels'].apply(lambda x:x.split('-')[4:]).str.get(0).str.extract('(\\d+)').fillna(0)"
      ],
      "execution_count": null,
      "outputs": []
    },
    {
      "cell_type": "code",
      "metadata": {
        "colab": {
          "base_uri": "https://localhost:8080/"
        },
        "id": "Gzo7B6bAO-KO",
        "outputId": "49ec2c26-89c5-4739-e17e-9398c0da4d32"
      },
      "source": [
        "result['Total_b_defects'].value_counts()"
      ],
      "execution_count": null,
      "outputs": [
        {
          "output_type": "execute_result",
          "data": {
            "text/plain": [
              "0    60\n",
              "4     1\n",
              "Name: Total_b_defects, dtype: int64"
            ]
          },
          "metadata": {
            "tags": []
          },
          "execution_count": 36
        }
      ]
    },
    {
      "cell_type": "code",
      "metadata": {
        "id": "OmAinNRTec28"
      },
      "source": [
        "result['Total_c_defects']=pd.to_numeric(result['Total_c_defects'])\n",
        "result['Total_CR_quantity']=pd.to_numeric(result['Total_CR_quantity'])\n",
        "result['Total_a_defects']=pd.to_numeric(result['Total_a_defects'])\n",
        "result['Total_b_defects']=pd.to_numeric(result['Total_b_defects'])"
      ],
      "execution_count": null,
      "outputs": []
    },
    {
      "cell_type": "code",
      "metadata": {
        "id": "N9VarL5ldW_4"
      },
      "source": [
        "result['Total_Defected_Quanities']=result['Total_c_defects']+result['Total_b_defects']+result['Total_a_defects']+result['Total_CR_quantity']"
      ],
      "execution_count": null,
      "outputs": []
    },
    {
      "cell_type": "code",
      "metadata": {
        "colab": {
          "base_uri": "https://localhost:8080/",
          "height": 547
        },
        "id": "ejWIjsIYdtlV",
        "outputId": "f6821d35-fa51-4923-b214-34424f42fcf8"
      },
      "source": [
        "result.head()"
      ],
      "execution_count": null,
      "outputs": [
        {
          "output_type": "execute_result",
          "data": {
            "text/html": [
              "<div>\n",
              "<style scoped>\n",
              "    .dataframe tbody tr th:only-of-type {\n",
              "        vertical-align: middle;\n",
              "    }\n",
              "\n",
              "    .dataframe tbody tr th {\n",
              "        vertical-align: top;\n",
              "    }\n",
              "\n",
              "    .dataframe thead th {\n",
              "        text-align: right;\n",
              "    }\n",
              "</style>\n",
              "<table border=\"1\" class=\"dataframe\">\n",
              "  <thead>\n",
              "    <tr style=\"text-align: right;\">\n",
              "      <th></th>\n",
              "      <th>Style</th>\n",
              "      <th>Product ID</th>\n",
              "      <th>Season</th>\n",
              "      <th>Product Category 1</th>\n",
              "      <th>Product Category 2</th>\n",
              "      <th>Product Category 3</th>\n",
              "      <th>Product Category 5</th>\n",
              "      <th>Fabric</th>\n",
              "      <th>Colour</th>\n",
              "      <th>Sizes</th>\n",
              "      <th>Manufacturer</th>\n",
              "      <th>Manufacturer Country</th>\n",
              "      <th>Textile Content</th>\n",
              "      <th>Product Category 4</th>\n",
              "      <th>Labels</th>\n",
              "      <th>Sales Order Quantity</th>\n",
              "      <th>Image Path</th>\n",
              "      <th>z</th>\n",
              "      <th>a</th>\n",
              "      <th>b</th>\n",
              "      <th>c</th>\n",
              "      <th>d</th>\n",
              "      <th>Int/Ext</th>\n",
              "      <th>main</th>\n",
              "      <th>sub_details</th>\n",
              "      <th>c_details</th>\n",
              "      <th>d_details</th>\n",
              "      <th>Total_CR_quantity</th>\n",
              "      <th>Total_a_defects</th>\n",
              "      <th>Total_b_defects</th>\n",
              "      <th>Total_c_defects</th>\n",
              "      <th>Total_Defected_Quanities</th>\n",
              "    </tr>\n",
              "  </thead>\n",
              "  <tbody>\n",
              "    <tr>\n",
              "      <th>24</th>\n",
              "      <td>A064SS21X</td>\n",
              "      <td>A064SS21X JERPA0022 00 BLACK ON TAN LOZENGE</td>\n",
              "      <td>SS21 // FIRST SHOWROOM</td>\n",
              "      <td>WOMEN 2 WHITE LINE</td>\n",
              "      <td>PATTERN CARRY-OVER</td>\n",
              "      <td>ACCESORIES</td>\n",
              "      <td>HATS &amp; CAPS</td>\n",
              "      <td>JERPA0022</td>\n",
              "      <td>00 BLACK ON TAN LOZENGE</td>\n",
              "      <td>OS</td>\n",
              "      <td>CORDEIRO CAMPOS LDA</td>\n",
              "      <td>PORTUGAL</td>\n",
              "      <td>82% POLYAMIDE 18% ELASTANE</td>\n",
              "      <td>JERSEY (REGULAR)</td>\n",
              "      <td>EX-1CR-NL</td>\n",
              "      <td>23.0</td>\n",
              "      <td>https://yellow.zedonk.biz/img.asp?ID=1232937&amp;T...</td>\n",
              "      <td>EX</td>\n",
              "      <td>1CR</td>\n",
              "      <td>NL</td>\n",
              "      <td>NaN</td>\n",
              "      <td>NaN</td>\n",
              "      <td>Factory</td>\n",
              "      <td>Client Return</td>\n",
              "      <td>Finishing Loose</td>\n",
              "      <td>no issue</td>\n",
              "      <td>no issue</td>\n",
              "      <td>1</td>\n",
              "      <td>0</td>\n",
              "      <td>0</td>\n",
              "      <td>0</td>\n",
              "      <td>1</td>\n",
              "    </tr>\n",
              "    <tr>\n",
              "      <th>40</th>\n",
              "      <td>D074SS21W</td>\n",
              "      <td>D074SS21W WOTCO0004 00 BLACK ON TAN LOZENGE</td>\n",
              "      <td>SS21 // FIRST SHOWROOM</td>\n",
              "      <td>WOMEN 3 GOLD LINE</td>\n",
              "      <td>SEASONAL MAIN</td>\n",
              "      <td>RTW</td>\n",
              "      <td>DRESS</td>\n",
              "      <td>WOTCO0004</td>\n",
              "      <td>00 BLACK ON TAN LOZENGE</td>\n",
              "      <td>S,M,L</td>\n",
              "      <td>PETROV TEXTILE</td>\n",
              "      <td>BULGARIA</td>\n",
              "      <td>63% COTON 33%POLYESTER 04%POLYAMIDE, LINING : ...</td>\n",
              "      <td>TAILOR (REGULAR)</td>\n",
              "      <td>IN-1CR-AM</td>\n",
              "      <td>125.0</td>\n",
              "      <td>https://yellow.zedonk.biz/img.asp?ID=1231559&amp;T...</td>\n",
              "      <td>IN</td>\n",
              "      <td>1CR</td>\n",
              "      <td>AM</td>\n",
              "      <td>NaN</td>\n",
              "      <td>NaN</td>\n",
              "      <td>Internal</td>\n",
              "      <td>Client Return</td>\n",
              "      <td>Garment Acc MS Closures</td>\n",
              "      <td>no issue</td>\n",
              "      <td>no issue</td>\n",
              "      <td>1</td>\n",
              "      <td>0</td>\n",
              "      <td>0</td>\n",
              "      <td>0</td>\n",
              "      <td>1</td>\n",
              "    </tr>\n",
              "    <tr>\n",
              "      <th>47</th>\n",
              "      <td>F005ICONM SS21</td>\n",
              "      <td>F005ICONM SS21 LEALE0006 00 BLACK</td>\n",
              "      <td>SS21 // FIRST SHOWROOM</td>\n",
              "      <td>MEN 3 GOLD LINE</td>\n",
              "      <td>FULL CARRY-OVER</td>\n",
              "      <td>FOOTWEAR</td>\n",
              "      <td>SLIDE</td>\n",
              "      <td>LEALE0006</td>\n",
              "      <td>00 BLACK</td>\n",
              "      <td>42,43,44,45,46</td>\n",
              "      <td>DASHING CONSULTADORIA UNIPESSOAL, LDA</td>\n",
              "      <td>PORTUGAL</td>\n",
              "      <td>100% LEATHER, SOLE 100% POLYESTER</td>\n",
              "      <td>LEATHER (DEADSTOCK)</td>\n",
              "      <td>EX-PR-9FS</td>\n",
              "      <td>9.0</td>\n",
              "      <td>https://yellow.zedonk.biz/img.asp?ID=1229517&amp;T...</td>\n",
              "      <td>EX</td>\n",
              "      <td>PR</td>\n",
              "      <td>9FS</td>\n",
              "      <td>NaN</td>\n",
              "      <td>NaN</td>\n",
              "      <td>Factory</td>\n",
              "      <td>Production</td>\n",
              "      <td>Fabric Staining</td>\n",
              "      <td>no issue</td>\n",
              "      <td>no issue</td>\n",
              "      <td>0</td>\n",
              "      <td>9</td>\n",
              "      <td>0</td>\n",
              "      <td>0</td>\n",
              "      <td>9</td>\n",
              "    </tr>\n",
              "    <tr>\n",
              "      <th>48</th>\n",
              "      <td>F005ICONW SS21</td>\n",
              "      <td>F005ICONW SS21 LEALE0006 00 BLACK</td>\n",
              "      <td>SS21 // FIRST SHOWROOM</td>\n",
              "      <td>WOMEN 3 GOLD LINE</td>\n",
              "      <td>FULL CARRY-OVER</td>\n",
              "      <td>FOOTWEAR</td>\n",
              "      <td>SLIDE</td>\n",
              "      <td>LEALE0006</td>\n",
              "      <td>00 BLACK</td>\n",
              "      <td>36,37,38,39,40,41</td>\n",
              "      <td>DASHING CONSULTADORIA UNIPESSOAL, LDA</td>\n",
              "      <td>PORTUGAL</td>\n",
              "      <td>100% LEATHER, SOLE 100% POLYESTER</td>\n",
              "      <td>LEATHER (DEADSTOCK)</td>\n",
              "      <td>EX-PR-26FS</td>\n",
              "      <td>26.0</td>\n",
              "      <td>https://yellow.zedonk.biz/img.asp?ID=1229519&amp;T...</td>\n",
              "      <td>EX</td>\n",
              "      <td>PR</td>\n",
              "      <td>26FS</td>\n",
              "      <td>NaN</td>\n",
              "      <td>NaN</td>\n",
              "      <td>Factory</td>\n",
              "      <td>Production</td>\n",
              "      <td>Fabric Staining</td>\n",
              "      <td>no issue</td>\n",
              "      <td>no issue</td>\n",
              "      <td>0</td>\n",
              "      <td>26</td>\n",
              "      <td>0</td>\n",
              "      <td>0</td>\n",
              "      <td>26</td>\n",
              "    </tr>\n",
              "    <tr>\n",
              "      <th>51</th>\n",
              "      <td>J036SS21WU</td>\n",
              "      <td>J036SS21WU DENCO0004 06 DARK BLUE</td>\n",
              "      <td>SS21 // FIRST SHOWROOM</td>\n",
              "      <td>WOMEN 2 WHITE LINE</td>\n",
              "      <td>PATTERN CARRY-OVER</td>\n",
              "      <td>RTW</td>\n",
              "      <td>JACKET &amp; BLAZER</td>\n",
              "      <td>DENCO0004</td>\n",
              "      <td>06 DARK BLUE</td>\n",
              "      <td>S,M,L</td>\n",
              "      <td>DCLOSET</td>\n",
              "      <td>PORTUGAL</td>\n",
              "      <td>1ST FABRIC 100% CO, LINING 100% CO</td>\n",
              "      <td>DENIM (UPCYCLED)</td>\n",
              "      <td>INX-3CR-AB</td>\n",
              "      <td>124.0</td>\n",
              "      <td>https://yellow.zedonk.biz/img.asp?ID=1231618&amp;T...</td>\n",
              "      <td>INX</td>\n",
              "      <td>3CR</td>\n",
              "      <td>AB</td>\n",
              "      <td>NaN</td>\n",
              "      <td>NaN</td>\n",
              "      <td>BOTH</td>\n",
              "      <td>Client Return</td>\n",
              "      <td>Garment Acc Button</td>\n",
              "      <td>no issue</td>\n",
              "      <td>no issue</td>\n",
              "      <td>3</td>\n",
              "      <td>0</td>\n",
              "      <td>0</td>\n",
              "      <td>0</td>\n",
              "      <td>3</td>\n",
              "    </tr>\n",
              "  </tbody>\n",
              "</table>\n",
              "</div>"
            ],
            "text/plain": [
              "             Style  ... Total_Defected_Quanities\n",
              "24       A064SS21X  ...                        1\n",
              "40       D074SS21W  ...                        1\n",
              "47  F005ICONM SS21  ...                        9\n",
              "48  F005ICONW SS21  ...                       26\n",
              "51      J036SS21WU  ...                        3\n",
              "\n",
              "[5 rows x 32 columns]"
            ]
          },
          "metadata": {
            "tags": []
          },
          "execution_count": 39
        }
      ]
    },
    {
      "cell_type": "code",
      "metadata": {
        "colab": {
          "base_uri": "https://localhost:8080/"
        },
        "id": "qWMQvUFm2IeU",
        "outputId": "1e3438ac-be27-4099-be36-8cfdc010d5ed"
      },
      "source": [
        "result.columns"
      ],
      "execution_count": null,
      "outputs": [
        {
          "output_type": "execute_result",
          "data": {
            "text/plain": [
              "Index(['Style', 'Product ID', 'Season', 'Product Category 1',\n",
              "       'Product Category 2', 'Product Category 3', 'Product Category 5',\n",
              "       'Fabric', 'Colour', 'Sizes', 'Manufacturer', 'Manufacturer Country',\n",
              "       'Textile Content', 'Product Category 4', 'Labels',\n",
              "       'Sales Order Quantity', 'Image Path', 'z', 'a', 'b', 'c', 'd',\n",
              "       'Int/Ext', 'main', 'sub_details', 'c_details', 'd_details',\n",
              "       'Total_CR_quantity', 'Total_a_defects', 'Total_b_defects',\n",
              "       'Total_c_defects', 'Total_Defected_Quanities'],\n",
              "      dtype='object')"
            ]
          },
          "metadata": {
            "tags": []
          },
          "execution_count": 40
        }
      ]
    },
    {
      "cell_type": "code",
      "metadata": {
        "id": "7mZlr7-D2am7"
      },
      "source": [
        "df_quality= result[['Style', 'Product ID', 'Season', 'Product Category 1',\n",
        "       'Product Category 2', 'Product Category 3', 'Product Category 5',\n",
        "       'Fabric', 'Colour', 'Sizes', 'Manufacturer', 'Manufacturer Country',\n",
        "       'Textile Content', 'Product Category 4', 'Labels', 'Image Path','Int/Ext','main', 'sub_details','Total_Defected_Quanities','Total_CR_quantity','Sales Order Quantity']]"
      ],
      "execution_count": null,
      "outputs": []
    },
    {
      "cell_type": "code",
      "metadata": {
        "id": "Q_f94d7T2i-Q"
      },
      "source": [
        "df_a= result[['Style', 'Product ID', 'Season', 'Product Category 1',\n",
        "       'Product Category 2', 'Product Category 3', 'Product Category 5',\n",
        "       'Fabric', 'Colour', 'Sizes', 'Manufacturer', 'Manufacturer Country',\n",
        "       'Textile Content', 'Product Category 4', 'Labels', 'Image Path','Int/Ext','main', 'c_details','Total_Defected_Quanities','Total_CR_quantity','Sales Order Quantity']]"
      ],
      "execution_count": null,
      "outputs": []
    },
    {
      "cell_type": "code",
      "metadata": {
        "colab": {
          "base_uri": "https://localhost:8080/"
        },
        "id": "ipkGcrse2_Gc",
        "outputId": "fd7f289a-9a66-4239-bb1b-99d36934f98e"
      },
      "source": [
        "df_a.rename(columns={'c_details':'sub_details'}, inplace=True)"
      ],
      "execution_count": null,
      "outputs": [
        {
          "output_type": "stream",
          "text": [
            "/usr/local/lib/python3.7/dist-packages/pandas/core/frame.py:4308: SettingWithCopyWarning: \n",
            "A value is trying to be set on a copy of a slice from a DataFrame\n",
            "\n",
            "See the caveats in the documentation: https://pandas.pydata.org/pandas-docs/stable/user_guide/indexing.html#returning-a-view-versus-a-copy\n",
            "  errors=errors,\n"
          ],
          "name": "stderr"
        }
      ]
    },
    {
      "cell_type": "code",
      "metadata": {
        "id": "IIJZOgEj3WxS"
      },
      "source": [
        "#df_b.sub_details.value_counts()#"
      ],
      "execution_count": null,
      "outputs": []
    },
    {
      "cell_type": "code",
      "metadata": {
        "id": "d1TMCnJz3c6D"
      },
      "source": [
        "df_a=df_a[df_a['sub_details']!='no issue']"
      ],
      "execution_count": null,
      "outputs": []
    },
    {
      "cell_type": "code",
      "metadata": {
        "id": "2Nbekq5h2ujb"
      },
      "source": [
        "df_b=result[['Style', 'Product ID', 'Season', 'Product Category 1',\n",
        "       'Product Category 2', 'Product Category 3', 'Product Category 5',\n",
        "       'Fabric', 'Colour', 'Sizes', 'Manufacturer', 'Manufacturer Country',\n",
        "       'Textile Content', 'Product Category 4', 'Labels', 'Image Path','Int/Ext','main', 'd_details','Total_Defected_Quanities','Total_CR_quantity','Sales Order Quantity']]"
      ],
      "execution_count": null,
      "outputs": []
    },
    {
      "cell_type": "code",
      "metadata": {
        "colab": {
          "base_uri": "https://localhost:8080/"
        },
        "id": "vWQlkQfb7RnI",
        "outputId": "93411505-453c-452b-a36e-4977b08d1466"
      },
      "source": [
        "df_b.rename(columns={'d_details':'sub_details'}, inplace=True)"
      ],
      "execution_count": null,
      "outputs": [
        {
          "output_type": "stream",
          "text": [
            "/usr/local/lib/python3.7/dist-packages/pandas/core/frame.py:4308: SettingWithCopyWarning: \n",
            "A value is trying to be set on a copy of a slice from a DataFrame\n",
            "\n",
            "See the caveats in the documentation: https://pandas.pydata.org/pandas-docs/stable/user_guide/indexing.html#returning-a-view-versus-a-copy\n",
            "  errors=errors,\n"
          ],
          "name": "stderr"
        }
      ]
    },
    {
      "cell_type": "code",
      "metadata": {
        "id": "uDaRj2Hm3n9p"
      },
      "source": [
        "df_b=df_b[df_b['sub_details']!='no issue']"
      ],
      "execution_count": null,
      "outputs": []
    },
    {
      "cell_type": "code",
      "metadata": {
        "id": "2yMAW3UmUyCh"
      },
      "source": [
        "#collist = ['Total_Defected_Quanities','Total_CR_quantity','Sales Order Quantity']"
      ],
      "execution_count": null,
      "outputs": []
    },
    {
      "cell_type": "code",
      "metadata": {
        "id": "PvAyMsbcUDH4"
      },
      "source": [
        "#for col in collist:\n",
        "    #df_b[col].values[:] = 0"
      ],
      "execution_count": null,
      "outputs": []
    },
    {
      "cell_type": "code",
      "metadata": {
        "id": "u5m0dIgfUkrq"
      },
      "source": [
        "#for col in collist:\n",
        "    #df_a[col].values[:] = 0"
      ],
      "execution_count": null,
      "outputs": []
    },
    {
      "cell_type": "code",
      "metadata": {
        "id": "aVySnTwxVYKV"
      },
      "source": [
        "df_b['Total_Defected_Quanities']=0\n",
        "df_b['Total_CR_quantity']=0\n",
        "df_a['Total_Defected_Quanities']=0\n",
        "df_a['Total_CR_quantity']=0\n",
        "df_a['Sales Order Quantity']=0\n",
        "df_a['Sales Order Quantity']=0"
      ],
      "execution_count": null,
      "outputs": []
    },
    {
      "cell_type": "code",
      "metadata": {
        "id": "Mxu87cXg21w5"
      },
      "source": [
        "frame_quality = [df_quality,df_b,df_a]"
      ],
      "execution_count": null,
      "outputs": []
    },
    {
      "cell_type": "code",
      "metadata": {
        "id": "LGtY9DsbTWdr"
      },
      "source": [
        "#[x.replace(x, 0) for x in frame_quality if x in collist]"
      ],
      "execution_count": null,
      "outputs": []
    },
    {
      "cell_type": "code",
      "metadata": {
        "colab": {
          "base_uri": "https://localhost:8080/"
        },
        "id": "e21wDSsS7osU",
        "outputId": "d7633e02-a667-42c9-d710-7b0bb1d48db1"
      },
      "source": [
        "df_quality.shape,df_b.shape,df_a.shape"
      ],
      "execution_count": null,
      "outputs": [
        {
          "output_type": "execute_result",
          "data": {
            "text/plain": [
              "((61, 22), (2, 22), (8, 22))"
            ]
          },
          "metadata": {
            "tags": []
          },
          "execution_count": 55
        }
      ]
    },
    {
      "cell_type": "code",
      "metadata": {
        "colab": {
          "base_uri": "https://localhost:8080/"
        },
        "id": "QLTHrVb2ff2A",
        "outputId": "1fb1a3c5-521e-4ad7-d5de-9a22a4190237"
      },
      "source": [
        "f_quality = pd.concat(frame_quality)\n",
        "f_quality['Season'].value_counts()\n"
      ],
      "execution_count": null,
      "outputs": [
        {
          "output_type": "execute_result",
          "data": {
            "text/plain": [
              "SS21 // SECOND SHOWROOM            30\n",
              "FW20 // MAIN MIND MELANGE MOTOR    27\n",
              "SS21 // FIRST SHOWROOM             14\n",
              "Name: Season, dtype: int64"
            ]
          },
          "metadata": {
            "tags": []
          },
          "execution_count": 56
        }
      ]
    },
    {
      "cell_type": "code",
      "metadata": {
        "colab": {
          "base_uri": "https://localhost:8080/"
        },
        "id": "52PmSfBqz1wh",
        "outputId": "fb736bee-d018-4545-f0d4-71bf92c12dba"
      },
      "source": [
        "f_quality.sub_details"
      ],
      "execution_count": null,
      "outputs": [
        {
          "output_type": "execute_result",
          "data": {
            "text/plain": [
              "24             Finishing Loose\n",
              "40     Garment Acc MS Closures\n",
              "47             Fabric Staining\n",
              "48             Fabric Staining\n",
              "51          Garment Acc Button\n",
              "                ...           \n",
              "130             Elastic Damage\n",
              "208    Garment Acc MS Closures\n",
              "32         Pattern Enlargement\n",
              "84          Garment Acc Zipper\n",
              "209            Finishing Loose\n",
              "Name: sub_details, Length: 71, dtype: object"
            ]
          },
          "metadata": {
            "tags": []
          },
          "execution_count": 57
        }
      ]
    },
    {
      "cell_type": "code",
      "metadata": {
        "colab": {
          "base_uri": "https://localhost:8080/"
        },
        "id": "cm-0e1vJ7xXS",
        "outputId": "853f9fdf-6298-4e61-bbd6-0ede5d9ce90b"
      },
      "source": [
        "f_quality.shape"
      ],
      "execution_count": null,
      "outputs": [
        {
          "output_type": "execute_result",
          "data": {
            "text/plain": [
              "(71, 22)"
            ]
          },
          "metadata": {
            "tags": []
          },
          "execution_count": 58
        }
      ]
    },
    {
      "cell_type": "code",
      "metadata": {
        "id": "drpw9czM4P5S"
      },
      "source": [
        "#f_quality=f_quality.dropna(axis=0,how='all')\n",
        "#f_quality=f_quality.drop_duplicates()"
      ],
      "execution_count": null,
      "outputs": []
    },
    {
      "cell_type": "code",
      "metadata": {
        "id": "3-BlHmDQ8kIO"
      },
      "source": [
        "cond_co= [f_quality.sub_details.str.contains(\"Fabric\")==True,\n",
        "          f_quality.sub_details.str.contains(\"Garment Acc\")==True,\n",
        "          f_quality.sub_details.str.contains(\"Bags\")==True,\n",
        "          f_quality.sub_details.str.contains(\"Pattern\")==True,\n",
        "          f_quality.sub_details.str.contains(\"Techfile\")==True,\n",
        "          f_quality.sub_details.str.contains(\"Finishing\")==True,\n",
        "          f_quality.sub_details.str.contains(\"Shoe\")==True,\n",
        "          f_quality.sub_details.str.contains(\"Elastic\")==True]\n",
        "          \n",
        "          \n",
        "choice_co=['Fabric','Garment Acc','Bags','Pattern','Techfile','Finishing','Shoe','Elastic']\n",
        "f_quality['co_main']=np.select(cond_co,choice_co,default='no issue')"
      ],
      "execution_count": null,
      "outputs": []
    },
    {
      "cell_type": "code",
      "metadata": {
        "id": "hryYeN_xuJrT"
      },
      "source": [
        "f_quality['Defect%']=f_quality['Total_Defected_Quanities']/f_quality['Sales Order Quantity']*100\n",
        "f_quality['Defect%']=f_quality['Defect%'].round(2)\n",
        "f_quality['Defect%']=f_quality['Defect%'].fillna(0)"
      ],
      "execution_count": null,
      "outputs": []
    },
    {
      "cell_type": "code",
      "metadata": {
        "id": "hsfguRMDwdJE"
      },
      "source": [
        "Concateall = gc.open(\"Quality_codes\").worksheet(\"Quality data\")\n",
        "#df_Concateall = gd.get_as_dataframe(Concateall)\n",
        "#updated = df_Concateall.append(result)\n",
        "Concateall.clear()\n",
        "gd.set_with_dataframe(Concateall, f_quality)\n"
      ],
      "execution_count": null,
      "outputs": []
    },
    {
      "cell_type": "code",
      "metadata": {
        "id": "Xl-fvRN1ra_E",
        "colab": {
          "base_uri": "https://localhost:8080/",
          "height": 163
        },
        "outputId": "ec7f4ffe-faa1-4257-f295-89e7b0a2e647"
      },
      "source": [
        "stop"
      ],
      "execution_count": null,
      "outputs": [
        {
          "output_type": "error",
          "ename": "NameError",
          "evalue": "ignored",
          "traceback": [
            "\u001b[0;31m---------------------------------------------------------------------------\u001b[0m",
            "\u001b[0;31mNameError\u001b[0m                                 Traceback (most recent call last)",
            "\u001b[0;32m<ipython-input-63-4f76a9dad686>\u001b[0m in \u001b[0;36m<module>\u001b[0;34m()\u001b[0m\n\u001b[0;32m----> 1\u001b[0;31m \u001b[0mstop\u001b[0m\u001b[0;34m\u001b[0m\u001b[0;34m\u001b[0m\u001b[0m\n\u001b[0m",
            "\u001b[0;31mNameError\u001b[0m: name 'stop' is not defined"
          ]
        }
      ]
    },
    {
      "cell_type": "markdown",
      "metadata": {
        "id": "Ouy4L0LFU3sN"
      },
      "source": [
        "## nomen\n"
      ]
    },
    {
      "cell_type": "code",
      "metadata": {
        "id": "epqgJ0o0wJB4"
      },
      "source": [
        "Sheet40 = gc.open(\"FW21 Nomenclatures Main\").worksheet(\"FW21 Nomenclatures MAIN\")\n",
        "df_Sheet40 = gd.get_as_dataframe(Sheet40)"
      ],
      "execution_count": null,
      "outputs": []
    },
    {
      "cell_type": "code",
      "metadata": {
        "id": "62-W2nDzyvfd"
      },
      "source": [
        "df_Sheet40.columns=df_Sheet40.iloc[1]"
      ],
      "execution_count": null,
      "outputs": []
    },
    {
      "cell_type": "code",
      "metadata": {
        "id": "5C_5vYA_wJEr"
      },
      "source": [
        "df_Sheet40=df_Sheet40.iloc[2:]"
      ],
      "execution_count": null,
      "outputs": []
    },
    {
      "cell_type": "code",
      "metadata": {
        "id": "SasJvgqPw4wq"
      },
      "source": [
        "df_Sheet40.head(2)"
      ],
      "execution_count": null,
      "outputs": []
    },
    {
      "cell_type": "code",
      "metadata": {
        "id": "yx_zXtOGw0bC"
      },
      "source": [
        "#df_Sheet40.reset_index(drop=True)"
      ],
      "execution_count": null,
      "outputs": []
    },
    {
      "cell_type": "code",
      "metadata": {
        "id": "kNBLMK72zALa"
      },
      "source": [
        "df=df_Sheet40[['Style','Qty status']]"
      ],
      "execution_count": null,
      "outputs": []
    },
    {
      "cell_type": "code",
      "metadata": {
        "id": "84wZomtECU5q"
      },
      "source": [
        "df.head(2)"
      ],
      "execution_count": null,
      "outputs": []
    },
    {
      "cell_type": "code",
      "metadata": {
        "id": "31uSpSBoRPWm"
      },
      "source": [
        "df=df.groupby(['Style','Qty status'])['Qty status'].count().rename(\"weightage\")"
      ],
      "execution_count": null,
      "outputs": []
    },
    {
      "cell_type": "code",
      "metadata": {
        "id": "euwhPYFARysJ"
      },
      "source": [
        "df_tr"
      ],
      "execution_count": null,
      "outputs": []
    },
    {
      "cell_type": "code",
      "metadata": {
        "id": "umO9nMvDSlND"
      },
      "source": [
        "df=df / df.groupby(level=0).sum()"
      ],
      "execution_count": null,
      "outputs": []
    },
    {
      "cell_type": "code",
      "metadata": {
        "id": "eMh5RcUYUfDc"
      },
      "source": [
        "df=df.reset_index()"
      ],
      "execution_count": null,
      "outputs": []
    },
    {
      "cell_type": "code",
      "metadata": {
        "id": "orLlX7HlUmZk"
      },
      "source": [
        "df.head(5)"
      ],
      "execution_count": null,
      "outputs": []
    },
    {
      "cell_type": "code",
      "metadata": {
        "id": "qKG4oW_jWaVP"
      },
      "source": [
        "df=df[df['Qty status']=='Quantity OK']"
      ],
      "execution_count": null,
      "outputs": []
    },
    {
      "cell_type": "code",
      "metadata": {
        "id": "SofAH1GvWOHM"
      },
      "source": [
        "df['>60% Sent']=np.where(df['weightage']>=0.50, 'yes', 'no')"
      ],
      "execution_count": null,
      "outputs": []
    },
    {
      "cell_type": "code",
      "metadata": {
        "id": "ryuntu_qYbNz"
      },
      "source": [
        "df['>60% Sent'].value_counts()"
      ],
      "execution_count": null,
      "outputs": []
    },
    {
      "cell_type": "markdown",
      "metadata": {
        "id": "AqFGlYQCgP8f"
      },
      "source": [
        "##nom 2"
      ]
    },
    {
      "cell_type": "code",
      "metadata": {
        "id": "Snf0Gy1mYr0x"
      },
      "source": [
        "df2=df_Sheet40[['Style','RM ID','Qty status']]"
      ],
      "execution_count": null,
      "outputs": []
    },
    {
      "cell_type": "code",
      "metadata": {
        "id": "jGozncDxcj5W"
      },
      "source": [
        "df2['new'] = np.where(df2['RM ID'].str.startswith('F'),'Fabric', \n",
        "                      np.where(df2['RM ID'].str.startswith('P'), 'Packaging', \n",
        "                                                                          np.where(df2['RM ID'].str.startswith('T'), 'Trims',\n",
        "                                                                                   np.where(df2['RM ID'].str.startswith('L'), 'Labeling',0))))"
      ],
      "execution_count": null,
      "outputs": []
    },
    {
      "cell_type": "code",
      "metadata": {
        "id": "PLO7bCtUZGT5"
      },
      "source": [
        "df2=df2[['Style','Qty status','new']]"
      ],
      "execution_count": null,
      "outputs": []
    },
    {
      "cell_type": "code",
      "metadata": {
        "id": "aC3lfGSjggUq"
      },
      "source": [
        "df2=df2[df2['new']=='Fabric']"
      ],
      "execution_count": null,
      "outputs": []
    },
    {
      "cell_type": "code",
      "metadata": {
        "id": "EJg6Ww8GfR9Q"
      },
      "source": [
        ""
      ],
      "execution_count": null,
      "outputs": []
    },
    {
      "cell_type": "code",
      "metadata": {
        "id": "Xs8VDsGQeeIJ"
      },
      "source": [
        "df2=df2.groupby(['Style','new','Qty status'])['Qty status'].count().rename(\"weightage\")"
      ],
      "execution_count": null,
      "outputs": []
    },
    {
      "cell_type": "code",
      "metadata": {
        "id": "8KYcbj97Yr32"
      },
      "source": [
        "df2 =df2 / df2.groupby(level=0).sum()"
      ],
      "execution_count": null,
      "outputs": []
    },
    {
      "cell_type": "code",
      "metadata": {
        "id": "3w8rz6PxgKsW"
      },
      "source": [
        "df2"
      ],
      "execution_count": null,
      "outputs": []
    },
    {
      "cell_type": "code",
      "metadata": {
        "id": "gk-1PXMXf5fV"
      },
      "source": [
        "df2=df2.reset_index()"
      ],
      "execution_count": null,
      "outputs": []
    },
    {
      "cell_type": "code",
      "metadata": {
        "id": "zdfggtPwgHKZ"
      },
      "source": [
        "df2=df2[df2['Qty status']=='Quantity OK']\n"
      ],
      "execution_count": null,
      "outputs": []
    },
    {
      "cell_type": "code",
      "metadata": {
        "id": "vujYSNc6h6w5"
      },
      "source": [
        "df2"
      ],
      "execution_count": null,
      "outputs": []
    },
    {
      "cell_type": "code",
      "metadata": {
        "id": "CM404a0Eh1Pg"
      },
      "source": [
        "df2['fabricdone']=np.where(df2['weightage']==1,'yes','no')"
      ],
      "execution_count": null,
      "outputs": []
    },
    {
      "cell_type": "code",
      "metadata": {
        "id": "0s_dtC1zhAJM"
      },
      "source": [
        "df2"
      ],
      "execution_count": null,
      "outputs": []
    },
    {
      "cell_type": "code",
      "metadata": {
        "id": "rXhKk2_wgEoC"
      },
      "source": [
        ""
      ],
      "execution_count": null,
      "outputs": []
    },
    {
      "cell_type": "code",
      "metadata": {
        "id": "4IMDZtRSYr7s"
      },
      "source": [
        ""
      ],
      "execution_count": null,
      "outputs": []
    },
    {
      "cell_type": "code",
      "metadata": {
        "id": "7XjIPEjeXIMh"
      },
      "source": [
        "Concateall = gc.open(\"FW21 Nomenclatures Main\").worksheet(\"60percent\")\n",
        "#df_Concateall = gd.get_as_dataframe(Concateall)\n",
        "#updated = df_Concateall.append(result)\n",
        "\n",
        "gd.set_with_dataframe(Concateall, df)\n",
        "\n",
        "Concateall = gc.open(\"FW21 Nomenclatures Main\").worksheet(\"fabricdone\")\n",
        "#df_Concateall = gd.get_as_dataframe(Concateall)\n",
        "#updated = df_Concateall.append(result)\n",
        "\n",
        "gd.set_with_dataframe(Concateall, df2)"
      ],
      "execution_count": null,
      "outputs": []
    },
    {
      "cell_type": "code",
      "metadata": {
        "id": "vvQXMq6ghVhm"
      },
      "source": [
        ""
      ],
      "execution_count": null,
      "outputs": []
    },
    {
      "cell_type": "code",
      "metadata": {
        "id": "trfV-6a6HTYP"
      },
      "source": [
        "#df_tr['percent'] = (df_tr['STATUS'].value_counts() / df_tr['STATUS'].count()) * 100"
      ],
      "execution_count": null,
      "outputs": []
    },
    {
      "cell_type": "code",
      "metadata": {
        "id": "_q1MlPdIgsWo"
      },
      "source": [
        "def numpy_where(col_value):\n",
        "  if len(df[df['A']==col_value]) >=5:\n",
        "    return col_value\n",
        "  else:\n",
        "    return 'etc'\n"
      ],
      "execution_count": null,
      "outputs": []
    },
    {
      "cell_type": "code",
      "metadata": {
        "id": "gJ-unnUghju6"
      },
      "source": [
        "#df['A']= df['A'].apply(make_etc)"
      ],
      "execution_count": null,
      "outputs": []
    },
    {
      "cell_type": "code",
      "metadata": {
        "id": "zvqhbq1_PYNT"
      },
      "source": [
        "#state_pcts = df_tr.groupby(level=1).apply(lambda x:100 * x / (x.count()))\n",
        "#def make_etc(x):\n",
        "    if len(item_categories[item_categories['category']==x]) >= 5:\n",
        "        return x\n",
        "    else:\n",
        "        return 'etc'\n",
        "\n",
        "# Replace with 'etc' if category count is less than 5\n",
        "#item_categories['category'] = item_categories['category'].apply(make_etc)"
      ],
      "execution_count": null,
      "outputs": []
    },
    {
      "cell_type": "code",
      "metadata": {
        "id": "5aihuarJkZcP"
      },
      "source": [
        "import seaborn as sns\n",
        "import matplotlib as mpl\n",
        "import matplotlib.pyplot as plt\n",
        "%matplotlib inline\n",
        "\n",
        "mpl.rc('font', size=13)\n",
        "figure, ax = plt.subplots() \n",
        "figure.set_size_inches(11, 5)\n",
        "\n",
        "# total montly item sales\n",
        "group_month_sum = all_data.groupby('date_block_num').agg({'item_cnt_month': 'sum'})\n",
        "group_month_sum = group_month_sum.reset_index()\n",
        "\n",
        "sns.barplot(x='date_block_num', y='item_cnt_month', data=group_month_sum)\n",
        "ax.set(title='Distribution of monthly item counts by date block number',\n",
        "       xlabel='Date block number', \n",
        "       ylabel='Monthly item counts');"
      ],
      "execution_count": null,
      "outputs": []
    },
    {
      "cell_type": "code",
      "metadata": {
        "id": "nahLS27KkZfl"
      },
      "source": [
        ""
      ],
      "execution_count": null,
      "outputs": []
    }
  ]
}