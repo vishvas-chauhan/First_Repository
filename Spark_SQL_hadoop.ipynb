{
  "nbformat": 4,
  "nbformat_minor": 0,
  "metadata": {
    "colab": {
      "name": "freshspark.ipynb",
      "provenance": [],
      "authorship_tag": "ABX9TyNeJ3XKoVdcI//FQp1vd9tD",
      "include_colab_link": true
    },
    "kernelspec": {
      "name": "python3",
      "display_name": "Python 3"
    },
    "language_info": {
      "name": "python"
    }
  },
  "cells": [
    {
      "cell_type": "markdown",
      "metadata": {
        "id": "view-in-github",
        "colab_type": "text"
      },
      "source": [
        "<a href=\"https://colab.research.google.com/github/vishvas-chauhan/First_Repository/blob/master/Spark_SQL_hadoop.ipynb\" target=\"_parent\"><img src=\"https://colab.research.google.com/assets/colab-badge.svg\" alt=\"Open In Colab\"/></a>"
      ]
    },
    {
      "cell_type": "markdown",
      "metadata": {
        "id": "-fe17guBsU3s"
      },
      "source": [
        "## INSTALL java and pyspark on colab"
      ]
    },
    {
      "cell_type": "code",
      "metadata": {
        "colab": {
          "base_uri": "https://localhost:8080/"
        },
        "id": "kZ_9Zyhe7cvq",
        "outputId": "c39fb692-f8d4-4376-8eb2-4171d411866e"
      },
      "source": [
        "!pip install pyspark\n",
        "!pip install -U -q PyDrive\n",
        "!apt install openjdk-8-jdk-headless -qq\n",
        "import os\n",
        "os.environ[\"JAVA_HOME\"] = \"/usr/lib/jvm/java-8-openjdk-amd64\""
      ],
      "execution_count": 48,
      "outputs": [
        {
          "output_type": "stream",
          "text": [
            "Requirement already satisfied: pyspark in /usr/local/lib/python3.7/dist-packages (3.1.1)\n",
            "Requirement already satisfied: py4j==0.10.9 in /usr/local/lib/python3.7/dist-packages (from pyspark) (0.10.9)\n",
            "openjdk-8-jdk-headless is already the newest version (8u292-b10-0ubuntu1~18.04).\n",
            "The following package was automatically installed and is no longer required:\n",
            "  libnvidia-common-460\n",
            "Use 'apt autoremove' to remove it.\n",
            "0 upgraded, 0 newly installed, 0 to remove and 85 not upgraded.\n"
          ],
          "name": "stdout"
        }
      ]
    },
    {
      "cell_type": "code",
      "metadata": {
        "id": "xRP65klf7cyu"
      },
      "source": [
        "#!sudo add-apt-repository --remove ppa:vikoadi/ppa\n",
        "#!sudo apt update\n",
        "#https://www-us.apache.org/dist/spark/spark-2.4.3/spark-2.4.3-bin-hadoop2.7.tgz"
      ],
      "execution_count": 49,
      "outputs": []
    },
    {
      "cell_type": "code",
      "metadata": {
        "id": "dcf6z75YG_Jg"
      },
      "source": [
        "!apt-get install openjdk-8-jdk-headless -qq > /dev/null\n",
        "!wget -q https://www-us.apache.org/dist/spark/spark-3.1.1//spark-3.1.1-bin-hadoop3.2.tgz\n",
        "!tar xf spark-3.1.1-bin-hadoop3.2.tgz\n",
        "!pip install -q findspark"
      ],
      "execution_count": 50,
      "outputs": []
    },
    {
      "cell_type": "code",
      "metadata": {
        "id": "Dnr9LFiJCPSr"
      },
      "source": [
        "from pyspark.sql import SparkSession\n",
        "spark = SparkSession.builder.master(\"local[*]\").getOrCreate()\n",
        "spark=SparkSession.builder.appName('sol').getOrCreate()"
      ],
      "execution_count": 51,
      "outputs": []
    },
    {
      "cell_type": "markdown",
      "metadata": {
        "id": "F0Y2FcBKIg4G"
      },
      "source": [
        "## lets get started \n"
      ]
    },
    {
      "cell_type": "code",
      "metadata": {
        "id": "jnZSnvnOM59y"
      },
      "source": [
        "import sys, tempfile, urllib\n",
        "import os"
      ],
      "execution_count": 52,
      "outputs": []
    },
    {
      "cell_type": "code",
      "metadata": {
        "id": "ya6rKt72M6Ad"
      },
      "source": [
        "base_dir= '/tmp'\n",
        "output_file = os.path.join(base_dir,'credit_data.csv')"
      ],
      "execution_count": 53,
      "outputs": []
    },
    {
      "cell_type": "code",
      "metadata": {
        "id": "OPcznoqqM6Cs"
      },
      "source": [
        "credit_data= urllib.request.urlretrieve('http://winterolympicsmedals.com/medals.csv',output_file)"
      ],
      "execution_count": 54,
      "outputs": []
    },
    {
      "cell_type": "code",
      "metadata": {
        "colab": {
          "base_uri": "https://localhost:8080/"
        },
        "id": "uoAw77TuN2ui",
        "outputId": "8b938d97-2cf1-4256-efe5-d4de458884ec"
      },
      "source": [
        "!ls /tmp"
      ],
      "execution_count": 55,
      "outputs": [
        {
          "output_type": "stream",
          "text": [
            "blockmgr-cae6601a-1bfb-4fab-91c7-fefea6d04029\n",
            "credit_data.csv\n",
            "dap_multiplexer.2b8d00ef72a6.root.log.INFO.20210505-102351.48\n",
            "dap_multiplexer.INFO\n",
            "debugger_beo3p4nfr\n",
            "hsperfdata_root\n",
            "initgoogle_syslog_dir.0\n",
            "liblz4-java-3505556691249771352.so\n",
            "liblz4-java-3505556691249771352.so.lck\n",
            "spark-578b0d8b-cf54-4176-af4f-38fc13f4736e\n",
            "spark-c1a0f59c-be10-43a7-ac0b-359af347c956\n"
          ],
          "name": "stdout"
        }
      ]
    },
    {
      "cell_type": "code",
      "metadata": {
        "id": "Oa0ehLJxN-kL"
      },
      "source": [
        "df1=spark.read.option(\"inferSchema\",\"true\").csv(\"/tmp/credit_data.csv\",header=True)"
      ],
      "execution_count": 56,
      "outputs": []
    },
    {
      "cell_type": "code",
      "metadata": {
        "colab": {
          "base_uri": "https://localhost:8080/"
        },
        "id": "YYzrv1ghN_Bb",
        "outputId": "cf9375e7-a4c2-4d9d-bdb3-f76991f5520f"
      },
      "source": [
        "df1.show(3)"
      ],
      "execution_count": 58,
      "outputs": [
        {
          "output_type": "stream",
          "text": [
            "+----+--------+-------+--------------+---+----------+------------+------+\n",
            "|Year|    City|  Sport|    Discipline|NOC|     Event|Event gender| Medal|\n",
            "+----+--------+-------+--------------+---+----------+------------+------+\n",
            "|1924|Chamonix|Skating|Figure skating|AUT|individual|           M|Silver|\n",
            "|1924|Chamonix|Skating|Figure skating|AUT|individual|           W|  Gold|\n",
            "|1924|Chamonix|Skating|Figure skating|AUT|     pairs|           X|  Gold|\n",
            "+----+--------+-------+--------------+---+----------+------------+------+\n",
            "only showing top 3 rows\n",
            "\n"
          ],
          "name": "stdout"
        }
      ]
    },
    {
      "cell_type": "code",
      "metadata": {
        "id": "SYvWh4IOtASF"
      },
      "source": [
        "df=df1"
      ],
      "execution_count": 161,
      "outputs": []
    },
    {
      "cell_type": "code",
      "metadata": {
        "colab": {
          "base_uri": "https://localhost:8080/"
        },
        "id": "ibs4hNpxubiJ",
        "outputId": "70d26ff9-7efd-4378-e4e5-91fb4f133907"
      },
      "source": [
        "df.printSchema()"
      ],
      "execution_count": 68,
      "outputs": [
        {
          "output_type": "stream",
          "text": [
            "root\n",
            " |-- Year: integer (nullable = true)\n",
            " |-- City: string (nullable = true)\n",
            " |-- Sport: string (nullable = true)\n",
            " |-- Discipline: string (nullable = true)\n",
            " |-- NOC: string (nullable = true)\n",
            " |-- Event: string (nullable = true)\n",
            " |-- Event gender: string (nullable = true)\n",
            " |-- Medal: string (nullable = true)\n",
            "\n"
          ],
          "name": "stdout"
        }
      ]
    },
    {
      "cell_type": "code",
      "metadata": {
        "colab": {
          "base_uri": "https://localhost:8080/"
        },
        "id": "FRxNlKmptAVA",
        "outputId": "270241eb-0353-428e-9cf0-112410be568c"
      },
      "source": [
        "df.select(df['City'],df['Sport']).show(2)"
      ],
      "execution_count": 66,
      "outputs": [
        {
          "output_type": "stream",
          "text": [
            "+--------+-------+\n",
            "|    City|  Sport|\n",
            "+--------+-------+\n",
            "|Chamonix|Skating|\n",
            "|Chamonix|Skating|\n",
            "+--------+-------+\n",
            "only showing top 2 rows\n",
            "\n"
          ],
          "name": "stdout"
        }
      ]
    },
    {
      "cell_type": "code",
      "metadata": {
        "colab": {
          "base_uri": "https://localhost:8080/"
        },
        "id": "5F-0nASotAYC",
        "outputId": "3b62b90f-0463-4033-f2f5-94409aee6f83"
      },
      "source": [
        "df.filter(df['Medal']=='Gold').show(3)"
      ],
      "execution_count": 76,
      "outputs": [
        {
          "output_type": "stream",
          "text": [
            "+----+--------+----------+--------------+---+----------+------------+-----+\n",
            "|Year|    City|     Sport|    Discipline|NOC|     Event|Event gender|Medal|\n",
            "+----+--------+----------+--------------+---+----------+------------+-----+\n",
            "|1924|Chamonix|   Skating|Figure skating|AUT|individual|           W| Gold|\n",
            "|1924|Chamonix|   Skating|Figure skating|AUT|     pairs|           X| Gold|\n",
            "|1924|Chamonix|Ice Hockey|    Ice Hockey|CAN|ice hockey|           M| Gold|\n",
            "+----+--------+----------+--------------+---+----------+------------+-----+\n",
            "only showing top 3 rows\n",
            "\n"
          ],
          "name": "stdout"
        }
      ]
    },
    {
      "cell_type": "code",
      "metadata": {
        "colab": {
          "base_uri": "https://localhost:8080/"
        },
        "id": "jzDPEY2LtAa6",
        "outputId": "e20bad3d-ef96-4bc6-bea2-b32af78e8249"
      },
      "source": [
        "df.groupby('Medal').count().show()"
      ],
      "execution_count": 77,
      "outputs": [
        {
          "output_type": "stream",
          "text": [
            "+------+-----+\n",
            "| Medal|count|\n",
            "+------+-----+\n",
            "|Silver|  773|\n",
            "|  Gold|  774|\n",
            "|Bronze|  764|\n",
            "+------+-----+\n",
            "\n"
          ],
          "name": "stdout"
        }
      ]
    },
    {
      "cell_type": "code",
      "metadata": {
        "colab": {
          "resources": {
            "http://localhost:8080/nbextensions/google.colab/files.js": {
              "data": "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",
              "ok": true,
              "headers": [
                [
                  "content-type",
                  "application/javascript"
                ]
              ],
              "status": 200,
              "status_text": ""
            }
          },
          "base_uri": "https://localhost:8080/",
          "height": 38
        },
        "id": "GTGvges4N_Go",
        "outputId": "4073a180-55ef-46bf-ba3b-663555922785"
      },
      "source": [
        "from google.colab import files\n",
        "f=files.upload()"
      ],
      "execution_count": null,
      "outputs": [
        {
          "output_type": "display_data",
          "data": {
            "text/html": [
              "\n",
              "     <input type=\"file\" id=\"files-ee5919da-f6a3-47bf-87a8-9df9e11e6e4d\" name=\"files[]\" multiple disabled\n",
              "        style=\"border:none\" />\n",
              "     <output id=\"result-ee5919da-f6a3-47bf-87a8-9df9e11e6e4d\">\n",
              "      Upload widget is only available when the cell has been executed in the\n",
              "      current browser session. Please rerun this cell to enable.\n",
              "      </output>\n",
              "      <script src=\"/nbextensions/google.colab/files.js\"></script> "
            ],
            "text/plain": [
              "<IPython.core.display.HTML object>"
            ]
          },
          "metadata": {
            "tags": []
          }
        }
      ]
    },
    {
      "cell_type": "code",
      "metadata": {
        "id": "FU8FxLihCPWQ"
      },
      "source": [
        "dataset = spark.read.csv('Sales by SKU (29).csv',inferSchema=True, header =True)"
      ],
      "execution_count": 23,
      "outputs": []
    },
    {
      "cell_type": "code",
      "metadata": {
        "colab": {
          "base_uri": "https://localhost:8080/"
        },
        "id": "X1DgE_rNOnHM",
        "outputId": "428f6e52-8fc8-459a-a0a5-ab82dbde6b2b"
      },
      "source": [
        "df1.show(5)"
      ],
      "execution_count": 78,
      "outputs": [
        {
          "output_type": "stream",
          "text": [
            "+----+--------+----------+--------------+---+----------+------------+------+\n",
            "|Year|    City|     Sport|    Discipline|NOC|     Event|Event gender| Medal|\n",
            "+----+--------+----------+--------------+---+----------+------------+------+\n",
            "|1924|Chamonix|   Skating|Figure skating|AUT|individual|           M|Silver|\n",
            "|1924|Chamonix|   Skating|Figure skating|AUT|individual|           W|  Gold|\n",
            "|1924|Chamonix|   Skating|Figure skating|AUT|     pairs|           X|  Gold|\n",
            "|1924|Chamonix| Bobsleigh|     Bobsleigh|BEL|  four-man|           M|Bronze|\n",
            "|1924|Chamonix|Ice Hockey|    Ice Hockey|CAN|ice hockey|           M|  Gold|\n",
            "+----+--------+----------+--------------+---+----------+------------+------+\n",
            "only showing top 5 rows\n",
            "\n"
          ],
          "name": "stdout"
        }
      ]
    },
    {
      "cell_type": "code",
      "metadata": {
        "id": "rmLreJpcRKsJ"
      },
      "source": [
        "# Register the DataFrame as a SQL temporary view\n",
        "df1.createOrReplaceTempView(\"medals\")\n",
        "\n"
      ],
      "execution_count": 79,
      "outputs": []
    },
    {
      "cell_type": "code",
      "metadata": {
        "colab": {
          "base_uri": "https://localhost:8080/"
        },
        "id": "JRXR57TVSLZl",
        "outputId": "e6a300c9-a61b-4c97-e875-fb6a77f09776"
      },
      "source": [
        "sqlview= spark.sql(\"select * from medals\")\n",
        "sqlview.show(4)"
      ],
      "execution_count": 80,
      "outputs": [
        {
          "output_type": "stream",
          "text": [
            "+----+--------+---------+--------------+---+----------+------------+------+\n",
            "|Year|    City|    Sport|    Discipline|NOC|     Event|Event gender| Medal|\n",
            "+----+--------+---------+--------------+---+----------+------------+------+\n",
            "|1924|Chamonix|  Skating|Figure skating|AUT|individual|           M|Silver|\n",
            "|1924|Chamonix|  Skating|Figure skating|AUT|individual|           W|  Gold|\n",
            "|1924|Chamonix|  Skating|Figure skating|AUT|     pairs|           X|  Gold|\n",
            "|1924|Chamonix|Bobsleigh|     Bobsleigh|BEL|  four-man|           M|Bronze|\n",
            "+----+--------+---------+--------------+---+----------+------------+------+\n",
            "only showing top 4 rows\n",
            "\n"
          ],
          "name": "stdout"
        }
      ]
    },
    {
      "cell_type": "code",
      "metadata": {
        "colab": {
          "base_uri": "https://localhost:8080/"
        },
        "id": "2KyKixOUS_GJ",
        "outputId": "3029e5a3-df5b-4c0b-cdc9-9311640b0dae"
      },
      "source": [
        "spark.sql(\"select City,Medal from medals where Sport=='Skating' and Medal=='Silver'\").show()"
      ],
      "execution_count": 91,
      "outputs": [
        {
          "output_type": "stream",
          "text": [
            "+-----------+------+\n",
            "|       City| Medal|\n",
            "+-----------+------+\n",
            "|   Chamonix|Silver|\n",
            "|   Chamonix|Silver|\n",
            "|   Chamonix|Silver|\n",
            "|   Chamonix|Silver|\n",
            "|   Chamonix|Silver|\n",
            "|   Chamonix|Silver|\n",
            "|   Chamonix|Silver|\n",
            "|   Chamonix|Silver|\n",
            "| St. Moritz|Silver|\n",
            "| St. Moritz|Silver|\n",
            "| St. Moritz|Silver|\n",
            "| St. Moritz|Silver|\n",
            "| St. Moritz|Silver|\n",
            "|Lake Placid|Silver|\n",
            "|Lake Placid|Silver|\n",
            "|Lake Placid|Silver|\n",
            "|Lake Placid|Silver|\n",
            "|Lake Placid|Silver|\n",
            "|Lake Placid|Silver|\n",
            "|Lake Placid|Silver|\n",
            "+-----------+------+\n",
            "only showing top 20 rows\n",
            "\n"
          ],
          "name": "stdout"
        }
      ]
    },
    {
      "cell_type": "code",
      "metadata": {
        "colab": {
          "base_uri": "https://localhost:8080/"
        },
        "id": "KZ8j6IMKS_I8",
        "outputId": "7bff13df-fca7-4c4b-ab1f-3b2ff934e9f2"
      },
      "source": [
        "spark.sql(\"select City as c,Medal as m from medals where Sport=='Skating'\").show()"
      ],
      "execution_count": 94,
      "outputs": [
        {
          "output_type": "stream",
          "text": [
            "+--------+------+\n",
            "|       c|     m|\n",
            "+--------+------+\n",
            "|Chamonix|Silver|\n",
            "|Chamonix|  Gold|\n",
            "|Chamonix|  Gold|\n",
            "|Chamonix|Silver|\n",
            "|Chamonix|  Gold|\n",
            "|Chamonix|Silver|\n",
            "|Chamonix|  Gold|\n",
            "|Chamonix|  Gold|\n",
            "|Chamonix|Silver|\n",
            "|Chamonix|Bronze|\n",
            "|Chamonix|Bronze|\n",
            "|Chamonix|  Gold|\n",
            "|Chamonix|Bronze|\n",
            "|Chamonix|Bronze|\n",
            "|Chamonix|Bronze|\n",
            "|Chamonix|Bronze|\n",
            "|Chamonix|Silver|\n",
            "|Chamonix|Bronze|\n",
            "|Chamonix|Bronze|\n",
            "|Chamonix|Silver|\n",
            "+--------+------+\n",
            "only showing top 20 rows\n",
            "\n"
          ],
          "name": "stdout"
        }
      ]
    },
    {
      "cell_type": "code",
      "metadata": {
        "colab": {
          "base_uri": "https://localhost:8080/"
        },
        "id": "70ytKJ80S_MA",
        "outputId": "82012450-0e55-4818-ca83-f7b62b57c8cf"
      },
      "source": [
        "spark.sql(\"select count(City),Medal from medals where Sport=='Skating' group by Medal order by Medal\").show()"
      ],
      "execution_count": 115,
      "outputs": [
        {
          "output_type": "stream",
          "text": [
            "+-----------+------+\n",
            "|count(City)| Medal|\n",
            "+-----------+------+\n",
            "|        249|Bronze|\n",
            "|        254|  Gold|\n",
            "|        255|Silver|\n",
            "+-----------+------+\n",
            "\n"
          ],
          "name": "stdout"
        }
      ]
    },
    {
      "cell_type": "code",
      "metadata": {
        "colab": {
          "base_uri": "https://localhost:8080/"
        },
        "id": "tuHWWSGyyujZ",
        "outputId": "4b35d2ad-373f-4832-b6dd-871059ac7310"
      },
      "source": [
        "#find sports played more than 100 times\n",
        "spark.sql(\"select Sport,total from (select Sport,count(Sport) as total from medals group by Sport) where total > 100 order by total\").show()"
      ],
      "execution_count": 143,
      "outputs": [
        {
          "output_type": "stream",
          "text": [
            "+---------+-----+\n",
            "|    Sport|total|\n",
            "+---------+-----+\n",
            "|     Luge|  108|\n",
            "|Bobsleigh|  133|\n",
            "| Biathlon|  162|\n",
            "|  Skating|  758|\n",
            "|   Skiing| 1060|\n",
            "+---------+-----+\n",
            "\n"
          ],
          "name": "stdout"
        }
      ]
    },
    {
      "cell_type": "code",
      "metadata": {
        "colab": {
          "base_uri": "https://localhost:8080/"
        },
        "id": "d1Qrv3Iuyuo7",
        "outputId": "cec68709-270b-4f93-a04d-14a4363f9e72"
      },
      "source": [
        "spark.sql(\"select Sport, count(Sport) as total from medals group by Sport having total >100\").show()"
      ],
      "execution_count": 144,
      "outputs": [
        {
          "output_type": "stream",
          "text": [
            "+---------+-----+\n",
            "|    Sport|total|\n",
            "+---------+-----+\n",
            "| Biathlon|  162|\n",
            "|  Skating|  758|\n",
            "|   Skiing| 1060|\n",
            "|Bobsleigh|  133|\n",
            "|     Luge|  108|\n",
            "+---------+-----+\n",
            "\n"
          ],
          "name": "stdout"
        }
      ]
    },
    {
      "cell_type": "code",
      "metadata": {
        "colab": {
          "base_uri": "https://localhost:8080/"
        },
        "id": "RSVWz4Bnyurd",
        "outputId": "80620c95-f93f-4044-d4e8-a68c8e56083f"
      },
      "source": [
        "df.show(4)"
      ],
      "execution_count": 163,
      "outputs": [
        {
          "output_type": "stream",
          "text": [
            "+----+--------+---------+--------------+---+----------+------------+------+\n",
            "|Year|    City|    Sport|    Discipline|NOC|     Event|Event gender| Medal|\n",
            "+----+--------+---------+--------------+---+----------+------------+------+\n",
            "|1924|Chamonix|  Skating|Figure skating|AUT|individual|           M|Silver|\n",
            "|1924|Chamonix|  Skating|Figure skating|AUT|individual|           W|  Gold|\n",
            "|1924|Chamonix|  Skating|Figure skating|AUT|     pairs|           X|  Gold|\n",
            "|1924|Chamonix|Bobsleigh|     Bobsleigh|BEL|  four-man|           M|Bronze|\n",
            "+----+--------+---------+--------------+---+----------+------------+------+\n",
            "only showing top 4 rows\n",
            "\n"
          ],
          "name": "stdout"
        }
      ]
    },
    {
      "cell_type": "code",
      "metadata": {
        "colab": {
          "base_uri": "https://localhost:8080/"
        },
        "id": "hY5GDkbvCPbC",
        "outputId": "c7cda795-5bb8-4c9b-a25c-5bbceb335aff"
      },
      "source": [
        "from pyspark.sql.functions import *\n",
        "df_addcol= df.withColumn('Mango',lit(0))\n",
        "df.withColumn(\"gold\", when(df.Medal=='Gold',\"hero\").otherwise(\"alright\")).show()"
      ],
      "execution_count": 167,
      "outputs": [
        {
          "output_type": "stream",
          "text": [
            "+----+--------+----------+---------------+---+-------------------+------------+------+-------+\n",
            "|Year|    City|     Sport|     Discipline|NOC|              Event|Event gender| Medal|   gold|\n",
            "+----+--------+----------+---------------+---+-------------------+------------+------+-------+\n",
            "|1924|Chamonix|   Skating| Figure skating|AUT|         individual|           M|Silver|alright|\n",
            "|1924|Chamonix|   Skating| Figure skating|AUT|         individual|           W|  Gold|   hero|\n",
            "|1924|Chamonix|   Skating| Figure skating|AUT|              pairs|           X|  Gold|   hero|\n",
            "|1924|Chamonix| Bobsleigh|      Bobsleigh|BEL|           four-man|           M|Bronze|alright|\n",
            "|1924|Chamonix|Ice Hockey|     Ice Hockey|CAN|         ice hockey|           M|  Gold|   hero|\n",
            "|1924|Chamonix|  Biathlon|       Biathlon|FIN|    military patrol|           M|Silver|alright|\n",
            "|1924|Chamonix|   Skating| Figure skating|FIN|              pairs|           X|Silver|alright|\n",
            "|1924|Chamonix|   Skating|  Speed skating|FIN|             10000m|           M|  Gold|   hero|\n",
            "|1924|Chamonix|   Skating|  Speed skating|FIN|             10000m|           M|Silver|alright|\n",
            "|1924|Chamonix|   Skating|  Speed skating|FIN|              1500m|           M|  Gold|   hero|\n",
            "|1924|Chamonix|   Skating|  Speed skating|FIN|              5000m|           M|  Gold|   hero|\n",
            "|1924|Chamonix|   Skating|  Speed skating|FIN|              5000m|           M|Silver|alright|\n",
            "|1924|Chamonix|   Skating|  Speed skating|FIN|               500m|           M|Bronze|alright|\n",
            "|1924|Chamonix|   Skating|  Speed skating|FIN|combined (4 events)|           M|Bronze|alright|\n",
            "|1924|Chamonix|   Skating|  Speed skating|FIN|combined (4 events)|           M|  Gold|   hero|\n",
            "|1924|Chamonix|    Skiing|Cross Country S|FIN|               18km|           M|Bronze|alright|\n",
            "|1924|Chamonix|  Biathlon|       Biathlon|FRA|    military patrol|           M|Bronze|alright|\n",
            "|1924|Chamonix|   Curling|        Curling|FRA|            curling|           M|Bronze|alright|\n",
            "|1924|Chamonix|   Skating| Figure skating|FRA|              pairs|           X|Bronze|alright|\n",
            "|1924|Chamonix| Bobsleigh|      Bobsleigh|GBR|           four-man|           M|Silver|alright|\n",
            "+----+--------+----------+---------------+---+-------------------+------------+------+-------+\n",
            "only showing top 20 rows\n",
            "\n"
          ],
          "name": "stdout"
        }
      ]
    },
    {
      "cell_type": "code",
      "metadata": {
        "colab": {
          "base_uri": "https://localhost:8080/"
        },
        "id": "ScMbXjtoDEAz",
        "outputId": "9795809b-42b7-4ad3-9266-bfca4b5eebd0"
      },
      "source": [
        "df_addcol.show()"
      ],
      "execution_count": 166,
      "outputs": [
        {
          "output_type": "stream",
          "text": [
            "+----+--------+----------+---------------+---+-------------------+------------+------+-----+\n",
            "|Year|    City|     Sport|     Discipline|NOC|              Event|Event gender| Medal|Mango|\n",
            "+----+--------+----------+---------------+---+-------------------+------------+------+-----+\n",
            "|1924|Chamonix|   Skating| Figure skating|AUT|         individual|           M|Silver|    0|\n",
            "|1924|Chamonix|   Skating| Figure skating|AUT|         individual|           W|  Gold|    0|\n",
            "|1924|Chamonix|   Skating| Figure skating|AUT|              pairs|           X|  Gold|    0|\n",
            "|1924|Chamonix| Bobsleigh|      Bobsleigh|BEL|           four-man|           M|Bronze|    0|\n",
            "|1924|Chamonix|Ice Hockey|     Ice Hockey|CAN|         ice hockey|           M|  Gold|    0|\n",
            "|1924|Chamonix|  Biathlon|       Biathlon|FIN|    military patrol|           M|Silver|    0|\n",
            "|1924|Chamonix|   Skating| Figure skating|FIN|              pairs|           X|Silver|    0|\n",
            "|1924|Chamonix|   Skating|  Speed skating|FIN|             10000m|           M|  Gold|    0|\n",
            "|1924|Chamonix|   Skating|  Speed skating|FIN|             10000m|           M|Silver|    0|\n",
            "|1924|Chamonix|   Skating|  Speed skating|FIN|              1500m|           M|  Gold|    0|\n",
            "|1924|Chamonix|   Skating|  Speed skating|FIN|              5000m|           M|  Gold|    0|\n",
            "|1924|Chamonix|   Skating|  Speed skating|FIN|              5000m|           M|Silver|    0|\n",
            "|1924|Chamonix|   Skating|  Speed skating|FIN|               500m|           M|Bronze|    0|\n",
            "|1924|Chamonix|   Skating|  Speed skating|FIN|combined (4 events)|           M|Bronze|    0|\n",
            "|1924|Chamonix|   Skating|  Speed skating|FIN|combined (4 events)|           M|  Gold|    0|\n",
            "|1924|Chamonix|    Skiing|Cross Country S|FIN|               18km|           M|Bronze|    0|\n",
            "|1924|Chamonix|  Biathlon|       Biathlon|FRA|    military patrol|           M|Bronze|    0|\n",
            "|1924|Chamonix|   Curling|        Curling|FRA|            curling|           M|Bronze|    0|\n",
            "|1924|Chamonix|   Skating| Figure skating|FRA|              pairs|           X|Bronze|    0|\n",
            "|1924|Chamonix| Bobsleigh|      Bobsleigh|GBR|           four-man|           M|Silver|    0|\n",
            "+----+--------+----------+---------------+---+-------------------+------------+------+-----+\n",
            "only showing top 20 rows\n",
            "\n"
          ],
          "name": "stdout"
        }
      ]
    },
    {
      "cell_type": "code",
      "metadata": {
        "id": "aX07EzLZANXc"
      },
      "source": [
        ""
      ],
      "execution_count": null,
      "outputs": []
    },
    {
      "cell_type": "code",
      "metadata": {
        "id": "EaBKmCeqANaQ"
      },
      "source": [
        "spark.sql(\"ALTER TABLE medals ADD EmployeeID numeric NOT NULL IDENTITY (1, 1) ALTER TABLE Employees ADD CONSTRAINT PK_Employees PRIMARY KEY CLUSTERED (EmployeeID) WITH( STATISTICS_NORECOMPUTE = OFF, IGNORE_DUP_KEY = OFF, ALLOW_ROW_LOCKS = ON, ALLOW_PAGE_LOCKS = ON) ON [PRIMARY]\").show()"
      ],
      "execution_count": null,
      "outputs": []
    },
    {
      "cell_type": "code",
      "metadata": {
        "id": "a1d_LH-uANc3"
      },
      "source": [
        ""
      ],
      "execution_count": null,
      "outputs": []
    },
    {
      "cell_type": "markdown",
      "metadata": {
        "id": "QY9IKa1wAORQ"
      },
      "source": [
        "## time to create dataframe "
      ]
    },
    {
      "cell_type": "code",
      "metadata": {
        "id": "3iJMcT-VAaR9"
      },
      "source": [
        "#Sample Dataframe\n",
        "from pyspark.sql.types import *\n",
        "df=spark.createDataFrame([(1,\"[{'code':'1234','name':'manoj'},{'code':'124','name':'kumar'},{'code':'4567','name':'dhakad'}]\",),(2,\"[{'code':'97248','name':'joe'},{'code':'2424','name':'alice'},{'code':'464','name':'bob'}]\",)],[\"id\",\"classification\",])\n"
      ],
      "execution_count": 146,
      "outputs": []
    },
    {
      "cell_type": "code",
      "metadata": {
        "colab": {
          "base_uri": "https://localhost:8080/"
        },
        "id": "agI8Y02CAdJ5",
        "outputId": "904e5b28-b303-4c6d-f658-d4b56f6b2927"
      },
      "source": [
        "df.show()"
      ],
      "execution_count": 148,
      "outputs": [
        {
          "output_type": "stream",
          "text": [
            "+---+--------------------+\n",
            "| id|      classification|\n",
            "+---+--------------------+\n",
            "|  1|[{'code':'1234','...|\n",
            "|  2|[{'code':'97248',...|\n",
            "+---+--------------------+\n",
            "\n"
          ],
          "name": "stdout"
        }
      ]
    },
    {
      "cell_type": "code",
      "metadata": {
        "id": "Z8h0QEPMyuuQ"
      },
      "source": [
        ""
      ],
      "execution_count": null,
      "outputs": []
    },
    {
      "cell_type": "code",
      "metadata": {
        "id": "qQ8CMSM3yuwt"
      },
      "source": [
        ""
      ],
      "execution_count": null,
      "outputs": []
    },
    {
      "cell_type": "code",
      "metadata": {
        "colab": {
          "base_uri": "https://localhost:8080/"
        },
        "id": "KaWFn4tdOnKE",
        "outputId": "a61999e0-691a-4a52-95b6-8971e80590f7"
      },
      "source": [
        "words = \"to be or not to be\".split()\n",
        "words"
      ],
      "execution_count": 33,
      "outputs": [
        {
          "output_type": "execute_result",
          "data": {
            "text/plain": [
              "['to', 'be', 'or', 'not', 'to', 'be']"
            ]
          },
          "metadata": {
            "tags": []
          },
          "execution_count": 33
        }
      ]
    },
    {
      "cell_type": "code",
      "metadata": {
        "id": "lZcl__wSOnPq"
      },
      "source": [
        ""
      ],
      "execution_count": null,
      "outputs": []
    }
  ]
}