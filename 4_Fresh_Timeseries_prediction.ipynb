{
  "nbformat": 4,
  "nbformat_minor": 0,
  "metadata": {
    "colab": {
      "name": "4-Fresh_Timeseries_prediction.ipynb",
      "provenance": [],
      "authorship_tag": "ABX9TyOinOa7xWTBsVVfWUSMGPUv",
      "include_colab_link": true
    },
    "kernelspec": {
      "name": "python3",
      "display_name": "Python 3"
    },
    "language_info": {
      "name": "python"
    }
  },
  "cells": [
    {
      "cell_type": "markdown",
      "metadata": {
        "id": "view-in-github",
        "colab_type": "text"
      },
      "source": [
        "<a href=\"https://colab.research.google.com/github/vishvas-chauhan/First_Repository/blob/master/4_Fresh_Timeseries_prediction.ipynb\" target=\"_parent\"><img src=\"https://colab.research.google.com/assets/colab-badge.svg\" alt=\"Open In Colab\"/></a>"
      ]
    },
    {
      "cell_type": "markdown",
      "metadata": {
        "id": "0OIVtGHCS6FD"
      },
      "source": [
        "## Multivariate LSTM Time Series"
      ]
    },
    {
      "cell_type": "code",
      "metadata": {
        "id": "QfYyUcls0I84"
      },
      "source": [
        "# Import modules and packages\n",
        "import numpy as np\n",
        "import pandas as pd\n",
        "import matplotlib.pyplot as plt\n",
        "import datetime as dt\n",
        "from datetime import datetime\n",
        "\n",
        "from keras.callbacks import EarlyStopping, ReduceLROnPlateau, ModelCheckpoint, TensorBoard\n",
        "\n",
        "%matplotlib inline"
      ],
      "execution_count": null,
      "outputs": []
    },
    {
      "cell_type": "code",
      "metadata": {
        "id": "VDLvanf94I1v"
      },
      "source": [
        "from sklearn.model_selection import train_test_split\n",
        "from keras.preprocessing.sequence import TimeseriesGenerator \n",
        "import matplotlib \n",
        "from sklearn.preprocessing import MinMaxScaler, StandardScaler\n",
        "import tensorflow as tf\n",
        "matplotlib.rcParams['figure.figsize']= (10,8)\n",
        "matplotlib.rcParams['axes.grid']=False"
      ],
      "execution_count": null,
      "outputs": []
    },
    {
      "cell_type": "code",
      "metadata": {
        "colab": {
          "resources": {
            "http://localhost:8080/nbextensions/google.colab/files.js": {
              "data": "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",
              "ok": true,
              "headers": [
                [
                  "content-type",
                  "application/javascript"
                ]
              ],
              "status": 200,
              "status_text": ""
            }
          },
          "base_uri": "https://localhost:8080/",
          "height": 72
        },
        "id": "f9zMswgu0eD3",
        "outputId": "71b940e0-dadb-474f-d9c9-04b0de74ccb1"
      },
      "source": [
        "#upload file\n",
        "from google.colab import files\n",
        "f=files.upload()"
      ],
      "execution_count": null,
      "outputs": [
        {
          "output_type": "display_data",
          "data": {
            "text/html": [
              "\n",
              "     <input type=\"file\" id=\"files-e61ce265-7a99-4739-95d0-6f3b7453f562\" name=\"files[]\" multiple disabled\n",
              "        style=\"border:none\" />\n",
              "     <output id=\"result-e61ce265-7a99-4739-95d0-6f3b7453f562\">\n",
              "      Upload widget is only available when the cell has been executed in the\n",
              "      current browser session. Please rerun this cell to enable.\n",
              "      </output>\n",
              "      <script src=\"/nbextensions/google.colab/files.js\"></script> "
            ],
            "text/plain": [
              "<IPython.core.display.HTML object>"
            ]
          },
          "metadata": {
            "tags": []
          }
        },
        {
          "output_type": "stream",
          "text": [
            "Saving Webstore_Sales_Report_Page 2_Time series (1).csv to Webstore_Sales_Report_Page 2_Time series (1) (1).csv\n"
          ],
          "name": "stdout"
        }
      ]
    },
    {
      "cell_type": "code",
      "metadata": {
        "id": "RyMX7ajM1WRh"
      },
      "source": [
        "#read data\n",
        "\n",
        "# Importing Training Set\n",
        "dataset_train = pd.read_csv(r'Webstore_Sales_Report_Page 2_Time series (1).csv')"
      ],
      "execution_count": null,
      "outputs": []
    },
    {
      "cell_type": "code",
      "metadata": {
        "colab": {
          "base_uri": "https://localhost:8080/"
        },
        "id": "QaOB-mDC1lPd",
        "outputId": "388f82ac-a324-42e8-eefb-0a1d71794e34"
      },
      "source": [
        "dataset_train.info()"
      ],
      "execution_count": null,
      "outputs": [
        {
          "output_type": "stream",
          "text": [
            "<class 'pandas.core.frame.DataFrame'>\n",
            "RangeIndex: 859 entries, 0 to 858\n",
            "Data columns (total 2 columns):\n",
            " #   Column  Non-Null Count  Dtype         \n",
            "---  ------  --------------  -----         \n",
            " 0   Date    859 non-null    datetime64[ns]\n",
            " 1   Users   859 non-null    int64         \n",
            "dtypes: datetime64[ns](1), int64(1)\n",
            "memory usage: 13.5 KB\n"
          ],
          "name": "stdout"
        }
      ]
    },
    {
      "cell_type": "code",
      "metadata": {
        "colab": {
          "base_uri": "https://localhost:8080/",
          "height": 142
        },
        "id": "J2wiHHO11W_j",
        "outputId": "ccf646cf-3aa2-498b-8718-f1f92751f240"
      },
      "source": [
        "dataset_train.head(3)"
      ],
      "execution_count": null,
      "outputs": [
        {
          "output_type": "execute_result",
          "data": {
            "text/html": [
              "<div>\n",
              "<style scoped>\n",
              "    .dataframe tbody tr th:only-of-type {\n",
              "        vertical-align: middle;\n",
              "    }\n",
              "\n",
              "    .dataframe tbody tr th {\n",
              "        vertical-align: top;\n",
              "    }\n",
              "\n",
              "    .dataframe thead th {\n",
              "        text-align: right;\n",
              "    }\n",
              "</style>\n",
              "<table border=\"1\" class=\"dataframe\">\n",
              "  <thead>\n",
              "    <tr style=\"text-align: right;\">\n",
              "      <th></th>\n",
              "      <th>Date</th>\n",
              "      <th>Users</th>\n",
              "    </tr>\n",
              "  </thead>\n",
              "  <tbody>\n",
              "    <tr>\n",
              "      <th>0</th>\n",
              "      <td>1/1/2019</td>\n",
              "      <td>191</td>\n",
              "    </tr>\n",
              "    <tr>\n",
              "      <th>1</th>\n",
              "      <td>1/2/2019</td>\n",
              "      <td>246</td>\n",
              "    </tr>\n",
              "    <tr>\n",
              "      <th>2</th>\n",
              "      <td>1/3/2019</td>\n",
              "      <td>302</td>\n",
              "    </tr>\n",
              "  </tbody>\n",
              "</table>\n",
              "</div>"
            ],
            "text/plain": [
              "       Date  Users\n",
              "0  1/1/2019    191\n",
              "1  1/2/2019    246\n",
              "2  1/3/2019    302"
            ]
          },
          "metadata": {
            "tags": []
          },
          "execution_count": 5
        }
      ]
    },
    {
      "cell_type": "code",
      "metadata": {
        "id": "kI-DHcm41tmf"
      },
      "source": [
        "dataset_train['Date']= pd.to_datetime(dataset_train['Date'],infer_datetime_format=True)"
      ],
      "execution_count": null,
      "outputs": []
    },
    {
      "cell_type": "code",
      "metadata": {
        "colab": {
          "base_uri": "https://localhost:8080/",
          "height": 313
        },
        "id": "tnPJXngo177T",
        "outputId": "a45f3775-8ad3-48ec-d136-d682df6f1c94"
      },
      "source": [
        "dataset_train.set_index('Date')['Users'].plot(subplots=True)"
      ],
      "execution_count": null,
      "outputs": [
        {
          "output_type": "execute_result",
          "data": {
            "text/plain": [
              "array([<matplotlib.axes._subplots.AxesSubplot object at 0x7f275b198250>],\n",
              "      dtype=object)"
            ]
          },
          "metadata": {
            "tags": []
          },
          "execution_count": 12
        },
        {
          "output_type": "display_data",
          "data": {
            "image/png": "[encoded data removed]",
            "text/plain": [
              "<Figure size 432x288 with 1 Axes>"
            ]
          },
          "metadata": {
            "tags": [],
            "needs_background": "light"
          }
        }
      ]
    },
    {
      "cell_type": "code",
      "metadata": {
        "id": "CS28zNe82Tsz"
      },
      "source": [
        "df=dataset_train[['Users']]"
      ],
      "execution_count": null,
      "outputs": []
    },
    {
      "cell_type": "code",
      "metadata": {
        "colab": {
          "base_uri": "https://localhost:8080/",
          "height": 297
        },
        "id": "Gk_sAqzQ2Tv_",
        "outputId": "76cf9d94-02ce-4288-f69e-f6f2fe5ef9fb"
      },
      "source": [
        "df.describe()"
      ],
      "execution_count": null,
      "outputs": [
        {
          "output_type": "execute_result",
          "data": {
            "text/html": [
              "<div>\n",
              "<style scoped>\n",
              "    .dataframe tbody tr th:only-of-type {\n",
              "        vertical-align: middle;\n",
              "    }\n",
              "\n",
              "    .dataframe tbody tr th {\n",
              "        vertical-align: top;\n",
              "    }\n",
              "\n",
              "    .dataframe thead th {\n",
              "        text-align: right;\n",
              "    }\n",
              "</style>\n",
              "<table border=\"1\" class=\"dataframe\">\n",
              "  <thead>\n",
              "    <tr style=\"text-align: right;\">\n",
              "      <th></th>\n",
              "      <th>Users</th>\n",
              "    </tr>\n",
              "  </thead>\n",
              "  <tbody>\n",
              "    <tr>\n",
              "      <th>count</th>\n",
              "      <td>859.000000</td>\n",
              "    </tr>\n",
              "    <tr>\n",
              "      <th>mean</th>\n",
              "      <td>2157.271246</td>\n",
              "    </tr>\n",
              "    <tr>\n",
              "      <th>std</th>\n",
              "      <td>2086.722477</td>\n",
              "    </tr>\n",
              "    <tr>\n",
              "      <th>min</th>\n",
              "      <td>166.000000</td>\n",
              "    </tr>\n",
              "    <tr>\n",
              "      <th>25%</th>\n",
              "      <td>817.500000</td>\n",
              "    </tr>\n",
              "    <tr>\n",
              "      <th>50%</th>\n",
              "      <td>1565.000000</td>\n",
              "    </tr>\n",
              "    <tr>\n",
              "      <th>75%</th>\n",
              "      <td>3163.000000</td>\n",
              "    </tr>\n",
              "    <tr>\n",
              "      <th>max</th>\n",
              "      <td>32191.000000</td>\n",
              "    </tr>\n",
              "  </tbody>\n",
              "</table>\n",
              "</div>"
            ],
            "text/plain": [
              "              Users\n",
              "count    859.000000\n",
              "mean    2157.271246\n",
              "std     2086.722477\n",
              "min      166.000000\n",
              "25%      817.500000\n",
              "50%     1565.000000\n",
              "75%     3163.000000\n",
              "max    32191.000000"
            ]
          },
          "metadata": {
            "tags": []
          },
          "execution_count": 22
        }
      ]
    },
    {
      "cell_type": "code",
      "metadata": {
        "id": "DoSo_sut18BD"
      },
      "source": [
        "#scaled data between 0 and 1\n",
        "scaler= MinMaxScaler()\n",
        "data_scaled = scaler.fit_transform(df)"
      ],
      "execution_count": null,
      "outputs": []
    },
    {
      "cell_type": "code",
      "metadata": {
        "colab": {
          "base_uri": "https://localhost:8080/"
        },
        "id": "FkxjWoWM18D-",
        "outputId": "c8533879-61a0-4367-ffdf-bc1463a8253c"
      },
      "source": [
        "#checking top 3 values of array\n",
        "data_scaled[0:4]"
      ],
      "execution_count": null,
      "outputs": [
        {
          "output_type": "execute_result",
          "data": {
            "text/plain": [
              "array([[0.00078064],\n",
              "       [0.00249805],\n",
              "       [0.00424668],\n",
              "       [0.0037783 ]])"
            ]
          },
          "metadata": {
            "tags": []
          },
          "execution_count": 37
        }
      ]
    },
    {
      "cell_type": "code",
      "metadata": {
        "id": "uCBJ3agw18G2"
      },
      "source": [
        "#total features in the dataset you want to train on, here is only one so target is also 1\n",
        "features = data_scaled\n",
        "target=data_scaled[:,0]"
      ],
      "execution_count": null,
      "outputs": []
    },
    {
      "cell_type": "code",
      "metadata": {
        "colab": {
          "base_uri": "https://localhost:8080/"
        },
        "id": "hUbG5loo18Jy",
        "outputId": "9b97e1ca-db4e-4595-f602-4ef95eb5fbb4"
      },
      "source": [
        "TimeseriesGenerator(features,target,length = 2, sampling_rate=1,batch_size=1)[0]"
      ],
      "execution_count": null,
      "outputs": [
        {
          "output_type": "execute_result",
          "data": {
            "text/plain": [
              "(array([[[0.00078064],\n",
              "         [0.00249805]]]), array([0.00424668]))"
            ]
          },
          "metadata": {
            "tags": []
          },
          "execution_count": 50
        }
      ]
    },
    {
      "cell_type": "code",
      "metadata": {
        "id": "bseb8fJb18NC"
      },
      "source": [
        "x_train, x_test, y_train,y_test= train_test_split(features,target,test_size=0.20,random_state=123,shuffle=False)"
      ],
      "execution_count": null,
      "outputs": []
    },
    {
      "cell_type": "code",
      "metadata": {
        "colab": {
          "base_uri": "https://localhost:8080/"
        },
        "id": "og9bwh8B18Qt",
        "outputId": "f3c0ec4f-eadb-488f-b7c0-c92c2465a78e"
      },
      "source": [
        "x_train.shape, x_test.shape"
      ],
      "execution_count": null,
      "outputs": [
        {
          "output_type": "execute_result",
          "data": {
            "text/plain": [
              "((687, 1), (172, 1))"
            ]
          },
          "metadata": {
            "tags": []
          },
          "execution_count": 102
        }
      ]
    },
    {
      "cell_type": "code",
      "metadata": {
        "id": "5FgVXPhb7htx"
      },
      "source": [
        "#win_length= total rows groups\n",
        "win_length= 60\n",
        "batch_size= 20\n",
        "num_features=1\n",
        "train_generator = TimeseriesGenerator(x_train,y_train,length=win_length, sampling_rate=1,batch_size= batch_size)\n",
        "test_generator = TimeseriesGenerator(x_test,y_test,length=win_length, sampling_rate=1, batch_size=batch_size)"
      ],
      "execution_count": null,
      "outputs": []
    },
    {
      "cell_type": "code",
      "metadata": {
        "colab": {
          "base_uri": "https://localhost:8080/"
        },
        "id": "GQZUc11b9MK5",
        "outputId": "436afb42-cfd5-4db8-85c6-31a2117b670d"
      },
      "source": [
        "train_generator[0]"
      ],
      "execution_count": null,
      "outputs": [
        {
          "output_type": "execute_result",
          "data": {
            "text/plain": [
              "(array([[[0.00078064],\n",
              "         [0.00249805],\n",
              "         [0.00424668],\n",
              "         ...,\n",
              "         [0.03703357],\n",
              "         [0.02273224],\n",
              "         [0.01873536]],\n",
              " \n",
              "        [[0.00249805],\n",
              "         [0.00424668],\n",
              "         [0.0037783 ],\n",
              "         ...,\n",
              "         [0.02273224],\n",
              "         [0.01873536],\n",
              "         [0.01992194]],\n",
              " \n",
              "        [[0.00424668],\n",
              "         [0.0037783 ],\n",
              "         [0.0028103 ],\n",
              "         ...,\n",
              "         [0.01873536],\n",
              "         [0.01992194],\n",
              "         [0.01907884]],\n",
              " \n",
              "        ...,\n",
              " \n",
              "        [[0.00640125],\n",
              "         [0.00215457],\n",
              "         [0.0040281 ],\n",
              "         ...,\n",
              "         [0.        ],\n",
              "         [0.01027322],\n",
              "         [0.01505074]],\n",
              " \n",
              "        [[0.00215457],\n",
              "         [0.0040281 ],\n",
              "         [0.00577674],\n",
              "         ...,\n",
              "         [0.01027322],\n",
              "         [0.01505074],\n",
              "         [0.01982826]],\n",
              " \n",
              "        [[0.0040281 ],\n",
              "         [0.00577674],\n",
              "         [0.00674473],\n",
              "         ...,\n",
              "         [0.01505074],\n",
              "         [0.01982826],\n",
              "         [0.01889149]]]),\n",
              " array([0.01992194, 0.01907884, 0.01654957, 0.01330211, 0.01807963,\n",
              "        0.02067135, 0.01526932, 0.01205308, 0.01270882, 0.01623731,\n",
              "        0.01436378, 0.01533177, 0.01676815, 0.00830601, 0.        ,\n",
              "        0.01027322, 0.01505074, 0.01982826, 0.01889149, 0.03584699]))"
            ]
          },
          "metadata": {
            "tags": []
          },
          "execution_count": 132
        }
      ]
    },
    {
      "cell_type": "code",
      "metadata": {
        "id": "b42G4Szd9MN-"
      },
      "source": [
        "model = tf.keras.Sequential()\n",
        "model.add(tf.keras.layers.LSTM(128, input_shape=(win_length,num_features),return_sequences=True))\n",
        "model.add(tf.keras.layers.LeakyReLU(alpha=0.5))\n",
        "model.add(tf.keras.layers.LSTM(128,return_sequences=True))\n",
        "model.add(tf.keras.layers.LeakyReLU(alpha=0.5))\n",
        "model.add(tf.keras.layers.Dropout(0.3))\n",
        "model.add(tf.keras.layers.LSTM(64,return_sequences=False))\n",
        "model.add(tf.keras.layers.Dropout(0.3))\n",
        "model.add(tf.keras.layers.Dense(1))"
      ],
      "execution_count": null,
      "outputs": []
    },
    {
      "cell_type": "code",
      "metadata": {
        "colab": {
          "base_uri": "https://localhost:8080/"
        },
        "id": "A0lfQ2Jb7hw4",
        "outputId": "e8227a95-d487-40ca-9e8f-22f15a1b458c"
      },
      "source": [
        "model.summary()"
      ],
      "execution_count": null,
      "outputs": [
        {
          "output_type": "stream",
          "text": [
            "Model: \"sequential_7\"\n",
            "_________________________________________________________________\n",
            "Layer (type)                 Output Shape              Param #   \n",
            "=================================================================\n",
            "lstm_19 (LSTM)               (None, 60, 128)           66560     \n",
            "_________________________________________________________________\n",
            "leaky_re_lu_12 (LeakyReLU)   (None, 60, 128)           0         \n",
            "_________________________________________________________________\n",
            "lstm_20 (LSTM)               (None, 60, 128)           131584    \n",
            "_________________________________________________________________\n",
            "leaky_re_lu_13 (LeakyReLU)   (None, 60, 128)           0         \n",
            "_________________________________________________________________\n",
            "dropout_10 (Dropout)         (None, 60, 128)           0         \n",
            "_________________________________________________________________\n",
            "lstm_21 (LSTM)               (None, 64)                49408     \n",
            "_________________________________________________________________\n",
            "dropout_11 (Dropout)         (None, 64)                0         \n",
            "_________________________________________________________________\n",
            "dense_4 (Dense)              (None, 1)                 65        \n",
            "=================================================================\n",
            "Total params: 247,617\n",
            "Trainable params: 247,617\n",
            "Non-trainable params: 0\n",
            "_________________________________________________________________\n"
          ],
          "name": "stdout"
        }
      ]
    },
    {
      "cell_type": "code",
      "metadata": {
        "colab": {
          "base_uri": "https://localhost:8080/"
        },
        "id": "_rDcFKlk7hzf",
        "outputId": "b96d0515-16c9-4495-bede-86ff3def0741"
      },
      "source": [
        "early_stopping= tf.keras.callbacks.EarlyStopping(monitor='Val_loss', patience= 2, mode= 'min')\n",
        "\n",
        "model.compile(loss=tf.losses.MeanSquaredError(),\n",
        "              optimizer= tf.optimizers.Adam(),\n",
        "              metrics=[tf.metrics.MeanAbsoluteError()])\n",
        "history = model.fit_generator(train_generator,epochs=20,\n",
        "                              validation_data= test_generator,\n",
        "                              shuffle= False,\n",
        "                              callbacks=[early_stopping])"
      ],
      "execution_count": null,
      "outputs": [
        {
          "output_type": "stream",
          "text": [
            "/usr/local/lib/python3.7/dist-packages/tensorflow/python/keras/engine/training.py:1844: UserWarning: `Model.fit_generator` is deprecated and will be removed in a future version. Please use `Model.fit`, which supports generators.\n",
            "  warnings.warn('`Model.fit_generator` is deprecated and '\n"
          ],
          "name": "stderr"
        },
        {
          "output_type": "stream",
          "text": [
            "Epoch 1/20\n",
            "32/32 [==============================] - 10s 179ms/step - loss: 4.0696e-04 - mean_absolute_error: 0.0133 - val_loss: 0.0017 - val_mean_absolute_error: 0.0316\n",
            "WARNING:tensorflow:Early stopping conditioned on metric `Val_loss` which is not available. Available metrics are: loss,mean_absolute_error,val_loss,val_mean_absolute_error\n",
            "Epoch 2/20\n",
            "32/32 [==============================] - 5s 148ms/step - loss: 0.0011 - mean_absolute_error: 0.0240 - val_loss: 0.0016 - val_mean_absolute_error: 0.0300\n",
            "WARNING:tensorflow:Early stopping conditioned on metric `Val_loss` which is not available. Available metrics are: loss,mean_absolute_error,val_loss,val_mean_absolute_error\n",
            "Epoch 3/20\n",
            "32/32 [==============================] - 5s 151ms/step - loss: 0.0013 - mean_absolute_error: 0.0268 - val_loss: 7.7769e-04 - val_mean_absolute_error: 0.0192\n",
            "WARNING:tensorflow:Early stopping conditioned on metric `Val_loss` which is not available. Available metrics are: loss,mean_absolute_error,val_loss,val_mean_absolute_error\n",
            "Epoch 4/20\n",
            "32/32 [==============================] - 5s 149ms/step - loss: 0.0024 - mean_absolute_error: 0.0364 - val_loss: 7.8328e-04 - val_mean_absolute_error: 0.0174\n",
            "WARNING:tensorflow:Early stopping conditioned on metric `Val_loss` which is not available. Available metrics are: loss,mean_absolute_error,val_loss,val_mean_absolute_error\n",
            "Epoch 5/20\n",
            "32/32 [==============================] - 5s 148ms/step - loss: 0.0022 - mean_absolute_error: 0.0351 - val_loss: 9.1361e-04 - val_mean_absolute_error: 0.0227\n",
            "WARNING:tensorflow:Early stopping conditioned on metric `Val_loss` which is not available. Available metrics are: loss,mean_absolute_error,val_loss,val_mean_absolute_error\n",
            "Epoch 6/20\n",
            "32/32 [==============================] - 5s 151ms/step - loss: 0.0031 - mean_absolute_error: 0.0427 - val_loss: 8.3337e-04 - val_mean_absolute_error: 0.0207\n",
            "WARNING:tensorflow:Early stopping conditioned on metric `Val_loss` which is not available. Available metrics are: loss,mean_absolute_error,val_loss,val_mean_absolute_error\n",
            "Epoch 7/20\n",
            "32/32 [==============================] - 5s 150ms/step - loss: 0.0043 - mean_absolute_error: 0.0553 - val_loss: 0.0015 - val_mean_absolute_error: 0.0291\n",
            "WARNING:tensorflow:Early stopping conditioned on metric `Val_loss` which is not available. Available metrics are: loss,mean_absolute_error,val_loss,val_mean_absolute_error\n",
            "Epoch 8/20\n",
            "32/32 [==============================] - 5s 151ms/step - loss: 0.0026 - mean_absolute_error: 0.0459 - val_loss: 0.0020 - val_mean_absolute_error: 0.0359\n",
            "WARNING:tensorflow:Early stopping conditioned on metric `Val_loss` which is not available. Available metrics are: loss,mean_absolute_error,val_loss,val_mean_absolute_error\n",
            "Epoch 9/20\n",
            "32/32 [==============================] - 5s 150ms/step - loss: 0.0024 - mean_absolute_error: 0.0446 - val_loss: 0.0020 - val_mean_absolute_error: 0.0362\n",
            "WARNING:tensorflow:Early stopping conditioned on metric `Val_loss` which is not available. Available metrics are: loss,mean_absolute_error,val_loss,val_mean_absolute_error\n",
            "Epoch 10/20\n",
            "32/32 [==============================] - 5s 151ms/step - loss: 0.0023 - mean_absolute_error: 0.0444 - val_loss: 0.0027 - val_mean_absolute_error: 0.0447\n",
            "WARNING:tensorflow:Early stopping conditioned on metric `Val_loss` which is not available. Available metrics are: loss,mean_absolute_error,val_loss,val_mean_absolute_error\n",
            "Epoch 11/20\n",
            "32/32 [==============================] - 5s 151ms/step - loss: 0.0018 - mean_absolute_error: 0.0381 - val_loss: 0.0023 - val_mean_absolute_error: 0.0402\n",
            "WARNING:tensorflow:Early stopping conditioned on metric `Val_loss` which is not available. Available metrics are: loss,mean_absolute_error,val_loss,val_mean_absolute_error\n",
            "Epoch 12/20\n",
            "32/32 [==============================] - 5s 150ms/step - loss: 0.0016 - mean_absolute_error: 0.0357 - val_loss: 0.0011 - val_mean_absolute_error: 0.0227\n",
            "WARNING:tensorflow:Early stopping conditioned on metric `Val_loss` which is not available. Available metrics are: loss,mean_absolute_error,val_loss,val_mean_absolute_error\n",
            "Epoch 13/20\n",
            "32/32 [==============================] - 5s 150ms/step - loss: 0.0020 - mean_absolute_error: 0.0404 - val_loss: 0.0021 - val_mean_absolute_error: 0.0381\n",
            "WARNING:tensorflow:Early stopping conditioned on metric `Val_loss` which is not available. Available metrics are: loss,mean_absolute_error,val_loss,val_mean_absolute_error\n",
            "Epoch 14/20\n",
            "32/32 [==============================] - 5s 150ms/step - loss: 0.0018 - mean_absolute_error: 0.0388 - val_loss: 7.3804e-04 - val_mean_absolute_error: 0.0163\n",
            "WARNING:tensorflow:Early stopping conditioned on metric `Val_loss` which is not available. Available metrics are: loss,mean_absolute_error,val_loss,val_mean_absolute_error\n",
            "Epoch 15/20\n",
            "32/32 [==============================] - 5s 151ms/step - loss: 0.0010 - mean_absolute_error: 0.0275 - val_loss: 7.4013e-04 - val_mean_absolute_error: 0.0159\n",
            "WARNING:tensorflow:Early stopping conditioned on metric `Val_loss` which is not available. Available metrics are: loss,mean_absolute_error,val_loss,val_mean_absolute_error\n",
            "Epoch 16/20\n",
            "32/32 [==============================] - 5s 151ms/step - loss: 0.0014 - mean_absolute_error: 0.0324 - val_loss: 8.3608e-04 - val_mean_absolute_error: 0.0221\n",
            "WARNING:tensorflow:Early stopping conditioned on metric `Val_loss` which is not available. Available metrics are: loss,mean_absolute_error,val_loss,val_mean_absolute_error\n",
            "Epoch 17/20\n",
            "32/32 [==============================] - 5s 150ms/step - loss: 0.0019 - mean_absolute_error: 0.0381 - val_loss: 9.9039e-04 - val_mean_absolute_error: 0.0257\n",
            "WARNING:tensorflow:Early stopping conditioned on metric `Val_loss` which is not available. Available metrics are: loss,mean_absolute_error,val_loss,val_mean_absolute_error\n",
            "Epoch 18/20\n",
            "32/32 [==============================] - 5s 149ms/step - loss: 0.0015 - mean_absolute_error: 0.0349 - val_loss: 0.0013 - val_mean_absolute_error: 0.0299\n",
            "WARNING:tensorflow:Early stopping conditioned on metric `Val_loss` which is not available. Available metrics are: loss,mean_absolute_error,val_loss,val_mean_absolute_error\n",
            "Epoch 19/20\n",
            "32/32 [==============================] - 5s 152ms/step - loss: 8.9021e-04 - mean_absolute_error: 0.0261 - val_loss: 7.3078e-04 - val_mean_absolute_error: 0.0158\n",
            "WARNING:tensorflow:Early stopping conditioned on metric `Val_loss` which is not available. Available metrics are: loss,mean_absolute_error,val_loss,val_mean_absolute_error\n",
            "Epoch 20/20\n",
            "32/32 [==============================] - 5s 151ms/step - loss: 6.6988e-04 - mean_absolute_error: 0.0220 - val_loss: 9.4403e-04 - val_mean_absolute_error: 0.0245\n",
            "WARNING:tensorflow:Early stopping conditioned on metric `Val_loss` which is not available. Available metrics are: loss,mean_absolute_error,val_loss,val_mean_absolute_error\n"
          ],
          "name": "stdout"
        }
      ]
    },
    {
      "cell_type": "code",
      "metadata": {
        "colab": {
          "base_uri": "https://localhost:8080/"
        },
        "id": "cFjw4w8D7h2T",
        "outputId": "f3aef8e9-1d1d-443d-fd28-2720965b4f9f"
      },
      "source": [
        "model.evaluate_generator(test_generator,verbose=0)"
      ],
      "execution_count": null,
      "outputs": [
        {
          "output_type": "stream",
          "text": [
            "/usr/local/lib/python3.7/dist-packages/tensorflow/python/keras/engine/training.py:1877: UserWarning: `Model.evaluate_generator` is deprecated and will be removed in a future version. Please use `Model.evaluate`, which supports generators.\n",
            "  warnings.warn('`Model.evaluate_generator` is deprecated and '\n"
          ],
          "name": "stderr"
        },
        {
          "output_type": "execute_result",
          "data": {
            "text/plain": [
              "[0.0009440263966098428, 0.02452073059976101]"
            ]
          },
          "metadata": {
            "tags": []
          },
          "execution_count": 144
        }
      ]
    },
    {
      "cell_type": "code",
      "metadata": {
        "id": "RdtecwCb7h5D"
      },
      "source": [
        "predictions= model.predict(test_generator)"
      ],
      "execution_count": null,
      "outputs": []
    },
    {
      "cell_type": "code",
      "metadata": {
        "id": "mVAEEMsyD9yK"
      },
      "source": [
        "df_pred= pd.concat([pd.DataFrame(predictions),pd.DataFrame(x_test[:,:][win_length:])],axis=1)"
      ],
      "execution_count": null,
      "outputs": []
    },
    {
      "cell_type": "code",
      "metadata": {
        "colab": {
          "base_uri": "https://localhost:8080/",
          "height": 419
        },
        "id": "MyHccmRPJaS-",
        "outputId": "262d1c43-5092-49b7-ed98-c41d9daa8ed3"
      },
      "source": [
        "df_pred"
      ],
      "execution_count": null,
      "outputs": [
        {
          "output_type": "execute_result",
          "data": {
            "text/html": [
              "<div>\n",
              "<style scoped>\n",
              "    .dataframe tbody tr th:only-of-type {\n",
              "        vertical-align: middle;\n",
              "    }\n",
              "\n",
              "    .dataframe tbody tr th {\n",
              "        vertical-align: top;\n",
              "    }\n",
              "\n",
              "    .dataframe thead th {\n",
              "        text-align: right;\n",
              "    }\n",
              "</style>\n",
              "<table border=\"1\" class=\"dataframe\">\n",
              "  <thead>\n",
              "    <tr style=\"text-align: right;\">\n",
              "      <th></th>\n",
              "      <th>0</th>\n",
              "      <th>0</th>\n",
              "    </tr>\n",
              "  </thead>\n",
              "  <tbody>\n",
              "    <tr>\n",
              "      <th>0</th>\n",
              "      <td>0.137304</td>\n",
              "      <td>0.134801</td>\n",
              "    </tr>\n",
              "    <tr>\n",
              "      <th>1</th>\n",
              "      <td>0.137775</td>\n",
              "      <td>0.187385</td>\n",
              "    </tr>\n",
              "    <tr>\n",
              "      <th>2</th>\n",
              "      <td>0.140430</td>\n",
              "      <td>0.277158</td>\n",
              "    </tr>\n",
              "    <tr>\n",
              "      <th>3</th>\n",
              "      <td>0.148114</td>\n",
              "      <td>0.155504</td>\n",
              "    </tr>\n",
              "    <tr>\n",
              "      <th>4</th>\n",
              "      <td>0.155374</td>\n",
              "      <td>0.120999</td>\n",
              "    </tr>\n",
              "    <tr>\n",
              "      <th>...</th>\n",
              "      <td>...</td>\n",
              "      <td>...</td>\n",
              "    </tr>\n",
              "    <tr>\n",
              "      <th>107</th>\n",
              "      <td>0.112611</td>\n",
              "      <td>0.146573</td>\n",
              "    </tr>\n",
              "    <tr>\n",
              "      <th>108</th>\n",
              "      <td>0.114788</td>\n",
              "      <td>0.099141</td>\n",
              "    </tr>\n",
              "    <tr>\n",
              "      <th>109</th>\n",
              "      <td>0.116872</td>\n",
              "      <td>0.104731</td>\n",
              "    </tr>\n",
              "    <tr>\n",
              "      <th>110</th>\n",
              "      <td>0.118506</td>\n",
              "      <td>0.101452</td>\n",
              "    </tr>\n",
              "    <tr>\n",
              "      <th>111</th>\n",
              "      <td>0.119514</td>\n",
              "      <td>0.035753</td>\n",
              "    </tr>\n",
              "  </tbody>\n",
              "</table>\n",
              "<p>112 rows × 2 columns</p>\n",
              "</div>"
            ],
            "text/plain": [
              "            0         0\n",
              "0    0.137304  0.134801\n",
              "1    0.137775  0.187385\n",
              "2    0.140430  0.277158\n",
              "3    0.148114  0.155504\n",
              "4    0.155374  0.120999\n",
              "..        ...       ...\n",
              "107  0.112611  0.146573\n",
              "108  0.114788  0.099141\n",
              "109  0.116872  0.104731\n",
              "110  0.118506  0.101452\n",
              "111  0.119514  0.035753\n",
              "\n",
              "[112 rows x 2 columns]"
            ]
          },
          "metadata": {
            "tags": []
          },
          "execution_count": 148
        }
      ]
    },
    {
      "cell_type": "code",
      "metadata": {
        "id": "OAWh1QttD96Z"
      },
      "source": [
        "rev_trans= scaler.inverse_transform(df_pred)"
      ],
      "execution_count": null,
      "outputs": []
    },
    {
      "cell_type": "code",
      "metadata": {
        "id": "nRqOS1Z-7h-4"
      },
      "source": [
        "df_final= df[predictions.shape[0]*-1:]"
      ],
      "execution_count": null,
      "outputs": []
    },
    {
      "cell_type": "code",
      "metadata": {
        "colab": {
          "base_uri": "https://localhost:8080/"
        },
        "id": "NHfhlOukRwsL",
        "outputId": "51f887f1-da86-4401-eec4-f72d01b4f526"
      },
      "source": [
        "df_final.count()"
      ],
      "execution_count": null,
      "outputs": [
        {
          "output_type": "execute_result",
          "data": {
            "text/plain": [
              "Users    112\n",
              "dtype: int64"
            ]
          },
          "metadata": {
            "tags": []
          },
          "execution_count": 156
        }
      ]
    },
    {
      "cell_type": "code",
      "metadata": {
        "colab": {
          "base_uri": "https://localhost:8080/"
        },
        "id": "rGQ8MU3PRyfg",
        "outputId": "e820c0ae-c7f7-491d-d957-fff7bca04ebf"
      },
      "source": [
        "df_final['predict users']= rev_trans[:,0]"
      ],
      "execution_count": null,
      "outputs": [
        {
          "output_type": "stream",
          "text": [
            "/usr/local/lib/python3.7/dist-packages/ipykernel_launcher.py:1: SettingWithCopyWarning: \n",
            "A value is trying to be set on a copy of a slice from a DataFrame.\n",
            "Try using .loc[row_indexer,col_indexer] = value instead\n",
            "\n",
            "See the caveats in the documentation: https://pandas.pydata.org/pandas-docs/stable/user_guide/indexing.html#returning-a-view-versus-a-copy\n",
            "  \"\"\"Entry point for launching an IPython kernel.\n"
          ],
          "name": "stderr"
        }
      ]
    },
    {
      "cell_type": "code",
      "metadata": {
        "colab": {
          "base_uri": "https://localhost:8080/",
          "height": 419
        },
        "id": "hQV-cAu9RwvH",
        "outputId": "d0e85bbd-2fa4-427f-ff2f-de104494a96d"
      },
      "source": [
        "df_final"
      ],
      "execution_count": null,
      "outputs": [
        {
          "output_type": "execute_result",
          "data": {
            "text/html": [
              "<div>\n",
              "<style scoped>\n",
              "    .dataframe tbody tr th:only-of-type {\n",
              "        vertical-align: middle;\n",
              "    }\n",
              "\n",
              "    .dataframe tbody tr th {\n",
              "        vertical-align: top;\n",
              "    }\n",
              "\n",
              "    .dataframe thead th {\n",
              "        text-align: right;\n",
              "    }\n",
              "</style>\n",
              "<table border=\"1\" class=\"dataframe\">\n",
              "  <thead>\n",
              "    <tr style=\"text-align: right;\">\n",
              "      <th></th>\n",
              "      <th>Users</th>\n",
              "      <th>predict users</th>\n",
              "    </tr>\n",
              "  </thead>\n",
              "  <tbody>\n",
              "    <tr>\n",
              "      <th>747</th>\n",
              "      <td>4483</td>\n",
              "      <td>4563.167060</td>\n",
              "    </tr>\n",
              "    <tr>\n",
              "      <th>748</th>\n",
              "      <td>6167</td>\n",
              "      <td>4578.241160</td>\n",
              "    </tr>\n",
              "    <tr>\n",
              "      <th>749</th>\n",
              "      <td>9042</td>\n",
              "      <td>4663.263224</td>\n",
              "    </tr>\n",
              "    <tr>\n",
              "      <th>750</th>\n",
              "      <td>5146</td>\n",
              "      <td>4909.337831</td>\n",
              "    </tr>\n",
              "    <tr>\n",
              "      <th>751</th>\n",
              "      <td>4041</td>\n",
              "      <td>5141.844889</td>\n",
              "    </tr>\n",
              "    <tr>\n",
              "      <th>...</th>\n",
              "      <td>...</td>\n",
              "      <td>...</td>\n",
              "    </tr>\n",
              "    <tr>\n",
              "      <th>854</th>\n",
              "      <td>4860</td>\n",
              "      <td>3772.367140</td>\n",
              "    </tr>\n",
              "    <tr>\n",
              "      <th>855</th>\n",
              "      <td>3341</td>\n",
              "      <td>3842.091293</td>\n",
              "    </tr>\n",
              "    <tr>\n",
              "      <th>856</th>\n",
              "      <td>3520</td>\n",
              "      <td>3908.821909</td>\n",
              "    </tr>\n",
              "    <tr>\n",
              "      <th>857</th>\n",
              "      <td>3415</td>\n",
              "      <td>3961.143179</td>\n",
              "    </tr>\n",
              "    <tr>\n",
              "      <th>858</th>\n",
              "      <td>1311</td>\n",
              "      <td>3993.438345</td>\n",
              "    </tr>\n",
              "  </tbody>\n",
              "</table>\n",
              "<p>112 rows × 2 columns</p>\n",
              "</div>"
            ],
            "text/plain": [
              "     Users  predict users\n",
              "747   4483    4563.167060\n",
              "748   6167    4578.241160\n",
              "749   9042    4663.263224\n",
              "750   5146    4909.337831\n",
              "751   4041    5141.844889\n",
              "..     ...            ...\n",
              "854   4860    3772.367140\n",
              "855   3341    3842.091293\n",
              "856   3520    3908.821909\n",
              "857   3415    3961.143179\n",
              "858   1311    3993.438345\n",
              "\n",
              "[112 rows x 2 columns]"
            ]
          },
          "metadata": {
            "tags": []
          },
          "execution_count": 158
        }
      ]
    },
    {
      "cell_type": "code",
      "metadata": {
        "colab": {
          "base_uri": "https://localhost:8080/",
          "height": 500
        },
        "id": "cJYVMNQgRwx4",
        "outputId": "3d92de52-a268-4e99-e6cb-e55c1378831f"
      },
      "source": [
        "df_final[['predict users','Users']].plot()"
      ],
      "execution_count": null,
      "outputs": [
        {
          "output_type": "execute_result",
          "data": {
            "text/plain": [
              "<matplotlib.axes._subplots.AxesSubplot at 0x7f27456d06d0>"
            ]
          },
          "metadata": {
            "tags": []
          },
          "execution_count": 159
        },
        {
          "output_type": "display_data",
          "data": {
            "image/png": "[encoded data removed]",
            "text/plain": [
              "<Figure size 720x576 with 1 Axes>"
            ]
          },
          "metadata": {
            "tags": [],
            "needs_background": "light"
          }
        }
      ]
    },
    {
      "cell_type": "code",
      "metadata": {
        "id": "klj1oBzcRw0k"
      },
      "source": [
        ""
      ],
      "execution_count": null,
      "outputs": []
    },
    {
      "cell_type": "code",
      "metadata": {
        "id": "2H6AB4DLRw3q"
      },
      "source": [
        ""
      ],
      "execution_count": null,
      "outputs": []
    },
    {
      "cell_type": "code",
      "metadata": {
        "id": "7DkVjjkgRw5_"
      },
      "source": [
        ""
      ],
      "execution_count": null,
      "outputs": []
    },
    {
      "cell_type": "code",
      "metadata": {
        "id": "g30jYouLRw9A"
      },
      "source": [
        ""
      ],
      "execution_count": null,
      "outputs": []
    },
    {
      "cell_type": "code",
      "metadata": {
        "colab": {
          "base_uri": "https://localhost:8080/"
        },
        "id": "UCeejgvk0Yse",
        "outputId": "4727876e-5889-44ba-b3b2-e0d4edcdd636"
      },
      "source": [
        "\n",
        "\n",
        "# Select features (columns) to be involved intro training and predictions\n",
        "cols = list(dataset_train)[1:6]\n",
        "\n",
        "# Extract dates (will be used in visualization)\n",
        "datelist_train = list(dataset_train['Date'])\n",
        "#datelist_train = [dt.datetime.strptime(date, '%Y-%m-%d').date() for date in datelist_train]\n",
        "\n",
        "print('Training set shape == {}'.format(dataset_train.shape))\n",
        "print('All timestamps == {}'.format(len(datelist_train)))\n",
        "print('Featured selected: {}'.format(cols))"
      ],
      "execution_count": null,
      "outputs": [
        {
          "output_type": "stream",
          "text": [
            "Training set shape == (859, 2)\n",
            "All timestamps == 859\n",
            "Featured selected: ['Users']\n"
          ],
          "name": "stdout"
        }
      ]
    },
    {
      "cell_type": "code",
      "metadata": {
        "id": "I5m6VgZR0Yvg"
      },
      "source": [
        ""
      ],
      "execution_count": null,
      "outputs": []
    },
    {
      "cell_type": "markdown",
      "metadata": {
        "id": "FNH1kcyNP3BY"
      },
      "source": [
        "## Big Query Arima model"
      ]
    },
    {
      "cell_type": "code",
      "metadata": {
        "id": "NGmbgek30Yyk"
      },
      "source": [
        "#standardSQL first query\n",
        "SELECT\n",
        " PARSE_TIMESTAMP(\"%Y%m%d\", date) AS parsed_date,\n",
        " SUM(totals.visits) AS total_visits\n",
        "FROM\n",
        " `bigquery-public-data.google_analytics_sample.ga_sessions_*`\n",
        "GROUP BY date\n",
        "\n",
        "#if your data is already sorted\n",
        "SELECT\n",
        " Date AS parsed_date,\n",
        " Users AS total_visits\n",
        "FROM\n",
        " `tab.table*`"
      ],
      "execution_count": null,
      "outputs": []
    },
    {
      "cell_type": "code",
      "metadata": {
        "id": "De_4XRbgP9FR"
      },
      "source": [
        "#standardSQL\n",
        "CREATE OR REPLACE MODEL bqml_tutorial.ga_arima_model\n",
        "OPTIONS\n",
        " (model_type = 'ARIMA_PLUS',\n",
        "  time_series_timestamp_col = 'parsed_date',\n",
        "  time_series_data_col = 'total_visits',\n",
        "  auto_arima = TRUE,\n",
        "  data_frequency = 'AUTO_FREQUENCY',\n",
        "  decompose_time_series = TRUE\n",
        ") AS\n",
        "SELECT\n",
        " PARSE_TIMESTAMP(\"%Y%m%d\", date) AS parsed_date,\n",
        " SUM(totals.visits) AS total_visits\n",
        "FROM\n",
        " `bigquery-public-data.google_analytics_sample.ga_sessions_*`\n",
        "GROUP BY date"
      ],
      "execution_count": null,
      "outputs": []
    },
    {
      "cell_type": "code",
      "metadata": {
        "id": "CtWai3lH0Y1c"
      },
      "source": [
        "#standardSQL\n",
        "SELECT\n",
        " *\n",
        "FROM\n",
        " ML.ARIMA_EVALUATE(MODEL bqml_tutorial.ga_arima_model)"
      ],
      "execution_count": null,
      "outputs": []
    },
    {
      "cell_type": "code",
      "metadata": {
        "id": "OGTaz3P40Y4c"
      },
      "source": [
        "#standardSQL\n",
        "SELECT\n",
        " *\n",
        "FROM\n",
        " ML.ARIMA_COEFFICIENTS(MODEL bqml_tutorial.ga_arima_model)"
      ],
      "execution_count": null,
      "outputs": []
    },
    {
      "cell_type": "code",
      "metadata": {
        "id": "XdQhbR7A0Y7U"
      },
      "source": [
        "#standardSQL\n",
        "SELECT\n",
        " *\n",
        "FROM\n",
        " ML.FORECAST(MODEL bqml_tutorial.ga_arima_model,\n",
        "             STRUCT(30 AS horizon, 0.8 AS confidence_level))"
      ],
      "execution_count": null,
      "outputs": []
    },
    {
      "cell_type": "code",
      "metadata": {
        "id": "QYDjVB0Q0ZII"
      },
      "source": [
        "#standardSQL and predict\n",
        "SELECT\n",
        " *\n",
        "FROM\n",
        " ML.EXPLAIN_FORECAST(MODEL bqml_tutorial.ga_arima_model,\n",
        "                     STRUCT(30 AS horizon, 0.8 AS confidence_level))"
      ],
      "execution_count": null,
      "outputs": []
    },
    {
      "cell_type": "markdown",
      "metadata": {
        "id": "il2c6drWTdRm"
      },
      "source": [
        "## Multivariate LSTM2"
      ]
    },
    {
      "cell_type": "code",
      "metadata": {
        "id": "vHppSYio0ZLU"
      },
      "source": [
        "\n",
        "# Import modules and packages\n",
        "import numpy as np\n",
        "import pandas as pd\n",
        "import matplotlib.pyplot as plt\n",
        "import datetime as dt\n",
        "from datetime import datetime\n",
        "\n",
        "from keras.callbacks import EarlyStopping, ReduceLROnPlateau, ModelCheckpoint, TensorBoard\n",
        "\n",
        "%matplotlib inline"
      ],
      "execution_count": null,
      "outputs": []
    },
    {
      "cell_type": "code",
      "metadata": {
        "id": "MucQOWJOXoTm"
      },
      "source": [
        "dataset_train = pd.read_csv(r'Webstore_Sales_Report_Page 2_Time series (1).csv')"
      ],
      "execution_count": null,
      "outputs": []
    },
    {
      "cell_type": "code",
      "metadata": {
        "id": "WOuUgX5MXvCe"
      },
      "source": [
        "dataset_train['Date']=pd.to_datetime(dataset_train['Date'])"
      ],
      "execution_count": null,
      "outputs": []
    },
    {
      "cell_type": "code",
      "metadata": {
        "id": "JIfOrPJCbFno"
      },
      "source": [
        "datelist_train= list(dataset_train['Date'])"
      ],
      "execution_count": null,
      "outputs": []
    },
    {
      "cell_type": "code",
      "metadata": {
        "colab": {
          "base_uri": "https://localhost:8080/"
        },
        "id": "RXcM23cH0ZOj",
        "outputId": "9c784faf-d5a2-4798-f94f-d02fd996a568"
      },
      "source": [
        "# Select features (columns) to be involved intro training and predictions\n",
        "cols = list(dataset_train)[1:6]\n",
        "\n",
        "# Extract dates (will be used in visualization)\n",
        "#datelist_train = list(dataset_train['Date'])\n",
        "#datelist_train = [dt.datetime.strptime(date, '%Y-%m-%d').date() for date in datelist_train]\n",
        "\n",
        "print('Training set shape == {}'.format(dataset_train.shape))\n",
        "print('All timestamps == {}'.format(len(datelist_train)))\n",
        "print('Featured selected: {}'.format(cols))"
      ],
      "execution_count": null,
      "outputs": [
        {
          "output_type": "stream",
          "text": [
            "Training set shape == (859, 2)\n",
            "All timestamps == 859\n",
            "Featured selected: ['Users']\n"
          ],
          "name": "stdout"
        }
      ]
    },
    {
      "cell_type": "code",
      "metadata": {
        "colab": {
          "base_uri": "https://localhost:8080/"
        },
        "id": "qYUT1r38TbPk",
        "outputId": "403a09fa-a380-49d3-bba7-cf848f9ec357"
      },
      "source": [
        "dataset_train = dataset_train[cols].astype(str)\n",
        "for i in cols:\n",
        "    for j in range(0, len(dataset_train)):\n",
        "        dataset_train[i][j] = dataset_train[i][j].replace(',', '')\n",
        "\n",
        "dataset_train = dataset_train.astype(float)\n",
        "\n",
        "# Using multiple features (predictors)\n",
        "training_set = dataset_train.values\n",
        "\n",
        "print('Shape of training set == {}.'.format(training_set.shape))\n",
        "training_set[0:2]"
      ],
      "execution_count": null,
      "outputs": [
        {
          "output_type": "stream",
          "text": [
            "Shape of training set == (859, 1).\n"
          ],
          "name": "stdout"
        },
        {
          "output_type": "execute_result",
          "data": {
            "text/plain": [
              "array([[191.],\n",
              "       [246.]])"
            ]
          },
          "metadata": {
            "tags": []
          },
          "execution_count": 246
        }
      ]
    },
    {
      "cell_type": "code",
      "metadata": {
        "colab": {
          "base_uri": "https://localhost:8080/"
        },
        "id": "jmlm-gl0Vz8o",
        "outputId": "9cee8acd-d59a-4a7c-a5e2-d18a718a3baa"
      },
      "source": [
        "# Feature Scaling\n",
        "from sklearn.preprocessing import StandardScaler\n",
        "\n",
        "sc = StandardScaler()\n",
        "training_set_scaled = sc.fit_transform(training_set)\n",
        "\n",
        "sc_predict = StandardScaler()\n",
        "sc_predict.fit_transform(training_set[:, 0:1])"
      ],
      "execution_count": null,
      "outputs": [
        {
          "output_type": "execute_result",
          "data": {
            "text/plain": [
              "array([[-9.42826264e-01],\n",
              "       [-9.16453787e-01],\n",
              "       [-8.89601809e-01],\n",
              "       [-8.96794303e-01],\n",
              "       [-9.11658791e-01],\n",
              "       [-9.45703262e-01],\n",
              "       [-9.01589299e-01],\n",
              "       [-8.93917306e-01],\n",
              "       [-8.45487847e-01],\n",
              "       [-8.16238371e-01],\n",
              "       [-8.40213351e-01],\n",
              "       [-8.95835304e-01],\n",
              "       [-8.65147330e-01],\n",
              "       [-7.95140389e-01],\n",
              "       [-8.46446846e-01],\n",
              "       [-7.95619889e-01],\n",
              "       [-8.38774852e-01],\n",
              "       [-8.56516337e-01],\n",
              "       [-9.21728282e-01],\n",
              "       [-8.92958306e-01],\n",
              "       [-8.66106329e-01],\n",
              "       [-8.51241842e-01],\n",
              "       [-8.26787362e-01],\n",
              "       [-8.41651850e-01],\n",
              "       [-8.52680341e-01],\n",
              "       [-8.90081309e-01],\n",
              "       [-8.27266862e-01],\n",
              "       [-8.45008347e-01],\n",
              "       [-8.32541358e-01],\n",
              "       [-7.96099388e-01],\n",
              "       [-8.16238371e-01],\n",
              "       [-8.55557338e-01],\n",
              "       [-8.99191801e-01],\n",
              "       [-8.83847814e-01],\n",
              "       [-7.19858953e-01],\n",
              "       [-8.42610849e-01],\n",
              "       [-7.89865894e-01],\n",
              "       [-7.84111899e-01],\n",
              "       [-7.21776951e-01],\n",
              "       [-8.23430865e-01],\n",
              "       [-7.41436435e-01],\n",
              "       [-7.78837403e-01],\n",
              "       [-8.01373884e-01],\n",
              "       [-8.17197371e-01],\n",
              "       [-8.37336354e-01],\n",
              "       [-8.33020857e-01],\n",
              "       [-7.39038937e-01],\n",
              "       [-3.70303749e-01],\n",
              "       [-6.30192529e-01],\n",
              "       [-7.29448945e-01],\n",
              "       [-7.56780422e-01],\n",
              "       [-8.18635869e-01],\n",
              "       [-7.93701890e-01],\n",
              "       [-8.26307863e-01],\n",
              "       [-8.30623359e-01],\n",
              "       [-8.39733852e-01],\n",
              "       [-7.20550013e-02],\n",
              "       [-3.86127235e-01],\n",
              "       [-6.05738050e-01],\n",
              "       [-6.67113998e-01],\n",
              "       [-6.48893013e-01],\n",
              "       [-6.61839502e-01],\n",
              "       [-7.00678969e-01],\n",
              "       [-7.50546927e-01],\n",
              "       [-6.77183489e-01],\n",
              "       [-6.37385023e-01],\n",
              "       [-7.20338453e-01],\n",
              "       [-7.69726911e-01],\n",
              "       [-7.59657419e-01],\n",
              "       [-7.05473965e-01],\n",
              "       [-7.34243941e-01],\n",
              "       [-7.19379453e-01],\n",
              "       [-6.97322472e-01],\n",
              "       [-8.27266862e-01],\n",
              "       [-9.54813754e-01],\n",
              "       [-7.97058388e-01],\n",
              "       [-7.23694950e-01],\n",
              "       [-6.50331512e-01],\n",
              "       [-6.64716500e-01],\n",
              "       [-4.04348220e-01],\n",
              "       [-7.61095918e-01],\n",
              "       [-8.02812383e-01],\n",
              "       [-8.28225861e-01],\n",
              "       [-7.94181390e-01],\n",
              "       [-8.08086878e-01],\n",
              "       [-8.09525377e-01],\n",
              "       [-8.13840873e-01],\n",
              "       [-7.88906895e-01],\n",
              "       [-8.01853384e-01],\n",
              "       [-8.00414885e-01],\n",
              "       [-6.48413513e-01],\n",
              "       [-6.09094547e-01],\n",
              "       [-3.47767268e-01],\n",
              "       [-5.12715128e-01],\n",
              "       [-5.74091076e-01],\n",
              "       [-6.85814482e-01],\n",
              "       [-6.96363473e-01],\n",
              "       [-6.95404474e-01],\n",
              "       [-7.27530946e-01],\n",
              "       [-6.25877033e-01],\n",
              "       [-6.73347492e-01],\n",
              "       [-7.11227960e-01],\n",
              "       [-6.66154998e-01],\n",
              "       [-6.45536516e-01],\n",
              "       [-5.34772110e-01],\n",
              "       [-6.05738050e-01],\n",
              "       [-5.50116097e-01],\n",
              "       [-5.99025055e-01],\n",
              "       [-6.42180019e-01],\n",
              "       [-5.92791561e-01],\n",
              "       [-4.59490673e-01],\n",
              "       [-1.58844428e-01],\n",
              "       [-3.65988252e-01],\n",
              "       [-5.39567106e-01],\n",
              "       [-5.12235629e-01],\n",
              "       [-4.98809640e-01],\n",
              "       [-4.91137647e-01],\n",
              "       [-3.55439261e-01],\n",
              "       [-5.03604636e-01],\n",
              "       [-3.91401731e-01],\n",
              "       [-4.57572675e-01],\n",
              "       [-4.93055645e-01],\n",
              "       [-5.69296080e-01],\n",
              "       [-5.88955564e-01],\n",
              "       [-5.57308591e-01],\n",
              "       [-5.27579616e-01],\n",
              "       [-5.52034095e-01],\n",
              "       [-5.68816581e-01],\n",
              "       [-6.05738050e-01],\n",
              "       [-6.37385023e-01],\n",
              "       [ 8.71388640e-02],\n",
              "       [ 9.01329175e-01],\n",
              "       [ 7.89873709e-02],\n",
              "       [ 7.51513741e-02],\n",
              "       [-2.93583814e-01],\n",
              "       [-4.10102215e-01],\n",
              "       [-4.69560165e-01],\n",
              "       [-4.83945153e-01],\n",
              "       [-5.46759599e-01],\n",
              "       [-5.05522634e-01],\n",
              "       [-4.94494144e-01],\n",
              "       [-5.39567106e-01],\n",
              "       [-5.66898582e-01],\n",
              "       [-5.99025055e-01],\n",
              "       [-6.35467024e-01],\n",
              "       [-6.62798501e-01],\n",
              "       [-6.13410043e-01],\n",
              "       [-5.41964604e-01],\n",
              "       [-4.40310690e-01],\n",
              "       [-4.85863151e-01],\n",
              "       [-6.42659518e-01],\n",
              "       [-7.32805442e-01],\n",
              "       [-6.85334982e-01],\n",
              "       [-5.98066056e-01],\n",
              "       [-5.89435063e-01],\n",
              "       [-6.16287041e-01],\n",
              "       [-6.53688009e-01],\n",
              "       [-6.66154998e-01],\n",
              "       [-7.25133449e-01],\n",
              "       [-6.83416984e-01],\n",
              "       [-6.05258550e-01],\n",
              "       [-6.00463554e-01],\n",
              "       [-4.62367671e-01],\n",
              "       [-4.78191158e-01],\n",
              "       [-6.07656048e-01],\n",
              "       [-6.61839502e-01],\n",
              "       [-6.16766540e-01],\n",
              "       [-5.88476064e-01],\n",
              "       [-5.80324571e-01],\n",
              "       [-5.33813110e-01],\n",
              "       [-5.42444103e-01],\n",
              "       [-6.34028526e-01],\n",
              "       [-6.75744990e-01],\n",
              "       [-6.84855483e-01],\n",
              "       [-6.35467024e-01],\n",
              "       [-5.76968074e-01],\n",
              "       [-5.77927073e-01],\n",
              "       [-5.63062586e-01],\n",
              "       [-5.07440633e-01],\n",
              "       [-6.92527476e-01],\n",
              "       [-5.85119567e-01],\n",
              "       [-6.04779050e-01],\n",
              "       [-6.65195999e-01],\n",
              "       [-6.64716500e-01],\n",
              "       [-6.42659518e-01],\n",
              "       [-6.67113998e-01],\n",
              "       [-7.28010446e-01],\n",
              "       [-6.37385023e-01],\n",
              "       [-6.39782521e-01],\n",
              "       [-6.29713029e-01],\n",
              "       [-6.21561536e-01],\n",
              "       [-6.51770011e-01],\n",
              "       [-7.05953465e-01],\n",
              "       [-7.36641439e-01],\n",
              "       [-6.81498985e-01],\n",
              "       [-5.87517065e-01],\n",
              "       [-6.15328041e-01],\n",
              "       [-3.14681796e-01],\n",
              "       [-2.25974371e-01],\n",
              "       [-3.72221747e-01],\n",
              "       [-4.36474693e-01],\n",
              "       [-1.97895455e-02],\n",
              "       [-3.62631755e-01],\n",
              "       [-4.11061214e-01],\n",
              "       [-5.49636597e-01],\n",
              "       [-6.37385023e-01],\n",
              "       [-6.46975015e-01],\n",
              "       [-7.19858953e-01],\n",
              "       [-6.58003505e-01],\n",
              "       [-5.74091076e-01],\n",
              "       [-5.80804071e-01],\n",
              "       [-5.42444103e-01],\n",
              "       [-6.46495515e-01],\n",
              "       [-6.03820051e-01],\n",
              "       [-6.61839502e-01],\n",
              "       [-6.69990995e-01],\n",
              "       [-6.18205039e-01],\n",
              "       [-6.58962505e-01],\n",
              "       [-6.33549026e-01],\n",
              "       [-5.82722069e-01],\n",
              "       [-6.42180019e-01],\n",
              "       [-6.34987525e-01],\n",
              "       [-6.81498985e-01],\n",
              "       [-5.99504555e-01],\n",
              "       [-5.35731109e-01],\n",
              "       [-5.89914563e-01],\n",
              "       [-6.46975015e-01],\n",
              "       [-6.88691479e-01],\n",
              "       [-7.37600438e-01],\n",
              "       [-7.00678969e-01],\n",
              "       [-7.06912464e-01],\n",
              "       [-5.51554595e-01],\n",
              "       [-1.80901409e-01],\n",
              "       [-6.46975015e-01],\n",
              "       [-6.13410043e-01],\n",
              "       [-6.55606007e-01],\n",
              "       [-5.10317630e-01],\n",
              "       [-4.46544184e-01],\n",
              "       [-5.09838131e-01],\n",
              "       [-5.21346121e-01],\n",
              "       [-4.37913192e-01],\n",
              "       [-6.06697049e-01],\n",
              "       [-6.40741520e-01],\n",
              "       [-6.32590027e-01],\n",
              "       [-5.89914563e-01],\n",
              "       [-5.83201569e-01],\n",
              "       [-6.75265491e-01],\n",
              "       [-6.81019486e-01],\n",
              "       [-6.83416984e-01],\n",
              "       [-6.95404474e-01],\n",
              "       [-6.87252981e-01],\n",
              "       [-6.78142488e-01],\n",
              "       [-6.62319002e-01],\n",
              "       [-6.65675499e-01],\n",
              "       [-6.87252981e-01],\n",
              "       [-7.19379453e-01],\n",
              "       [-7.70206410e-01],\n",
              "       [-7.56300922e-01],\n",
              "       [-6.61839502e-01],\n",
              "       [-6.91088977e-01],\n",
              "       [-6.96363473e-01],\n",
              "       [-6.22520535e-01],\n",
              "       [-6.37385023e-01],\n",
              "       [-7.34243941e-01],\n",
              "       [-6.94924974e-01],\n",
              "       [-5.52513595e-01],\n",
              "       [ 1.48994312e-01],\n",
              "       [-8.45219907e-02],\n",
              "       [-3.98114725e-01],\n",
              "       [-5.48677598e-01],\n",
              "       [-6.35467024e-01],\n",
              "       [-6.28274530e-01],\n",
              "       [-6.24438534e-01],\n",
              "       [-6.13410043e-01],\n",
              "       [-5.87996565e-01],\n",
              "       [-6.63757500e-01],\n",
              "       [-7.41436435e-01],\n",
              "       [-7.60616418e-01],\n",
              "       [-7.61575418e-01],\n",
              "       [-6.57524006e-01],\n",
              "       [-6.01422553e-01],\n",
              "       [-6.25397533e-01],\n",
              "       [-6.12451044e-01],\n",
              "       [-6.39303021e-01],\n",
              "       [-6.37864522e-01],\n",
              "       [-6.77662989e-01],\n",
              "       [-6.51770011e-01],\n",
              "       [-6.44577517e-01],\n",
              "       [-5.82722069e-01],\n",
              "       [-6.62798501e-01],\n",
              "       [-6.71429494e-01],\n",
              "       [-6.90609478e-01],\n",
              "       [-7.71644909e-01],\n",
              "       [-6.79580987e-01],\n",
              "       [-6.16766540e-01],\n",
              "       [-6.44577517e-01],\n",
              "       [-6.87252981e-01],\n",
              "       [-7.55821423e-01],\n",
              "       [-7.82193900e-01],\n",
              "       [-7.13625458e-01],\n",
              "       [-6.95883973e-01],\n",
              "       [-6.83896483e-01],\n",
              "       [-7.09309962e-01],\n",
              "       [-6.84855483e-01],\n",
              "       [-7.81234901e-01],\n",
              "       [-7.96099388e-01],\n",
              "       [-7.60136919e-01],\n",
              "       [-6.81019486e-01],\n",
              "       [-5.91832561e-01],\n",
              "       [-5.45321101e-01],\n",
              "       [-5.78886072e-01],\n",
              "       [-6.23000035e-01],\n",
              "       [-6.50331512e-01],\n",
              "       [-6.73826992e-01],\n",
              "       [-6.77662989e-01],\n",
              "       [-5.11756129e-01],\n",
              "       [-5.49157097e-01],\n",
              "       [-4.87301650e-01],\n",
              "       [-5.92791561e-01],\n",
              "       [-7.09309962e-01],\n",
              "       [-6.80060487e-01],\n",
              "       [-6.12451044e-01],\n",
              "       [-6.30672028e-01],\n",
              "       [-6.40262020e-01],\n",
              "       [-7.17461455e-01],\n",
              "       [-7.27051447e-01],\n",
              "       [-7.51026427e-01],\n",
              "       [-7.16022956e-01],\n",
              "       [-6.82457985e-01],\n",
              "       [-6.60401003e-01],\n",
              "       [-5.56829091e-01],\n",
              "       [-5.45800600e-01],\n",
              "       [-6.32110527e-01],\n",
              "       [-6.48413513e-01],\n",
              "       [-6.09094547e-01],\n",
              "       [-6.04779050e-01],\n",
              "       [-6.16287041e-01],\n",
              "       [-6.25397533e-01],\n",
              "       [-6.42180019e-01],\n",
              "       [-6.42659518e-01],\n",
              "       [-6.65675499e-01],\n",
              "       [-6.65195999e-01],\n",
              "       [-6.44577517e-01],\n",
              "       [-6.45057016e-01],\n",
              "       [-6.46016015e-01],\n",
              "       [-6.60401003e-01],\n",
              "       [-6.75744990e-01],\n",
              "       [-6.83416984e-01],\n",
              "       [-7.19379453e-01],\n",
              "       [-6.02861052e-01],\n",
              "       [-3.77975742e-01],\n",
              "       [-6.29233530e-01],\n",
              "       [-6.62798501e-01],\n",
              "       [-7.09789461e-01],\n",
              "       [-7.29448945e-01],\n",
              "       [-7.28010446e-01],\n",
              "       [-7.39518436e-01],\n",
              "       [-7.33284942e-01],\n",
              "       [-7.87947895e-01],\n",
              "       [-6.81498985e-01],\n",
              "       [-7.03076467e-01],\n",
              "       [-6.83416984e-01],\n",
              "       [-6.44577517e-01],\n",
              "       [-6.76224490e-01],\n",
              "       [-7.01637968e-01],\n",
              "       [-7.62054917e-01],\n",
              "       [-5.99504555e-01],\n",
              "       [-6.77662989e-01],\n",
              "       [-7.37600438e-01],\n",
              "       [-6.89170979e-01],\n",
              "       [-6.48893013e-01],\n",
              "       [-5.66898582e-01],\n",
              "       [-5.32374612e-01],\n",
              "       [-4.79150157e-01],\n",
              "       [-4.85863151e-01],\n",
              "       [-6.73347492e-01],\n",
              "       [-6.19643538e-01],\n",
              "       [-5.80804071e-01],\n",
              "       [-5.05522634e-01],\n",
              "       [-6.06217549e-01],\n",
              "       [-4.26884701e-01],\n",
              "       [-4.55175177e-01],\n",
              "       [-3.79893741e-01],\n",
              "       [-6.04299551e-01],\n",
              "       [-5.09838131e-01],\n",
              "       [-5.48198098e-01],\n",
              "       [-6.21561536e-01],\n",
              "       [-6.68552496e-01],\n",
              "       [-6.11971544e-01],\n",
              "       [-6.70949994e-01],\n",
              "       [-5.68337081e-01],\n",
              "       [-6.15328041e-01],\n",
              "       [-5.65939583e-01],\n",
              "       [-6.25877033e-01],\n",
              "       [-6.06217549e-01],\n",
              "       [-5.97107057e-01],\n",
              "       [-6.79580987e-01],\n",
              "       [-5.25661617e-01],\n",
              "       [-4.86342651e-01],\n",
              "       [-5.06961133e-01],\n",
              "       [-3.40095274e-01],\n",
              "       [-3.41533773e-01],\n",
              "       [-4.84904152e-01],\n",
              "       [-5.46759599e-01],\n",
              "       [-4.45105686e-01],\n",
              "       [-4.57572675e-01],\n",
              "       [-3.65029253e-01],\n",
              "       [-2.48990352e-01],\n",
              "       [-3.22833289e-01],\n",
              "       [ 5.69303895e-02],\n",
              "       [-4.40310690e-01],\n",
              "       [-1.04660974e-01],\n",
              "       [-2.09191885e-01],\n",
              "       [-2.73444831e-01],\n",
              "       [-2.41318358e-01],\n",
              "       [-2.20220376e-01],\n",
              "       [-3.68865250e-01],\n",
              "       [-4.70998664e-01],\n",
              "       [-3.45849270e-01],\n",
              "       [-3.42972272e-01],\n",
              "       [ 1.87354279e-01],\n",
              "       [-1.33910449e-01],\n",
              "       [-1.85696405e-01],\n",
              "       [-3.04612304e-01],\n",
              "       [-4.71478163e-01],\n",
              "       [-4.71957663e-01],\n",
              "       [-3.24271788e-01],\n",
              "       [-3.82291239e-01],\n",
              "       [-3.18997292e-01],\n",
              "       [-3.21394790e-01],\n",
              "       [-3.54000763e-01],\n",
              "       [ 1.32691325e-01],\n",
              "       [-2.44195356e-01],\n",
              "       [-3.37218277e-01],\n",
              "       [-3.71262748e-01],\n",
              "       [-3.97635226e-01],\n",
              "       [-3.30025783e-01],\n",
              "       [-4.20651206e-01],\n",
              "       [-4.82986153e-01],\n",
              "       [-5.20866621e-01],\n",
              "       [-5.53952093e-01],\n",
              "       [-5.31415612e-01],\n",
              "       [-3.59275258e-01],\n",
              "       [-2.54264847e-01],\n",
              "       [-3.18038293e-01],\n",
              "       [ 2.87569694e-01],\n",
              "       [ 5.65679459e-01],\n",
              "       [ 1.41322318e-01],\n",
              "       [ 2.10849759e-01],\n",
              "       [ 1.72489792e-01],\n",
              "       [ 2.77020703e-01],\n",
              "       [ 5.98073871e-02],\n",
              "       [-1.81860408e-01],\n",
              "       [ 9.57698567e-02],\n",
              "       [ 3.76277119e-01],\n",
              "       [ 3.32163157e-01],\n",
              "       [ 6.46023830e-02],\n",
              "       [ 1.62899800e-01],\n",
              "       [ 1.66256297e-01],\n",
              "       [ 2.27152745e-01],\n",
              "       [-9.69889802e-02],\n",
              "       [-5.88405730e-03],\n",
              "       [-3.12975358e-02],\n",
              "       [-6.91780037e-02],\n",
              "       [-1.56926429e-01],\n",
              "       [-1.43500441e-01],\n",
              "       [-1.97683895e-01],\n",
              "       [-2.83993822e-01],\n",
              "       [-2.32207866e-01],\n",
              "       [-1.81380909e-01],\n",
              "       [-3.46540329e-02],\n",
              "       [-3.03385366e-02],\n",
              "       [-1.93847898e-01],\n",
              "       [-2.89747817e-01],\n",
              "       [-2.99337809e-01],\n",
              "       [-1.65557422e-01],\n",
              "       [-1.39664444e-01],\n",
              "       [-2.32207866e-01],\n",
              "       [-2.79198826e-01],\n",
              "       [-3.06050803e-01],\n",
              "       [-4.01471222e-01],\n",
              "       [-4.61620232e-02],\n",
              "       [-9.41119826e-02],\n",
              "       [-2.31248867e-01],\n",
              "       [-8.64399891e-02],\n",
              "       [ 3.74838620e-01],\n",
              "       [ 3.35519654e-01],\n",
              "       [ 1.48035312e-01],\n",
              "       [-7.32255608e-03],\n",
              "       [-7.34935001e-02],\n",
              "       [ 1.28375829e-01],\n",
              "       [ 1.72489792e-01],\n",
              "       [-1.96245396e-01],\n",
              "       [-2.41318358e-01],\n",
              "       [-3.91881231e-01],\n",
              "       [-3.24751287e-01],\n",
              "       [ 1.71530793e-01],\n",
              "       [ 1.73448791e-01],\n",
              "       [ 1.44678815e-01],\n",
              "       [ 4.94234019e-01],\n",
              "       [ 6.10752421e-01],\n",
              "       [-1.42061942e-01],\n",
              "       [ 3.00036684e-01],\n",
              "       [ 9.62225623e-01],\n",
              "       [ 6.29452905e-01],\n",
              "       [ 2.93323689e-01],\n",
              "       [ 1.83997782e-01],\n",
              "       [ 1.82559283e-01],\n",
              "       [ 1.01523852e-01],\n",
              "       [ 1.47555813e-01],\n",
              "       [ 1.15429340e-01],\n",
              "       [ 3.34349094e-02],\n",
              "       [-3.48655933e-03],\n",
              "       [ 8.98043012e-03],\n",
              "       [-1.59323927e-01],\n",
              "       [-6.67805058e-02],\n",
              "       [-1.60282927e-01],\n",
              "       [-2.05355888e-01],\n",
              "       [-2.70088334e-01],\n",
              "       [-2.56182845e-01],\n",
              "       [-1.62200925e-01],\n",
              "       [-2.96940311e-01],\n",
              "       [-2.83993822e-01],\n",
              "       [-2.39400360e-01],\n",
              "       [-1.92409399e-01],\n",
              "       [-5.09570192e-02],\n",
              "       [-9.07554855e-02],\n",
              "       [ 7.94668705e-02],\n",
              "       [ 2.30509243e-01],\n",
              "       [ 4.10801090e-01],\n",
              "       [ 3.80113116e-01],\n",
              "       [ 1.86874780e-01],\n",
              "       [ 1.01401158e+00],\n",
              "       [ 5.80064447e-01],\n",
              "       [ 1.00729859e+00],\n",
              "       [ 5.98285431e-01],\n",
              "       [ 3.57576635e-01],\n",
              "       [ 4.71697538e-01],\n",
              "       [ 3.47986643e-01],\n",
              "       [ 1.87354279e-01],\n",
              "       [ 5.30943928e-02],\n",
              "       [ 1.95985272e-01],\n",
              "       [ 3.33601655e-01],\n",
              "       [ 3.51822640e-01],\n",
              "       [ 3.93539105e-01],\n",
              "       [ 1.85915780e-01],\n",
              "       [ 2.21878250e-01],\n",
              "       [ 2.12767758e-01],\n",
              "       [-4.56825236e-02],\n",
              "       [ 2.09890760e-01],\n",
              "       [ 8.47413660e-02],\n",
              "       [ 4.61628047e-01],\n",
              "       [ 7.70905285e-01],\n",
              "       [ 3.39355650e-01],\n",
              "       [ 1.30293827e-01],\n",
              "       [ 1.13990841e-01],\n",
              "       [ 3.92580105e-01],\n",
              "       [ 7.08570338e-01],\n",
              "       [ 2.88933449e+00],\n",
              "       [ 3.19525523e+00],\n",
              "       [ 2.01185023e+00],\n",
              "       [ 1.09312901e+00],\n",
              "       [ 1.01545008e+00],\n",
              "       [ 9.23386156e-01],\n",
              "       [ 6.50550887e-01],\n",
              "       [ 1.48488018e+00],\n",
              "       [ 1.34966130e+00],\n",
              "       [ 8.49543219e-01],\n",
              "       [ 5.93969935e-01],\n",
              "       [ 4.78890032e-01],\n",
              "       [ 7.02816343e-01],\n",
              "       [ 3.45589145e-01],\n",
              "       [ 1.29691634e+00],\n",
              "       [ 1.45035621e+00],\n",
              "       [ 9.93393097e-01],\n",
              "       [ 8.83587690e-01],\n",
              "       [ 3.66420584e+00],\n",
              "       [ 2.39640891e+00],\n",
              "       [ 2.30098849e+00],\n",
              "       [ 3.47911899e+00],\n",
              "       [ 3.27964716e+00],\n",
              "       [ 2.32064797e+00],\n",
              "       [ 1.85793087e+00],\n",
              "       [ 1.81525540e+00],\n",
              "       [ 1.51173216e+00],\n",
              "       [ 1.50406016e+00],\n",
              "       [ 1.32041182e+00],\n",
              "       [ 1.56351811e+00],\n",
              "       [ 1.41775024e+00],\n",
              "       [ 1.28109285e+00],\n",
              "       [ 8.29883735e-01],\n",
              "       [ 6.77882364e-01],\n",
              "       [ 4.62107547e-01],\n",
              "       [ 6.79320863e-01],\n",
              "       [ 6.66374374e-01],\n",
              "       [ 5.20126997e-01],\n",
              "       [ 2.89487693e-01],\n",
              "       [ 2.85651696e-01],\n",
              "       [ 4.23747579e-01],\n",
              "       [ 2.90926191e-01],\n",
              "       [ 2.88049194e-01],\n",
              "       [ 5.60404963e-01],\n",
              "       [ 4.52517555e-01],\n",
              "       [ 3.97375101e-01],\n",
              "       [ 3.57576635e-01],\n",
              "       [ 3.96416102e-01],\n",
              "       [ 2.91885191e-01],\n",
              "       [ 7.10008837e-01],\n",
              "       [ 6.18424414e-01],\n",
              "       [ 6.42399394e-01],\n",
              "       [ 1.37843127e+00],\n",
              "       [ 1.38418527e+00],\n",
              "       [ 7.56040798e-01],\n",
              "       [ 6.78361864e-01],\n",
              "       [ 7.80974777e-01],\n",
              "       [ 7.59876795e-01],\n",
              "       [ 6.65415374e-01],\n",
              "       [ 9.04206172e-01],\n",
              "       [ 1.09552651e+00],\n",
              "       [ 8.29883735e-01],\n",
              "       [ 5.46978975e-01],\n",
              "       [ 6.66853873e-01],\n",
              "       [ 5.52732970e-01],\n",
              "       [ 5.94449435e-01],\n",
              "       [ 7.24393825e-01],\n",
              "       [ 4.76013035e-01],\n",
              "       [ 3.05311179e-01],\n",
              "       [ 1.73448791e-01],\n",
              "       [ 5.54650968e-01],\n",
              "       [ 8.72559199e-01],\n",
              "       [ 6.34727400e-01],\n",
              "       [ 5.78625948e-01],\n",
              "       [ 4.60669048e-01],\n",
              "       [ 3.99293100e-01],\n",
              "       [ 5.54650968e-01],\n",
              "       [ 1.15258696e+00],\n",
              "       [ 7.33024817e-01],\n",
              "       [ 3.14203078e+00],\n",
              "       [ 1.97636726e+00],\n",
              "       [ 1.07442853e+00],\n",
              "       [ 7.96318764e-01],\n",
              "       [ 6.94185350e-01],\n",
              "       [ 7.22955326e-01],\n",
              "       [ 6.97062348e-01],\n",
              "       [ 6.62538377e-01],\n",
              "       [ 1.63160706e+00],\n",
              "       [ 6.19862913e-01],\n",
              "       [ 6.03559927e-01],\n",
              "       [ 5.44101977e-01],\n",
              "       [ 8.16937246e-01],\n",
              "       [ 6.33768401e-01],\n",
              "       [ 6.99459846e-01],\n",
              "       [ 6.23219410e-01],\n",
              "       [ 4.71218039e-01],\n",
              "       [ 7.60835794e-01],\n",
              "       [ 3.03393181e-01],\n",
              "       [ 6.21301412e-01],\n",
              "       [ 9.38250644e-01],\n",
              "       [ 6.95144349e-01],\n",
              "       [ 4.33817071e-01],\n",
              "       [ 5.32114487e-01],\n",
              "       [ 2.34345239e-01],\n",
              "       [ 7.29668320e-01],\n",
              "       [ 4.57312551e-01],\n",
              "       [ 5.43622478e-01],\n",
              "       [ 3.40314650e-01],\n",
              "       [ 5.58966465e-01],\n",
              "       [ 3.57097135e-01],\n",
              "       [ 6.85554357e-01],\n",
              "       [ 8.21732242e-01],\n",
              "       [ 8.89821185e-01],\n",
              "       [ 1.27821586e+00],\n",
              "       [ 1.01401158e+00],\n",
              "       [ 7.06652340e-01],\n",
              "       [ 6.09313922e-01],\n",
              "       [ 3.85867111e-01],\n",
              "       [ 2.54004723e-01],\n",
              "       [ 4.85603027e-01],\n",
              "       [ 5.45540476e-01],\n",
              "       [ 4.66902543e-01],\n",
              "       [ 3.12024174e-01],\n",
              "       [ 4.41968564e-01],\n",
              "       [ 2.37701737e-01],\n",
              "       [ 1.37965821e-01],\n",
              "       [ 3.86346611e-01],\n",
              "       [ 1.38898026e+00],\n",
              "       [ 7.96318764e-01],\n",
              "       [ 6.06436924e-01],\n",
              "       [ 2.13247257e-01],\n",
              "       [-8.69194887e-02],\n",
              "       [-4.18465269e-02],\n",
              "       [ 2.38449175e-02],\n",
              "       [ 7.80283717e-02],\n",
              "       [-2.12280443e-02],\n",
              "       [ 2.27152745e-01],\n",
              "       [ 2.68389711e-01],\n",
              "       [ 5.43622478e-01],\n",
              "       [ 2.54484222e-01],\n",
              "       [ 3.33601655e-01],\n",
              "       [ 4.19432083e-01],\n",
              "       [ 5.23003995e-01],\n",
              "       [ 6.03559927e-01],\n",
              "       [ 4.62107547e-01],\n",
              "       [ 5.64508899e-02],\n",
              "       [-1.16648464e-01],\n",
              "       [-3.65720313e-02],\n",
              "       [ 4.05526594e-01],\n",
              "       [ 2.94282689e-01],\n",
              "       [ 3.11544674e-01],\n",
              "       [ 2.57361220e-01],\n",
              "       [ 2.49209727e-01],\n",
              "       [ 1.87354279e-01],\n",
              "       [ 7.03563782e-02],\n",
              "       [ 1.95985272e-01],\n",
              "       [ 1.25978331e-01],\n",
              "       [ 2.92364690e-01],\n",
              "       [ 3.27847660e-01],\n",
              "       [ 2.80377200e-01],\n",
              "       [ 2.65033213e-01],\n",
              "       [ 3.37437652e-01],\n",
              "       [ 1.30446564e+01],\n",
              "       [ 1.44011607e+01],\n",
              "       [ 4.09719397e+00],\n",
              "       [ 1.49926517e+00],\n",
              "       [ 1.15738196e+00],\n",
              "       [ 1.08785452e+00],\n",
              "       [ 1.25855637e+00],\n",
              "       [ 1.47385169e+00],\n",
              "       [ 1.13340698e+00],\n",
              "       [ 2.72246863e+00],\n",
              "       [ 9.68459118e-01],\n",
              "       [ 8.42350725e-01],\n",
              "       [ 1.21012691e+00],\n",
              "       [ 1.02599907e+00],\n",
              "       [ 9.79967108e-01],\n",
              "       [ 1.01640908e+00],\n",
              "       [ 1.06196154e+00],\n",
              "       [ 9.15714163e-01],\n",
              "       [ 6.03559927e-01],\n",
              "       [ 5.34032486e-01],\n",
              "       [ 7.31106819e-01],\n",
              "       [ 7.38299313e-01],\n",
              "       [ 1.35301779e+00],\n",
              "       [ 1.22163490e+00],\n",
              "       [ 5.97326432e-01],\n",
              "       [ 9.69418117e-01],\n",
              "       [ 1.11998099e+00],\n",
              "       [ 1.11518599e+00],\n",
              "       [ 1.92266331e+00],\n",
              "       [ 3.30122464e+00],\n",
              "       [ 1.43309422e+00],\n",
              "       [ 9.03247173e-01],\n",
              "       [ 5.80064447e-01],\n",
              "       [ 5.60404963e-01],\n",
              "       [ 5.71433454e-01],\n",
              "       [ 8.91739183e-01],\n",
              "       [ 1.06148204e+00],\n",
              "       [ 8.60092210e-01],\n",
              "       [ 8.61051209e-01],\n",
              "       [ 8.04949756e-01],\n",
              "       [ 5.83900443e-01],\n",
              "       [ 7.49327803e-01],\n",
              "       [ 1.03942506e+00],\n",
              "       [ 8.16937246e-01],\n",
              "       [ 8.81190192e-01],\n",
              "       [ 8.29404236e-01],\n",
              "       [ 8.32281233e-01],\n",
              "       [ 4.91836521e-01],\n",
              "       [ 3.95936603e-01],\n",
              "       [ 6.46714890e-01],\n",
              "       [ 6.33288902e-01],\n",
              "       [ 6.45276392e-01],\n",
              "       [ 5.39786481e-01],\n",
              "       [ 4.63066546e-01],\n",
              "       [ 2.05095764e-01],\n",
              "       [ 2.56402221e-01],\n",
              "       [ 4.98070016e-01],\n",
              "       [ 6.16506416e-01],\n",
              "       [ 7.52684301e-01],\n",
              "       [ 1.02504007e+00],\n",
              "       [ 8.85505688e-01],\n",
              "       [ 4.67382042e-01],\n",
              "       [ 5.35470984e-01],\n",
              "       [ 6.41440395e-01],\n",
              "       [ 6.03080427e-01],\n",
              "       [ 5.47458474e-01],\n",
              "       [ 4.92795521e-01],\n",
              "       [ 4.34296570e-01],\n",
              "       [ 6.16026916e-01],\n",
              "       [ 8.62010208e-01],\n",
              "       [ 8.51940717e-01],\n",
              "       [ 1.90731932e+00],\n",
              "       [ 1.58701359e+00],\n",
              "       [ 1.02983507e+00],\n",
              "       [ 8.03511258e-01],\n",
              "       [ 6.87951855e-01],\n",
              "       [ 8.43309724e-01],\n",
              "       [ 9.16673162e-01],\n",
              "       [ 7.56040798e-01],\n",
              "       [ 7.73782283e-01],\n",
              "       [ 6.34727400e-01],\n",
              "       [ 4.34776070e-01],\n",
              "       [ 4.33337571e-01],\n",
              "       [ 6.73087368e-01],\n",
              "       [ 7.55561298e-01],\n",
              "       [ 8.00154760e-01],\n",
              "       [ 6.52948385e-01],\n",
              "       [ 4.49640557e-01],\n",
              "       [ 3.08188177e-01],\n",
              "       [ 2.27152745e-01],\n",
              "       [ 3.14421672e-01],\n",
              "       [ 5.74310452e-01],\n",
              "       [ 4.72656538e-01],\n",
              "       [ 4.25186078e-01],\n",
              "       [ 3.81551615e-01],\n",
              "       [ 2.17562754e-01],\n",
              "       [ 1.65297298e-01],\n",
              "       [ 3.64289629e-01],\n",
              "       [ 6.50550887e-01],\n",
              "       [ 5.40265980e-01],\n",
              "       [ 3.49904642e-01],\n",
              "       [ 4.16075586e-01],\n",
              "       [ 3.38396651e-01],\n",
              "       [ 1.76325788e-01],\n",
              "       [ 1.98382770e-01],\n",
              "       [ 4.76972034e-01],\n",
              "       [ 6.03080427e-01],\n",
              "       [ 4.64025545e-01],\n",
              "       [ 3.56138136e-01],\n",
              "       [ 2.70307709e-01],\n",
              "       [ 3.21134666e-01],\n",
              "       [ 2.66471712e-01],\n",
              "       [ 5.50814971e-01],\n",
              "       [ 6.00203430e-01],\n",
              "       [ 4.21829581e-01],\n",
              "       [ 3.84428612e-01],\n",
              "       [ 4.88959524e-01],\n",
              "       [ 9.67979618e-01],\n",
              "       [ 1.45754870e+00],\n",
              "       [ 1.03942506e+00],\n",
              "       [ 7.29188821e-01],\n",
              "       [ 6.04039426e-01],\n",
              "       [ 8.30842734e-01],\n",
              "       [ 5.93490435e-01],\n",
              "       [ 3.46548144e-01],\n",
              "       [ 5.34991485e-01],\n",
              "       [ 8.18375745e-01],\n",
              "       [ 6.38563397e-01],\n",
              "       [ 6.80759362e-01],\n",
              "       [ 5.53691969e-01],\n",
              "       [ 2.45373730e-01],\n",
              "       [ 1.53309808e-01],\n",
              "       [ 2.65992213e-01],\n",
              "       [ 1.34534580e+00],\n",
              "       [ 1.29595734e+00],\n",
              "       [ 5.67597457e-01],\n",
              "       [ 6.53427885e-01],\n",
              "       [ 6.03080427e-01],\n",
              "       [-4.05786719e-01]])"
            ]
          },
          "metadata": {
            "tags": []
          },
          "execution_count": 247
        }
      ]
    },
    {
      "cell_type": "code",
      "metadata": {
        "colab": {
          "base_uri": "https://localhost:8080/"
        },
        "id": "e0sz_bzGV8qX",
        "outputId": "279adedb-5a6e-4c36-c484-3ef980f7bbc0"
      },
      "source": [
        "# Creating a data structure with 90 timestamps and 1 output\n",
        "X_train = []\n",
        "y_train = []\n",
        "\n",
        "n_future = 60   # Number of days we want top predict into the future\n",
        "n_past = 90     # Number of past days we want to use to predict the future\n",
        "\n",
        "for i in range(n_past, len(training_set_scaled) - n_future +1):\n",
        "    X_train.append(training_set_scaled[i - n_past:i, 0:dataset_train.shape[1] - 1])\n",
        "    y_train.append(training_set_scaled[i + n_future - 1:i + n_future, 0])\n",
        "\n",
        "X_train, y_train = np.array(X_train), np.array(y_train)\n",
        "\n",
        "print('X_train shape == {}.'.format(X_train.shape))\n",
        "print('y_train shape == {}.'.format(y_train.shape))"
      ],
      "execution_count": null,
      "outputs": [
        {
          "output_type": "stream",
          "text": [
            "X_train shape == (710, 90, 0).\n",
            "y_train shape == (710, 1).\n"
          ],
          "name": "stdout"
        }
      ]
    },
    {
      "cell_type": "code",
      "metadata": {
        "id": "lPN-oCm4V8tX"
      },
      "source": [
        "# Import Libraries and packages from Keras\n",
        "from keras.models import Sequential\n",
        "from keras.layers import Dense\n",
        "from keras.layers import LSTM\n",
        "from keras.layers import Dropout\n",
        "from keras.optimizers import Adam"
      ],
      "execution_count": null,
      "outputs": []
    },
    {
      "cell_type": "code",
      "metadata": {
        "id": "OwCBsnMJV8wM"
      },
      "source": [
        "\n",
        "# Initializing the Neural Network based on LSTM\n",
        "model = Sequential()\n",
        "\n",
        "# Adding 1st LSTM layer\n",
        "model.add(LSTM(units=64, return_sequences=True, input_shape=(n_past, dataset_train.shape[1]-1)))\n",
        "\n",
        "# Adding 2nd LSTM layer\n",
        "model.add(LSTM(units=10, return_sequences=False))\n",
        "\n",
        "# Adding Dropout\n",
        "model.add(Dropout(0.25))\n",
        "\n",
        "# Output layer\n",
        "model.add(Dense(units=1, activation='linear'))\n",
        "\n",
        "# Compiling the Neural Network\n",
        "model.compile(optimizer = Adam(learning_rate=0.01), loss='mean_squared_error')"
      ],
      "execution_count": null,
      "outputs": []
    },
    {
      "cell_type": "code",
      "metadata": {
        "colab": {
          "base_uri": "https://localhost:8080/"
        },
        "id": "fbqigp3LV8zG",
        "outputId": "88930ac5-03d9-431d-ee57-f97275d2ca11"
      },
      "source": [
        "%%time\n",
        "es = EarlyStopping(monitor='val_loss', min_delta=1e-10, patience=10, verbose=1)\n",
        "rlr = ReduceLROnPlateau(monitor='val_loss', factor=0.5, patience=10, verbose=1)\n",
        "mcp = ModelCheckpoint(filepath='weights.h5', monitor='val_loss', verbose=1, save_best_only=True, save_weights_only=True)\n",
        "\n",
        "tb = TensorBoard('logs')\n",
        "\n",
        "history = model.fit(X_train, y_train, shuffle=True, epochs=30, callbacks=[es, rlr, mcp, tb], validation_split=0.2, verbose=1, batch_size=256)"
      ],
      "execution_count": null,
      "outputs": [
        {
          "output_type": "stream",
          "text": [
            "Epoch 1/30\n",
            "3/3 [==============================] - 5s 914ms/step - loss: 0.5358 - val_loss: 3.8103\n",
            "\n",
            "Epoch 00001: val_loss improved from inf to 3.81027, saving model to weights.h5\n",
            "Epoch 2/30\n",
            "3/3 [==============================] - 1s 204ms/step - loss: 0.5088 - val_loss: 3.4774\n",
            "\n",
            "Epoch 00002: val_loss improved from 3.81027 to 3.47739, saving model to weights.h5\n",
            "Epoch 3/30\n",
            "3/3 [==============================] - 1s 200ms/step - loss: 0.5048 - val_loss: 3.6585\n",
            "\n",
            "Epoch 00003: val_loss did not improve from 3.47739\n",
            "Epoch 4/30\n",
            "3/3 [==============================] - 1s 201ms/step - loss: 0.5084 - val_loss: 3.6880\n",
            "\n",
            "Epoch 00004: val_loss did not improve from 3.47739\n",
            "Epoch 5/30\n",
            "3/3 [==============================] - 1s 192ms/step - loss: 0.4870 - val_loss: 3.6600\n",
            "\n",
            "Epoch 00005: val_loss did not improve from 3.47739\n",
            "Epoch 6/30\n",
            "3/3 [==============================] - 1s 207ms/step - loss: 0.4825 - val_loss: 3.5880\n",
            "\n",
            "Epoch 00006: val_loss did not improve from 3.47739\n",
            "Epoch 7/30\n",
            "3/3 [==============================] - 1s 200ms/step - loss: 0.4874 - val_loss: 3.5668\n",
            "\n",
            "Epoch 00007: val_loss did not improve from 3.47739\n",
            "Epoch 8/30\n",
            "3/3 [==============================] - 1s 194ms/step - loss: 0.4993 - val_loss: 3.5790\n",
            "\n",
            "Epoch 00008: val_loss did not improve from 3.47739\n",
            "Epoch 9/30\n",
            "3/3 [==============================] - 1s 198ms/step - loss: 0.4691 - val_loss: 3.6307\n",
            "\n",
            "Epoch 00009: val_loss did not improve from 3.47739\n",
            "Epoch 10/30\n",
            "3/3 [==============================] - 1s 197ms/step - loss: 0.4816 - val_loss: 3.6396\n",
            "\n",
            "Epoch 00010: val_loss did not improve from 3.47739\n",
            "Epoch 11/30\n",
            "3/3 [==============================] - 1s 199ms/step - loss: 0.5151 - val_loss: 3.5958\n",
            "\n",
            "Epoch 00011: val_loss did not improve from 3.47739\n",
            "Epoch 12/30\n",
            "3/3 [==============================] - 1s 197ms/step - loss: 0.5022 - val_loss: 3.5655\n",
            "\n",
            "Epoch 00012: ReduceLROnPlateau reducing learning rate to 0.004999999888241291.\n",
            "\n",
            "Epoch 00012: val_loss did not improve from 3.47739\n",
            "Epoch 00012: early stopping\n",
            "CPU times: user 15.6 s, sys: 875 ms, total: 16.5 s\n",
            "Wall time: 11.9 s\n"
          ],
          "name": "stdout"
        }
      ]
    },
    {
      "cell_type": "code",
      "metadata": {
        "id": "QqZQL6f9V84w"
      },
      "source": [
        "# Generate list of sequence of days for predictions\n",
        "datelist_future = pd.date_range(datelist_train[-1], periods=n_future, freq='1d').tolist()\n",
        "\n",
        "'''\n",
        "Remeber, we have datelist_train from begining.\n",
        "'''\n",
        "\n",
        "# Convert Pandas Timestamp to Datetime object (for transformation) --> FUTURE\n",
        "datelist_future_ = []\n",
        "for this_timestamp in datelist_future:\n",
        "    datelist_future_.append(this_timestamp.date())"
      ],
      "execution_count": null,
      "outputs": []
    },
    {
      "cell_type": "code",
      "metadata": {
        "colab": {
          "base_uri": "https://localhost:8080/",
          "height": 544
        },
        "id": "mk_HobaWV87f",
        "outputId": "70044ee7-9b00-433d-fd05-fae0fbeb3913"
      },
      "source": [
        "#7 may is last date\n",
        "\n",
        "# Generate list of sequence of days for predictions\n",
        "datelist_future = pd.date_range(datelist_train , periods=n_future, freq='1d').tolist()\n",
        "\n",
        "'''\n",
        "Remeber, we have datelist_train from begining.\n",
        "'''\n",
        "\n",
        "# Convert Pandas Timestamp to Datetime object (for transformation) --> FUTURE\n",
        "datelist_future_ = []\n",
        "for this_timestamp in datelist_future:\n",
        "    datelist_future_.append(this_timestamp.date())"
      ],
      "execution_count": null,
      "outputs": [
        {
          "output_type": "error",
          "ename": "TypeError",
          "evalue": "ignored",
          "traceback": [
            "\u001b[0;31m---------------------------------------------------------------------------\u001b[0m",
            "\u001b[0;31mTypeError\u001b[0m                                 Traceback (most recent call last)",
            "\u001b[0;32m<ipython-input-256-c95e8430014a>\u001b[0m in \u001b[0;36m<module>\u001b[0;34m()\u001b[0m\n\u001b[1;32m      2\u001b[0m \u001b[0;34m\u001b[0m\u001b[0m\n\u001b[1;32m      3\u001b[0m \u001b[0;31m# Generate list of sequence of days for predictions\u001b[0m\u001b[0;34m\u001b[0m\u001b[0;34m\u001b[0m\u001b[0;34m\u001b[0m\u001b[0m\n\u001b[0;32m----> 4\u001b[0;31m \u001b[0mdatelist_future\u001b[0m \u001b[0;34m=\u001b[0m \u001b[0mpd\u001b[0m\u001b[0;34m.\u001b[0m\u001b[0mdate_range\u001b[0m\u001b[0;34m(\u001b[0m\u001b[0mdatelist_train\u001b[0m \u001b[0;34m,\u001b[0m \u001b[0mperiods\u001b[0m\u001b[0;34m=\u001b[0m\u001b[0mn_future\u001b[0m\u001b[0;34m,\u001b[0m \u001b[0mfreq\u001b[0m\u001b[0;34m=\u001b[0m\u001b[0;34m'1d'\u001b[0m\u001b[0;34m)\u001b[0m\u001b[0;34m\u001b[0m\u001b[0;34m\u001b[0m\u001b[0m\n\u001b[0m\u001b[1;32m      5\u001b[0m \u001b[0;34m\u001b[0m\u001b[0m\n\u001b[1;32m      6\u001b[0m '''\n",
            "\u001b[0;32m/usr/local/lib/python3.7/dist-packages/pandas/core/indexes/datetimes.py\u001b[0m in \u001b[0;36mdate_range\u001b[0;34m(start, end, periods, freq, tz, normalize, name, closed, **kwargs)\u001b[0m\n\u001b[1;32m   1005\u001b[0m         \u001b[0mnormalize\u001b[0m\u001b[0;34m=\u001b[0m\u001b[0mnormalize\u001b[0m\u001b[0;34m,\u001b[0m\u001b[0;34m\u001b[0m\u001b[0;34m\u001b[0m\u001b[0m\n\u001b[1;32m   1006\u001b[0m         \u001b[0mclosed\u001b[0m\u001b[0;34m=\u001b[0m\u001b[0mclosed\u001b[0m\u001b[0;34m,\u001b[0m\u001b[0;34m\u001b[0m\u001b[0;34m\u001b[0m\u001b[0m\n\u001b[0;32m-> 1007\u001b[0;31m         \u001b[0;34m**\u001b[0m\u001b[0mkwargs\u001b[0m\u001b[0;34m,\u001b[0m\u001b[0;34m\u001b[0m\u001b[0;34m\u001b[0m\u001b[0m\n\u001b[0m\u001b[1;32m   1008\u001b[0m     )\n\u001b[1;32m   1009\u001b[0m     \u001b[0;32mreturn\u001b[0m \u001b[0mDatetimeIndex\u001b[0m\u001b[0;34m.\u001b[0m\u001b[0m_simple_new\u001b[0m\u001b[0;34m(\u001b[0m\u001b[0mdtarr\u001b[0m\u001b[0;34m,\u001b[0m \u001b[0mname\u001b[0m\u001b[0;34m=\u001b[0m\u001b[0mname\u001b[0m\u001b[0;34m)\u001b[0m\u001b[0;34m\u001b[0m\u001b[0;34m\u001b[0m\u001b[0m\n",
            "\u001b[0;32m/usr/local/lib/python3.7/dist-packages/pandas/core/arrays/datetimes.py\u001b[0m in \u001b[0;36m_generate_range\u001b[0;34m(cls, start, end, periods, freq, tz, normalize, ambiguous, nonexistent, closed)\u001b[0m\n\u001b[1;32m    369\u001b[0m \u001b[0;34m\u001b[0m\u001b[0m\n\u001b[1;32m    370\u001b[0m         \u001b[0;32mif\u001b[0m \u001b[0mstart\u001b[0m \u001b[0;32mis\u001b[0m \u001b[0;32mnot\u001b[0m \u001b[0;32mNone\u001b[0m\u001b[0;34m:\u001b[0m\u001b[0;34m\u001b[0m\u001b[0;34m\u001b[0m\u001b[0m\n\u001b[0;32m--> 371\u001b[0;31m             \u001b[0mstart\u001b[0m \u001b[0;34m=\u001b[0m \u001b[0mTimestamp\u001b[0m\u001b[0;34m(\u001b[0m\u001b[0mstart\u001b[0m\u001b[0;34m)\u001b[0m\u001b[0;34m\u001b[0m\u001b[0;34m\u001b[0m\u001b[0m\n\u001b[0m\u001b[1;32m    372\u001b[0m \u001b[0;34m\u001b[0m\u001b[0m\n\u001b[1;32m    373\u001b[0m         \u001b[0;32mif\u001b[0m \u001b[0mend\u001b[0m \u001b[0;32mis\u001b[0m \u001b[0;32mnot\u001b[0m \u001b[0;32mNone\u001b[0m\u001b[0;34m:\u001b[0m\u001b[0;34m\u001b[0m\u001b[0;34m\u001b[0m\u001b[0m\n",
            "\u001b[0;32mpandas/_libs/tslibs/timestamps.pyx\u001b[0m in \u001b[0;36mpandas._libs.tslibs.timestamps.Timestamp.__new__\u001b[0;34m()\u001b[0m\n",
            "\u001b[0;32mpandas/_libs/tslibs/conversion.pyx\u001b[0m in \u001b[0;36mpandas._libs.tslibs.conversion.convert_to_tsobject\u001b[0;34m()\u001b[0m\n",
            "\u001b[0;31mTypeError\u001b[0m: Cannot convert input [[Timestamp('2019-01-01 00:00:00'), Timestamp('2019-01-02 00:00:00'), Timestamp('2019-01-03 00:00:00'), Timestamp('2019-01-04 00:00:00'), Timestamp('2019-01-05 00:00:00'), Timestamp('2019-01-06 00:00:00'), Timestamp('2019-01-07 00:00:00'), Timestamp('2019-01-08 00:00:00'), Timestamp('2019-01-09 00:00:00'), Timestamp('2019-01-10 00:00:00'), Timestamp('2019-01-11 00:00:00'), Timestamp('2019-01-12 00:00:00'), Timestamp('2019-01-13 00:00:00'), Timestamp('2019-01-14 00:00:00'), Timestamp('2019-01-15 00:00:00'), Timestamp('2019-01-16 00:00:00'), Timestamp('2019-01-17 00:00:00'), Timestamp('2019-01-18 00:00:00'), Timestamp('2019-01-19 00:00:00'), Timestamp('2019-01-20 00:00:00'), Timestamp('2019-01-21 00:00:00'), Timestamp('2019-01-22 00:00:00'), Timestamp('2019-01-23 00:00:00'), Timestamp('2019-01-24 00:00:00'), Timestamp('2019-01-25 00:00:00'), Timestamp('2019-01-26 00:00:00'), Timestamp('2019-01-27 00:00:00'), Timestamp('2019-01-28 00:00:00'), Timestamp('2019-01-29 00:00:00'), Timestamp('2019-01-30 00:00:00'), Timestamp('2019-01-31 00:00:00'), Timestamp('2019-02-01 00:00:00'), Timestamp('2019-02-02 00:00:00'), Timestamp('2019-02-03 00:00:00'), Timestamp('2019-02-04 00:00:00'), Timestamp('2019-02-05 00:00:00'), Timestamp('2019-02-06 00:00:00'), Timestamp('2019-02-07 00:00:00'), Timestamp('2019-02-08 00:00:00'), Timestamp('2019-02-09 00:00:00'), Timestamp('2019-02-10 00:00:00'), Timestamp('2019-02-11 00:00:00'), Timestamp('2019-02-12 00..."
          ]
        }
      ]
    },
    {
      "cell_type": "code",
      "metadata": {
        "id": "tmoCVAuyV8-X"
      },
      "source": [
        "# Perform predictions\n",
        "predictions_future = model.predict(X_train[-n_future:])\n",
        "\n",
        "predictions_train = model.predict(X_train[n_past:])"
      ],
      "execution_count": null,
      "outputs": []
    },
    {
      "cell_type": "code",
      "metadata": {
        "colab": {
          "base_uri": "https://localhost:8080/"
        },
        "id": "jNMNSVirb_nh",
        "outputId": "c9844b87-67db-4e90-e266-e51b00f4a059"
      },
      "source": [
        "predictions_future[0:3]"
      ],
      "execution_count": null,
      "outputs": [
        {
          "output_type": "execute_result",
          "data": {
            "text/plain": [
              "array([[-0.03224213],\n",
              "       [-0.03224213],\n",
              "       [-0.03224213]], dtype=float32)"
            ]
          },
          "metadata": {
            "tags": []
          },
          "execution_count": 259
        }
      ]
    },
    {
      "cell_type": "code",
      "metadata": {
        "colab": {
          "base_uri": "https://localhost:8080/",
          "height": 142
        },
        "id": "ynC2_F66V9BA",
        "outputId": "cf6f996b-c0c7-4b7f-8c1d-b91ade284cf8"
      },
      "source": [
        "# Inverse the predictions to original measurements\n",
        "\n",
        "# ---> Special function: convert <datetime.date> to <Timestamp>\n",
        "def datetime_to_timestamp(x):\n",
        "    '''\n",
        "        x : a given datetime value (datetime.date)\n",
        "    '''\n",
        "    return datetime.strptime(x.strftime('%Y%m%d'), '%Y%m%d')\n",
        "\n",
        "\n",
        "y_pred_future = sc_predict.inverse_transform(predictions_future)\n",
        "y_pred_train = sc_predict.inverse_transform(predictions_train)\n",
        "\n",
        "PREDICTIONS_FUTURE = pd.DataFrame(y_pred_future, columns=['Users']).set_index(pd.Series(datelist_future))\n",
        "PREDICTION_TRAIN = pd.DataFrame(y_pred_train, columns=['Users']).set_index(pd.Series(datelist_train[2 * n_past + n_future -1:]))\n",
        "\n",
        "# Convert <datetime.date> to <Timestamp> for PREDCITION_TRAIN\n",
        "PREDICTION_TRAIN.index = PREDICTION_TRAIN.index.to_series().apply(datetime_to_timestamp)\n",
        "\n",
        "PREDICTION_TRAIN.head(3)"
      ],
      "execution_count": null,
      "outputs": [
        {
          "output_type": "execute_result",
          "data": {
            "text/html": [
              "<div>\n",
              "<style scoped>\n",
              "    .dataframe tbody tr th:only-of-type {\n",
              "        vertical-align: middle;\n",
              "    }\n",
              "\n",
              "    .dataframe tbody tr th {\n",
              "        vertical-align: top;\n",
              "    }\n",
              "\n",
              "    .dataframe thead th {\n",
              "        text-align: right;\n",
              "    }\n",
              "</style>\n",
              "<table border=\"1\" class=\"dataframe\">\n",
              "  <thead>\n",
              "    <tr style=\"text-align: right;\">\n",
              "      <th></th>\n",
              "      <th>Users</th>\n",
              "    </tr>\n",
              "  </thead>\n",
              "  <tbody>\n",
              "    <tr>\n",
              "      <th>2019-08-28</th>\n",
              "      <td>2048.284424</td>\n",
              "    </tr>\n",
              "    <tr>\n",
              "      <th>2019-08-29</th>\n",
              "      <td>2048.284424</td>\n",
              "    </tr>\n",
              "    <tr>\n",
              "      <th>2019-08-30</th>\n",
              "      <td>2048.284424</td>\n",
              "    </tr>\n",
              "  </tbody>\n",
              "</table>\n",
              "</div>"
            ],
            "text/plain": [
              "                  Users\n",
              "2019-08-28  2048.284424\n",
              "2019-08-29  2048.284424\n",
              "2019-08-30  2048.284424"
            ]
          },
          "metadata": {
            "tags": []
          },
          "execution_count": 221
        }
      ]
    },
    {
      "cell_type": "markdown",
      "metadata": {
        "id": "SAzFq8l9cXY7"
      },
      "source": [
        "## Arima Python"
      ]
    },
    {
      "cell_type": "code",
      "metadata": {
        "id": "clU5RFtDca80"
      },
      "source": [
        "df= pd.read_csv(r'Webstore_Sales_Report_Page 2_Time series (1) (1).csv',index_col='Date',parse_dates=True)"
      ],
      "execution_count": null,
      "outputs": []
    },
    {
      "cell_type": "code",
      "metadata": {
        "colab": {
          "base_uri": "https://localhost:8080/"
        },
        "id": "r0_x8irAca_t",
        "outputId": "3dd8dbeb-7e9f-43fe-8fd8-831b1ceb4f42"
      },
      "source": [
        "!pip install pmdarima"
      ],
      "execution_count": null,
      "outputs": [
        {
          "output_type": "stream",
          "text": [
            "Requirement already satisfied: pmdarima in /usr/local/lib/python3.7/dist-packages (1.8.2)\n",
            "Requirement already satisfied: pandas>=0.19 in /usr/local/lib/python3.7/dist-packages (from pmdarima) (1.1.5)\n",
            "Requirement already satisfied: numpy~=1.19.0 in /usr/local/lib/python3.7/dist-packages (from pmdarima) (1.19.5)\n",
            "Requirement already satisfied: urllib3 in /usr/local/lib/python3.7/dist-packages (from pmdarima) (1.24.3)\n",
            "Requirement already satisfied: joblib>=0.11 in /usr/local/lib/python3.7/dist-packages (from pmdarima) (1.0.1)\n",
            "Requirement already satisfied: setuptools!=50.0.0,>=38.6.0 in /usr/local/lib/python3.7/dist-packages (from pmdarima) (56.1.0)\n",
            "Requirement already satisfied: statsmodels!=0.12.0,>=0.11 in /usr/local/lib/python3.7/dist-packages (from pmdarima) (0.12.2)\n",
            "Requirement already satisfied: scipy>=1.3.2 in /usr/local/lib/python3.7/dist-packages (from pmdarima) (1.4.1)\n",
            "Requirement already satisfied: scikit-learn>=0.22 in /usr/local/lib/python3.7/dist-packages (from pmdarima) (0.22.2.post1)\n",
            "Requirement already satisfied: Cython!=0.29.18,>=0.29 in /usr/local/lib/python3.7/dist-packages (from pmdarima) (0.29.22)\n",
            "Requirement already satisfied: pytz>=2017.2 in /usr/local/lib/python3.7/dist-packages (from pandas>=0.19->pmdarima) (2018.9)\n",
            "Requirement already satisfied: python-dateutil>=2.7.3 in /usr/local/lib/python3.7/dist-packages (from pandas>=0.19->pmdarima) (2.8.1)\n",
            "Requirement already satisfied: patsy>=0.5 in /usr/local/lib/python3.7/dist-packages (from statsmodels!=0.12.0,>=0.11->pmdarima) (0.5.1)\n",
            "Requirement already satisfied: six>=1.5 in /usr/local/lib/python3.7/dist-packages (from python-dateutil>=2.7.3->pandas>=0.19->pmdarima) (1.15.0)\n"
          ],
          "name": "stdout"
        }
      ]
    },
    {
      "cell_type": "code",
      "metadata": {
        "id": "oEGtMSZxcbCp"
      },
      "source": [
        "#check for stationarity \n",
        "from statsmodels.tsa.stattools import adfuller\n",
        "def ad_test(dataset):\n",
        "  dftest=adfuller(dataset,autolag = 'AIC')\n",
        "  print(\"1. ADF :\", dftest[0])\n",
        "  print(\"2. p-value :\", dftest[1])\n",
        "  print(\"3. num of lags :\", dftest[2])\n",
        "  print(\"4. n of oberservations used for adf regression and critical value calculation :\", dftest[3])\n",
        "  print(\"5. critical value :\")\n",
        "  for key, val in dftest[4].items():\n",
        "    print(\"\\t\",key, \": \",val)"
      ],
      "execution_count": null,
      "outputs": []
    },
    {
      "cell_type": "code",
      "metadata": {
        "colab": {
          "base_uri": "https://localhost:8080/"
        },
        "id": "Y1N43XEZcbFp",
        "outputId": "998f88f4-ffec-40d5-e9d8-d052437a3602"
      },
      "source": [
        "ad_test(df['Users'])"
      ],
      "execution_count": null,
      "outputs": [
        {
          "output_type": "stream",
          "text": [
            "1. ADF : -3.298377827933395\n",
            "2. p-value : 0.014951141527384457\n",
            "3. num of lags : 12\n",
            "4. n of oberservations used for adf regression and critical value calculation : 846\n",
            "5. critical value :\n",
            "\t 1% :  -3.4381032536542913\n",
            "\t 5% :  -2.8649624121419746\n",
            "\t 10% :  -2.5685923644574107\n"
          ],
          "name": "stdout"
        }
      ]
    },
    {
      "cell_type": "code",
      "metadata": {
        "id": "zQFnIeEvcbIY"
      },
      "source": [
        "from pmdarima import auto_arima\n",
        "import warnings\n",
        "warnings.filterwarnings('ignore')"
      ],
      "execution_count": null,
      "outputs": []
    },
    {
      "cell_type": "code",
      "metadata": {
        "id": "cRMPtqR-cbLJ",
        "colab": {
          "base_uri": "https://localhost:8080/"
        },
        "outputId": "12aa08aa-e822-40d7-9285-0e27ceb1e329"
      },
      "source": [
        "stepwise_fit= auto_arima(df['Users'],trace=True,suppress_warnings=True)"
      ],
      "execution_count": null,
      "outputs": [
        {
          "output_type": "stream",
          "text": [
            "Performing stepwise search to minimize aic\n",
            " ARIMA(2,1,2)(0,0,0)[0] intercept   : AIC=14506.943, Time=1.66 sec\n",
            " ARIMA(0,1,0)(0,0,0)[0] intercept   : AIC=14786.253, Time=0.04 sec\n",
            " ARIMA(1,1,0)(0,0,0)[0] intercept   : AIC=14785.341, Time=0.08 sec\n",
            " ARIMA(0,1,1)(0,0,0)[0] intercept   : AIC=14774.272, Time=0.13 sec\n",
            " ARIMA(0,1,0)(0,0,0)[0]             : AIC=14784.254, Time=0.02 sec\n",
            " ARIMA(1,1,2)(0,0,0)[0] intercept   : AIC=14504.944, Time=1.46 sec\n",
            " ARIMA(0,1,2)(0,0,0)[0] intercept   : AIC=14537.084, Time=0.82 sec\n",
            " ARIMA(1,1,1)(0,0,0)[0] intercept   : AIC=14719.304, Time=1.05 sec\n",
            " ARIMA(1,1,3)(0,0,0)[0] intercept   : AIC=14506.942, Time=1.66 sec\n",
            " ARIMA(0,1,3)(0,0,0)[0] intercept   : AIC=14507.936, Time=0.65 sec\n",
            " ARIMA(2,1,1)(0,0,0)[0] intercept   : AIC=14556.117, Time=1.15 sec\n",
            " ARIMA(2,1,3)(0,0,0)[0] intercept   : AIC=14508.507, Time=1.91 sec\n",
            " ARIMA(1,1,2)(0,0,0)[0]             : AIC=14503.923, Time=0.47 sec\n",
            " ARIMA(0,1,2)(0,0,0)[0]             : AIC=14536.325, Time=0.14 sec\n",
            " ARIMA(1,1,1)(0,0,0)[0]             : AIC=14717.304, Time=0.55 sec\n",
            " ARIMA(2,1,2)(0,0,0)[0]             : AIC=14505.913, Time=0.65 sec\n",
            " ARIMA(1,1,3)(0,0,0)[0]             : AIC=14507.474, Time=0.38 sec\n",
            " ARIMA(0,1,1)(0,0,0)[0]             : AIC=14772.273, Time=0.06 sec\n",
            " ARIMA(0,1,3)(0,0,0)[0]             : AIC=14506.695, Time=0.18 sec\n",
            " ARIMA(2,1,1)(0,0,0)[0]             : AIC=14554.636, Time=0.50 sec\n",
            " ARIMA(2,1,3)(0,0,0)[0]             : AIC=14508.994, Time=0.62 sec\n",
            "\n",
            "Best model:  ARIMA(1,1,2)(0,0,0)[0]          \n",
            "Total fit time: 14.221 seconds\n"
          ],
          "name": "stdout"
        }
      ]
    },
    {
      "cell_type": "code",
      "metadata": {
        "id": "roPdCV-Gdglj",
        "colab": {
          "base_uri": "https://localhost:8080/",
          "height": 444
        },
        "outputId": "f50db7b2-5b6b-4d0d-d749-0ed88064c105"
      },
      "source": [
        "stepwise_fit.summary()"
      ],
      "execution_count": null,
      "outputs": [
        {
          "output_type": "execute_result",
          "data": {
            "text/html": [
              "<table class=\"simpletable\">\n",
              "<caption>SARIMAX Results</caption>\n",
              "<tr>\n",
              "  <th>Dep. Variable:</th>           <td>y</td>        <th>  No. Observations:  </th>    <td>859</td>   \n",
              "</tr>\n",
              "<tr>\n",
              "  <th>Model:</th>           <td>SARIMAX(1, 1, 2)</td> <th>  Log Likelihood     </th> <td>-7247.962</td>\n",
              "</tr>\n",
              "<tr>\n",
              "  <th>Date:</th>            <td>Mon, 10 May 2021</td> <th>  AIC                </th> <td>14503.923</td>\n",
              "</tr>\n",
              "<tr>\n",
              "  <th>Time:</th>                <td>13:59:31</td>     <th>  BIC                </th> <td>14522.942</td>\n",
              "</tr>\n",
              "<tr>\n",
              "  <th>Sample:</th>                  <td>0</td>        <th>  HQIC               </th> <td>14511.205</td>\n",
              "</tr>\n",
              "<tr>\n",
              "  <th></th>                      <td> - 859</td>      <th>                     </th>     <td> </td>    \n",
              "</tr>\n",
              "<tr>\n",
              "  <th>Covariance Type:</th>        <td>opg</td>       <th>                     </th>     <td> </td>    \n",
              "</tr>\n",
              "</table>\n",
              "<table class=\"simpletable\">\n",
              "<tr>\n",
              "     <td></td>       <th>coef</th>     <th>std err</th>      <th>z</th>      <th>P>|z|</th>  <th>[0.025</th>    <th>0.975]</th>  \n",
              "</tr>\n",
              "<tr>\n",
              "  <th>ar.L1</th>  <td>    0.2935</td> <td>    0.019</td> <td>   15.497</td> <td> 0.000</td> <td>    0.256</td> <td>    0.331</td>\n",
              "</tr>\n",
              "<tr>\n",
              "  <th>ma.L1</th>  <td>   -0.3511</td> <td>    0.019</td> <td>  -18.432</td> <td> 0.000</td> <td>   -0.388</td> <td>   -0.314</td>\n",
              "</tr>\n",
              "<tr>\n",
              "  <th>ma.L2</th>  <td>   -0.5824</td> <td>    0.011</td> <td>  -55.449</td> <td> 0.000</td> <td>   -0.603</td> <td>   -0.562</td>\n",
              "</tr>\n",
              "<tr>\n",
              "  <th>sigma2</th> <td> 1.271e+06</td> <td> 5506.406</td> <td>  230.814</td> <td> 0.000</td> <td> 1.26e+06</td> <td> 1.28e+06</td>\n",
              "</tr>\n",
              "</table>\n",
              "<table class=\"simpletable\">\n",
              "<tr>\n",
              "  <th>Ljung-Box (L1) (Q):</th>     <td>0.00</td>  <th>  Jarque-Bera (JB):  </th> <td>4448604.18</td>\n",
              "</tr>\n",
              "<tr>\n",
              "  <th>Prob(Q):</th>                <td>0.98</td>  <th>  Prob(JB):          </th>    <td>0.00</td>   \n",
              "</tr>\n",
              "<tr>\n",
              "  <th>Heteroskedasticity (H):</th> <td>39.55</td> <th>  Skew:              </th>    <td>15.35</td>  \n",
              "</tr>\n",
              "<tr>\n",
              "  <th>Prob(H) (two-sided):</th>    <td>0.00</td>  <th>  Kurtosis:          </th>   <td>354.42</td>  \n",
              "</tr>\n",
              "</table><br/><br/>Warnings:<br/>[1] Covariance matrix calculated using the outer product of gradients (complex-step)."
            ],
            "text/plain": [
              "<class 'statsmodels.iolib.summary.Summary'>\n",
              "\"\"\"\n",
              "                               SARIMAX Results                                \n",
              "==============================================================================\n",
              "Dep. Variable:                      y   No. Observations:                  859\n",
              "Model:               SARIMAX(1, 1, 2)   Log Likelihood               -7247.962\n",
              "Date:                Mon, 10 May 2021   AIC                          14503.923\n",
              "Time:                        13:59:31   BIC                          14522.942\n",
              "Sample:                             0   HQIC                         14511.205\n",
              "                                - 859                                         \n",
              "Covariance Type:                  opg                                         \n",
              "==============================================================================\n",
              "                 coef    std err          z      P>|z|      [0.025      0.975]\n",
              "------------------------------------------------------------------------------\n",
              "ar.L1          0.2935      0.019     15.497      0.000       0.256       0.331\n",
              "ma.L1         -0.3511      0.019    -18.432      0.000      -0.388      -0.314\n",
              "ma.L2         -0.5824      0.011    -55.449      0.000      -0.603      -0.562\n",
              "sigma2      1.271e+06   5506.406    230.814      0.000    1.26e+06    1.28e+06\n",
              "===================================================================================\n",
              "Ljung-Box (L1) (Q):                   0.00   Jarque-Bera (JB):           4448604.18\n",
              "Prob(Q):                              0.98   Prob(JB):                         0.00\n",
              "Heteroskedasticity (H):              39.55   Skew:                            15.35\n",
              "Prob(H) (two-sided):                  0.00   Kurtosis:                       354.42\n",
              "===================================================================================\n",
              "\n",
              "Warnings:\n",
              "[1] Covariance matrix calculated using the outer product of gradients (complex-step).\n",
              "\"\"\""
            ]
          },
          "metadata": {
            "tags": []
          },
          "execution_count": 34
        }
      ]
    },
    {
      "cell_type": "code",
      "metadata": {
        "id": "ZPL-5L6kdgol"
      },
      "source": [
        "from statsmodels.tsa.arima_model import ARIMA"
      ],
      "execution_count": null,
      "outputs": []
    },
    {
      "cell_type": "code",
      "metadata": {
        "id": "Vj-1t14adgrj",
        "colab": {
          "base_uri": "https://localhost:8080/"
        },
        "outputId": "583c9c24-2101-4230-e07f-da437d5d6955"
      },
      "source": [
        "print(df.shape)\n",
        "train=df.iloc[:-30]\n",
        "test=df.iloc[-30:]\n",
        "print(train.shape,test.shape)"
      ],
      "execution_count": null,
      "outputs": [
        {
          "output_type": "stream",
          "text": [
            "(859, 1)\n",
            "(829, 1) (30, 1)\n"
          ],
          "name": "stdout"
        }
      ]
    },
    {
      "cell_type": "code",
      "metadata": {
        "id": "VsifryBadguf",
        "colab": {
          "base_uri": "https://localhost:8080/",
          "height": 393
        },
        "outputId": "a9afe17a-8305-4226-82dd-997980034869"
      },
      "source": [
        "model= ARIMA(train['Users'],order=(1,1,2) )\n",
        "model = model.fit()\n",
        "model.summary()"
      ],
      "execution_count": null,
      "outputs": [
        {
          "output_type": "execute_result",
          "data": {
            "text/html": [
              "<table class=\"simpletable\">\n",
              "<caption>ARIMA Model Results</caption>\n",
              "<tr>\n",
              "  <th>Dep. Variable:</th>      <td>D.Users</td>     <th>  No. Observations:  </th>    <td>828</td>   \n",
              "</tr>\n",
              "<tr>\n",
              "  <th>Model:</th>          <td>ARIMA(1, 1, 2)</td>  <th>  Log Likelihood     </th> <td>-7004.234</td>\n",
              "</tr>\n",
              "<tr>\n",
              "  <th>Method:</th>             <td>css-mle</td>     <th>  S.D. of innovations</th> <td>1140.400</td> \n",
              "</tr>\n",
              "<tr>\n",
              "  <th>Date:</th>          <td>Mon, 10 May 2021</td> <th>  AIC                </th> <td>14018.467</td>\n",
              "</tr>\n",
              "<tr>\n",
              "  <th>Time:</th>              <td>13:59:37</td>     <th>  BIC                </th> <td>14042.062</td>\n",
              "</tr>\n",
              "<tr>\n",
              "  <th>Sample:</th>           <td>01-02-2019</td>    <th>  HQIC               </th> <td>14027.517</td>\n",
              "</tr>\n",
              "<tr>\n",
              "  <th></th>                 <td>- 04-08-2021</td>   <th>                     </th>     <td> </td>    \n",
              "</tr>\n",
              "</table>\n",
              "<table class=\"simpletable\">\n",
              "<tr>\n",
              "        <td></td>           <th>coef</th>     <th>std err</th>      <th>z</th>      <th>P>|z|</th>  <th>[0.025</th>    <th>0.975]</th>  \n",
              "</tr>\n",
              "<tr>\n",
              "  <th>const</th>         <td>    3.7311</td> <td>    3.499</td> <td>    1.066</td> <td> 0.286</td> <td>   -3.128</td> <td>   10.590</td>\n",
              "</tr>\n",
              "<tr>\n",
              "  <th>ar.L1.D.Users</th> <td>    0.2994</td> <td>    0.048</td> <td>    6.229</td> <td> 0.000</td> <td>    0.205</td> <td>    0.394</td>\n",
              "</tr>\n",
              "<tr>\n",
              "  <th>ma.L1.D.Users</th> <td>   -0.3579</td> <td>    0.040</td> <td>   -8.850</td> <td> 0.000</td> <td>   -0.437</td> <td>   -0.279</td>\n",
              "</tr>\n",
              "<tr>\n",
              "  <th>ma.L2.D.Users</th> <td>   -0.5822</td> <td>    0.034</td> <td>  -17.109</td> <td> 0.000</td> <td>   -0.649</td> <td>   -0.516</td>\n",
              "</tr>\n",
              "</table>\n",
              "<table class=\"simpletable\">\n",
              "<caption>Roots</caption>\n",
              "<tr>\n",
              "    <td></td>   <th>            Real</th>  <th>         Imaginary</th> <th>         Modulus</th>  <th>        Frequency</th>\n",
              "</tr>\n",
              "<tr>\n",
              "  <th>AR.1</th> <td>           3.3398</td> <td>          +0.0000j</td> <td>           3.3398</td> <td>           0.0000</td>\n",
              "</tr>\n",
              "<tr>\n",
              "  <th>MA.1</th> <td>           1.0387</td> <td>          +0.0000j</td> <td>           1.0387</td> <td>           0.0000</td>\n",
              "</tr>\n",
              "<tr>\n",
              "  <th>MA.2</th> <td>          -1.6536</td> <td>          +0.0000j</td> <td>           1.6536</td> <td>           0.5000</td>\n",
              "</tr>\n",
              "</table>"
            ],
            "text/plain": [
              "<class 'statsmodels.iolib.summary.Summary'>\n",
              "\"\"\"\n",
              "                             ARIMA Model Results                              \n",
              "==============================================================================\n",
              "Dep. Variable:                D.Users   No. Observations:                  828\n",
              "Model:                 ARIMA(1, 1, 2)   Log Likelihood               -7004.234\n",
              "Method:                       css-mle   S.D. of innovations           1140.400\n",
              "Date:                Mon, 10 May 2021   AIC                          14018.467\n",
              "Time:                        13:59:37   BIC                          14042.062\n",
              "Sample:                    01-02-2019   HQIC                         14027.517\n",
              "                         - 04-08-2021                                         \n",
              "=================================================================================\n",
              "                    coef    std err          z      P>|z|      [0.025      0.975]\n",
              "---------------------------------------------------------------------------------\n",
              "const             3.7311      3.499      1.066      0.286      -3.128      10.590\n",
              "ar.L1.D.Users     0.2994      0.048      6.229      0.000       0.205       0.394\n",
              "ma.L1.D.Users    -0.3579      0.040     -8.850      0.000      -0.437      -0.279\n",
              "ma.L2.D.Users    -0.5822      0.034    -17.109      0.000      -0.649      -0.516\n",
              "                                    Roots                                    \n",
              "=============================================================================\n",
              "                  Real          Imaginary           Modulus         Frequency\n",
              "-----------------------------------------------------------------------------\n",
              "AR.1            3.3398           +0.0000j            3.3398            0.0000\n",
              "MA.1            1.0387           +0.0000j            1.0387            0.0000\n",
              "MA.2           -1.6536           +0.0000j            1.6536            0.5000\n",
              "-----------------------------------------------------------------------------\n",
              "\"\"\""
            ]
          },
          "metadata": {
            "tags": []
          },
          "execution_count": 37
        }
      ]
    },
    {
      "cell_type": "code",
      "metadata": {
        "id": "flmWfFw6dgxY",
        "colab": {
          "base_uri": "https://localhost:8080/"
        },
        "outputId": "0d68b86f-4e77-4f05-b2a3-9fde3b8f69a9"
      },
      "source": [
        "#make prediction on test set\n",
        "start = len(train)\n",
        "end= len(train)+len(test)-1\n",
        "print('startlen=',start)\n",
        "print('endlen=',end)\n",
        "predict= model.predict(start=start,end=end,typ='levels')\n",
        "\n",
        "predict.index=df.index[start:end+1]\n"
      ],
      "execution_count": null,
      "outputs": [
        {
          "output_type": "stream",
          "text": [
            "startlen= 829\n",
            "endlen= 858\n"
          ],
          "name": "stdout"
        }
      ]
    },
    {
      "cell_type": "code",
      "metadata": {
        "id": "XWuxJX-TlZD5"
      },
      "source": [
        "predict.index= pd.to_datetime(predict.index)"
      ],
      "execution_count": null,
      "outputs": []
    },
    {
      "cell_type": "code",
      "metadata": {
        "colab": {
          "base_uri": "https://localhost:8080/"
        },
        "id": "UBs677A6lmPY",
        "outputId": "1d5e825a-a8f6-4103-f19b-ad8fe9008497"
      },
      "source": [
        "predict"
      ],
      "execution_count": null,
      "outputs": [
        {
          "output_type": "execute_result",
          "data": {
            "text/plain": [
              "Date\n",
              "2021-04-09    3109.054567\n",
              "2021-04-10    3334.012354\n",
              "2021-04-11    3403.982247\n",
              "2021-04-12    3427.546308\n",
              "2021-04-13    3437.215727\n",
              "2021-04-14    3442.724871\n",
              "2021-04-15    3446.988362\n",
              "2021-04-16    3450.878885\n",
              "2021-04-17    3454.657735\n",
              "2021-04-18    3458.403149\n",
              "2021-04-19    3462.138552\n",
              "2021-04-20    3465.870957\n",
              "2021-04-21    3469.602464\n",
              "2021-04-22    3473.333702\n",
              "2021-04-23    3477.064861\n",
              "2021-04-24    3480.795995\n",
              "2021-04-25    3484.527121\n",
              "2021-04-26    3488.258246\n",
              "2021-04-27    3491.989370\n",
              "2021-04-28    3495.720494\n",
              "2021-04-29    3499.451618\n",
              "2021-04-30    3503.182741\n",
              "2021-05-01    3506.913865\n",
              "2021-05-02    3510.644989\n",
              "2021-05-03    3514.376113\n",
              "2021-05-04    3518.107236\n",
              "2021-05-05    3521.838360\n",
              "2021-05-06    3525.569484\n",
              "2021-05-07    3529.300608\n",
              "2021-05-08    3533.031731\n",
              "dtype: float64"
            ]
          },
          "metadata": {
            "tags": []
          },
          "execution_count": 49
        }
      ]
    },
    {
      "cell_type": "code",
      "metadata": {
        "id": "QoF1W1SCdg0S",
        "colab": {
          "base_uri": "https://localhost:8080/",
          "height": 549
        },
        "outputId": "ca3abf66-3c5f-4511-8771-f969dbaf360d"
      },
      "source": [
        "predict.plot(legend=True)\n",
        "test['Users'].plot(legend=True)"
      ],
      "execution_count": null,
      "outputs": [
        {
          "output_type": "execute_result",
          "data": {
            "text/plain": [
              "<matplotlib.axes._subplots.AxesSubplot at 0x7f8343dd6d10>"
            ]
          },
          "metadata": {
            "tags": []
          },
          "execution_count": 46
        },
        {
          "output_type": "display_data",
          "data": {
            "image/png": "[encoded data removed]",
            "text/plain": [
              "<Figure size 720x576 with 1 Axes>"
            ]
          },
          "metadata": {
            "tags": [],
            "needs_background": "light"
          }
        }
      ]
    },
    {
      "cell_type": "code",
      "metadata": {
        "id": "IKbGT-zYcbOK"
      },
      "source": [
        "from sklearn.metrics import mean_squared_error\n",
        "from math import sqrt\n",
        "rmse=sqrt(mean_squared_error(predict,test['Total net sales']))\n",
        "print(rmse)"
      ],
      "execution_count": null,
      "outputs": []
    },
    {
      "cell_type": "code",
      "metadata": {
        "id": "FdxuHMoZcbQt"
      },
      "source": [
        "model2=ARIMA(df['Total net sales'],order=(0,1,0))\n",
        "model2=model2.fit()\n",
        "df.tail()"
      ],
      "execution_count": null,
      "outputs": []
    },
    {
      "cell_type": "code",
      "metadata": {
        "id": "qyzLASmOfzse"
      },
      "source": [
        "index_future_dates=pd.date_range(start='2021-04-28',end='2021-05-28')\n",
        "#print(index_future_dates)\n",
        "pred=model2.predict(start=len(df),end=len(df)+30,typ='levels').rename('Arima predictions')\n",
        "#print(comp_pred)\n",
        "pred.index=index_future_dates\n",
        "print(pred)"
      ],
      "execution_count": null,
      "outputs": []
    },
    {
      "cell_type": "code",
      "metadata": {
        "id": "TUthXPIEfzvT"
      },
      "source": [
        ""
      ],
      "execution_count": null,
      "outputs": []
    },
    {
      "cell_type": "code",
      "metadata": {
        "id": "gPu1hkc3fzzC"
      },
      "source": [
        ""
      ],
      "execution_count": null,
      "outputs": []
    }
  ]
}