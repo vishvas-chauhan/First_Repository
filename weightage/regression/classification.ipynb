{
  "nbformat": 4,
  "nbformat_minor": 0,
  "metadata": {
    "colab": {
      "name": "nomen.ipynb",
      "provenance": [],
      "authorship_tag": "ABX9TyPQmEAvNfr7dyoc0QyY6cVy",
      "include_colab_link": true
    },
    "kernelspec": {
      "name": "python3",
      "display_name": "Python 3"
    },
    "language_info": {
      "name": "python"
    }
  },
  "cells": [
    {
      "cell_type": "markdown",
      "metadata": {
        "id": "view-in-github",
        "colab_type": "text"
      },
      "source": [
        "<a href=\"https://colab.research.google.com/github/vishvas-chauhan/First_Repository/blob/master/weightage/regression/classification.ipynb\" target=\"_parent\"><img src=\"https://colab.research.google.com/assets/colab-badge.svg\" alt=\"Open In Colab\"/></a>"
      ]
    },
    {
      "cell_type": "code",
      "metadata": {
        "id": "dVTlZVxzq5su"
      },
      "source": [
        "import matplotlib.pyplot as plt\n",
        "import seaborn as sns\n",
        "import pandas as pd\n",
        "import numpy as np\n",
        "\n",
        "import gspread\n",
        "import gspread_dataframe as gd\n",
        "from google.colab import auth\n",
        "auth.authenticate_user()\n",
        "\n",
        "import gspread\n",
        "from oauth2client.client import GoogleCredentials\n",
        "\n",
        "gc = gspread.authorize(GoogleCredentials.get_application_default())"
      ],
      "execution_count": null,
      "outputs": []
    },
    {
      "cell_type": "markdown",
      "metadata": {
        "id": "TlhEGFSl0ZZH"
      },
      "source": [
        "## first part"
      ]
    },
    {
      "cell_type": "code",
      "metadata": {
        "id": "p9nFYjNVq9ni"
      },
      "source": [
        "Sheet40 = gc.open(\"FW21 Nomenclatures Main\").worksheet(\"FW21 Nomenclatures MAIN\")\n",
        "df_Sheet40 = gd.get_as_dataframe(Sheet40)"
      ],
      "execution_count": null,
      "outputs": []
    },
    {
      "cell_type": "code",
      "metadata": {
        "id": "puihOgIUrCU7"
      },
      "source": [
        "df_Sheet40.columns=df_Sheet40.iloc[1]"
      ],
      "execution_count": null,
      "outputs": []
    },
    {
      "cell_type": "code",
      "metadata": {
        "id": "ZValNFUTrCYT"
      },
      "source": [
        "df_Sheet40=df_Sheet40.iloc[2:]"
      ],
      "execution_count": null,
      "outputs": []
    },
    {
      "cell_type": "code",
      "metadata": {
        "id": "0x6-Yi1arKNt"
      },
      "source": [
        "df=df_Sheet40[['Style','Qty status']]"
      ],
      "execution_count": null,
      "outputs": []
    },
    {
      "cell_type": "code",
      "metadata": {
        "colab": {
          "base_uri": "https://localhost:8080/"
        },
        "id": "LtbNBz2QrKZW",
        "outputId": "659d039e-4048-46a7-a3e2-30c3037d04b9"
      },
      "source": [
        "df.head(2)"
      ],
      "execution_count": null,
      "outputs": [
        {
          "output_type": "execute_result",
          "data": {
            "text/html": [
              "<div>\n",
              "<style scoped>\n",
              "    .dataframe tbody tr th:only-of-type {\n",
              "        vertical-align: middle;\n",
              "    }\n",
              "\n",
              "    .dataframe tbody tr th {\n",
              "        vertical-align: top;\n",
              "    }\n",
              "\n",
              "    .dataframe thead th {\n",
              "        text-align: right;\n",
              "    }\n",
              "</style>\n",
              "<table border=\"1\" class=\"dataframe\">\n",
              "  <thead>\n",
              "    <tr style=\"text-align: right;\">\n",
              "      <th>1</th>\n",
              "      <th>Style</th>\n",
              "      <th>Qty status</th>\n",
              "    </tr>\n",
              "  </thead>\n",
              "  <tbody>\n",
              "    <tr>\n",
              "      <th>2</th>\n",
              "      <td>C042FW21M</td>\n",
              "      <td>RM not sent yet</td>\n",
              "    </tr>\n",
              "    <tr>\n",
              "      <th>3</th>\n",
              "      <td>C042FW21M</td>\n",
              "      <td>RM not sent yet</td>\n",
              "    </tr>\n",
              "  </tbody>\n",
              "</table>\n",
              "</div>"
            ],
            "text/plain": [
              "1      Style       Qty status\n",
              "2  C042FW21M  RM not sent yet\n",
              "3  C042FW21M  RM not sent yet"
            ]
          },
          "metadata": {
            "tags": []
          },
          "execution_count": 7
        }
      ]
    },
    {
      "cell_type": "code",
      "metadata": {
        "id": "7c06PvxZrKcl"
      },
      "source": [
        "df=df.groupby(['Style','Qty status'])['Qty status'].count().rename(\"weightage\")"
      ],
      "execution_count": null,
      "outputs": []
    },
    {
      "cell_type": "code",
      "metadata": {
        "colab": {
          "base_uri": "https://localhost:8080/"
        },
        "id": "TtUiTS6-saOt",
        "outputId": "c95a82e8-1c3e-40db-8e64-b1ef32d16217"
      },
      "source": [
        "df"
      ],
      "execution_count": null,
      "outputs": [
        {
          "output_type": "execute_result",
          "data": {
            "text/plain": [
              "Style       Qty status     \n",
              "A003ICONW   RM not sent yet    18\n",
              "            Received less       2\n",
              "A004FW21W   Quantity OK         4\n",
              "            RM not sent yet    14\n",
              "A004ICONW   Quantity OK         4\n",
              "                               ..\n",
              "UW023ICONW  RM not sent yet     6\n",
              "UW024ICONW  Quantity OK         3\n",
              "            RM not sent yet    27\n",
              "UW030ICONM  Quantity OK         2\n",
              "            RM not sent yet    16\n",
              "Name: weightage, Length: 330, dtype: int64"
            ]
          },
          "metadata": {
            "tags": []
          },
          "execution_count": 9
        }
      ]
    },
    {
      "cell_type": "code",
      "metadata": {
        "id": "eQahVS9YrKfv"
      },
      "source": [
        "df=df / df.groupby(level=0).sum()"
      ],
      "execution_count": null,
      "outputs": []
    },
    {
      "cell_type": "code",
      "metadata": {
        "colab": {
          "base_uri": "https://localhost:8080/"
        },
        "id": "RsJbOliRsxWh",
        "outputId": "49090605-509d-46ec-83a1-dde3f74b122a"
      },
      "source": [
        "df"
      ],
      "execution_count": null,
      "outputs": [
        {
          "output_type": "execute_result",
          "data": {
            "text/plain": [
              "Style       Qty status     \n",
              "A003ICONW   RM not sent yet    0.900000\n",
              "            Received less      0.100000\n",
              "A004FW21W   Quantity OK        0.222222\n",
              "            RM not sent yet    0.777778\n",
              "A004ICONW   Quantity OK        0.222222\n",
              "                                 ...   \n",
              "UW023ICONW  RM not sent yet    0.857143\n",
              "UW024ICONW  Quantity OK        0.100000\n",
              "            RM not sent yet    0.900000\n",
              "UW030ICONM  Quantity OK        0.111111\n",
              "            RM not sent yet    0.888889\n",
              "Name: weightage, Length: 330, dtype: float64"
            ]
          },
          "metadata": {
            "tags": []
          },
          "execution_count": 11
        }
      ]
    },
    {
      "cell_type": "code",
      "metadata": {
        "id": "xc3EIIEJrKiq"
      },
      "source": [
        "df=df.reset_index()"
      ],
      "execution_count": null,
      "outputs": []
    },
    {
      "cell_type": "code",
      "metadata": {
        "colab": {
          "base_uri": "https://localhost:8080/"
        },
        "id": "7mVd5VtgrKl-",
        "outputId": "394a36ef-eb57-43ea-f3c3-249bbac49164"
      },
      "source": [
        "df.head(5)"
      ],
      "execution_count": null,
      "outputs": [
        {
          "output_type": "execute_result",
          "data": {
            "text/html": [
              "<div>\n",
              "<style scoped>\n",
              "    .dataframe tbody tr th:only-of-type {\n",
              "        vertical-align: middle;\n",
              "    }\n",
              "\n",
              "    .dataframe tbody tr th {\n",
              "        vertical-align: top;\n",
              "    }\n",
              "\n",
              "    .dataframe thead th {\n",
              "        text-align: right;\n",
              "    }\n",
              "</style>\n",
              "<table border=\"1\" class=\"dataframe\">\n",
              "  <thead>\n",
              "    <tr style=\"text-align: right;\">\n",
              "      <th></th>\n",
              "      <th>Style</th>\n",
              "      <th>Qty status</th>\n",
              "      <th>weightage</th>\n",
              "    </tr>\n",
              "  </thead>\n",
              "  <tbody>\n",
              "    <tr>\n",
              "      <th>0</th>\n",
              "      <td>A003ICONW</td>\n",
              "      <td>RM not sent yet</td>\n",
              "      <td>0.900000</td>\n",
              "    </tr>\n",
              "    <tr>\n",
              "      <th>1</th>\n",
              "      <td>A003ICONW</td>\n",
              "      <td>Received less</td>\n",
              "      <td>0.100000</td>\n",
              "    </tr>\n",
              "    <tr>\n",
              "      <th>2</th>\n",
              "      <td>A004FW21W</td>\n",
              "      <td>Quantity OK</td>\n",
              "      <td>0.222222</td>\n",
              "    </tr>\n",
              "    <tr>\n",
              "      <th>3</th>\n",
              "      <td>A004FW21W</td>\n",
              "      <td>RM not sent yet</td>\n",
              "      <td>0.777778</td>\n",
              "    </tr>\n",
              "    <tr>\n",
              "      <th>4</th>\n",
              "      <td>A004ICONW</td>\n",
              "      <td>Quantity OK</td>\n",
              "      <td>0.222222</td>\n",
              "    </tr>\n",
              "  </tbody>\n",
              "</table>\n",
              "</div>"
            ],
            "text/plain": [
              "       Style       Qty status  weightage\n",
              "0  A003ICONW  RM not sent yet   0.900000\n",
              "1  A003ICONW    Received less   0.100000\n",
              "2  A004FW21W      Quantity OK   0.222222\n",
              "3  A004FW21W  RM not sent yet   0.777778\n",
              "4  A004ICONW      Quantity OK   0.222222"
            ]
          },
          "metadata": {
            "tags": []
          },
          "execution_count": 13
        }
      ]
    },
    {
      "cell_type": "code",
      "metadata": {
        "id": "H0YfpKXfrKo-"
      },
      "source": [
        "df=df[df['Qty status']=='Quantity OK']"
      ],
      "execution_count": null,
      "outputs": []
    },
    {
      "cell_type": "code",
      "metadata": {
        "id": "RLK29rJVrW2A"
      },
      "source": [
        "df['>50% Sent']=np.where(df['weightage']>=0.50, 'yes', 'no')"
      ],
      "execution_count": null,
      "outputs": []
    },
    {
      "cell_type": "code",
      "metadata": {
        "colab": {
          "base_uri": "https://localhost:8080/"
        },
        "id": "OmBRMXHJrW5A",
        "outputId": "9fa5a0b7-eaad-4ee1-dff5-15b657c0880a"
      },
      "source": [
        "df['>50% Sent'].value_counts()"
      ],
      "execution_count": null,
      "outputs": [
        {
          "output_type": "execute_result",
          "data": {
            "text/plain": [
              "no     131\n",
              "yes      7\n",
              "Name: >50% Sent, dtype: int64"
            ]
          },
          "metadata": {
            "tags": []
          },
          "execution_count": 16
        }
      ]
    },
    {
      "cell_type": "code",
      "metadata": {
        "colab": {
          "base_uri": "https://localhost:8080/"
        },
        "id": "1kCkVxJavCdW",
        "outputId": "cdd2044b-d5a8-438f-ff7e-1d8dd5ca0017"
      },
      "source": [
        "df.weightage.isnull().count()"
      ],
      "execution_count": null,
      "outputs": [
        {
          "output_type": "execute_result",
          "data": {
            "text/plain": [
              "138"
            ]
          },
          "metadata": {
            "tags": []
          },
          "execution_count": 17
        }
      ]
    },
    {
      "cell_type": "markdown",
      "metadata": {
        "id": "Nnq_y5i2rbWD"
      },
      "source": [
        "## nom2"
      ]
    },
    {
      "cell_type": "code",
      "metadata": {
        "id": "q0rtBRMLrW78"
      },
      "source": [
        "df2=df_Sheet40[['Style','RM ID','Qty status']]"
      ],
      "execution_count": null,
      "outputs": []
    },
    {
      "cell_type": "code",
      "metadata": {
        "colab": {
          "base_uri": "https://localhost:8080/"
        },
        "id": "1cc0GxHYrW-t",
        "outputId": "de299c54-d1e6-4ae6-da22-df139a5918e7"
      },
      "source": [
        "df2['new'] = np.where(df2['RM ID'].str.startswith('F'),'Fabric',\n",
        "                      np.where(df2['RM ID'].str.startswith('TR'), 'Fabric',\n",
        "                       \n",
        "                      np.where(df2['RM ID'].str.startswith('P'), 'Packaging', \n",
        "                                                                          np.where(df2['RM ID'].str.startswith('T'), 'Trims',\n",
        "                                                                                   np.where(df2['RM ID'].str.startswith('L'), 'Labeling',0)))))"
      ],
      "execution_count": null,
      "outputs": [
        {
          "output_type": "stream",
          "text": [
            "/usr/local/lib/python3.7/dist-packages/ipykernel_launcher.py:6: SettingWithCopyWarning: \n",
            "A value is trying to be set on a copy of a slice from a DataFrame.\n",
            "Try using .loc[row_indexer,col_indexer] = value instead\n",
            "\n",
            "See the caveats in the documentation: https://pandas.pydata.org/pandas-docs/stable/user_guide/indexing.html#returning-a-view-versus-a-copy\n",
            "  \n"
          ],
          "name": "stderr"
        }
      ]
    },
    {
      "cell_type": "code",
      "metadata": {
        "id": "yjOIrOGvrXBv"
      },
      "source": [
        "df2=df2[['Style','Qty status','new']]"
      ],
      "execution_count": null,
      "outputs": []
    },
    {
      "cell_type": "code",
      "metadata": {
        "id": "PuDL3LXwrm_o"
      },
      "source": [
        "df3=df2[df2['new']=='Fabric']"
      ],
      "execution_count": null,
      "outputs": []
    },
    {
      "cell_type": "code",
      "metadata": {
        "id": "3NfqY19VrXEu"
      },
      "source": [
        "df3=df3.groupby(['Style','new','Qty status'])['Qty status'].count().rename(\"weightage\")"
      ],
      "execution_count": null,
      "outputs": []
    },
    {
      "cell_type": "code",
      "metadata": {
        "colab": {
          "base_uri": "https://localhost:8080/"
        },
        "id": "anRSxfLcvXrr",
        "outputId": "1be9d622-7cf3-4f2f-8918-790ac4c778fb"
      },
      "source": [
        "df3.head(5)"
      ],
      "execution_count": null,
      "outputs": [
        {
          "output_type": "execute_result",
          "data": {
            "text/plain": [
              "Style       new     Qty status     \n",
              "A003ICONW   Fabric  RM not sent yet    2\n",
              "A004FW21W   Fabric  RM not sent yet    2\n",
              "A004ICONW   Fabric  RM not sent yet    2\n",
              "A005FW21XU  Fabric  RM not sent yet    3\n",
              "A008FW21X   Fabric  RM not sent yet    1\n",
              "Name: weightage, dtype: int64"
            ]
          },
          "metadata": {
            "tags": []
          },
          "execution_count": 23
        }
      ]
    },
    {
      "cell_type": "code",
      "metadata": {
        "id": "LEJnX4-drXHk"
      },
      "source": [
        "df3 =df3 / df3.groupby(level=0).sum()"
      ],
      "execution_count": null,
      "outputs": []
    },
    {
      "cell_type": "code",
      "metadata": {
        "colab": {
          "base_uri": "https://localhost:8080/"
        },
        "id": "wEjjdVZWvgfT",
        "outputId": "6d6cdcc9-fc84-4937-ae2b-e7d6a9d8d478"
      },
      "source": [
        "df3"
      ],
      "execution_count": null,
      "outputs": [
        {
          "output_type": "execute_result",
          "data": {
            "text/plain": [
              "Style       new     Qty status     \n",
              "A003ICONW   Fabric  RM not sent yet    1.0\n",
              "A004FW21W   Fabric  RM not sent yet    1.0\n",
              "A004ICONW   Fabric  RM not sent yet    1.0\n",
              "A005FW21XU  Fabric  RM not sent yet    1.0\n",
              "A008FW21X   Fabric  RM not sent yet    1.0\n",
              "                                      ... \n",
              "UW001ICONW  Fabric  RM not sent yet    1.0\n",
              "UW006ICONM  Fabric  RM not sent yet    1.0\n",
              "UW010ICONW  Fabric  RM not sent yet    1.0\n",
              "UW024ICONW  Fabric  RM not sent yet    1.0\n",
              "UW030ICONM  Fabric  RM not sent yet    1.0\n",
              "Name: weightage, Length: 214, dtype: float64"
            ]
          },
          "metadata": {
            "tags": []
          },
          "execution_count": 25
        }
      ]
    },
    {
      "cell_type": "code",
      "metadata": {
        "id": "LiuL13YPrXKe"
      },
      "source": [
        "df3=df3.reset_index()"
      ],
      "execution_count": null,
      "outputs": []
    },
    {
      "cell_type": "code",
      "metadata": {
        "id": "A4d97PqArXNE"
      },
      "source": [
        "df3=df3[df3['Qty status']=='Quantity OK']\n"
      ],
      "execution_count": null,
      "outputs": []
    },
    {
      "cell_type": "code",
      "metadata": {
        "id": "MO_09_mWruad"
      },
      "source": [
        "df3['fabricdone']=np.where(df3['weightage']==1,'yes','no')"
      ],
      "execution_count": null,
      "outputs": []
    },
    {
      "cell_type": "code",
      "metadata": {
        "id": "kjT_bkGLvxxu"
      },
      "source": [
        "df4=df2[df2['new']=='Trims']"
      ],
      "execution_count": null,
      "outputs": []
    },
    {
      "cell_type": "code",
      "metadata": {
        "id": "3d7LsQfsvx6C"
      },
      "source": [
        "df4=df4.groupby(['Style','new','Qty status'])['Qty status'].count().rename(\"weightage\")"
      ],
      "execution_count": null,
      "outputs": []
    },
    {
      "cell_type": "code",
      "metadata": {
        "colab": {
          "base_uri": "https://localhost:8080/"
        },
        "id": "-mBF5mAKvyBA",
        "outputId": "7744af34-f7e8-486f-dfcb-e0a48ea0bb72"
      },
      "source": [
        "df4.head(5)"
      ],
      "execution_count": null,
      "outputs": [
        {
          "output_type": "execute_result",
          "data": {
            "text/plain": [
              "Style       new    Qty status     \n",
              "A003ICONW   Trims  RM not sent yet    2\n",
              "A005FW21XU  Trims  RM not sent yet    1\n",
              "A012FW21W   Trims  RM not sent yet    4\n",
              "A023ICONX   Trims  RM not sent yet    2\n",
              "A024FW21WU  Trims  RM not sent yet    1\n",
              "Name: weightage, dtype: int64"
            ]
          },
          "metadata": {
            "tags": []
          },
          "execution_count": 76
        }
      ]
    },
    {
      "cell_type": "code",
      "metadata": {
        "id": "_yiopWpLwb6r"
      },
      "source": [
        "df4 =df4 / df4.groupby(level=0).sum()"
      ],
      "execution_count": null,
      "outputs": []
    },
    {
      "cell_type": "code",
      "metadata": {
        "colab": {
          "base_uri": "https://localhost:8080/"
        },
        "id": "hhJDYhSewb9c",
        "outputId": "862d533b-3938-4761-bda9-317662f7170b"
      },
      "source": [
        "df4"
      ],
      "execution_count": null,
      "outputs": [
        {
          "output_type": "execute_result",
          "data": {
            "text/plain": [
              "Style       new    Qty status     \n",
              "A003ICONW   Trims  RM not sent yet    1.000000\n",
              "A005FW21XU  Trims  RM not sent yet    1.000000\n",
              "A012FW21W   Trims  RM not sent yet    1.000000\n",
              "A023ICONX   Trims  RM not sent yet    1.000000\n",
              "A024FW21WU  Trims  RM not sent yet    1.000000\n",
              "                                        ...   \n",
              "T226FW21XU  Trims  Received less      0.166667\n",
              "T230FW21M   Trims  RM not sent yet    1.000000\n",
              "UW005ICONW  Trims  Quantity OK        1.000000\n",
              "UW012ICONW  Trims  Quantity OK        1.000000\n",
              "UW024ICONW  Trims  RM not sent yet    1.000000\n",
              "Name: weightage, Length: 140, dtype: float64"
            ]
          },
          "metadata": {
            "tags": []
          },
          "execution_count": 78
        }
      ]
    },
    {
      "cell_type": "code",
      "metadata": {
        "id": "f0mhTTZ9wcAd"
      },
      "source": [
        "df4=df4.reset_index()"
      ],
      "execution_count": null,
      "outputs": []
    },
    {
      "cell_type": "code",
      "metadata": {
        "id": "duuBuChtwrxN"
      },
      "source": [
        "df4=df4[df4['Qty status']=='Quantity OK']\n"
      ],
      "execution_count": null,
      "outputs": []
    },
    {
      "cell_type": "code",
      "metadata": {
        "id": "fM34t8qOwcC-"
      },
      "source": [
        "df4['trimsdone']=np.where(df4['weightage']==1,'yes','no')"
      ],
      "execution_count": null,
      "outputs": []
    },
    {
      "cell_type": "code",
      "metadata": {
        "id": "rTa8PQj0rudh"
      },
      "source": [
        "first = gc.open(\"FW21 Nomenclatures Main\").worksheet(\"60percent\")\n",
        "#df_Concateall = gd.get_as_dataframe(Concateall)\n",
        "#updated = df_Concateall.append(result)\n",
        "#range_of_cells = Concateall.range('A1:AF200')\n",
        "first.clear()\n",
        "gd.set_with_dataframe(first, df)\n",
        "\n",
        "second = gc.open(\"FW21 Nomenclatures Main\").worksheet(\"fabricdone\")\n",
        "#df_Concateall = gd.get_as_dataframe(Concateall)\n",
        "#updated = df_Concateall.append(result)\n",
        "second.clear()\n",
        "gd.set_with_dataframe(second, df3)\n",
        "\n",
        "third = gc.open(\"FW21 Nomenclatures Main\").worksheet(\"trimsdone\")\n",
        "#df_Concateall = gd.get_as_dataframe(Concateall)\n",
        "#updated = df_Concateall.append(result)\n",
        "third.clear()\n",
        "gd.set_with_dataframe(third, df4)\n"
      ],
      "execution_count": null,
      "outputs": []
    },
    {
      "cell_type": "markdown",
      "metadata": {
        "id": "IA0NObY3zlJM"
      },
      "source": [
        "## Stop\n"
      ]
    },
    {
      "cell_type": "code",
      "metadata": {
        "colab": {
          "base_uri": "https://localhost:8080/",
          "height": 171
        },
        "id": "tpfNBOTqzi4r",
        "outputId": "949f8b71-87da-4375-b483-a8e8fe185f85"
      },
      "source": [
        "kjhgkhk\n"
      ],
      "execution_count": null,
      "outputs": [
        {
          "output_type": "error",
          "ename": "NameError",
          "evalue": "ignored",
          "traceback": [
            "\u001b[0;31m---------------------------------------------------------------------------\u001b[0m",
            "\u001b[0;31mNameError\u001b[0m                                 Traceback (most recent call last)",
            "\u001b[0;32m<ipython-input-38-874d3dff0bad>\u001b[0m in \u001b[0;36m<module>\u001b[0;34m()\u001b[0m\n\u001b[0;32m----> 1\u001b[0;31m \u001b[0mkjhgkhk\u001b[0m\u001b[0;34m\u001b[0m\u001b[0;34m\u001b[0m\u001b[0m\n\u001b[0m",
            "\u001b[0;31mNameError\u001b[0m: name 'kjhgkhk' is not defined"
          ]
        }
      ]
    },
    {
      "cell_type": "code",
      "metadata": {
        "colab": {
          "base_uri": "https://localhost:8080/",
          "height": 198
        },
        "id": "b6h_3le6W3xp",
        "outputId": "83ed6f98-23aa-4e5f-a9a8-e17719c6b0a9"
      },
      "source": [
        "df4.head()"
      ],
      "execution_count": null,
      "outputs": [
        {
          "output_type": "execute_result",
          "data": {
            "text/html": [
              "<div>\n",
              "<style scoped>\n",
              "    .dataframe tbody tr th:only-of-type {\n",
              "        vertical-align: middle;\n",
              "    }\n",
              "\n",
              "    .dataframe tbody tr th {\n",
              "        vertical-align: top;\n",
              "    }\n",
              "\n",
              "    .dataframe thead th {\n",
              "        text-align: right;\n",
              "    }\n",
              "</style>\n",
              "<table border=\"1\" class=\"dataframe\">\n",
              "  <thead>\n",
              "    <tr style=\"text-align: right;\">\n",
              "      <th></th>\n",
              "      <th>Style</th>\n",
              "      <th>new</th>\n",
              "      <th>Qty status</th>\n",
              "      <th>weightage</th>\n",
              "      <th>trimsdone</th>\n",
              "    </tr>\n",
              "  </thead>\n",
              "  <tbody>\n",
              "    <tr>\n",
              "      <th>10</th>\n",
              "      <td>A117FW21X</td>\n",
              "      <td>Trims</td>\n",
              "      <td>Quantity OK</td>\n",
              "      <td>0.200000</td>\n",
              "      <td>no</td>\n",
              "    </tr>\n",
              "    <tr>\n",
              "      <th>33</th>\n",
              "      <td>C042FW21M</td>\n",
              "      <td>Trims</td>\n",
              "      <td>Quantity OK</td>\n",
              "      <td>0.083333</td>\n",
              "      <td>no</td>\n",
              "    </tr>\n",
              "    <tr>\n",
              "      <th>35</th>\n",
              "      <td>C043FW21W</td>\n",
              "      <td>Trims</td>\n",
              "      <td>Quantity OK</td>\n",
              "      <td>0.111111</td>\n",
              "      <td>no</td>\n",
              "    </tr>\n",
              "    <tr>\n",
              "      <th>38</th>\n",
              "      <td>C045FW21X</td>\n",
              "      <td>Trims</td>\n",
              "      <td>Quantity OK</td>\n",
              "      <td>0.250000</td>\n",
              "      <td>no</td>\n",
              "    </tr>\n",
              "    <tr>\n",
              "      <th>53</th>\n",
              "      <td>J061FW21M</td>\n",
              "      <td>Trims</td>\n",
              "      <td>Quantity OK</td>\n",
              "      <td>0.125000</td>\n",
              "      <td>no</td>\n",
              "    </tr>\n",
              "  </tbody>\n",
              "</table>\n",
              "</div>"
            ],
            "text/plain": [
              "        Style    new   Qty status  weightage trimsdone\n",
              "10  A117FW21X  Trims  Quantity OK   0.200000        no\n",
              "33  C042FW21M  Trims  Quantity OK   0.083333        no\n",
              "35  C043FW21W  Trims  Quantity OK   0.111111        no\n",
              "38  C045FW21X  Trims  Quantity OK   0.250000        no\n",
              "53  J061FW21M  Trims  Quantity OK   0.125000        no"
            ]
          },
          "metadata": {
            "tags": []
          },
          "execution_count": 86
        }
      ]
    },
    {
      "cell_type": "code",
      "metadata": {
        "id": "h6EgmvO4Znno"
      },
      "source": [
        "y = df4.iloc[:, 3].values"
      ],
      "execution_count": null,
      "outputs": []
    },
    {
      "cell_type": "code",
      "metadata": {
        "id": "wk03D9b2U_pd"
      },
      "source": [
        "X = df4.iloc[:, 1:2].values\n",
        "y = df4.iloc[:, 2:4].values"
      ],
      "execution_count": null,
      "outputs": []
    },
    {
      "cell_type": "code",
      "metadata": {
        "id": "yzwDNR1yZhb8"
      },
      "source": [
        "from sklearn.preprocessing import StandardScaler\n",
        "sc_X = StandardScaler()\n",
        "sc_y = StandardScaler()"
      ],
      "execution_count": null,
      "outputs": []
    },
    {
      "cell_type": "code",
      "metadata": {
        "id": "u8AGGF7uZjTh"
      },
      "source": [
        "X = sc_y.fit_transform(y.reshape(-1,1))"
      ],
      "execution_count": null,
      "outputs": []
    },
    {
      "cell_type": "code",
      "metadata": {
        "id": "AgLYPs_tVCvi"
      },
      "source": [
        "X = np.arange(0,100).reshape(-1,1)"
      ],
      "execution_count": null,
      "outputs": []
    },
    {
      "cell_type": "code",
      "metadata": {
        "colab": {
          "base_uri": "https://localhost:8080/"
        },
        "id": "o7RM-zVwXaXv",
        "outputId": "5b66d849-e295-47d5-c169-ef66e2bb4e5e"
      },
      "source": [
        "X.ndim "
      ],
      "execution_count": null,
      "outputs": [
        {
          "output_type": "execute_result",
          "data": {
            "text/plain": [
              "2"
            ]
          },
          "metadata": {
            "tags": []
          },
          "execution_count": 109
        }
      ]
    },
    {
      "cell_type": "code",
      "metadata": {
        "id": "HwWqVdqRFL7K"
      },
      "source": [
        "X = df4.iloc[:,df4.columns !='weightage'].values"
      ],
      "execution_count": null,
      "outputs": []
    },
    {
      "cell_type": "code",
      "metadata": {
        "id": "Hac69OU2FOkx"
      },
      "source": [
        "y = df4.iloc[:, df4.columns =='weightage']"
      ],
      "execution_count": null,
      "outputs": []
    },
    {
      "cell_type": "code",
      "metadata": {
        "id": "bZ2-rvV8GP9c"
      },
      "source": [
        "from sklearn.preprocessing import LabelEncoder, OneHotEncoder\n",
        "from sklearn.compose import ColumnTransformer"
      ],
      "execution_count": null,
      "outputs": []
    },
    {
      "cell_type": "code",
      "metadata": {
        "colab": {
          "base_uri": "https://localhost:8080/"
        },
        "id": "tw6VoM_lHKOi",
        "outputId": "ab67dca1-c113-4faf-b6d3-2a4bdc932d4d"
      },
      "source": [
        "X[0:5]"
      ],
      "execution_count": null,
      "outputs": [
        {
          "output_type": "execute_result",
          "data": {
            "text/plain": [
              "array([['Trims', 'Quantity OK', 'no'],\n",
              "       ['Trims', 'Quantity OK', 'no'],\n",
              "       ['Trims', 'Quantity OK', 'no'],\n",
              "       ['Trims', 'Quantity OK', 'no'],\n",
              "       ['Trims', 'Quantity OK', 'no']], dtype=object)"
            ]
          },
          "metadata": {
            "tags": []
          },
          "execution_count": 65
        }
      ]
    },
    {
      "cell_type": "code",
      "metadata": {
        "id": "c2iLvqXYHSP7"
      },
      "source": [
        ""
      ],
      "execution_count": null,
      "outputs": []
    },
    {
      "cell_type": "code",
      "metadata": {
        "id": "HUNQZSdyHH-h"
      },
      "source": [
        "X = X[:, 1:]"
      ],
      "execution_count": null,
      "outputs": []
    },
    {
      "cell_type": "code",
      "metadata": {
        "id": "fsI7ItF4KI77"
      },
      "source": [
        "df = pd.DataFrame({'Actual': y_test.flatten(), 'Predicted': y_pred.flatten()})"
      ],
      "execution_count": null,
      "outputs": []
    },
    {
      "cell_type": "code",
      "metadata": {
        "id": "anoBG2N4MNRZ"
      },
      "source": [
        "#plot the actual and predictions"
      ],
      "execution_count": null,
      "outputs": []
    },
    {
      "cell_type": "code",
      "metadata": {
        "colab": {
          "base_uri": "https://localhost:8080/",
          "height": 613
        },
        "id": "gIrO5XGRMbLR",
        "outputId": "bb3443e3-f8dd-4780-df40-49a9242ddae6"
      },
      "source": [
        "df4 = df4.head(25)\n",
        "df4.plot(x='trimsdone',kind='bar',figsize=(16,10))\n",
        "plt.grid(which='major', linestyle='-', linewidth='0.5', color='green')\n",
        "plt.grid(which='minor', linestyle=':', linewidth='0.5', color='black')\n",
        "plt.show()"
      ],
      "execution_count": null,
      "outputs": [
        {
          "output_type": "display_data",
          "data": {
            "image/png": "[encoded data removed]",
            "text/plain": [
              "<Figure size 1152x720 with 1 Axes>"
            ]
          },
          "metadata": {
            "tags": [],
            "needs_background": "light"
          }
        }
      ]
    },
    {
      "cell_type": "code",
      "metadata": {
        "id": "sD-IYO-ORd7I"
      },
      "source": [
        "#evaluation Metrics \n",
        "from sklearn import metrics\n",
        "print('Mean Absolute Error:', metrics.mean_absolute_error(y_test, y_pred))  \n",
        "print('Mean Squared Error:', metrics.mean_squared_error(y_test, y_pred))  \n",
        "print('Root Mean Squared Error:', np.sqrt(metrics.mean_squared_error(y_test, y_pred)))"
      ],
      "execution_count": null,
      "outputs": []
    },
    {
      "cell_type": "code",
      "metadata": {
        "id": "1SJPRtN7Rmni"
      },
      "source": [
        "#evaluation Metrics\n",
        "from sklearn import metrics\n",
        "print('Accuracy Score:', metrics.accuracy_score(y_test, y_pred))\n",
        "print('Balanced Accuracy Score:', metrics.balanced_accuracy_score(y_test, y_pred))\n",
        "print('Average Precision:',metrics.average_precision_score(y_test, y_pred))"
      ],
      "execution_count": null,
      "outputs": []
    },
    {
      "cell_type": "code",
      "metadata": {
        "id": "waKKZK5pSgfM"
      },
      "source": [
        "import numpy as np\n",
        "from sklearn.preprocessing import StandardScaler\n",
        "sc= StandardScaler()"
      ],
      "execution_count": null,
      "outputs": []
    },
    {
      "cell_type": "code",
      "metadata": {
        "colab": {
          "base_uri": "https://localhost:8080/"
        },
        "id": "ni43XiWkSe_v",
        "outputId": "1c34f034-8780-4023-daa2-a14c8b0ace6b"
      },
      "source": [
        "new_data = np.array([66952.7,28,8770.1])\n",
        "new_data=new_data.reshape(-1,3)\n",
        "sc.fit_transform(new_data)\n"
      ],
      "execution_count": null,
      "outputs": [
        {
          "output_type": "execute_result",
          "data": {
            "text/plain": [
              "array([[0., 0., 0.]])"
            ]
          },
          "metadata": {
            "tags": []
          },
          "execution_count": 13
        }
      ]
    },
    {
      "cell_type": "code",
      "metadata": {
        "id": "39uZLq-PR4Eq"
      },
      "source": [
        "#save the model in the disk\n",
        "import pickle\n",
        "# save the model to disk\n",
        "filename = 'reg_model.sav'\n",
        "pickle.dump(regressor, open(filename, 'wb'))\n",
        "# load the model from disk\n",
        "filename1 = 'reg_model.sav'\n",
        "loaded_model = pickle.load(open(filename1, 'rb'))"
      ],
      "execution_count": null,
      "outputs": []
    },
    {
      "cell_type": "code",
      "metadata": {
        "id": "iw0gNqHLScJN"
      },
      "source": [
        "from sklearn.externals import joblib  \n",
        "# Save the model as a pickle in a file \n",
        "joblib.dump(regressor, 'regressor.pkl') \n",
        "  \n",
        "# Load the model from the file \n",
        "loaded_model2 = joblib.load('regressor.pkl')  \n",
        "  \n",
        "# Use the loaded model to make predictions \n",
        "loaded_model2.predict(X_test)"
      ],
      "execution_count": null,
      "outputs": []
    },
    {
      "cell_type": "code",
      "metadata": {
        "id": "0VYMg92WMLwn"
      },
      "source": [
        "df_1 = df.head(25)\n",
        "df_1.plot(kind=’bar’,figsize=(16,10))\n",
        "plt.grid(which=’major’, linestyle=’-’, linewidth=’0.5', color=’green’)\n",
        "plt.grid(which=’minor’, linestyle=’:’, linewidth=’0.5', color=’black’)\n",
        "plt.show()"
      ],
      "execution_count": null,
      "outputs": []
    },
    {
      "cell_type": "code",
      "metadata": {
        "id": "9NClZbsFML5r"
      },
      "source": [
        ""
      ],
      "execution_count": null,
      "outputs": []
    },
    {
      "cell_type": "code",
      "metadata": {
        "id": "ghNFflPt6vWv"
      },
      "source": [
        "def get_status(df):\n",
        "    if df['TIME_1'] == df['TIME_MIN']:\n",
        "        return df['STATUS_1']\n",
        "    elif df['TIME_2'] == df['TIME_MIN']:\n",
        "        return df['STATUS_2']\n",
        "    elif df['TIME_3'] == df['TIME_MIN']:\n",
        "        return df['STATUS_3']\n",
        "    elif df['TIME_4'] == df['TIME_MIN']:\n",
        "        return df['STATUS_4']\n",
        "    else:\n",
        "        return df['STATUS_5']\n",
        "\n",
        "df['STATUS'] = df.apply(get_status, axis = 1)"
      ],
      "execution_count": null,
      "outputs": []
    },
    {
      "cell_type": "code",
      "metadata": {
        "colab": {
          "base_uri": "https://localhost:8080/",
          "height": 358
        },
        "id": "iZxmpQqL6wOm",
        "outputId": "714b7cd7-849a-4e5f-9292-3f6a336cf90f"
      },
      "source": [
        "def status(df4):\n",
        "  if df4['Style'].str.contains('C')==True:\n",
        "    return df4['weightage']\n",
        "  elif df4['Style'].str.contains('A')==True:\n",
        "    return df4['new']\n",
        "  else:\n",
        "    return df4['trimsdone']\n",
        "\n",
        "df4['status']=df4.apply(status,axis=1)"
      ],
      "execution_count": null,
      "outputs": [
        {
          "output_type": "error",
          "ename": "AttributeError",
          "evalue": "ignored",
          "traceback": [
            "\u001b[0;31m---------------------------------------------------------------------------\u001b[0m",
            "\u001b[0;31mAttributeError\u001b[0m                            Traceback (most recent call last)",
            "\u001b[0;32m<ipython-input-46-8f13e9e24499>\u001b[0m in \u001b[0;36m<module>\u001b[0;34m()\u001b[0m\n\u001b[1;32m      7\u001b[0m     \u001b[0;32mreturn\u001b[0m \u001b[0mdf4\u001b[0m\u001b[0;34m[\u001b[0m\u001b[0;34m'trimsdone'\u001b[0m\u001b[0;34m]\u001b[0m\u001b[0;34m\u001b[0m\u001b[0;34m\u001b[0m\u001b[0m\n\u001b[1;32m      8\u001b[0m \u001b[0;34m\u001b[0m\u001b[0m\n\u001b[0;32m----> 9\u001b[0;31m \u001b[0mdf4\u001b[0m\u001b[0;34m[\u001b[0m\u001b[0;34m'status'\u001b[0m\u001b[0;34m]\u001b[0m\u001b[0;34m=\u001b[0m\u001b[0mdf4\u001b[0m\u001b[0;34m.\u001b[0m\u001b[0mapply\u001b[0m\u001b[0;34m(\u001b[0m\u001b[0mstatus\u001b[0m\u001b[0;34m,\u001b[0m\u001b[0maxis\u001b[0m\u001b[0;34m=\u001b[0m\u001b[0;36m1\u001b[0m\u001b[0;34m)\u001b[0m\u001b[0;34m\u001b[0m\u001b[0;34m\u001b[0m\u001b[0m\n\u001b[0m",
            "\u001b[0;32m/usr/local/lib/python3.7/dist-packages/pandas/core/frame.py\u001b[0m in \u001b[0;36mapply\u001b[0;34m(self, func, axis, raw, result_type, args, **kwds)\u001b[0m\n\u001b[1;32m   7550\u001b[0m             \u001b[0mkwds\u001b[0m\u001b[0;34m=\u001b[0m\u001b[0mkwds\u001b[0m\u001b[0;34m,\u001b[0m\u001b[0;34m\u001b[0m\u001b[0;34m\u001b[0m\u001b[0m\n\u001b[1;32m   7551\u001b[0m         )\n\u001b[0;32m-> 7552\u001b[0;31m         \u001b[0;32mreturn\u001b[0m \u001b[0mop\u001b[0m\u001b[0;34m.\u001b[0m\u001b[0mget_result\u001b[0m\u001b[0;34m(\u001b[0m\u001b[0;34m)\u001b[0m\u001b[0;34m\u001b[0m\u001b[0;34m\u001b[0m\u001b[0m\n\u001b[0m\u001b[1;32m   7553\u001b[0m \u001b[0;34m\u001b[0m\u001b[0m\n\u001b[1;32m   7554\u001b[0m     \u001b[0;32mdef\u001b[0m \u001b[0mapplymap\u001b[0m\u001b[0;34m(\u001b[0m\u001b[0mself\u001b[0m\u001b[0;34m,\u001b[0m \u001b[0mfunc\u001b[0m\u001b[0;34m)\u001b[0m \u001b[0;34m->\u001b[0m \u001b[0;34m\"DataFrame\"\u001b[0m\u001b[0;34m:\u001b[0m\u001b[0;34m\u001b[0m\u001b[0;34m\u001b[0m\u001b[0m\n",
            "\u001b[0;32m/usr/local/lib/python3.7/dist-packages/pandas/core/apply.py\u001b[0m in \u001b[0;36mget_result\u001b[0;34m(self)\u001b[0m\n\u001b[1;32m    183\u001b[0m             \u001b[0;32mreturn\u001b[0m \u001b[0mself\u001b[0m\u001b[0;34m.\u001b[0m\u001b[0mapply_raw\u001b[0m\u001b[0;34m(\u001b[0m\u001b[0;34m)\u001b[0m\u001b[0;34m\u001b[0m\u001b[0;34m\u001b[0m\u001b[0m\n\u001b[1;32m    184\u001b[0m \u001b[0;34m\u001b[0m\u001b[0m\n\u001b[0;32m--> 185\u001b[0;31m         \u001b[0;32mreturn\u001b[0m \u001b[0mself\u001b[0m\u001b[0;34m.\u001b[0m\u001b[0mapply_standard\u001b[0m\u001b[0;34m(\u001b[0m\u001b[0;34m)\u001b[0m\u001b[0;34m\u001b[0m\u001b[0;34m\u001b[0m\u001b[0m\n\u001b[0m\u001b[1;32m    186\u001b[0m \u001b[0;34m\u001b[0m\u001b[0m\n\u001b[1;32m    187\u001b[0m     \u001b[0;32mdef\u001b[0m \u001b[0mapply_empty_result\u001b[0m\u001b[0;34m(\u001b[0m\u001b[0mself\u001b[0m\u001b[0;34m)\u001b[0m\u001b[0;34m:\u001b[0m\u001b[0;34m\u001b[0m\u001b[0;34m\u001b[0m\u001b[0m\n",
            "\u001b[0;32m/usr/local/lib/python3.7/dist-packages/pandas/core/apply.py\u001b[0m in \u001b[0;36mapply_standard\u001b[0;34m(self)\u001b[0m\n\u001b[1;32m    274\u001b[0m \u001b[0;34m\u001b[0m\u001b[0m\n\u001b[1;32m    275\u001b[0m     \u001b[0;32mdef\u001b[0m \u001b[0mapply_standard\u001b[0m\u001b[0;34m(\u001b[0m\u001b[0mself\u001b[0m\u001b[0;34m)\u001b[0m\u001b[0;34m:\u001b[0m\u001b[0;34m\u001b[0m\u001b[0;34m\u001b[0m\u001b[0m\n\u001b[0;32m--> 276\u001b[0;31m         \u001b[0mresults\u001b[0m\u001b[0;34m,\u001b[0m \u001b[0mres_index\u001b[0m \u001b[0;34m=\u001b[0m \u001b[0mself\u001b[0m\u001b[0;34m.\u001b[0m\u001b[0mapply_series_generator\u001b[0m\u001b[0;34m(\u001b[0m\u001b[0;34m)\u001b[0m\u001b[0;34m\u001b[0m\u001b[0;34m\u001b[0m\u001b[0m\n\u001b[0m\u001b[1;32m    277\u001b[0m \u001b[0;34m\u001b[0m\u001b[0m\n\u001b[1;32m    278\u001b[0m         \u001b[0;31m# wrap results\u001b[0m\u001b[0;34m\u001b[0m\u001b[0;34m\u001b[0m\u001b[0;34m\u001b[0m\u001b[0m\n",
            "\u001b[0;32m/usr/local/lib/python3.7/dist-packages/pandas/core/apply.py\u001b[0m in \u001b[0;36mapply_series_generator\u001b[0;34m(self)\u001b[0m\n\u001b[1;32m    303\u001b[0m                 \u001b[0;32mfor\u001b[0m \u001b[0mi\u001b[0m\u001b[0;34m,\u001b[0m \u001b[0mv\u001b[0m \u001b[0;32min\u001b[0m \u001b[0menumerate\u001b[0m\u001b[0;34m(\u001b[0m\u001b[0mseries_gen\u001b[0m\u001b[0;34m)\u001b[0m\u001b[0;34m:\u001b[0m\u001b[0;34m\u001b[0m\u001b[0;34m\u001b[0m\u001b[0m\n\u001b[1;32m    304\u001b[0m                     \u001b[0;31m# ignore SettingWithCopy here in case the user mutates\u001b[0m\u001b[0;34m\u001b[0m\u001b[0;34m\u001b[0m\u001b[0;34m\u001b[0m\u001b[0m\n\u001b[0;32m--> 305\u001b[0;31m                     \u001b[0mresults\u001b[0m\u001b[0;34m[\u001b[0m\u001b[0mi\u001b[0m\u001b[0;34m]\u001b[0m \u001b[0;34m=\u001b[0m \u001b[0mself\u001b[0m\u001b[0;34m.\u001b[0m\u001b[0mf\u001b[0m\u001b[0;34m(\u001b[0m\u001b[0mv\u001b[0m\u001b[0;34m)\u001b[0m\u001b[0;34m\u001b[0m\u001b[0;34m\u001b[0m\u001b[0m\n\u001b[0m\u001b[1;32m    306\u001b[0m                     \u001b[0;32mif\u001b[0m \u001b[0misinstance\u001b[0m\u001b[0;34m(\u001b[0m\u001b[0mresults\u001b[0m\u001b[0;34m[\u001b[0m\u001b[0mi\u001b[0m\u001b[0;34m]\u001b[0m\u001b[0;34m,\u001b[0m \u001b[0mABCSeries\u001b[0m\u001b[0;34m)\u001b[0m\u001b[0;34m:\u001b[0m\u001b[0;34m\u001b[0m\u001b[0;34m\u001b[0m\u001b[0m\n\u001b[1;32m    307\u001b[0m                         \u001b[0;31m# If we have a view on v, we need to make a copy because\u001b[0m\u001b[0;34m\u001b[0m\u001b[0;34m\u001b[0m\u001b[0;34m\u001b[0m\u001b[0m\n",
            "\u001b[0;32m<ipython-input-46-8f13e9e24499>\u001b[0m in \u001b[0;36mstatus\u001b[0;34m(df4)\u001b[0m\n\u001b[1;32m      1\u001b[0m \u001b[0;32mdef\u001b[0m \u001b[0mstatus\u001b[0m\u001b[0;34m(\u001b[0m\u001b[0mdf4\u001b[0m\u001b[0;34m)\u001b[0m\u001b[0;34m:\u001b[0m\u001b[0;34m\u001b[0m\u001b[0;34m\u001b[0m\u001b[0m\n\u001b[0;32m----> 2\u001b[0;31m   \u001b[0;32mif\u001b[0m \u001b[0mdf4\u001b[0m\u001b[0;34m[\u001b[0m\u001b[0;34m'Style'\u001b[0m\u001b[0;34m]\u001b[0m\u001b[0;34m.\u001b[0m\u001b[0mstr\u001b[0m\u001b[0;34m.\u001b[0m\u001b[0mcontains\u001b[0m\u001b[0;34m(\u001b[0m\u001b[0;34m'C'\u001b[0m\u001b[0;34m)\u001b[0m\u001b[0;34m==\u001b[0m\u001b[0;32mTrue\u001b[0m\u001b[0;34m:\u001b[0m\u001b[0;34m\u001b[0m\u001b[0;34m\u001b[0m\u001b[0m\n\u001b[0m\u001b[1;32m      3\u001b[0m     \u001b[0;32mreturn\u001b[0m \u001b[0mdf4\u001b[0m\u001b[0;34m[\u001b[0m\u001b[0;34m'weightage'\u001b[0m\u001b[0;34m]\u001b[0m\u001b[0;34m\u001b[0m\u001b[0;34m\u001b[0m\u001b[0m\n\u001b[1;32m      4\u001b[0m   \u001b[0;32melif\u001b[0m \u001b[0mdf4\u001b[0m\u001b[0;34m[\u001b[0m\u001b[0;34m'Style'\u001b[0m\u001b[0;34m]\u001b[0m\u001b[0;34m.\u001b[0m\u001b[0mstr\u001b[0m\u001b[0;34m.\u001b[0m\u001b[0mcontains\u001b[0m\u001b[0;34m(\u001b[0m\u001b[0;34m'A'\u001b[0m\u001b[0;34m)\u001b[0m\u001b[0;34m==\u001b[0m\u001b[0;32mTrue\u001b[0m\u001b[0;34m:\u001b[0m\u001b[0;34m\u001b[0m\u001b[0;34m\u001b[0m\u001b[0m\n\u001b[1;32m      5\u001b[0m     \u001b[0;32mreturn\u001b[0m \u001b[0mdf4\u001b[0m\u001b[0;34m[\u001b[0m\u001b[0;34m'new'\u001b[0m\u001b[0;34m]\u001b[0m\u001b[0;34m\u001b[0m\u001b[0;34m\u001b[0m\u001b[0m\n",
            "\u001b[0;31mAttributeError\u001b[0m: 'str' object has no attribute 'str'"
          ]
        }
      ]
    },
    {
      "cell_type": "code",
      "metadata": {
        "id": "IP-4YbW8xiET"
      },
      "source": [
        "#df.value.str[:3]+'10'+df.value.str[5:]"
      ],
      "execution_count": null,
      "outputs": []
    },
    {
      "cell_type": "code",
      "metadata": {
        "id": "G45Fan17yoKT"
      },
      "source": [
        "#df4['Style'].str[:3]"
      ],
      "execution_count": null,
      "outputs": []
    },
    {
      "cell_type": "code",
      "metadata": {
        "id": "UzP6GCAXtd6Y"
      },
      "source": [
        "#cond = [df4['Style'].str[3:5] == '3F']\n",
        "#choice= [df4['Style'].str[:3]+'--'+df4['Style'].str[5:]]\n",
        "#df4['Sty']= np.select(cond,choice,default=df4['Style'])\n",
        "#df4"
      ],
      "execution_count": null,
      "outputs": []
    },
    {
      "cell_type": "code",
      "metadata": {
        "id": "cv3LkIoKY9cD"
      },
      "source": [
        "list=['Trims']"
      ],
      "execution_count": null,
      "outputs": []
    },
    {
      "cell_type": "code",
      "metadata": {
        "id": "Z6THfv4RYA03"
      },
      "source": [
        "[x for x in df4['new'] if x not in list]"
      ],
      "execution_count": null,
      "outputs": []
    },
    {
      "cell_type": "code",
      "metadata": {
        "id": "kgYWiAsIW7SV"
      },
      "source": [
        "my_list=[x for x in empty_list if x not in stopwords]"
      ],
      "execution_count": null,
      "outputs": []
    },
    {
      "cell_type": "code",
      "metadata": {
        "id": "bFc1-pkgXcfR"
      },
      "source": [
        "for i, r in df4.iterrows():\n",
        "  print(i,r[0])"
      ],
      "execution_count": null,
      "outputs": []
    },
    {
      "cell_type": "code",
      "metadata": {
        "id": "PYpyHzrdW30q"
      },
      "source": [
        "df = pd.DataFrame([[100,200,150,400,500,'a','b','a','c','a',100], [300,400,200,500,250,'b','b','c','c','c',200]], columns=['TIME_1', 'TIME_2', 'TIME_3', 'TIME_4', 'TIME_5','STATUS_1','STATUS_2','STATUS_3','STATUS_4','STATUS_5','TIME_MIN'])\n"
      ],
      "execution_count": null,
      "outputs": []
    },
    {
      "cell_type": "code",
      "metadata": {
        "id": "G00h7UQwW36r"
      },
      "source": [
        "def get_status(df):\n",
        "    if df['TIME_1'] == df['TIME_MIN']:\n",
        "        return df['STATUS_1']\n",
        "    elif df['TIME_2'] == df['TIME_MIN']:\n",
        "        return df['STATUS_2']\n",
        "    elif df['TIME_3'] == df['TIME_MIN']:\n",
        "        return df['STATUS_3']\n",
        "    elif df['TIME_4'] == df['TIME_MIN']:\n",
        "        return df['STATUS_4']\n",
        "    else:\n",
        "        return df['STATUS_5']\n",
        "\n",
        "df['STATUS'] = df.apply(get_status, axis = 1)"
      ],
      "execution_count": null,
      "outputs": []
    },
    {
      "cell_type": "code",
      "metadata": {
        "id": "I9sUB8mNxj3B"
      },
      "source": [
        "class MultiColumnLabelEncoder:\n",
        "    def __init__(self,columns = None):\n",
        "        self.columns = columns # array of column names to encode\n",
        "\n",
        "    def fit(self,X,y=None):\n",
        "        return self # not relevant here\n",
        "\n",
        "    def transform(self,X):\n",
        "        '''\n",
        "        Transforms columns of X specified in self.columns using\n",
        "        LabelEncoder(). If no columns specified, transforms all\n",
        "        columns in X.\n",
        "        '''\n",
        "        output = X.copy()\n",
        "        if self.columns is not None:\n",
        "            for col in self.columns:\n",
        "                output[col] = le.fit_transform(output[col])\n",
        "        else:\n",
        "            for colname,col in output.iteritems():\n",
        "                output[colname] = le.fit_transform(col)\n",
        "        return output\n",
        "\n",
        "    def fit_transform(self,X,y=None):\n",
        "        return self.fit(X,y).transform(X)\n",
        "\n",
        "    def inverse_transform(self, X):\n",
        "        output = X.copy()\n",
        "        if self.columns is not None:\n",
        "            for col in self.columns:\n",
        "                output[col] = le.inverse_transform(output[col])\n",
        "        else:\n",
        "            for colname,col in output.iteritems():\n",
        "                output[colname] = le.inverse_transform(col)\n",
        "        return output\n",
        "\n",
        "    def fit_inv_transform(self,X,y=None):\n",
        "        return self.fit(X,y).inverse_transform(X)        "
      ],
      "execution_count": null,
      "outputs": []
    },
    {
      "cell_type": "code",
      "metadata": {
        "id": "TRIMoyLXrEQK"
      },
      "source": [
        "df4.head()"
      ],
      "execution_count": null,
      "outputs": []
    },
    {
      "cell_type": "code",
      "metadata": {
        "id": "cwI_UMT8UYLG"
      },
      "source": [
        "def foo():\n",
        "  for col in df4.columns:\n",
        "    if df4[col].dtype == object:\n",
        "      return df4[col].apply(le.fit_transform)"
      ],
      "execution_count": null,
      "outputs": []
    },
    {
      "cell_type": "code",
      "metadata": {
        "id": "mg2F_poiVXvX"
      },
      "source": [
        "df4.apply(foo)"
      ],
      "execution_count": null,
      "outputs": []
    },
    {
      "cell_type": "code",
      "metadata": {
        "id": "wxLQbnjsUhLC"
      },
      "source": [
        "for col in df4.columns:\n",
        "  if df4[col].dtype == str: # Although, you see the dtype `object` but `str` is also fine \n",
        "  return df4[col].apply(le.fit_transform)"
      ],
      "execution_count": null,
      "outputs": []
    },
    {
      "cell_type": "code",
      "metadata": {
        "id": "OLVGW6d8CiE6"
      },
      "source": [
        "dff=MultiColumnLabelEncoder(columns = ['new','Style','Qty status','trimsdone']).fit_transform(df4)"
      ],
      "execution_count": null,
      "outputs": []
    },
    {
      "cell_type": "code",
      "metadata": {
        "id": "6bjOhamKsliq"
      },
      "source": [
        "MultiColumnLabelEncoder(columns = ['new','Style','Qty status','trimsdone']).fit_inv_transform(dff)"
      ],
      "execution_count": null,
      "outputs": []
    },
    {
      "cell_type": "code",
      "metadata": {
        "id": "UyjwoJ_nqydu"
      },
      "source": [
        "#df4.apply(le.inverse_transform)"
      ],
      "execution_count": null,
      "outputs": []
    },
    {
      "cell_type": "code",
      "metadata": {
        "id": "O4ZrxNaSqbXk"
      },
      "source": [
        "class MultiColumnLabelEncoder:\n",
        "\n",
        "    def __init__(self, columns=None):\n",
        "        self.columns = columns # array of column names to encode\n",
        "\n",
        "\n",
        "    def fit(self, X, y=None):\n",
        "        self.encoders = {}\n",
        "        columns = X.columns if self.columns is None else self.columns\n",
        "        for col in columns:\n",
        "            self.encoders[col] = le.fit(X[col])\n",
        "        return self\n",
        "\n",
        "\n",
        "    def transform(self, X):\n",
        "        output = X.copy()\n",
        "        columns = X.columns if self.columns is None else self.columns\n",
        "        for col in columns:\n",
        "            output[col] = self.encoders[col].transform(X[col])\n",
        "        return output\n",
        "\n",
        "\n",
        "    def fit_transform(self, X, y=None):\n",
        "        return self.fit(X,y).transform(X)\n",
        "\n",
        "\n",
        "    def inverse_transform(self, X):\n",
        "        output = X.copy()\n",
        "        columns = X.columns if self.columns is None else self.columns\n",
        "        for col in columns:\n",
        "            output[col] = self.encoders[col].inverse_transform(X[col])\n",
        "        return output"
      ],
      "execution_count": null,
      "outputs": []
    },
    {
      "cell_type": "code",
      "metadata": {
        "id": "cZ2UDJhTtfOj"
      },
      "source": [
        "multi = MultiColumnLabelEncoder(columns=['Style','Qty status'])"
      ],
      "execution_count": null,
      "outputs": []
    },
    {
      "cell_type": "code",
      "metadata": {
        "id": "0U6dy0RgtLAl"
      },
      "source": [
        "X = multi.fit_transform(df4)"
      ],
      "execution_count": null,
      "outputs": []
    },
    {
      "cell_type": "code",
      "metadata": {
        "id": "hBj-d8o-tq6y"
      },
      "source": [
        "X.head()"
      ],
      "execution_count": null,
      "outputs": []
    },
    {
      "cell_type": "code",
      "metadata": {
        "id": "Z_FF5WnCtOKi"
      },
      "source": [
        "inv = multi.inverse_transform(X)"
      ],
      "execution_count": null,
      "outputs": []
    },
    {
      "cell_type": "code",
      "metadata": {
        "id": "eI7O4-uam2Ga"
      },
      "source": [
        "a.head()"
      ],
      "execution_count": null,
      "outputs": []
    },
    {
      "cell_type": "code",
      "metadata": {
        "id": "f3WpSOjQmhlM"
      },
      "source": [
        "X.apply(le.inverse_transform)"
      ],
      "execution_count": null,
      "outputs": []
    },
    {
      "cell_type": "code",
      "metadata": {
        "id": "mQoUejuFmfef"
      },
      "source": [
        ""
      ],
      "execution_count": null,
      "outputs": []
    },
    {
      "cell_type": "code",
      "metadata": {
        "id": "SJBPX0BEgXoc"
      },
      "source": [
        "text = \"word1anotherword23nextone456lastone333\"\n",
        "numbers = [x for x in text if x.isdigit()==True]\n",
        "print(''.join(numbers))"
      ],
      "execution_count": null,
      "outputs": []
    },
    {
      "cell_type": "code",
      "metadata": {
        "id": "aR4MBq6dsXpC"
      },
      "source": [
        "y = []\n",
        "for x in (f(i) for i in range(5)):\n",
        "    for a in x:\n",
        "        y.append(a)"
      ],
      "execution_count": null,
      "outputs": []
    },
    {
      "cell_type": "code",
      "metadata": {
        "id": "vUGYnIoHaBPB"
      },
      "source": [
        "for col in train.columns:\n",
        "  if train[col].dtype == 'object':\n",
        "    le = LabelEncoder()\n",
        "    le.fit(list(train[col].astype(str).values)+list(test[col].astype(str).values))\n",
        "    train[col] = le.transform(list(train[col].astype(str).values))\n",
        "    test[col] = le.transform(list(train[col].astype(str).values))"
      ],
      "execution_count": null,
      "outputs": []
    }
  ]
}