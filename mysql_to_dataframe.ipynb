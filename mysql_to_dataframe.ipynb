{
  "nbformat": 4,
  "nbformat_minor": 0,
  "metadata": {
    "colab": {
      "name": "jelly.ipynb",
      "provenance": [],
      "authorship_tag": "ABX9TyMrUQ3yyafyFifgH8JKDq0w",
      "include_colab_link": true
    },
    "kernelspec": {
      "name": "python3",
      "display_name": "Python 3"
    },
    "language_info": {
      "name": "python"
    }
  },
  "cells": [
    {
      "cell_type": "markdown",
      "metadata": {
        "id": "view-in-github",
        "colab_type": "text"
      },
      "source": [
        "<a href=\"https://colab.research.google.com/github/vishvas-chauhan/First_Repository/blob/master/mysql_to_dataframe.ipynb\" target=\"_parent\"><img src=\"https://colab.research.google.com/assets/colab-badge.svg\" alt=\"Open In Colab\"/></a>"
      ]
    },
    {
      "cell_type": "code",
      "metadata": {
        "colab": {
          "base_uri": "https://localhost:8080/"
        },
        "id": "aWCzBRbp9Jug",
        "outputId": "6b0d0654-1ddf-49a8-a712-dc5126f42c47"
      },
      "source": [
        "#mysql connections\n",
        "!pip install mysql-connector-python "
      ],
      "execution_count": 1,
      "outputs": [
        {
          "output_type": "stream",
          "name": "stdout",
          "text": [
            "Collecting mysql-connector-python\n",
            "  Downloading mysql_connector_python-8.0.26-cp37-cp37m-manylinux1_x86_64.whl (30.9 MB)\n",
            "\u001b[K     |████████████████████████████████| 30.9 MB 84 kB/s \n",
            "\u001b[?25hRequirement already satisfied: protobuf>=3.0.0 in /usr/local/lib/python3.7/dist-packages (from mysql-connector-python) (3.17.3)\n",
            "Requirement already satisfied: six>=1.9 in /usr/local/lib/python3.7/dist-packages (from protobuf>=3.0.0->mysql-connector-python) (1.15.0)\n",
            "Installing collected packages: mysql-connector-python\n",
            "Successfully installed mysql-connector-python-8.0.26\n"
          ]
        }
      ]
    },
    {
      "cell_type": "code",
      "metadata": {
        "id": "hLyM1j6291R-"
      },
      "source": [
        "#@title sql conn\n",
        "import mysql.connector\n",
        "import pandas as pd\n",
        "from sqlalchemy import create_engine\n",
        "\n",
        "class JskDB:\n",
        "    \"\"\"\n",
        "    Example of SQL connection class\n",
        "    \"\"\"\n",
        "    \n",
        "    def __init__(self):\n",
        "        # MySQL database credentials \n",
        "        self.host = 'jellybas.cxvglcwgczps.us-west-2.rds.amazonaws.com'\n",
        "        self.port = 3306\n",
        "        self.user = 'da_ro' \n",
        "        self.password = 'UXDcu5ULheGEYJWF78Zy'\n",
        "        self.db = 'da2'\n",
        "\n",
        "    def create_connection(self):\n",
        "        \"\"\"Initialize MySQL connection\"\"\"\n",
        "        engine = create_engine(f\"mysql+mysqlconnector://{self.user}:{self.password}@{self.host}:{self.port}/{self.db}?charset=utf8\",echo=False).connect()\n",
        "\n",
        "        try:\n",
        "            print(engine)\n",
        "            return engine\n",
        "        except Exception as e:\n",
        "            print(e)\n",
        "\n",
        "\n",
        "# How to use \n",
        "def my_function():\n",
        "    \"\"\"\n",
        "    open a MySQL connection, run your code and close the connection\n",
        "    \"\"\"\n",
        "\n",
        "    # open connection\n",
        "    sql_connection = JskDB().create_connection()\n",
        "    \n",
        "    # My code to do something in MySQL Database\n",
        "    \n",
        "    # close connection\n",
        "    sql_connection.close()"
      ],
      "execution_count": 3,
      "outputs": []
    },
    {
      "cell_type": "code",
      "metadata": {
        "colab": {
          "base_uri": "https://localhost:8080/"
        },
        "id": "aP-b1S6A-9UH",
        "outputId": "7bb4e0c9-cc8a-4f23-b006-e4a348a368de"
      },
      "source": [
        "sql_connection = JskDB().create_connection()"
      ],
      "execution_count": 20,
      "outputs": [
        {
          "output_type": "stream",
          "name": "stdout",
          "text": [
            "<sqlalchemy.engine.base.Connection object at 0x7f5c0e467ed0>\n"
          ]
        }
      ]
    },
    {
      "cell_type": "code",
      "metadata": {
        "colab": {
          "base_uri": "https://localhost:8080/"
        },
        "id": "N0u0m5XkJWib",
        "outputId": "4af6934c-a512-4362-87f1-5c0b3419d1a3"
      },
      "source": [
        "sql_connection.execute(\"SHOW TABLES\").fetchall()"
      ],
      "execution_count": 46,
      "outputs": [
        {
          "output_type": "execute_result",
          "data": {
            "text/plain": [
              "[('snap_audience',), ('snap_behavior',), ('snap_channels',), ('snap_stories',)]"
            ]
          },
          "metadata": {},
          "execution_count": 46
        }
      ]
    },
    {
      "cell_type": "code",
      "metadata": {
        "id": "8czneyVVLDr2"
      },
      "source": [
        "sql1 =\"select * from snap_channels\"\n",
        "sql2 =\"select * from snap_audience\"\n",
        "sql3 =\"select * from snap_behavior\"\n",
        "sql4 =\"select * from snap_stories\""
      ],
      "execution_count": 73,
      "outputs": []
    },
    {
      "cell_type": "code",
      "metadata": {
        "id": "96EozlsoLCbq"
      },
      "source": [
        "import pandas as pd\n",
        "df_channel = pd.read_sql(sql1, sql_connection)\n",
        "df_channel = pd.read_sql(sql2, sql_connection)\n",
        "df_channel = pd.read_sql(sql3, sql_connection)\n",
        "df_channel = pd.read_sql(sql4, sql_connection)"
      ],
      "execution_count": 74,
      "outputs": []
    },
    {
      "cell_type": "code",
      "metadata": {
        "colab": {
          "base_uri": "https://localhost:8080/",
          "height": 173
        },
        "id": "o2nq3nevLLzw",
        "outputId": "ff27148f-643d-4e5c-e986-8a105a263798"
      },
      "source": [
        "df_channel"
      ],
      "execution_count": 72,
      "outputs": [
        {
          "output_type": "execute_result",
          "data": {
            "text/html": [
              "<div>\n",
              "<style scoped>\n",
              "    .dataframe tbody tr th:only-of-type {\n",
              "        vertical-align: middle;\n",
              "    }\n",
              "\n",
              "    .dataframe tbody tr th {\n",
              "        vertical-align: top;\n",
              "    }\n",
              "\n",
              "    .dataframe thead th {\n",
              "        text-align: right;\n",
              "    }\n",
              "</style>\n",
              "<table border=\"1\" class=\"dataframe\">\n",
              "  <thead>\n",
              "    <tr style=\"text-align: right;\">\n",
              "      <th></th>\n",
              "      <th>channel_fbid</th>\n",
              "      <th>channel_name</th>\n",
              "    </tr>\n",
              "  </thead>\n",
              "  <tbody>\n",
              "    <tr>\n",
              "      <th>0</th>\n",
              "      <td>5099640474828800</td>\n",
              "      <td>Riddle Me This</td>\n",
              "    </tr>\n",
              "    <tr>\n",
              "      <th>1</th>\n",
              "      <td>5109890280062976</td>\n",
              "      <td>Beauty Wow</td>\n",
              "    </tr>\n",
              "    <tr>\n",
              "      <th>2</th>\n",
              "      <td>5132076604719104</td>\n",
              "      <td>Beauty Hacks</td>\n",
              "    </tr>\n",
              "    <tr>\n",
              "      <th>3</th>\n",
              "      <td>5171177986981888</td>\n",
              "      <td>Accuse moi si tu peux</td>\n",
              "    </tr>\n",
              "  </tbody>\n",
              "</table>\n",
              "</div>"
            ],
            "text/plain": [
              "       channel_fbid           channel_name\n",
              "0  5099640474828800         Riddle Me This\n",
              "1  5109890280062976             Beauty Wow\n",
              "2  5132076604719104           Beauty Hacks\n",
              "3  5171177986981888  Accuse moi si tu peux"
            ]
          },
          "metadata": {},
          "execution_count": 72
        }
      ]
    },
    {
      "cell_type": "code",
      "metadata": {
        "id": "fQnVutYOLpcX"
      },
      "source": [
        ""
      ],
      "execution_count": null,
      "outputs": []
    },
    {
      "cell_type": "code",
      "metadata": {
        "id": "jAo974GfLpiS"
      },
      "source": [
        ""
      ],
      "execution_count": null,
      "outputs": []
    },
    {
      "cell_type": "code",
      "metadata": {
        "id": "jO-nOzfYIttP"
      },
      "source": [
        ""
      ],
      "execution_count": null,
      "outputs": []
    },
    {
      "cell_type": "code",
      "metadata": {
        "id": "HDP7m_qiItw5"
      },
      "source": [
        ""
      ],
      "execution_count": null,
      "outputs": []
    },
    {
      "cell_type": "code",
      "metadata": {
        "id": "S30WtfxDIt0f"
      },
      "source": [
        ""
      ],
      "execution_count": null,
      "outputs": []
    },
    {
      "cell_type": "code",
      "metadata": {
        "id": "HF57zX7R91aB"
      },
      "source": [
        "try:\n",
        "   cursor = cnx.cursor()\n",
        "   cursor.execute(\"\"\"\n",
        "      select 3 from your_table\n",
        "   \"\"\")\n",
        "   result = cursor.fetchall()\n",
        "   print result\n",
        "finally:\n",
        "    cnx.close()"
      ],
      "execution_count": null,
      "outputs": []
    }
  ]
}