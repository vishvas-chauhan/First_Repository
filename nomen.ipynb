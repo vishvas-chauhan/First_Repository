{
  "nbformat": 4,
  "nbformat_minor": 0,
  "metadata": {
    "colab": {
      "name": "nomen.ipynb",
      "provenance": [],
      "include_colab_link": true
    },
    "kernelspec": {
      "display_name": "Python 3",
      "name": "python3"
    },
    "language_info": {
      "name": "python"
    }
  },
  "cells": [
    {
      "cell_type": "markdown",
      "metadata": {
        "id": "view-in-github",
        "colab_type": "text"
      },
      "source": [
        "<a href=\"https://colab.research.google.com/github/vishvas-chauhan/First_Repository/blob/master/nomen.ipynb\" target=\"_parent\"><img src=\"https://colab.research.google.com/assets/colab-badge.svg\" alt=\"Open In Colab\"/></a>"
      ]
    },
    {
      "cell_type": "markdown",
      "metadata": {
        "id": "Rn34NJo4ewYT"
      },
      "source": [
        "##AUTHENTICATE THE ACCOUNT"
      ]
    },
    {
      "cell_type": "code",
      "metadata": {
        "id": "dVTlZVxzq5su"
      },
      "source": [
        "import matplotlib.pyplot as plt\n",
        "import seaborn as sns\n",
        "import pandas as pd\n",
        "import numpy as np\n",
        " \n",
        "import gspread\n",
        "import gspread_dataframe as gd\n",
        "from google.colab import auth\n",
        "auth.authenticate_user()\n",
        " \n",
        "import gspread\n",
        "from oauth2client.client import GoogleCredentials\n",
        " \n",
        "gc = gspread.authorize(GoogleCredentials.get_application_default())"
      ],
      "execution_count": null,
      "outputs": []
    },
    {
      "cell_type": "markdown",
      "metadata": {
        "id": "TlhEGFSl0ZZH"
      },
      "source": [
        "## first part"
      ]
    },
    {
      "cell_type": "code",
      "metadata": {
        "id": "p9nFYjNVq9ni"
      },
      "source": [
        "Sheet40 = gc.open(\"FW21 Nomenclatures Main\").worksheet(\"FW21 Nomenclatures MAIN\")\n",
        "df_Sheet40 = gd.get_as_dataframe(Sheet40)\n",
        "Fw21_m = gc.open(\"Inventry_update_production\").worksheet(\"Fw21_m\")\n",
        "df_i_Fw21_m = gd.get_as_dataframe(Fw21_m)\n",
        "FW21Main_prm = gc.open(\"Inventry_update_production\").worksheet(\"FW21Main_prm\")\n",
        "df_FW21Main_prm = gd.get_as_dataframe(FW21Main_prm)\n",
        " \n",
        "FW21sp_prm = gc.open(\"Inventry_update_production\").worksheet(\"FW21sp_prm\")\n",
        "df_FW21sp_prm = gd.get_as_dataframe(FW21sp_prm)\n",
        " \n",
        "dispatch_fw21Main = gc.open(\"Inventry_update_production\").worksheet(\"dispatch_fw21Main\")\n",
        "df_dispatch_fw21Main = gd.get_as_dataframe(dispatch_fw21Main)\n",
        "#####################\n",
        " \n",
        "FPOM_FW21Main = gc.open(\"Inventry_update_production\").worksheet(\"FPOM_FW21Main\")\n",
        "df_FPOM_FW21Main = gd.get_as_dataframe(FPOM_FW21Main)\n",
        " \n",
        "FPOM_FW21sp = gc.open(\"Inventry_update_production\").worksheet(\"FPOM_FW21sp\")\n",
        "df_FPOM_FW21sp = gd.get_as_dataframe(FPOM_FW21sp)\n",
        "\n",
        "production = gc.open(\"New_production_full\").worksheet(\"Report\")\n",
        "dfp = gd.get_as_dataframe(production)\n",
        "\n"
      ],
      "execution_count": null,
      "outputs": []
    },
    {
      "cell_type": "code",
      "metadata": {
        "id": "I2bH-IZ_DzoZ"
      },
      "source": [
        ""
      ],
      "execution_count": null,
      "outputs": []
    },
    {
      "cell_type": "code",
      "metadata": {
        "id": "jkBbyWso8W7p"
      },
      "source": [
        "rmchange = gc.open(\"New_production_full\").worksheet(\"RMchange\")\n",
        "rmchange = gd.get_as_dataframe(rmchange)"
      ],
      "execution_count": null,
      "outputs": []
    },
    {
      "cell_type": "code",
      "metadata": {
        "id": "jzfT4nhXBMay"
      },
      "source": [
        "rmchange=rmchange[['Season','RM ID','Total Rating']].dropna(axis=0)"
      ],
      "execution_count": null,
      "outputs": []
    },
    {
      "cell_type": "code",
      "metadata": {
        "id": "NkDN32Zg_Wqr"
      },
      "source": [
        "from google.colab import files"
      ],
      "execution_count": null,
      "outputs": []
    },
    {
      "cell_type": "code",
      "metadata": {
        "colab": {
          "base_uri": "https://localhost:8080/",
          "height": 17
        },
        "id": "xZPFrjsH8M7T",
        "outputId": "ac8283d3-d425-41e4-b936-95b9d7f27a42"
      },
      "source": [
        "rmchange.to_csv('rmchangelastweek.csv',index=False) \n",
        "files.download('rmchangelastweek.csv')"
      ],
      "execution_count": null,
      "outputs": [
        {
          "output_type": "display_data",
          "data": {
            "application/javascript": [
              "\n",
              "    async function download(id, filename, size) {\n",
              "      if (!google.colab.kernel.accessAllowed) {\n",
              "        return;\n",
              "      }\n",
              "      const div = document.createElement('div');\n",
              "      const label = document.createElement('label');\n",
              "      label.textContent = `Downloading \"${filename}\": `;\n",
              "      div.appendChild(label);\n",
              "      const progress = document.createElement('progress');\n",
              "      progress.max = size;\n",
              "      div.appendChild(progress);\n",
              "      document.body.appendChild(div);\n",
              "\n",
              "      const buffers = [];\n",
              "      let downloaded = 0;\n",
              "\n",
              "      const channel = await google.colab.kernel.comms.open(id);\n",
              "      // Send a message to notify the kernel that we're ready.\n",
              "      channel.send({})\n",
              "\n",
              "      for await (const message of channel.messages) {\n",
              "        // Send a message to notify the kernel that we're ready.\n",
              "        channel.send({})\n",
              "        if (message.buffers) {\n",
              "          for (const buffer of message.buffers) {\n",
              "            buffers.push(buffer);\n",
              "            downloaded += buffer.byteLength;\n",
              "            progress.value = downloaded;\n",
              "          }\n",
              "        }\n",
              "      }\n",
              "      const blob = new Blob(buffers, {type: 'application/binary'});\n",
              "      const a = document.createElement('a');\n",
              "      a.href = window.URL.createObjectURL(blob);\n",
              "      a.download = filename;\n",
              "      div.appendChild(a);\n",
              "      a.click();\n",
              "      div.remove();\n",
              "    }\n",
              "  "
            ],
            "text/plain": [
              "<IPython.core.display.Javascript object>"
            ]
          },
          "metadata": {
            "tags": []
          }
        },
        {
          "output_type": "display_data",
          "data": {
            "application/javascript": [
              "download(\"download_2b3e34c1-ec7f-40fe-8745-562a8b65bdf9\", \"rmchangelastweek.csv\", 15839)"
            ],
            "text/plain": [
              "<IPython.core.display.Javascript object>"
            ]
          },
          "metadata": {
            "tags": []
          }
        }
      ]
    },
    {
      "cell_type": "code",
      "metadata": {
        "id": "7tn61KeiI0nx"
      },
      "source": [
        "selected_col=['RM ID','Season','Material Category','Supplier Name','Colour','Cost','Opening','Combined Required','Production Required','Purchase Order','Received','Dispatched Out','Projected']\n",
        "select_col2=['RM ID','Season','Dispatch Number','Date','To','Cost (EUR)','Dispatch Quantity','Colour','Type']\n",
        "select_col3=['Product ID','Style','Colour','Material Type','RM ID','Total Rating','Product SO Quantity','Total Cost (EUR)','Season','RM Colour','Manufacturer','Width Size','Supplier','Supplier Country','Product Category 2',\n",
        "             'Product Category 3','Product Category 4','Product Category 5','Fabric','Unit Cost (EUR)','Material Category','Rating',]\n",
        "\n",
        "#remove \"rating\" if wanna see history report             \n",
        "select_col4=['RM ID','Supplier Category','Book In Status','Actual Unit Cost','Received Quantity','Pending Quantity','PO Quantity','Supplier Country','Confirmed Date','PO Number','Season','Colour','Supplier','Date']"
      ],
      "execution_count": null,
      "outputs": []
    },
    {
      "cell_type": "code",
      "metadata": {
        "id": "PE5wJ3niI4EA"
      },
      "source": [
        "#df_i_ss21fs=df_i_ss21fs[selected_col]\n",
        "#df_i_ss21ss=df_i_ss21ss[selected_col]\n",
        "#df_i_ss21sp=df_i_ss21sp[selected_col]\n",
        "df_i_Fw21_m=df_i_Fw21_m[selected_col]\n",
        "\n",
        "#df_fs=df_fs[select_col3]\n",
        "#df_ss =df_ss[select_col3]\n",
        "#df_sp=df_sp[select_col3]\n",
        "\n",
        "#df_Fw20p_prm=df_Fw20p_prm[select_col3]\n",
        "#df_Fw20m_prm =df_Fw20m_prm[select_col3]\n",
        "#df_Fw20sp_prm=df_Fw20sp_prm[select_col3]\n",
        "\n",
        "#df_ss20p_prm=df_ss20p_prm[select_col3]\n",
        "#df_ss20m_prm =df_ss20m_prm[select_col3]\n",
        "#df_ss20sp_prm=df_ss20sp_prm[select_col3]\n",
        "\n",
        "df_FW21Main_prm=df_FW21Main_prm[select_col3]\n",
        "df_FW21sp_prm=df_FW21sp_prm[select_col3]\n",
        "\n",
        "\n",
        "#df_FPOM_ss21fs=df_FPOM_ss21fs[select_col4]\n",
        "#df_FPOM_ss21sp=df_FPOM_ss21sp[select_col4]\n",
        "#df_FPOM_ss21ss=df_FPOM_ss21ss[select_col4]\n",
        "df_FPOM_FW21Main=df_FPOM_FW21Main[select_col4]\n",
        "df_FPOM_FW21sp=df_FPOM_FW21sp[select_col4]\n",
        "#df_ss20pmn =df_ss20pmn[select_col2]\n",
        "#df_ss20spmn=df_ss20spmn[select_col2]\n",
        "#df_ss20ss=df_ss20ss[select_col2]\n",
        "df_dispatch_fw21Main=df_dispatch_fw21Main[select_col2]"
      ],
      "execution_count": null,
      "outputs": []
    },
    {
      "cell_type": "code",
      "metadata": {
        "id": "j64XinkiI5Ky"
      },
      "source": [
        "#frame=[df_i_ss21fs,df_i_ss21ss,df_i_ss21sp,df_i_Fw21_m]\n",
        "frame=[df_i_Fw21_m]\n",
        "#frame2=[df_ss20pmn, df_ss20spmn, df_ss20ss,df_dispatch_fw21Main]\n",
        "frame2=[df_dispatch_fw21Main]\n",
        "\n",
        "#frame3= [df_fs, df_sp, df_ss, df_Fw20p_prm, df_Fw20m_prm, df_Fw20sp_prm, df_ss20p_prm, df_ss20m_prm, df_ss20sp_prm, df_FW21Main_prm ]\n",
        "frame3= [df_FW21Main_prm]\n",
        "\n",
        "#frame4=[df_FPOM_ss21fs,df_FPOM_ss21sp,df_FPOM_ss21ss,df_FPOM_FW21Main]\n",
        "frame4=[df_FPOM_FW21Main]\n"
      ],
      "execution_count": null,
      "outputs": []
    },
    {
      "cell_type": "code",
      "metadata": {
        "id": "w4lCVNLJI-W4"
      },
      "source": [
        "result=pd.concat(frame,ignore_index=True)\n",
        "result2=pd.concat(frame2,ignore_index=True)\n",
        "result3=pd.concat(frame3,ignore_index=True)\n",
        "result4=pd.concat(frame4,ignore_index=True)"
      ],
      "execution_count": null,
      "outputs": []
    },
    {
      "cell_type": "code",
      "metadata": {
        "id": "rhyzFZmnI-Zk"
      },
      "source": [
        "result=result.dropna(axis=0,how='all')\n",
        "result2=result2.dropna(axis=0,how='all')\n",
        "result3=result3.dropna(axis=0,how='all')\n",
        "result4=result4.dropna(axis=0,how='all')"
      ],
      "execution_count": null,
      "outputs": []
    },
    {
      "cell_type": "code",
      "metadata": {
        "id": "w-rQa-97I-cQ"
      },
      "source": [
        "result3['Product ID']= result3['Product ID'].apply(lambda x:x.replace(' ', ''))"
      ],
      "execution_count": null,
      "outputs": []
    },
    {
      "cell_type": "code",
      "metadata": {
        "id": "iRSZwgwpI-e7"
      },
      "source": [
        "df_totalpo= result4[['RM ID','Book In Status','PO Number','Supplier','Season']]\n",
        "df_totalpo=df_totalpo.drop_duplicates()\n",
        "result2.rename(columns={'To': 'Manufacturer'}, inplace=True)\n",
        "result2['Cost (EUR)']=result2['Cost (EUR)'].apply(pd.to_numeric, errors='coerce')\n",
        "result2['Dispatch Quantity']=result2['Dispatch Quantity'].apply(pd.to_numeric, errors='coerce')\n",
        "result2['Total Cost (EUR)']=result2['Cost (EUR)']*result2['Dispatch Quantity']\n",
        "result3['Cost (EUR)']=result3['Unit Cost (EUR)']\n",
        "result4['Total Cost (EUR)']=result4['Actual Unit Cost']*result4['PO Quantity']\n",
        "result4['Cost (EUR)']=result4['Actual Unit Cost']\n",
        "result['RM ID']=result['RM ID'].apply(lambda x:x.replace(' ', ''))\n",
        "result2['RM ID']=result2['RM ID'].apply(lambda x:x.replace(' ', ''))\n",
        "result3['RM ID']=result3['RM ID'].apply(lambda x:x.replace(' ', ''))\n",
        "result4['RM ID']=result4['RM ID'].apply(lambda x:x.replace(' ', ''))"
      ],
      "execution_count": null,
      "outputs": []
    },
    {
      "cell_type": "code",
      "metadata": {
        "colab": {
          "base_uri": "https://localhost:8080/"
        },
        "id": "1inIMahLI-hr",
        "outputId": "aeff8046-8eeb-4fb8-8251-d3b95a663160"
      },
      "source": [
        "result2.columns,result3.columns,result4.columns,result.columns"
      ],
      "execution_count": null,
      "outputs": [
        {
          "output_type": "execute_result",
          "data": {
            "text/plain": [
              "(Index(['RM ID', 'Season', 'Dispatch Number', 'Date', 'Manufacturer',\n",
              "        'Cost (EUR)', 'Dispatch Quantity', 'Colour', 'Type',\n",
              "        'Total Cost (EUR)'],\n",
              "       dtype='object'),\n",
              " Index(['Product ID', 'Style', 'Colour', 'Material Type', 'RM ID',\n",
              "        'Total Rating', 'Product SO Quantity', 'Total Cost (EUR)', 'Season',\n",
              "        'RM Colour', 'Manufacturer', 'Width Size', 'Supplier',\n",
              "        'Supplier Country', 'Product Category 2', 'Product Category 3',\n",
              "        'Product Category 4', 'Product Category 5', 'Fabric', 'Unit Cost (EUR)',\n",
              "        'Material Category', 'Rating', 'Cost (EUR)'],\n",
              "       dtype='object'),\n",
              " Index(['RM ID', 'Supplier Category', 'Book In Status', 'Actual Unit Cost',\n",
              "        'Received Quantity', 'Pending Quantity', 'PO Quantity',\n",
              "        'Supplier Country', 'Confirmed Date', 'PO Number', 'Season', 'Colour',\n",
              "        'Supplier', 'Date', 'Total Cost (EUR)', 'Cost (EUR)'],\n",
              "       dtype='object'),\n",
              " Index(['RM ID', 'Season', 'Material Category', 'Supplier Name', 'Colour',\n",
              "        'Cost', 'Opening', 'Combined Required', 'Production Required',\n",
              "        'Purchase Order', 'Received', 'Dispatched Out', 'Projected'],\n",
              "       dtype='object'))"
            ]
          },
          "metadata": {
            "tags": []
          },
          "execution_count": 14
        }
      ]
    },
    {
      "cell_type": "code",
      "metadata": {
        "id": "tH92GtBbI-kr"
      },
      "source": [
        "result['Wrong Dispatch Y/N']=np.where((result['Production Required']==0) & (result['Dispatched Out']!=0), 'Yes','No')\n",
        "result['Wrong Purchase Y/N']=np.where((result['Production Required']==0) & (result['Purchase Order']!=0), 'Yes','No')"
      ],
      "execution_count": null,
      "outputs": []
    },
    {
      "cell_type": "code",
      "metadata": {
        "colab": {
          "base_uri": "https://localhost:8080/"
        },
        "id": "Vp64S5hYJXLb",
        "outputId": "5b55a054-c3fd-4598-f5c0-eaf0a2c3fa41"
      },
      "source": [
        "result['Wrong Dispatch Y/N'].value_counts()\n"
      ],
      "execution_count": null,
      "outputs": [
        {
          "output_type": "execute_result",
          "data": {
            "text/plain": [
              "No    1433\n",
              "Name: Wrong Dispatch Y/N, dtype: int64"
            ]
          },
          "metadata": {
            "tags": []
          },
          "execution_count": 16
        }
      ]
    },
    {
      "cell_type": "code",
      "metadata": {
        "colab": {
          "base_uri": "https://localhost:8080/"
        },
        "id": "Jy6hsX0NJXOK",
        "outputId": "06071f71-5eff-4d61-a744-aeb23e70c1dd"
      },
      "source": [
        "result['Wrong Purchase Y/N'].value_counts()"
      ],
      "execution_count": null,
      "outputs": [
        {
          "output_type": "execute_result",
          "data": {
            "text/plain": [
              "No     1430\n",
              "Yes       3\n",
              "Name: Wrong Purchase Y/N, dtype: int64"
            ]
          },
          "metadata": {
            "tags": []
          },
          "execution_count": 17
        }
      ]
    },
    {
      "cell_type": "code",
      "metadata": {
        "id": "yZ7e7n2kJXRP"
      },
      "source": [
        "result['Total Dispatch Cost']= result['Dispatched Out']* result['Cost']\n",
        "result['Total RM Required Cost']= result['Combined Required']*result['Cost']\n",
        "result['Total Production Req Cost']= result['Production Required']*result['Cost']\n",
        "result['Total Purchase Order Cost']= result['Purchase Order']*result['Cost']\n",
        "result['Total Opening Cost']= result['Opening']*result['Cost']\n",
        "\n"
      ],
      "execution_count": null,
      "outputs": []
    },
    {
      "cell_type": "code",
      "metadata": {
        "id": "lhsYg1npJXUG"
      },
      "source": [
        "result['Proje']=result['Opening']+result['Purchase Order']-result['Production Required']"
      ],
      "execution_count": null,
      "outputs": []
    },
    {
      "cell_type": "code",
      "metadata": {
        "id": "TlCyRGnIJXXC"
      },
      "source": [
        "result['Next Season Opening Cost']= result['Proje']*result['Cost']"
      ],
      "execution_count": null,
      "outputs": []
    },
    {
      "cell_type": "code",
      "metadata": {
        "id": "3K3xJ2ePJXZ-"
      },
      "source": [
        "RM_qty_required= result3.groupby(['RM ID', 'Season'])['Total Rating'].sum().sort_values(ascending=False).reset_index()\n",
        "RM_qty_dispatched= result2.groupby(['RM ID', 'Season'])['Dispatch Quantity'].sum().sort_values(ascending=False).reset_index()"
      ],
      "execution_count": null,
      "outputs": []
    },
    {
      "cell_type": "code",
      "metadata": {
        "id": "uiniNyP9Jkm-"
      },
      "source": [
        "RM_qty_required['Margin Rating']=RM_qty_required['Total Rating']*1.05\n",
        "Dispatched_not_required= RM_qty_required.merge(RM_qty_dispatched, on=['RM ID','Season'], how='right')\n",
        "Dispatched_not_required.fillna(0,inplace=True)\n",
        "Dispatched_not_required['Wrong Dispatch Y/N']=np.where((Dispatched_not_required['Total Rating']==0) & (Dispatched_not_required['Dispatch Quantity']!=0), 'Yes','No')"
      ],
      "execution_count": null,
      "outputs": []
    },
    {
      "cell_type": "code",
      "metadata": {
        "id": "3MEAVEubJkpo"
      },
      "source": [
        "result['Required But Not Dispatched']= np.where((result['Production Required']!=0) & (result['Dispatched Out']==0), 'Yes','No')\n",
        "result['Dispatch margin']= result['Production Required']*1.05\n",
        "\n",
        "#d_c= [(result['Dispatched Out'] > result['Dispatch margin']==True)]\n",
        "result['Dispatch > 5%']= np.where((result['Dispatched Out'] > result['Dispatch margin']) &((result['Dispatched Out'] - result['Production Required'])>= 10),\"Yes\",\"No\")\n",
        "result['Disp%']=result['Dispatched Out']/result['Production Required']*100\n",
        "result['Disp%']=result['Disp%'].round(2)\n",
        "result['Disp%']=result['Disp%'].fillna(0)"
      ],
      "execution_count": null,
      "outputs": []
    },
    {
      "cell_type": "code",
      "metadata": {
        "id": "JrVMdlRDJksQ"
      },
      "source": [
        "from google.colab import files\n",
        "result['ok dispatch']= np.where(result['Dispatched Out']>result['Production Required'],'OK Dispatch',\n",
        "                                np.where(result['Dispatched Out']==0.0,'Not Dispatched','Partial Dispatch'))\n"
      ],
      "execution_count": null,
      "outputs": []
    },
    {
      "cell_type": "code",
      "metadata": {
        "colab": {
          "base_uri": "https://localhost:8080/"
        },
        "id": "pQkrIOm8Jku_",
        "outputId": "77f6757f-b72d-4ad3-bda0-5bdd6a7c5b4f"
      },
      "source": [
        "result['Combined Required']=result['Production Required']-result['Opening']\n",
        "result2['Date']=pd.to_datetime(result2['Date'])\n",
        "result2=result2[result2['Dispatch Quantity']!=0]\n",
        "result2=result2[result2['Dispatch Quantity'].isnull()==False]\n",
        "result2.shape\n"
      ],
      "execution_count": null,
      "outputs": [
        {
          "output_type": "execute_result",
          "data": {
            "text/plain": [
              "(929, 10)"
            ]
          },
          "metadata": {
            "tags": []
          },
          "execution_count": 25
        }
      ]
    },
    {
      "cell_type": "code",
      "metadata": {
        "colab": {
          "base_uri": "https://localhost:8080/"
        },
        "id": "pnXN6SNcJkxq",
        "outputId": "46936ad9-6c24-4ff9-ac24-8ae915218864"
      },
      "source": [
        "result2['Month Date']=result2['Date'].apply(lambda x:x.strftime('%Y-%m-%d'))\n",
        "df_disptach= result2[['Month Date','Manufacturer', 'Type']]\n",
        "df_disptach['Type']= df_disptach['Type'].apply(lambda x:x.split(' ')[0])\n",
        "df_disptach= df_disptach.drop_duplicates()\n",
        "\n",
        "df_disptach['count dispatch']=1"
      ],
      "execution_count": null,
      "outputs": [
        {
          "output_type": "stream",
          "text": [
            "/usr/local/lib/python3.7/dist-packages/ipykernel_launcher.py:3: SettingWithCopyWarning: \n",
            "A value is trying to be set on a copy of a slice from a DataFrame.\n",
            "Try using .loc[row_indexer,col_indexer] = value instead\n",
            "\n",
            "See the caveats in the documentation: https://pandas.pydata.org/pandas-docs/stable/user_guide/indexing.html#returning-a-view-versus-a-copy\n",
            "  This is separate from the ipykernel package so we can avoid doing imports until\n"
          ],
          "name": "stderr"
        }
      ]
    },
    {
      "cell_type": "code",
      "metadata": {
        "colab": {
          "base_uri": "https://localhost:8080/"
        },
        "id": "_0BJ7-3dthxF",
        "outputId": "27857179-5c29-46f5-f46e-b66b52377070"
      },
      "source": [
        "result2.columns,result3.columns"
      ],
      "execution_count": null,
      "outputs": [
        {
          "output_type": "execute_result",
          "data": {
            "text/plain": [
              "(Index(['RM ID', 'Season', 'Dispatch Number', 'Date', 'Manufacturer',\n",
              "        'Cost (EUR)', 'Dispatch Quantity', 'Colour', 'Type', 'Total Cost (EUR)',\n",
              "        'Month Date'],\n",
              "       dtype='object'),\n",
              " Index(['Product ID', 'Style', 'Colour', 'Material Type', 'RM ID',\n",
              "        'Total Rating', 'Product SO Quantity', 'Total Cost (EUR)', 'Season',\n",
              "        'RM Colour', 'Manufacturer', 'Width Size', 'Supplier',\n",
              "        'Supplier Country', 'Product Category 2', 'Product Category 3',\n",
              "        'Product Category 4', 'Product Category 5', 'Fabric', 'Unit Cost (EUR)',\n",
              "        'Material Category', 'Rating', 'Cost (EUR)'],\n",
              "       dtype='object'))"
            ]
          },
          "metadata": {
            "tags": []
          },
          "execution_count": 27
        }
      ]
    },
    {
      "cell_type": "code",
      "metadata": {
        "id": "GxOwOPZ-HBeo"
      },
      "source": [
        "result3['Total RM cost']=result3['Total Rating'] * result3['Unit Cost (EUR)']"
      ],
      "execution_count": null,
      "outputs": []
    },
    {
      "cell_type": "code",
      "metadata": {
        "id": "mgU3unQQFBbS"
      },
      "source": [
        "df_mrq =result3.groupby(['Manufacturer'])['Total Rating'].sum().reset_index()\n"
      ],
      "execution_count": null,
      "outputs": []
    },
    {
      "cell_type": "code",
      "metadata": {
        "id": "8sOuV9TJGcXp"
      },
      "source": [
        "df_mdq =result2.groupby(['Manufacturer'])['Dispatch Quantity'].sum().reset_index()"
      ],
      "execution_count": null,
      "outputs": []
    },
    {
      "cell_type": "code",
      "metadata": {
        "id": "b43e3Dhq3uQB"
      },
      "source": [
        "df_md =result2.groupby(['Manufacturer'])['Total Cost (EUR)'].sum().reset_index()"
      ],
      "execution_count": null,
      "outputs": []
    },
    {
      "cell_type": "code",
      "metadata": {
        "id": "eC9F7ES55npL"
      },
      "source": [
        "df_md.rename(columns= {'Total Cost (EUR)':'Total RM Dispatch Cost (EUR)'},inplace=True)"
      ],
      "execution_count": null,
      "outputs": []
    },
    {
      "cell_type": "code",
      "metadata": {
        "id": "XBGqvYPUIE7D"
      },
      "source": [
        "df_mr =result3.groupby(['Manufacturer'])['Total Cost (EUR)'].sum().reset_index()"
      ],
      "execution_count": null,
      "outputs": []
    },
    {
      "cell_type": "code",
      "metadata": {
        "id": "G10ycAoj3-iT"
      },
      "source": [
        "#df_mr=dfp[dfp['Season']=='FW21 // MAIN']"
      ],
      "execution_count": null,
      "outputs": []
    },
    {
      "cell_type": "code",
      "metadata": {
        "id": "P3YyygGvut1k"
      },
      "source": [
        "#df_mr =df_m.groupby(['Manufacturer'])['Total RM Cost (EUR)'].sum().reset_index()"
      ],
      "execution_count": null,
      "outputs": []
    },
    {
      "cell_type": "code",
      "metadata": {
        "id": "n8fzXZ735out"
      },
      "source": [
        "df_mr.rename(columns= {'Total Cost (EUR)':'Total RM Requirement Cost (EUR)'},inplace=True)"
      ],
      "execution_count": null,
      "outputs": []
    },
    {
      "cell_type": "code",
      "metadata": {
        "colab": {
          "base_uri": "https://localhost:8080/"
        },
        "id": "mMTprfql34ZJ",
        "outputId": "7ac083ba-9bb5-40d9-fbec-7dd1dd5397c1"
      },
      "source": [
        "df_mr.head(),df_md.head()"
      ],
      "execution_count": null,
      "outputs": [
        {
          "output_type": "execute_result",
          "data": {
            "text/plain": [
              "(      Manufacturer  Total RM Requirement Cost (EUR)\n",
              " 0      AGNELLE SAS                        5009.6120\n",
              " 1           ARAUJO                       13479.2392\n",
              " 2  ASTIKA SUPRAPTO                         231.0420\n",
              " 3   ATELIER BOIVIN                         515.6370\n",
              " 4            BA 83                       13721.1805,\n",
              "       Manufacturer  Total RM Dispatch Cost (EUR)\n",
              " 0      AGNELLE SAS                       2631.53\n",
              " 1           ARAUJO                      10730.38\n",
              " 2  ASTIKA SUPRAPTO                        236.90\n",
              " 3   ATELIER BOIVIN                        571.71\n",
              " 4            BA 83                      14941.02)"
            ]
          },
          "metadata": {
            "tags": []
          },
          "execution_count": 35
        }
      ]
    },
    {
      "cell_type": "code",
      "metadata": {
        "colab": {
          "base_uri": "https://localhost:8080/"
        },
        "id": "1aRk1VDf6aaT",
        "outputId": "6b7f05da-94b4-426c-fc3c-f56e52b90523"
      },
      "source": [
        "len(df_mr),len(df_md)"
      ],
      "execution_count": null,
      "outputs": [
        {
          "output_type": "execute_result",
          "data": {
            "text/plain": [
              "(38, 33)"
            ]
          },
          "metadata": {
            "tags": []
          },
          "execution_count": 36
        }
      ]
    },
    {
      "cell_type": "code",
      "metadata": {
        "id": "seVuEFUzthz-"
      },
      "source": [
        "df_mr=df_mr.merge(df_md,how='left',on='Manufacturer')"
      ],
      "execution_count": null,
      "outputs": []
    },
    {
      "cell_type": "code",
      "metadata": {
        "id": "zn_mMqsiKG8v"
      },
      "source": [
        "df_mr=df_mr[df_mr['Total RM Dispatch Cost (EUR)']>df_mr['Total RM Requirement Cost (EUR)']]"
      ],
      "execution_count": null,
      "outputs": []
    },
    {
      "cell_type": "code",
      "metadata": {
        "id": "VmTf5TjpKUfT",
        "colab": {
          "base_uri": "https://localhost:8080/",
          "height": 545
        },
        "outputId": "76a8c181-cb56-48ac-8191-c250ad63e6c4"
      },
      "source": [
        "df_mr"
      ],
      "execution_count": null,
      "outputs": [
        {
          "output_type": "execute_result",
          "data": {
            "text/html": [
              "<div>\n",
              "<style scoped>\n",
              "    .dataframe tbody tr th:only-of-type {\n",
              "        vertical-align: middle;\n",
              "    }\n",
              "\n",
              "    .dataframe tbody tr th {\n",
              "        vertical-align: top;\n",
              "    }\n",
              "\n",
              "    .dataframe thead th {\n",
              "        text-align: right;\n",
              "    }\n",
              "</style>\n",
              "<table border=\"1\" class=\"dataframe\">\n",
              "  <thead>\n",
              "    <tr style=\"text-align: right;\">\n",
              "      <th></th>\n",
              "      <th>Manufacturer</th>\n",
              "      <th>Total RM Requirement Cost (EUR)</th>\n",
              "      <th>Total RM Dispatch Cost (EUR)</th>\n",
              "    </tr>\n",
              "  </thead>\n",
              "  <tbody>\n",
              "    <tr>\n",
              "      <th>2</th>\n",
              "      <td>ASTIKA SUPRAPTO</td>\n",
              "      <td>231.04200</td>\n",
              "      <td>236.900</td>\n",
              "    </tr>\n",
              "    <tr>\n",
              "      <th>3</th>\n",
              "      <td>ATELIER BOIVIN</td>\n",
              "      <td>515.63700</td>\n",
              "      <td>571.710</td>\n",
              "    </tr>\n",
              "    <tr>\n",
              "      <th>4</th>\n",
              "      <td>BA 83</td>\n",
              "      <td>13721.18050</td>\n",
              "      <td>14941.020</td>\n",
              "    </tr>\n",
              "    <tr>\n",
              "      <th>7</th>\n",
              "      <td>BELCINTO</td>\n",
              "      <td>5996.21600</td>\n",
              "      <td>6094.370</td>\n",
              "    </tr>\n",
              "    <tr>\n",
              "      <th>8</th>\n",
              "      <td>BERAME SAS</td>\n",
              "      <td>4969.69200</td>\n",
              "      <td>5014.095</td>\n",
              "    </tr>\n",
              "    <tr>\n",
              "      <th>9</th>\n",
              "      <td>CALZATURIFICIO STELLA</td>\n",
              "      <td>7743.46600</td>\n",
              "      <td>8007.100</td>\n",
              "    </tr>\n",
              "    <tr>\n",
              "      <th>18</th>\n",
              "      <td>JADE JEWELLERY</td>\n",
              "      <td>4130.66500</td>\n",
              "      <td>4301.420</td>\n",
              "    </tr>\n",
              "    <tr>\n",
              "      <th>19</th>\n",
              "      <td>LARIOSETA</td>\n",
              "      <td>496.00000</td>\n",
              "      <td>513.300</td>\n",
              "    </tr>\n",
              "    <tr>\n",
              "      <th>22</th>\n",
              "      <td>LIVIAN BULGARIA EOOD</td>\n",
              "      <td>1452.96400</td>\n",
              "      <td>1484.060</td>\n",
              "    </tr>\n",
              "    <tr>\n",
              "      <th>23</th>\n",
              "      <td>LUXOCONF</td>\n",
              "      <td>15508.13620</td>\n",
              "      <td>16049.790</td>\n",
              "    </tr>\n",
              "    <tr>\n",
              "      <th>27</th>\n",
              "      <td>MIVA</td>\n",
              "      <td>21076.99600</td>\n",
              "      <td>21116.180</td>\n",
              "    </tr>\n",
              "    <tr>\n",
              "      <th>30</th>\n",
              "      <td>PETROV TEXTILE</td>\n",
              "      <td>49019.11840</td>\n",
              "      <td>49176.830</td>\n",
              "    </tr>\n",
              "    <tr>\n",
              "      <th>32</th>\n",
              "      <td>ROSPERLEATHER</td>\n",
              "      <td>13677.84500</td>\n",
              "      <td>14769.410</td>\n",
              "    </tr>\n",
              "    <tr>\n",
              "      <th>33</th>\n",
              "      <td>SARL STEF</td>\n",
              "      <td>9664.70785</td>\n",
              "      <td>10277.500</td>\n",
              "    </tr>\n",
              "    <tr>\n",
              "      <th>34</th>\n",
              "      <td>T2FS &amp;#X2013; GLOBAL KNITWEAR LDA</td>\n",
              "      <td>939.92000</td>\n",
              "      <td>967.350</td>\n",
              "    </tr>\n",
              "    <tr>\n",
              "      <th>35</th>\n",
              "      <td>VIA TEKSTIL SAN.TIC.LTD.&amp;#X015E;TI.</td>\n",
              "      <td>27269.21080</td>\n",
              "      <td>27725.190</td>\n",
              "    </tr>\n",
              "  </tbody>\n",
              "</table>\n",
              "</div>"
            ],
            "text/plain": [
              "                           Manufacturer  ...  Total RM Dispatch Cost (EUR)\n",
              "2                       ASTIKA SUPRAPTO  ...                       236.900\n",
              "3                        ATELIER BOIVIN  ...                       571.710\n",
              "4                                 BA 83  ...                     14941.020\n",
              "7                              BELCINTO  ...                      6094.370\n",
              "8                            BERAME SAS  ...                      5014.095\n",
              "9                 CALZATURIFICIO STELLA  ...                      8007.100\n",
              "18                       JADE JEWELLERY  ...                      4301.420\n",
              "19                            LARIOSETA  ...                       513.300\n",
              "22                 LIVIAN BULGARIA EOOD  ...                      1484.060\n",
              "23                             LUXOCONF  ...                     16049.790\n",
              "27                                 MIVA  ...                     21116.180\n",
              "30                       PETROV TEXTILE  ...                     49176.830\n",
              "32                        ROSPERLEATHER  ...                     14769.410\n",
              "33                            SARL STEF  ...                     10277.500\n",
              "34    T2FS &#X2013; GLOBAL KNITWEAR LDA  ...                       967.350\n",
              "35  VIA TEKSTIL SAN.TIC.LTD.&#X015E;TI.  ...                     27725.190\n",
              "\n",
              "[16 rows x 3 columns]"
            ]
          },
          "metadata": {
            "tags": []
          },
          "execution_count": 39
        }
      ]
    },
    {
      "cell_type": "markdown",
      "metadata": {
        "id": "3O8s9XZVtZ8v"
      },
      "source": [
        "#audredysheet"
      ]
    },
    {
      "cell_type": "code",
      "metadata": {
        "id": "puihOgIUrCU7"
      },
      "source": [
        "df_Sheet40.columns=df_Sheet40.iloc[1]"
      ],
      "execution_count": null,
      "outputs": []
    },
    {
      "cell_type": "code",
      "metadata": {
        "id": "ZValNFUTrCYT"
      },
      "source": [
        "df_Sheet40=df_Sheet40.iloc[2:]"
      ],
      "execution_count": null,
      "outputs": []
    },
    {
      "cell_type": "code",
      "metadata": {
        "id": "0x6-Yi1arKNt"
      },
      "source": [
        "df=df_Sheet40[['Style','Qty status']]"
      ],
      "execution_count": null,
      "outputs": []
    },
    {
      "cell_type": "code",
      "metadata": {
        "colab": {
          "base_uri": "https://localhost:8080/",
          "height": 111
        },
        "id": "LtbNBz2QrKZW",
        "outputId": "cb2502fc-74ec-4004-caa3-163630de0bb8"
      },
      "source": [
        "df.head(2)"
      ],
      "execution_count": null,
      "outputs": [
        {
          "output_type": "execute_result",
          "data": {
            "text/html": [
              "<div>\n",
              "<style scoped>\n",
              "    .dataframe tbody tr th:only-of-type {\n",
              "        vertical-align: middle;\n",
              "    }\n",
              "\n",
              "    .dataframe tbody tr th {\n",
              "        vertical-align: top;\n",
              "    }\n",
              "\n",
              "    .dataframe thead th {\n",
              "        text-align: right;\n",
              "    }\n",
              "</style>\n",
              "<table border=\"1\" class=\"dataframe\">\n",
              "  <thead>\n",
              "    <tr style=\"text-align: right;\">\n",
              "      <th>1</th>\n",
              "      <th>Style</th>\n",
              "      <th>Qty status</th>\n",
              "    </tr>\n",
              "  </thead>\n",
              "  <tbody>\n",
              "    <tr>\n",
              "      <th>2</th>\n",
              "      <td>C042FW21M</td>\n",
              "      <td>Quantity OK</td>\n",
              "    </tr>\n",
              "    <tr>\n",
              "      <th>3</th>\n",
              "      <td>C042FW21M</td>\n",
              "      <td>Quantity OK</td>\n",
              "    </tr>\n",
              "  </tbody>\n",
              "</table>\n",
              "</div>"
            ],
            "text/plain": [
              "1      Style   Qty status\n",
              "2  C042FW21M  Quantity OK\n",
              "3  C042FW21M  Quantity OK"
            ]
          },
          "metadata": {
            "tags": []
          },
          "execution_count": 56
        }
      ]
    },
    {
      "cell_type": "code",
      "metadata": {
        "id": "7c06PvxZrKcl"
      },
      "source": [
        "df=df.groupby(['Style','Qty status'])['Qty status'].count().rename(\"weightage\")"
      ],
      "execution_count": null,
      "outputs": []
    },
    {
      "cell_type": "code",
      "metadata": {
        "colab": {
          "base_uri": "https://localhost:8080/"
        },
        "id": "TtUiTS6-saOt",
        "outputId": "925f505f-34c0-42e9-e08c-43ead61c6d03"
      },
      "source": [
        "df"
      ],
      "execution_count": null,
      "outputs": [
        {
          "output_type": "execute_result",
          "data": {
            "text/plain": [
              "Style       Qty status     \n",
              "A003ICONW   Quantity OK        20\n",
              "A004FW21W   Quantity OK        16\n",
              "            RM not sent yet     2\n",
              "A004ICONW   Quantity OK        18\n",
              "A005FW21XU  Quantity OK        12\n",
              "                               ..\n",
              "UW012ICONW  RM not sent yet     1\n",
              "UW023ICONW  Quantity OK         6\n",
              "            RM not sent yet     1\n",
              "UW024ICONW  Quantity OK        31\n",
              "UW030ICONM  Quantity OK        20\n",
              "Name: weightage, Length: 267, dtype: int64"
            ]
          },
          "metadata": {
            "tags": []
          },
          "execution_count": 58
        }
      ]
    },
    {
      "cell_type": "code",
      "metadata": {
        "id": "eQahVS9YrKfv"
      },
      "source": [
        "df=df / df.groupby(level=0).sum()"
      ],
      "execution_count": null,
      "outputs": []
    },
    {
      "cell_type": "code",
      "metadata": {
        "colab": {
          "base_uri": "https://localhost:8080/"
        },
        "id": "RsJbOliRsxWh",
        "outputId": "6508bef3-6cdb-467b-c0ea-eab29b8d097b"
      },
      "source": [
        "df"
      ],
      "execution_count": null,
      "outputs": [
        {
          "output_type": "execute_result",
          "data": {
            "text/plain": [
              "Style       Qty status     \n",
              "A003ICONW   Quantity OK        1.000000\n",
              "A004FW21W   Quantity OK        0.888889\n",
              "            RM not sent yet    0.111111\n",
              "A004ICONW   Quantity OK        1.000000\n",
              "A005FW21XU  Quantity OK        1.000000\n",
              "                                 ...   \n",
              "UW012ICONW  RM not sent yet    0.125000\n",
              "UW023ICONW  Quantity OK        0.857143\n",
              "            RM not sent yet    0.142857\n",
              "UW024ICONW  Quantity OK        1.000000\n",
              "UW030ICONM  Quantity OK        1.000000\n",
              "Name: weightage, Length: 267, dtype: float64"
            ]
          },
          "metadata": {
            "tags": []
          },
          "execution_count": 60
        }
      ]
    },
    {
      "cell_type": "code",
      "metadata": {
        "id": "xc3EIIEJrKiq"
      },
      "source": [
        "df=df.reset_index()"
      ],
      "execution_count": null,
      "outputs": []
    },
    {
      "cell_type": "code",
      "metadata": {
        "colab": {
          "base_uri": "https://localhost:8080/",
          "height": 204
        },
        "id": "7mVd5VtgrKl-",
        "outputId": "1e56fc92-79fa-4f97-c7af-fd1a6694bf7f"
      },
      "source": [
        "df.head(5)"
      ],
      "execution_count": null,
      "outputs": [
        {
          "output_type": "execute_result",
          "data": {
            "text/html": [
              "<div>\n",
              "<style scoped>\n",
              "    .dataframe tbody tr th:only-of-type {\n",
              "        vertical-align: middle;\n",
              "    }\n",
              "\n",
              "    .dataframe tbody tr th {\n",
              "        vertical-align: top;\n",
              "    }\n",
              "\n",
              "    .dataframe thead th {\n",
              "        text-align: right;\n",
              "    }\n",
              "</style>\n",
              "<table border=\"1\" class=\"dataframe\">\n",
              "  <thead>\n",
              "    <tr style=\"text-align: right;\">\n",
              "      <th></th>\n",
              "      <th>Style</th>\n",
              "      <th>Qty status</th>\n",
              "      <th>weightage</th>\n",
              "    </tr>\n",
              "  </thead>\n",
              "  <tbody>\n",
              "    <tr>\n",
              "      <th>0</th>\n",
              "      <td>A003ICONW</td>\n",
              "      <td>Quantity OK</td>\n",
              "      <td>1.000000</td>\n",
              "    </tr>\n",
              "    <tr>\n",
              "      <th>1</th>\n",
              "      <td>A004FW21W</td>\n",
              "      <td>Quantity OK</td>\n",
              "      <td>0.888889</td>\n",
              "    </tr>\n",
              "    <tr>\n",
              "      <th>2</th>\n",
              "      <td>A004FW21W</td>\n",
              "      <td>RM not sent yet</td>\n",
              "      <td>0.111111</td>\n",
              "    </tr>\n",
              "    <tr>\n",
              "      <th>3</th>\n",
              "      <td>A004ICONW</td>\n",
              "      <td>Quantity OK</td>\n",
              "      <td>1.000000</td>\n",
              "    </tr>\n",
              "    <tr>\n",
              "      <th>4</th>\n",
              "      <td>A005FW21XU</td>\n",
              "      <td>Quantity OK</td>\n",
              "      <td>1.000000</td>\n",
              "    </tr>\n",
              "  </tbody>\n",
              "</table>\n",
              "</div>"
            ],
            "text/plain": [
              "        Style       Qty status  weightage\n",
              "0   A003ICONW      Quantity OK   1.000000\n",
              "1   A004FW21W      Quantity OK   0.888889\n",
              "2   A004FW21W  RM not sent yet   0.111111\n",
              "3   A004ICONW      Quantity OK   1.000000\n",
              "4  A005FW21XU      Quantity OK   1.000000"
            ]
          },
          "metadata": {
            "tags": []
          },
          "execution_count": 62
        }
      ]
    },
    {
      "cell_type": "code",
      "metadata": {
        "id": "H0YfpKXfrKo-"
      },
      "source": [
        "df=df[df['Qty status']=='Quantity OK']"
      ],
      "execution_count": null,
      "outputs": []
    },
    {
      "cell_type": "code",
      "metadata": {
        "id": "RLK29rJVrW2A"
      },
      "source": [
        "df['>100% Sent']=np.where(df['weightage']>=1.0, 'yes', 'no')\n",
        "df['>80% Sent']=np.where(df['weightage']>=0.80, 'yes', 'no')"
      ],
      "execution_count": null,
      "outputs": []
    },
    {
      "cell_type": "code",
      "metadata": {
        "colab": {
          "base_uri": "https://localhost:8080/"
        },
        "id": "OmBRMXHJrW5A",
        "outputId": "6febef37-3f80-4839-92a5-b91896cf62bc"
      },
      "source": [
        "df['>80% Sent'].value_counts()"
      ],
      "execution_count": null,
      "outputs": [
        {
          "output_type": "execute_result",
          "data": {
            "text/plain": [
              "yes    147\n",
              "no      21\n",
              "Name: >80% Sent, dtype: int64"
            ]
          },
          "metadata": {
            "tags": []
          },
          "execution_count": 65
        }
      ]
    },
    {
      "cell_type": "code",
      "metadata": {
        "colab": {
          "base_uri": "https://localhost:8080/"
        },
        "id": "1kCkVxJavCdW",
        "outputId": "f2a35a7d-788f-462a-fb24-bfaca64cb39c"
      },
      "source": [
        "df.weightage.isnull().count()"
      ],
      "execution_count": null,
      "outputs": [
        {
          "output_type": "execute_result",
          "data": {
            "text/plain": [
              "168"
            ]
          },
          "metadata": {
            "tags": []
          },
          "execution_count": 66
        }
      ]
    },
    {
      "cell_type": "markdown",
      "metadata": {
        "id": "Nnq_y5i2rbWD"
      },
      "source": [
        "## nom2"
      ]
    },
    {
      "cell_type": "code",
      "metadata": {
        "id": "q0rtBRMLrW78"
      },
      "source": [
        "df2=df_Sheet40[['Style','RM ID','Qty status']]"
      ],
      "execution_count": null,
      "outputs": []
    },
    {
      "cell_type": "code",
      "metadata": {
        "colab": {
          "base_uri": "https://localhost:8080/"
        },
        "id": "1cc0GxHYrW-t",
        "outputId": "fd917842-1111-4436-f528-d7401cf38811"
      },
      "source": [
        "df2['new'] = np.where(df2['RM ID'].str.startswith('F'),'Fabric',\n",
        "                      np.where(df2['RM ID'].str.startswith('TR'), 'Fabric',\n",
        "                       \n",
        "                      np.where(df2['RM ID'].str.startswith('P'), 'Packaging', \n",
        "                                                                          np.where(df2['RM ID'].str.startswith('T'), 'Trims',\n",
        "                                                                                   np.where(df2['RM ID'].str.startswith('L'), 'Labeling',0)))))"
      ],
      "execution_count": null,
      "outputs": [
        {
          "output_type": "stream",
          "text": [
            "/usr/local/lib/python3.7/dist-packages/ipykernel_launcher.py:6: SettingWithCopyWarning: \n",
            "A value is trying to be set on a copy of a slice from a DataFrame.\n",
            "Try using .loc[row_indexer,col_indexer] = value instead\n",
            "\n",
            "See the caveats in the documentation: https://pandas.pydata.org/pandas-docs/stable/user_guide/indexing.html#returning-a-view-versus-a-copy\n",
            "  \n"
          ],
          "name": "stderr"
        }
      ]
    },
    {
      "cell_type": "code",
      "metadata": {
        "id": "yjOIrOGvrXBv"
      },
      "source": [
        "df2=df2[['Style','Qty status','new']]"
      ],
      "execution_count": null,
      "outputs": []
    },
    {
      "cell_type": "code",
      "metadata": {
        "id": "PuDL3LXwrm_o"
      },
      "source": [
        "df3=df2[df2['new']=='Fabric']"
      ],
      "execution_count": null,
      "outputs": []
    },
    {
      "cell_type": "code",
      "metadata": {
        "id": "3NfqY19VrXEu"
      },
      "source": [
        "df3=df3.groupby(['Style','new','Qty status'])['Qty status'].count().rename(\"weightage\")"
      ],
      "execution_count": null,
      "outputs": []
    },
    {
      "cell_type": "code",
      "metadata": {
        "colab": {
          "base_uri": "https://localhost:8080/"
        },
        "id": "anRSxfLcvXrr",
        "outputId": "ceb26820-0d0b-4c52-bf57-bd531ddd93fb"
      },
      "source": [
        "df3.head(5)"
      ],
      "execution_count": null,
      "outputs": [
        {
          "output_type": "execute_result",
          "data": {
            "text/plain": [
              "Style       new     Qty status     \n",
              "A003ICONW   Fabric  Quantity OK        2\n",
              "A004FW21W   Fabric  RM not sent yet    2\n",
              "A004ICONW   Fabric  Quantity OK        2\n",
              "A005FW21XU  Fabric  Quantity OK        3\n",
              "A008FW21X   Fabric  Quantity OK        1\n",
              "Name: weightage, dtype: int64"
            ]
          },
          "metadata": {
            "tags": []
          },
          "execution_count": 72
        }
      ]
    },
    {
      "cell_type": "code",
      "metadata": {
        "id": "LEJnX4-drXHk"
      },
      "source": [
        "df3 =df3 / df3.groupby(level=0).sum()"
      ],
      "execution_count": null,
      "outputs": []
    },
    {
      "cell_type": "code",
      "metadata": {
        "colab": {
          "base_uri": "https://localhost:8080/"
        },
        "id": "wEjjdVZWvgfT",
        "outputId": "ac7b37a8-cff8-4a7e-9f99-6665513705e7"
      },
      "source": [
        "df3"
      ],
      "execution_count": null,
      "outputs": [
        {
          "output_type": "execute_result",
          "data": {
            "text/plain": [
              "Style       new     Qty status     \n",
              "A003ICONW   Fabric  Quantity OK        1.0\n",
              "A004FW21W   Fabric  RM not sent yet    1.0\n",
              "A004ICONW   Fabric  Quantity OK        1.0\n",
              "A005FW21XU  Fabric  Quantity OK        1.0\n",
              "A008FW21X   Fabric  Quantity OK        1.0\n",
              "                                      ... \n",
              "UW006ICONM  Fabric  Quantity OK        1.0\n",
              "UW009ICONW  Fabric  Quantity OK        1.0\n",
              "UW010ICONW  Fabric  Quantity OK        1.0\n",
              "UW024ICONW  Fabric  Quantity OK        1.0\n",
              "UW030ICONM  Fabric  Quantity OK        1.0\n",
              "Name: weightage, Length: 183, dtype: float64"
            ]
          },
          "metadata": {
            "tags": []
          },
          "execution_count": 74
        }
      ]
    },
    {
      "cell_type": "code",
      "metadata": {
        "id": "LiuL13YPrXKe"
      },
      "source": [
        "df3=df3.reset_index()"
      ],
      "execution_count": null,
      "outputs": []
    },
    {
      "cell_type": "code",
      "metadata": {
        "id": "A4d97PqArXNE"
      },
      "source": [
        "df3=df3[df3['Qty status']=='Quantity OK']\n"
      ],
      "execution_count": null,
      "outputs": []
    },
    {
      "cell_type": "code",
      "metadata": {
        "id": "MO_09_mWruad"
      },
      "source": [
        "df3['fabricdone']=np.where(df3['weightage']==1,'yes','no')"
      ],
      "execution_count": null,
      "outputs": []
    },
    {
      "cell_type": "code",
      "metadata": {
        "id": "kjT_bkGLvxxu"
      },
      "source": [
        "df4=df2[df2['new']=='Trims']"
      ],
      "execution_count": null,
      "outputs": []
    },
    {
      "cell_type": "code",
      "metadata": {
        "id": "3d7LsQfsvx6C"
      },
      "source": [
        "df4=df4.groupby(['Style','new','Qty status'])['Qty status'].count().rename(\"weightage\")"
      ],
      "execution_count": null,
      "outputs": []
    },
    {
      "cell_type": "code",
      "metadata": {
        "colab": {
          "base_uri": "https://localhost:8080/"
        },
        "id": "-mBF5mAKvyBA",
        "outputId": "76d8d697-ac41-420d-fef3-5f6a1bac38dd"
      },
      "source": [
        "df4.head(5)"
      ],
      "execution_count": null,
      "outputs": [
        {
          "output_type": "execute_result",
          "data": {
            "text/plain": [
              "Style       new    Qty status \n",
              "A003ICONW   Trims  Quantity OK    2\n",
              "A005FW21XU  Trims  Quantity OK    1\n",
              "A012FW21W   Trims  Quantity OK    4\n",
              "A023ICONX   Trims  Quantity OK    2\n",
              "A024FW21WU  Trims  Quantity OK    1\n",
              "Name: weightage, dtype: int64"
            ]
          },
          "metadata": {
            "tags": []
          },
          "execution_count": 80
        }
      ]
    },
    {
      "cell_type": "code",
      "metadata": {
        "id": "_yiopWpLwb6r"
      },
      "source": [
        "df4 =df4 / df4.groupby(level=0).sum()"
      ],
      "execution_count": null,
      "outputs": []
    },
    {
      "cell_type": "code",
      "metadata": {
        "colab": {
          "base_uri": "https://localhost:8080/"
        },
        "id": "hhJDYhSewb9c",
        "outputId": "604ec1e6-b839-4b9a-c91a-db5407ac5f40"
      },
      "source": [
        "df4"
      ],
      "execution_count": null,
      "outputs": [
        {
          "output_type": "execute_result",
          "data": {
            "text/plain": [
              "Style       new    Qty status \n",
              "A003ICONW   Trims  Quantity OK    1.0\n",
              "A005FW21XU  Trims  Quantity OK    1.0\n",
              "A012FW21W   Trims  Quantity OK    1.0\n",
              "A023ICONX   Trims  Quantity OK    1.0\n",
              "A024FW21WU  Trims  Quantity OK    1.0\n",
              "                                 ... \n",
              "T226FW21XU  Trims  Quantity OK    1.0\n",
              "T230FW21M   Trims  Quantity OK    1.0\n",
              "UW005ICONW  Trims  Quantity OK    1.0\n",
              "UW012ICONW  Trims  Quantity OK    1.0\n",
              "UW024ICONW  Trims  Quantity OK    1.0\n",
              "Name: weightage, Length: 143, dtype: float64"
            ]
          },
          "metadata": {
            "tags": []
          },
          "execution_count": 82
        }
      ]
    },
    {
      "cell_type": "code",
      "metadata": {
        "id": "f0mhTTZ9wcAd"
      },
      "source": [
        "df4=df4.reset_index()"
      ],
      "execution_count": null,
      "outputs": []
    },
    {
      "cell_type": "code",
      "metadata": {
        "id": "duuBuChtwrxN"
      },
      "source": [
        "df4=df4[df4['Qty status']=='Quantity OK']\n"
      ],
      "execution_count": null,
      "outputs": []
    },
    {
      "cell_type": "code",
      "metadata": {
        "id": "fM34t8qOwcC-"
      },
      "source": [
        "df4['trimsdone']=np.where(df4['weightage']==1,'yes','no')"
      ],
      "execution_count": null,
      "outputs": []
    },
    {
      "cell_type": "code",
      "metadata": {
        "id": "rTa8PQj0rudh"
      },
      "source": [
        "first = gc.open(\"FW21 Nomenclatures Main\").worksheet(\"60percent\")\n",
        "#df_Concateall = gd.get_as_dataframe(Concateall)\n",
        "#updated = df_Concateall.append(result)\n",
        "#range_of_cells = Concateall.range('A1:AF200')\n",
        "first.clear()\n",
        "gd.set_with_dataframe(first, df)\n",
        "\n",
        "second = gc.open(\"FW21 Nomenclatures Main\").worksheet(\"fabricdone\")\n",
        "#df_Concateall = gd.get_as_dataframe(Concateall)\n",
        "#updated = df_Concateall.append(result)\n",
        "second.clear()\n",
        "gd.set_with_dataframe(second, df3)\n",
        "\n",
        "third = gc.open(\"FW21 Nomenclatures Main\").worksheet(\"trimsdone\")\n",
        "#df_Concateall = gd.get_as_dataframe(Concateall)\n",
        "#updated = df_Concateall.append(result)\n",
        "third.clear()\n",
        "gd.set_with_dataframe(third, df4)\n",
        "\n",
        "Concateall = gc.open(\"New_production_full\").worksheet(\"inventory\")\n",
        "#df_Concateall = gd.get_as_dataframe(Concateall)\n",
        "#updated = df_Concateall.append(result)\n",
        "Concateall.clear()\n",
        "gd.set_with_dataframe(Concateall, result)\n",
        "\n",
        "Concateall = gc.open(\"New_production_full\").worksheet(\"dispatch\")\n",
        "#df_Concateall = gd.get_as_dataframe(Concateall)\n",
        "#updated = df_Concateall.append(result)\n",
        "Concateall.clear()\n",
        "gd.set_with_dataframe(Concateall, result2)\n",
        "\n",
        "Concateall = gc.open(\"New_production_full\").worksheet(\"PRM\")\n",
        "#df_Concateall = gd.get_as_dataframe(Concateall)\n",
        "#updated = df_Concateall.append(result)\n",
        "Concateall.clear()\n",
        "gd.set_with_dataframe(Concateall, result3)\n",
        "\n",
        "Concateall = gc.open(\"New_production_full\").worksheet(\"POM\")\n",
        "#df_Concateall = gd.get_as_dataframe(Concateall)\n",
        "#updated = df_Concateall.append(result)\n",
        "Concateall.clear()\n",
        "gd.set_with_dataframe(Concateall, result4)\n",
        "\n",
        "Concateall = gc.open(\"New_production_full\").worksheet(\"dispatch count\")\n",
        "#df_Concateall = gd.get_as_dataframe(Concateall)\n",
        "#updated = df_Concateall.append(result)\n",
        "Concateall.clear()\n",
        "gd.set_with_dataframe(Concateall, df_disptach)\n",
        "\n",
        "Concateall = gc.open(\"New_production_full\").worksheet(\"df_totalpo\")\n",
        "#df_Concateall = gd.get_as_dataframe(Concateall)\n",
        "#updated = df_Concateall.append(result)\n",
        "Concateall.clear()\n",
        "gd.set_with_dataframe(Concateall, df_totalpo)\n",
        "\n",
        "Concateall = gc.open(\"New_production_full\").worksheet(\"Manf_Dispatch\")\n",
        "#df_Concateall = gd.get_as_dataframe(Concateall)\n",
        "#updated = df_Concateall.append(result)\n",
        "Concateall.clear()\n",
        "gd.set_with_dataframe(Concateall, df_mr)\n",
        "\n"
      ],
      "execution_count": null,
      "outputs": []
    },
    {
      "cell_type": "code",
      "metadata": {
        "id": "nbDKqpm_5Gxm"
      },
      "source": [
        "prm_fw21=result3[result3['Season'].str.contains(\"FW21\")== True ]\n",
        "prm_fw21=prm_fw21[['Season','RM ID','Total Rating']]"
      ],
      "execution_count": null,
      "outputs": []
    },
    {
      "cell_type": "code",
      "metadata": {
        "id": "rU1W201L5cac"
      },
      "source": [
        "prm_fw21=prm_fw21.groupby(['Season','RM ID'])['Total Rating'].sum().reset_index()"
      ],
      "execution_count": null,
      "outputs": []
    },
    {
      "cell_type": "code",
      "metadata": {
        "id": "b860u4x85ohC"
      },
      "source": [
        "Concateall = gc.open(\"New_production_full\").worksheet(\"RMchange\")\n",
        "#df_Concateall = gd.get_as_dataframe(Concateall)\n",
        "#updated = df_Concateall.append(result)\n",
        "Concateall.clear()\n",
        "gd.set_with_dataframe(Concateall, prm_fw21)"
      ],
      "execution_count": null,
      "outputs": []
    },
    {
      "cell_type": "code",
      "metadata": {
        "id": "PANIkpDw6-9p"
      },
      "source": [
        "from google.colab import files"
      ],
      "execution_count": null,
      "outputs": []
    },
    {
      "cell_type": "code",
      "metadata": {
        "colab": {
          "resources": {
            "http://localhost:8080/nbextensions/google.colab/files.js": {
              "data": "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",
              "ok": true,
              "headers": [
                [
                  "content-type",
                  "application/javascript"
                ]
              ],
              "status": 200,
              "status_text": ""
            }
          },
          "base_uri": "https://localhost:8080/",
          "height": 72
        },
        "id": "t0b2Crzt5okB",
        "outputId": "4694285c-a0f4-41a8-96ea-807439fe716a"
      },
      "source": [
        "f1=files.upload()"
      ],
      "execution_count": null,
      "outputs": [
        {
          "output_type": "display_data",
          "data": {
            "text/html": [
              "\n",
              "     <input type=\"file\" id=\"files-d32d0f01-a882-4ed5-b6f1-8561a07b538b\" name=\"files[]\" multiple disabled\n",
              "        style=\"border:none\" />\n",
              "     <output id=\"result-d32d0f01-a882-4ed5-b6f1-8561a07b538b\">\n",
              "      Upload widget is only available when the cell has been executed in the\n",
              "      current browser session. Please rerun this cell to enable.\n",
              "      </output>\n",
              "      <script src=\"/nbextensions/google.colab/files.js\"></script> "
            ],
            "text/plain": [
              "<IPython.core.display.HTML object>"
            ]
          },
          "metadata": {
            "tags": []
          }
        },
        {
          "output_type": "stream",
          "text": [
            "Saving rmchangelastweek (3).csv to rmchangelastweek (3).csv\n"
          ],
          "name": "stdout"
        }
      ]
    },
    {
      "cell_type": "code",
      "metadata": {
        "id": "V17Cr1kn5oqB"
      },
      "source": [
        "df_prm_lw= pd.read_csv(r'rmchangelastweek (3).csv')"
      ],
      "execution_count": null,
      "outputs": []
    },
    {
      "cell_type": "code",
      "metadata": {
        "colab": {
          "base_uri": "https://localhost:8080/",
          "height": 80
        },
        "id": "7Xl9NSz65otH",
        "outputId": "8d7a8475-abb6-4956-e064-3b8785091df5"
      },
      "source": [
        "df_removed_RM_weekly= df_prm_lw.merge(prm_fw21, on = ['Season','RM ID'], how='left')\n",
        "df_removed_RM_weekly.head(1)"
      ],
      "execution_count": null,
      "outputs": [
        {
          "output_type": "execute_result",
          "data": {
            "text/html": [
              "<div>\n",
              "<style scoped>\n",
              "    .dataframe tbody tr th:only-of-type {\n",
              "        vertical-align: middle;\n",
              "    }\n",
              "\n",
              "    .dataframe tbody tr th {\n",
              "        vertical-align: top;\n",
              "    }\n",
              "\n",
              "    .dataframe thead th {\n",
              "        text-align: right;\n",
              "    }\n",
              "</style>\n",
              "<table border=\"1\" class=\"dataframe\">\n",
              "  <thead>\n",
              "    <tr style=\"text-align: right;\">\n",
              "      <th></th>\n",
              "      <th>Season</th>\n",
              "      <th>RM ID</th>\n",
              "      <th>Total Rating_x</th>\n",
              "      <th>Total Rating_y</th>\n",
              "    </tr>\n",
              "  </thead>\n",
              "  <tbody>\n",
              "    <tr>\n",
              "      <th>0</th>\n",
              "      <td>FW21 // MAIN</td>\n",
              "      <td>F-10052-GREIGEECOLATINO</td>\n",
              "      <td>26678.824</td>\n",
              "      <td>26678.824</td>\n",
              "    </tr>\n",
              "  </tbody>\n",
              "</table>\n",
              "</div>"
            ],
            "text/plain": [
              "         Season                    RM ID  Total Rating_x  Total Rating_y\n",
              "0  FW21 // MAIN  F-10052-GREIGEECOLATINO       26678.824       26678.824"
            ]
          },
          "metadata": {
            "tags": []
          },
          "execution_count": 115
        }
      ]
    },
    {
      "cell_type": "code",
      "metadata": {
        "colab": {
          "base_uri": "https://localhost:8080/",
          "height": 80
        },
        "id": "az_L9kUe9NK_",
        "outputId": "72685268-5522-40c2-9c9b-684b29dc591e"
      },
      "source": [
        "df_new_RM_weekly= prm_fw21.merge(df_prm_lw, on = ['Season','RM ID'], how='left')\n",
        "df_new_RM_weekly.head(1)"
      ],
      "execution_count": null,
      "outputs": [
        {
          "output_type": "execute_result",
          "data": {
            "text/html": [
              "<div>\n",
              "<style scoped>\n",
              "    .dataframe tbody tr th:only-of-type {\n",
              "        vertical-align: middle;\n",
              "    }\n",
              "\n",
              "    .dataframe tbody tr th {\n",
              "        vertical-align: top;\n",
              "    }\n",
              "\n",
              "    .dataframe thead th {\n",
              "        text-align: right;\n",
              "    }\n",
              "</style>\n",
              "<table border=\"1\" class=\"dataframe\">\n",
              "  <thead>\n",
              "    <tr style=\"text-align: right;\">\n",
              "      <th></th>\n",
              "      <th>Season</th>\n",
              "      <th>RM ID</th>\n",
              "      <th>Total Rating_x</th>\n",
              "      <th>Total Rating_y</th>\n",
              "    </tr>\n",
              "  </thead>\n",
              "  <tbody>\n",
              "    <tr>\n",
              "      <th>0</th>\n",
              "      <td>FW21 // MAIN</td>\n",
              "      <td>F-10052-GREIGEECOLATINO</td>\n",
              "      <td>26678.824</td>\n",
              "      <td>26678.824</td>\n",
              "    </tr>\n",
              "  </tbody>\n",
              "</table>\n",
              "</div>"
            ],
            "text/plain": [
              "         Season                    RM ID  Total Rating_x  Total Rating_y\n",
              "0  FW21 // MAIN  F-10052-GREIGEECOLATINO       26678.824       26678.824"
            ]
          },
          "metadata": {
            "tags": []
          },
          "execution_count": 116
        }
      ]
    },
    {
      "cell_type": "code",
      "metadata": {
        "colab": {
          "base_uri": "https://localhost:8080/"
        },
        "id": "NZnKWvJp9R-R",
        "outputId": "34044972-eb82-4e05-c80d-8da7127e1f72"
      },
      "source": [
        "df_new_RM_weekly['New RM ID Added']= np.where(df_new_RM_weekly['Total Rating_y'].isnull(), 'Yes','No')\n",
        "df_new_RM_weekly['New RM ID Added'].value_counts()"
      ],
      "execution_count": null,
      "outputs": [
        {
          "output_type": "execute_result",
          "data": {
            "text/plain": [
              "No    357\n",
              "Name: New RM ID Added, dtype: int64"
            ]
          },
          "metadata": {
            "tags": []
          },
          "execution_count": 117
        }
      ]
    },
    {
      "cell_type": "code",
      "metadata": {
        "colab": {
          "base_uri": "https://localhost:8080/"
        },
        "id": "vupvGNLN9SBb",
        "outputId": "72bbda10-2d91-4772-c2e0-5206eeba337b"
      },
      "source": [
        "df_removed_RM_weekly.isnull().sum()"
      ],
      "execution_count": null,
      "outputs": [
        {
          "output_type": "execute_result",
          "data": {
            "text/plain": [
              "Season            0\n",
              "RM ID             0\n",
              "Total Rating_x    0\n",
              "Total Rating_y    0\n",
              "dtype: int64"
            ]
          },
          "metadata": {
            "tags": []
          },
          "execution_count": 118
        }
      ]
    },
    {
      "cell_type": "code",
      "metadata": {
        "colab": {
          "base_uri": "https://localhost:8080/"
        },
        "id": "BZftxddM9SEe",
        "outputId": "4425c1a5-e830-45ed-b93d-690c0d06d47e"
      },
      "source": [
        "df_removed_RM_weekly['Old RM ID Removed']= np.where(df_removed_RM_weekly['Total Rating_y'].isnull(), 'Yes','No')\n",
        "df_removed_RM_weekly['Old RM ID Removed'].value_counts()"
      ],
      "execution_count": null,
      "outputs": [
        {
          "output_type": "execute_result",
          "data": {
            "text/plain": [
              "No    357\n",
              "Name: Old RM ID Removed, dtype: int64"
            ]
          },
          "metadata": {
            "tags": []
          },
          "execution_count": 119
        }
      ]
    },
    {
      "cell_type": "code",
      "metadata": {
        "id": "UEyqDAVZ9bJe"
      },
      "source": [
        "df_new_RM_weekly=df_new_RM_weekly[df_new_RM_weekly['New RM ID Added']==\"Yes\"]\n",
        "df_removed_RM_weekly=df_removed_RM_weekly[df_removed_RM_weekly['Old RM ID Removed']==\"Yes\"]"
      ],
      "execution_count": null,
      "outputs": []
    },
    {
      "cell_type": "code",
      "metadata": {
        "cellView": "form",
        "colab": {
          "base_uri": "https://localhost:8080/",
          "height": 49
        },
        "id": "T_0inp5m9ng0",
        "outputId": "22f457eb-0b99-4129-a5e0-0d67a81e5521"
      },
      "source": [
        "#@title RM added last week\n",
        "df_new_RM_weekly"
      ],
      "execution_count": null,
      "outputs": [
        {
          "output_type": "execute_result",
          "data": {
            "text/html": [
              "<div>\n",
              "<style scoped>\n",
              "    .dataframe tbody tr th:only-of-type {\n",
              "        vertical-align: middle;\n",
              "    }\n",
              "\n",
              "    .dataframe tbody tr th {\n",
              "        vertical-align: top;\n",
              "    }\n",
              "\n",
              "    .dataframe thead th {\n",
              "        text-align: right;\n",
              "    }\n",
              "</style>\n",
              "<table border=\"1\" class=\"dataframe\">\n",
              "  <thead>\n",
              "    <tr style=\"text-align: right;\">\n",
              "      <th></th>\n",
              "      <th>Season</th>\n",
              "      <th>RM ID</th>\n",
              "      <th>Total Rating_x</th>\n",
              "      <th>Total Rating_y</th>\n",
              "      <th>New RM ID Added</th>\n",
              "    </tr>\n",
              "  </thead>\n",
              "  <tbody>\n",
              "  </tbody>\n",
              "</table>\n",
              "</div>"
            ],
            "text/plain": [
              "Empty DataFrame\n",
              "Columns: [Season, RM ID, Total Rating_x, Total Rating_y, New RM ID Added]\n",
              "Index: []"
            ]
          },
          "metadata": {
            "tags": []
          },
          "execution_count": 121
        }
      ]
    },
    {
      "cell_type": "code",
      "metadata": {
        "colab": {
          "base_uri": "https://localhost:8080/",
          "height": 49
        },
        "cellView": "form",
        "id": "CfS8nAoW9oqD",
        "outputId": "ebff99df-29f9-41da-b8f9-f38a3c07076b"
      },
      "source": [
        "#@title RM removed last week\n",
        "df_removed_RM_weekly"
      ],
      "execution_count": null,
      "outputs": [
        {
          "output_type": "execute_result",
          "data": {
            "text/html": [
              "<div>\n",
              "<style scoped>\n",
              "    .dataframe tbody tr th:only-of-type {\n",
              "        vertical-align: middle;\n",
              "    }\n",
              "\n",
              "    .dataframe tbody tr th {\n",
              "        vertical-align: top;\n",
              "    }\n",
              "\n",
              "    .dataframe thead th {\n",
              "        text-align: right;\n",
              "    }\n",
              "</style>\n",
              "<table border=\"1\" class=\"dataframe\">\n",
              "  <thead>\n",
              "    <tr style=\"text-align: right;\">\n",
              "      <th></th>\n",
              "      <th>Season</th>\n",
              "      <th>RM ID</th>\n",
              "      <th>Total Rating_x</th>\n",
              "      <th>Total Rating_y</th>\n",
              "      <th>Old RM ID Removed</th>\n",
              "    </tr>\n",
              "  </thead>\n",
              "  <tbody>\n",
              "  </tbody>\n",
              "</table>\n",
              "</div>"
            ],
            "text/plain": [
              "Empty DataFrame\n",
              "Columns: [Season, RM ID, Total Rating_x, Total Rating_y, Old RM ID Removed]\n",
              "Index: []"
            ]
          },
          "metadata": {
            "tags": []
          },
          "execution_count": 122
        }
      ]
    },
    {
      "cell_type": "markdown",
      "metadata": {
        "id": "IA0NObY3zlJM"
      },
      "source": [
        "## Stop\n"
      ]
    },
    {
      "cell_type": "code",
      "metadata": {
        "id": "tpfNBOTqzi4r",
        "colab": {
          "base_uri": "https://localhost:8080/",
          "height": 180
        },
        "outputId": "01799841-c314-4937-b695-c3cb82d3866b"
      },
      "source": [
        "\n",
        "Breaking_BAD\n"
      ],
      "execution_count": null,
      "outputs": [
        {
          "output_type": "error",
          "ename": "NameError",
          "evalue": "ignored",
          "traceback": [
            "\u001b[0;31m---------------------------------------------------------------------------\u001b[0m",
            "\u001b[0;31mNameError\u001b[0m                                 Traceback (most recent call last)",
            "\u001b[0;32m<ipython-input-123-6017d506a0d6>\u001b[0m in \u001b[0;36m<module>\u001b[0;34m()\u001b[0m\n\u001b[1;32m      1\u001b[0m \u001b[0;34m\u001b[0m\u001b[0m\n\u001b[0;32m----> 2\u001b[0;31m \u001b[0mBreaking_BAD\u001b[0m\u001b[0;34m\u001b[0m\u001b[0;34m\u001b[0m\u001b[0m\n\u001b[0m",
            "\u001b[0;31mNameError\u001b[0m: name 'Breaking_BAD' is not defined"
          ]
        }
      ]
    },
    {
      "cell_type": "markdown",
      "metadata": {
        "id": "EZDkRoj8pwAy"
      },
      "source": [
        "## extra"
      ]
    },
    {
      "cell_type": "code",
      "metadata": {
        "id": "b6h_3le6W3xp"
      },
      "source": [
        "df4.head()"
      ],
      "execution_count": null,
      "outputs": []
    },
    {
      "cell_type": "code",
      "metadata": {
        "id": "h6EgmvO4Znno"
      },
      "source": [
        "y = df4.iloc[:, 3].values"
      ],
      "execution_count": null,
      "outputs": []
    },
    {
      "cell_type": "code",
      "metadata": {
        "id": "wk03D9b2U_pd"
      },
      "source": [
        "X = df4.iloc[:, 1:2].values\n",
        "y = df4.iloc[:, 2:4].values"
      ],
      "execution_count": null,
      "outputs": []
    },
    {
      "cell_type": "code",
      "metadata": {
        "id": "yzwDNR1yZhb8"
      },
      "source": [
        "from sklearn.preprocessing import StandardScaler\n",
        "sc_X = StandardScaler()\n",
        "sc_y = StandardScaler()"
      ],
      "execution_count": null,
      "outputs": []
    },
    {
      "cell_type": "code",
      "metadata": {
        "id": "u8AGGF7uZjTh"
      },
      "source": [
        "X = sc_y.fit_transform(y.reshape(-1,1))"
      ],
      "execution_count": null,
      "outputs": []
    },
    {
      "cell_type": "code",
      "metadata": {
        "id": "AgLYPs_tVCvi"
      },
      "source": [
        "X = np.arange(0,100).reshape(-1,1)"
      ],
      "execution_count": null,
      "outputs": []
    },
    {
      "cell_type": "code",
      "metadata": {
        "id": "o7RM-zVwXaXv"
      },
      "source": [
        "X.ndim "
      ],
      "execution_count": null,
      "outputs": []
    },
    {
      "cell_type": "code",
      "metadata": {
        "id": "HwWqVdqRFL7K"
      },
      "source": [
        "X = df4.iloc[:,df4.columns !='weightage'].values"
      ],
      "execution_count": null,
      "outputs": []
    },
    {
      "cell_type": "code",
      "metadata": {
        "id": "ZWczB63wYOBy"
      },
      "source": [
        "train_df[train_df[\"target\"] == 0][\"text\"].values[1]"
      ],
      "execution_count": null,
      "outputs": []
    },
    {
      "cell_type": "code",
      "metadata": {
        "id": "Hac69OU2FOkx"
      },
      "source": [
        "y = df4.iloc[:, df4.columns =='weightage']"
      ],
      "execution_count": null,
      "outputs": []
    },
    {
      "cell_type": "code",
      "metadata": {
        "id": "bZ2-rvV8GP9c"
      },
      "source": [
        "from sklearn.preprocessing import LabelEncoder, OneHotEncoder\n",
        "from sklearn.compose import ColumnTransformer"
      ],
      "execution_count": null,
      "outputs": []
    },
    {
      "cell_type": "code",
      "metadata": {
        "id": "tw6VoM_lHKOi"
      },
      "source": [
        "X[0:5]"
      ],
      "execution_count": null,
      "outputs": []
    },
    {
      "cell_type": "code",
      "metadata": {
        "id": "c2iLvqXYHSP7"
      },
      "source": [
        ""
      ],
      "execution_count": null,
      "outputs": []
    },
    {
      "cell_type": "code",
      "metadata": {
        "id": "HUNQZSdyHH-h"
      },
      "source": [
        "X = X[:, 1:]"
      ],
      "execution_count": null,
      "outputs": []
    },
    {
      "cell_type": "code",
      "metadata": {
        "id": "fsI7ItF4KI77"
      },
      "source": [
        "df = pd.DataFrame({'Actual': y_test.flatten(), 'Predicted': y_pred.flatten()})"
      ],
      "execution_count": null,
      "outputs": []
    },
    {
      "cell_type": "code",
      "metadata": {
        "id": "anoBG2N4MNRZ"
      },
      "source": [
        "#plot the actual and predictions"
      ],
      "execution_count": null,
      "outputs": []
    },
    {
      "cell_type": "code",
      "metadata": {
        "id": "gIrO5XGRMbLR"
      },
      "source": [
        "df4 = df4.head(25)\n",
        "df4.plot(x='trimsdone',kind='bar',figsize=(16,10))\n",
        "plt.grid(which='major', linestyle='-', linewidth='0.5', color='green')\n",
        "plt.grid(which='minor', linestyle=':', linewidth='0.5', color='black')\n",
        "plt.show()"
      ],
      "execution_count": null,
      "outputs": []
    },
    {
      "cell_type": "code",
      "metadata": {
        "id": "sD-IYO-ORd7I"
      },
      "source": [
        "#evaluation Metrics \n",
        "from sklearn import metrics\n",
        "print('Mean Absolute Error:', metrics.mean_absolute_error(y_test, y_pred))  \n",
        "print('Mean Squared Error:', metrics.mean_squared_error(y_test, y_pred))  \n",
        "print('Root Mean Squared Error:', np.sqrt(metrics.mean_squared_error(y_test, y_pred)))"
      ],
      "execution_count": null,
      "outputs": []
    },
    {
      "cell_type": "code",
      "metadata": {
        "id": "1SJPRtN7Rmni"
      },
      "source": [
        "#evaluation Metrics\n",
        "from sklearn import metrics\n",
        "print('Accuracy Score:', metrics.accuracy_score(y_test, y_pred))\n",
        "print('Balanced Accuracy Score:', metrics.balanced_accuracy_score(y_test, y_pred))\n",
        "print('Average Precision:',metrics.average_precision_score(y_test, y_pred))"
      ],
      "execution_count": null,
      "outputs": []
    },
    {
      "cell_type": "code",
      "metadata": {
        "id": "waKKZK5pSgfM"
      },
      "source": [
        "import numpy as np\n",
        "from sklearn.preprocessing import StandardScaler\n",
        "sc= StandardScaler()"
      ],
      "execution_count": null,
      "outputs": []
    },
    {
      "cell_type": "code",
      "metadata": {
        "id": "ni43XiWkSe_v"
      },
      "source": [
        "new_data = np.array([66952.7,28,8770.1])\n",
        "new_data=new_data.reshape(-1,3)\n",
        "sc.fit_transform(new_data)\n"
      ],
      "execution_count": null,
      "outputs": []
    },
    {
      "cell_type": "code",
      "metadata": {
        "id": "39uZLq-PR4Eq"
      },
      "source": [
        "#save the model in the disk\n",
        "import pickle\n",
        "# save the model to disk\n",
        "filename = 'reg_model.sav'\n",
        "pickle.dump(regressor, open(filename, 'wb'))\n",
        "# load the model from disk\n",
        "filename1 = 'reg_model.sav'\n",
        "loaded_model = pickle.load(open(filename1, 'rb'))"
      ],
      "execution_count": null,
      "outputs": []
    },
    {
      "cell_type": "code",
      "metadata": {
        "id": "iw0gNqHLScJN"
      },
      "source": [
        "from sklearn.externals import joblib  \n",
        "# Save the model as a pickle in a file \n",
        "joblib.dump(regressor, 'regressor.pkl') \n",
        "  \n",
        "# Load the model from the file \n",
        "loaded_model2 = joblib.load('regressor.pkl')  \n",
        "  \n",
        "# Use the loaded model to make predictions \n",
        "loaded_model2.predict(X_test)"
      ],
      "execution_count": null,
      "outputs": []
    },
    {
      "cell_type": "code",
      "metadata": {
        "id": "0VYMg92WMLwn"
      },
      "source": [
        "df_1 = df.head(25)\n",
        "df_1.plot(kind=’bar’,figsize=(16,10))\n",
        "plt.grid(which=’major’, linestyle=’-’, linewidth=’0.5', color=’green’)\n",
        "plt.grid(which=’minor’, linestyle=’:’, linewidth=’0.5', color=’black’)\n",
        "plt.show()"
      ],
      "execution_count": null,
      "outputs": []
    },
    {
      "cell_type": "code",
      "metadata": {
        "id": "9NClZbsFML5r"
      },
      "source": [
        "import pandas as pd\n",
        "raw_data = {'age1': [23,45,210],'age2': [10,20,150],'name': ['a','b','c']}\n",
        "df3 = pd.DataFrame(raw_data, columns = ['age1','age2','name'])\n",
        "\n",
        "raw_data = {'age1': [80,90,110],'age2': [70,120,90],'name': ['a','b','c']}\n",
        "df2 = pd.DataFrame(raw_data, columns = ['age1','age2','name'])\n",
        "\n",
        "\n"
      ],
      "execution_count": null,
      "outputs": []
    },
    {
      "cell_type": "code",
      "metadata": {
        "id": "9853y7-n9jAJ"
      },
      "source": [
        "col_list=['age1','age2']\n",
        "df_list=[df3,df2]"
      ],
      "execution_count": null,
      "outputs": []
    },
    {
      "cell_type": "code",
      "metadata": {
        "id": "ROij6UHW9kz9"
      },
      "source": [
        "for d in df_list:\n",
        "  for c in col_list:\n",
        "    d[c]=np.where(d[c]>100,d[c],'failed')\n",
        "    \n"
      ],
      "execution_count": null,
      "outputs": []
    },
    {
      "cell_type": "code",
      "metadata": {
        "id": "FtGdenpDISJ9"
      },
      "source": [
        "for x in df_list:\n",
        "  x=x[x['age1']==23]\n"
      ],
      "execution_count": null,
      "outputs": []
    },
    {
      "cell_type": "code",
      "metadata": {
        "id": "Rhfm5ugTJhS4"
      },
      "source": [
        ""
      ],
      "execution_count": null,
      "outputs": []
    },
    {
      "cell_type": "code",
      "metadata": {
        "id": "i5iXjb6cJCP9"
      },
      "source": [
        "for d in df_list:\n",
        "  d.age1==23"
      ],
      "execution_count": null,
      "outputs": []
    },
    {
      "cell_type": "code",
      "metadata": {
        "id": "hr2IBGUIIyCK"
      },
      "source": [
        "df3"
      ],
      "execution_count": null,
      "outputs": []
    },
    {
      "cell_type": "code",
      "metadata": {
        "id": "rMzeECNH9VrJ"
      },
      "source": [
        "df3= df3.dropna(axis=0,subset=['age1'],how='all',)"
      ],
      "execution_count": null,
      "outputs": []
    },
    {
      "cell_type": "code",
      "metadata": {
        "id": "udzIXYWCHoVo"
      },
      "source": [
        "df3.info()"
      ],
      "execution_count": null,
      "outputs": []
    },
    {
      "cell_type": "code",
      "metadata": {
        "id": "lJK8STOQGOf1"
      },
      "source": [
        "for x in df_list:\n",
        "  x.dropna(inplace=True,axis=0,subset=[col_list])"
      ],
      "execution_count": null,
      "outputs": []
    },
    {
      "cell_type": "code",
      "metadata": {
        "id": "Anu_P7OHGLHx"
      },
      "source": [
        ""
      ],
      "execution_count": null,
      "outputs": []
    },
    {
      "cell_type": "code",
      "metadata": {
        "id": "cX4b1L_q84p7"
      },
      "source": [
        "df[col_list]=np.where(df[col_list]>100,'dead',df[col_list])"
      ],
      "execution_count": null,
      "outputs": []
    },
    {
      "cell_type": "code",
      "metadata": {
        "id": "XsZ6gI_B9Z4k"
      },
      "source": [
        ""
      ],
      "execution_count": null,
      "outputs": []
    },
    {
      "cell_type": "code",
      "metadata": {
        "id": "OqS-JezP9J4o"
      },
      "source": [
        ""
      ],
      "execution_count": null,
      "outputs": []
    },
    {
      "cell_type": "code",
      "metadata": {
        "id": "Rf6wTfdm9FaL"
      },
      "source": [
        "df2"
      ],
      "execution_count": null,
      "outputs": []
    },
    {
      "cell_type": "code",
      "metadata": {
        "id": "eS8yCzzK7XrZ"
      },
      "source": [
        "col_list=['age1','age2']\n",
        "df_list=[df,df2]"
      ],
      "execution_count": null,
      "outputs": []
    },
    {
      "cell_type": "code",
      "metadata": {
        "id": "_6Xbpb9L9Ksy"
      },
      "source": [
        ""
      ],
      "execution_count": null,
      "outputs": []
    },
    {
      "cell_type": "code",
      "metadata": {
        "id": "Kl_IqPDG9Kv2"
      },
      "source": [
        ""
      ],
      "execution_count": null,
      "outputs": []
    },
    {
      "cell_type": "code",
      "metadata": {
        "id": "u1LStqIu9Kyk"
      },
      "source": [
        "for d in df_list:\n",
        "  for c in col_list_contains_passed:\n",
        "    d[c]=np.where(df[c]=='Passed','Ok','Failed')"
      ],
      "execution_count": null,
      "outputs": []
    },
    {
      "cell_type": "code",
      "metadata": {
        "id": "NR8zBk-U7lmZ"
      },
      "source": [
        "for d in df_list:\n",
        "  for c in col_list:\n",
        "    d[c]=np.where(d[c]>100,'dead',df[c])"
      ],
      "execution_count": null,
      "outputs": []
    },
    {
      "cell_type": "code",
      "metadata": {
        "id": "OpIEpws7BUPD"
      },
      "source": [
        "for d in df_list:\n",
        "  for c in col_list:\n",
        "    d[c]=np.where(d[c]>100,'dead',df[c])"
      ],
      "execution_count": null,
      "outputs": []
    },
    {
      "cell_type": "code",
      "metadata": {
        "id": "O2V5wSgw8DY-"
      },
      "source": [
        "df"
      ],
      "execution_count": null,
      "outputs": []
    },
    {
      "cell_type": "code",
      "metadata": {
        "id": "ESLT3vlC7dPx"
      },
      "source": [
        "for "
      ],
      "execution_count": null,
      "outputs": []
    },
    {
      "cell_type": "code",
      "metadata": {
        "id": "U8se_KeS1qtB"
      },
      "source": [
        "df"
      ],
      "execution_count": null,
      "outputs": []
    },
    {
      "cell_type": "code",
      "metadata": {
        "id": "867iz-OF1r-H"
      },
      "source": [
        "col_list=['age1','age2']\n"
      ],
      "execution_count": null,
      "outputs": []
    },
    {
      "cell_type": "code",
      "metadata": {
        "id": "eYY4ZubD6mhf"
      },
      "source": [
        "df['age1']=df[df['age1']==23]"
      ],
      "execution_count": null,
      "outputs": []
    },
    {
      "cell_type": "code",
      "metadata": {
        "id": "xa_7TtGH7OTX"
      },
      "source": [
        "df"
      ],
      "execution_count": null,
      "outputs": []
    },
    {
      "cell_type": "code",
      "metadata": {
        "id": "5vLJxYO-174p"
      },
      "source": [
        "#cols = df.filter(like='age').columns\n",
        "\n",
        "df[col_list] = df[col_list].apply(lambda x: np.where(x > 100 ,'dead', x))"
      ],
      "execution_count": null,
      "outputs": []
    },
    {
      "cell_type": "code",
      "metadata": {
        "id": "6uYxCkKc4_gI"
      },
      "source": [
        "df"
      ],
      "execution_count": null,
      "outputs": []
    },
    {
      "cell_type": "code",
      "metadata": {
        "id": "cCBJCMoeY2sk"
      },
      "source": [
        "raw_data = {'age1': [80,90,'dead'],'age2': [70,'dead',90],'name': ['a','b','c']}\n",
        "df2 = pd.DataFrame(raw_data, columns = ['age1','age2','name'])\n",
        "df2"
      ],
      "execution_count": null,
      "outputs": []
    },
    {
      "cell_type": "code",
      "metadata": {
        "id": "Mglpuxw4ZQFp"
      },
      "source": [
        "raw_data = {'age1': [23,45,'dead'],'age2': [10,20,'dead'],'name': ['a','b','c']}\n",
        "df = pd.DataFrame(raw_data, columns = ['age1','age2','name'])\n",
        "df"
      ],
      "execution_count": null,
      "outputs": []
    },
    {
      "cell_type": "code",
      "metadata": {
        "id": "FJXvYS1EjBGy"
      },
      "source": [
        "def dead(df):\n",
        "    col_list = ['age1', 'age2']\n",
        "    df = df.copy()\n",
        "    temporary = df.filter(col_list)\n",
        "    temporary = temporary.mask(temporary >= 100, \"dead\")\n",
        "    df.loc[:, col_list] = temporary\n",
        "    return df"
      ],
      "execution_count": null,
      "outputs": []
    },
    {
      "cell_type": "code",
      "metadata": {
        "id": "Fd4U2SC3jXxg"
      },
      "source": [
        "col_list=['age1','age2']\n",
        "df_list=[df,df2]\n",
        "\n",
        "for d in df_list:\n",
        "    for c in col_list:\n",
        "        d.loc[d[c]>100, c] = 'dead'"
      ],
      "execution_count": null,
      "outputs": []
    },
    {
      "cell_type": "code",
      "metadata": {
        "id": "G3pGmATtqW2O"
      },
      "source": [
        "import pandas as pd\n",
        "import numpy as np\n",
        "raw_data = {'age1': [23,45,210],'age2': [10,20,150],'name': ['a','b','c']}\n",
        "df = pd.DataFrame(raw_data, columns = ['age1','age2','name'])\n",
        "\n",
        "raw_data = {'age1': [80,90,110],'age2': [70,120,90],'name': ['a','b','c']}\n",
        "df2 = pd.DataFrame(raw_data, columns = ['age1','age2','name'])\n",
        "\n",
        "col_list=['age1','age2']\n",
        "df_list=[df,df2]\n",
        "\n",
        "def dead(df_list, col_list):\n",
        "    for df in df_list:\n",
        "        for col in col_list:\n",
        "            df[col] = np.where(df[col] >= 100, \"dead\", df[col])\n",
        "    return df_list\n",
        "\n",
        "\n",
        "df\n",
        "\n",
        "dead([df], col_list)"
      ],
      "execution_count": null,
      "outputs": []
    },
    {
      "cell_type": "code",
      "metadata": {
        "id": "TnZ9cotnqW5D"
      },
      "source": [
        ""
      ],
      "execution_count": null,
      "outputs": []
    },
    {
      "cell_type": "code",
      "metadata": {
        "id": "RSz_XlkEjldW"
      },
      "source": [
        "df2"
      ],
      "execution_count": null,
      "outputs": []
    },
    {
      "cell_type": "code",
      "metadata": {
        "id": "GpEeyCBtjCkB"
      },
      "source": [
        "df_list.apply(dead)"
      ],
      "execution_count": null,
      "outputs": []
    },
    {
      "cell_type": "code",
      "metadata": {
        "id": "8toSVooRiWKz"
      },
      "source": [
        "c=df.filter(like='age').columns\n"
      ],
      "execution_count": null,
      "outputs": []
    },
    {
      "cell_type": "code",
      "metadata": {
        "id": "Y-q73qw2iZyG"
      },
      "source": [
        "cols = df.filter(like='age').columns\n",
        "\n",
        "df[cols] = df[cols].apply(lambda x: np.where(x > 100 ,'dead', x))"
      ],
      "execution_count": null,
      "outputs": []
    },
    {
      "cell_type": "code",
      "metadata": {
        "id": "uXRzRIm0i1cZ"
      },
      "source": [
        "df"
      ],
      "execution_count": null,
      "outputs": []
    },
    {
      "cell_type": "code",
      "metadata": {
        "id": "C9tQnQb5hmlZ"
      },
      "source": [
        "col_list=['age1','age2']\n",
        "df_list=[df,df2]\n",
        "\n",
        "for d in df_list:\n",
        "    for c in col_list:\n",
        "        d.loc[d[c]>100, c] = 'dead'"
      ],
      "execution_count": null,
      "outputs": []
    },
    {
      "cell_type": "code",
      "metadata": {
        "id": "iaH0XXf9iBoH"
      },
      "source": [
        "import numpy as np\n",
        "c = df.filter(regex='age\\d+').columns\n",
        "df[c] = np.where(df[c].ge(100),'dead',df[c])\n",
        "df"
      ],
      "execution_count": null,
      "outputs": []
    },
    {
      "cell_type": "code",
      "metadata": {
        "id": "wEYQNGlLXdi8"
      },
      "source": [
        "col_list=['age1','age2']"
      ],
      "execution_count": null,
      "outputs": []
    },
    {
      "cell_type": "code",
      "metadata": {
        "id": "HiZEVS5lXkl4"
      },
      "source": [
        "df_list=[df,df2]"
      ],
      "execution_count": null,
      "outputs": []
    },
    {
      "cell_type": "code",
      "metadata": {
        "id": "eW4WCULaXn86"
      },
      "source": [
        "def dead(df):\n",
        "  for df in df_list:\n",
        "    if df.columns in col_list:\n",
        "      if df.columns >=100:\n",
        "        return 'dead'\n",
        "    else:\n",
        "      return df.columns"
      ],
      "execution_count": null,
      "outputs": []
    },
    {
      "cell_type": "code",
      "metadata": {
        "id": "2BEROBChcpy1"
      },
      "source": [
        "df.apply(dead)"
      ],
      "execution_count": null,
      "outputs": []
    },
    {
      "cell_type": "code",
      "metadata": {
        "id": "G6yJw--CYO8i"
      },
      "source": [
        "gen = (x for x in df_list if x in col_list)\n",
        "\n",
        "for x in gen:\n",
        "    print(x)"
      ],
      "execution_count": null,
      "outputs": []
    },
    {
      "cell_type": "code",
      "metadata": {
        "id": "BcU__fSnbtcy"
      },
      "source": [
        "def fun(x):\n",
        "  if x['age1']==23:\n",
        "    return x+3\n",
        "  elif x['age2']==10: \n",
        "    return x+2\n",
        "  else: return 0"
      ],
      "execution_count": null,
      "outputs": []
    },
    {
      "cell_type": "code",
      "metadata": {
        "id": "xmfflx6qeQ4j"
      },
      "source": [
        "def f(x):\n",
        "  if x['gender'] == 'male' and x['pet1'] == x['pet2']: return 5\n",
        "  elif x['gender'] == 'female' and (x['pet1'] == 'cat' or x['pet1'] == 'dog'): return 5\n",
        "  else: return 0\n",
        "\n",
        "data['points'] = data.apply(f, axis=1)"
      ],
      "execution_count": null,
      "outputs": []
    },
    {
      "cell_type": "code",
      "metadata": {
        "id": "wnqdblRfcXG2"
      },
      "source": [
        "df.columns"
      ],
      "execution_count": null,
      "outputs": []
    },
    {
      "cell_type": "code",
      "metadata": {
        "id": "-DIZqk4VaSDO"
      },
      "source": [
        "def fun(num):\n",
        "  \n",
        "    if num<200:\n",
        "        return \"Low\"\n",
        "  \n",
        "    elif num>= 200 and num<400:\n",
        "        return \"Normal\"\n",
        "  \n",
        "    else:\n",
        "        return \"High\""
      ],
      "execution_count": null,
      "outputs": []
    },
    {
      "cell_type": "code",
      "metadata": {
        "id": "AZKIV4SAR7vT"
      },
      "source": [
        "for x in df.columns:\n",
        "  print(df[x].unique())\n"
      ],
      "execution_count": null,
      "outputs": []
    },
    {
      "cell_type": "code",
      "metadata": {
        "id": "3A1Y-hljZiAE"
      },
      "source": [
        "def fun(x):\n",
        "  return x*x\n",
        "df.apply(fun)  "
      ],
      "execution_count": null,
      "outputs": []
    },
    {
      "cell_type": "code",
      "metadata": {
        "id": "rzt4EXQgX8eV"
      },
      "source": [
        "def fun(x):\n",
        "  for x in df.columns:\n",
        "    print(df[x].unique())\n",
        "    print('----')\n",
        "df.apply(fun)    "
      ],
      "execution_count": null,
      "outputs": []
    },
    {
      "cell_type": "code",
      "metadata": {
        "id": "_MStXqJsb5G9"
      },
      "source": [
        "df"
      ],
      "execution_count": null,
      "outputs": []
    },
    {
      "cell_type": "code",
      "metadata": {
        "id": "v3Dj2AMjYNJd"
      },
      "source": [
        "for x in df.columns:\n",
        "  print(df[x].unique())\n"
      ],
      "execution_count": null,
      "outputs": []
    },
    {
      "cell_type": "code",
      "metadata": {
        "id": "LsvapZdFa6QP"
      },
      "source": [
        "def fun(x):\n",
        "  for x in df.columns:\n",
        "    return df[x].unique()"
      ],
      "execution_count": null,
      "outputs": []
    },
    {
      "cell_type": "code",
      "metadata": {
        "id": "JUmBh0bjbhR0"
      },
      "source": [
        "df.apply(fun)"
      ],
      "execution_count": null,
      "outputs": []
    },
    {
      "cell_type": "code",
      "metadata": {
        "id": "N355vKhvSLer"
      },
      "source": [
        "for x in df.columns"
      ],
      "execution_count": null,
      "outputs": []
    },
    {
      "cell_type": "code",
      "metadata": {
        "id": "-2BbTuGPKzhU"
      },
      "source": [
        "[df[x].unique() for x in df.columns]"
      ],
      "execution_count": null,
      "outputs": []
    },
    {
      "cell_type": "code",
      "metadata": {
        "id": "KmkRspw1KzkQ"
      },
      "source": [
        "#finding the unique values in each column (type object)\n",
        "for col in df.columns:\n",
        "    print('We have {} unique values in {} column : {}'.format(len(df[col].unique()),col,df[col].unique()))\n",
        "    print('__'*30)\n"
      ],
      "execution_count": null,
      "outputs": []
    },
    {
      "cell_type": "code",
      "metadata": {
        "id": "rWebv-UfP8AM"
      },
      "source": [
        "for col in df.columns:\n",
        "  print('in', col,' we have', df[col].unique())\n",
        "  print('__'*10)"
      ],
      "execution_count": null,
      "outputs": []
    },
    {
      "cell_type": "code",
      "metadata": {
        "id": "iLlxQY4OQk8x"
      },
      "source": [
        ""
      ],
      "execution_count": null,
      "outputs": []
    },
    {
      "cell_type": "code",
      "metadata": {
        "id": "INWaHVWCP8DM"
      },
      "source": [
        ""
      ],
      "execution_count": null,
      "outputs": []
    },
    {
      "cell_type": "code",
      "metadata": {
        "id": "YZqfEJpxKznz"
      },
      "source": [
        ""
      ],
      "execution_count": null,
      "outputs": []
    },
    {
      "cell_type": "code",
      "metadata": {
        "id": "qcqWI85mRYbE"
      },
      "source": [
        "def double(x):\n",
        "\n",
        "  return x+x"
      ],
      "execution_count": null,
      "outputs": []
    },
    {
      "cell_type": "code",
      "metadata": {
        "id": "gUJSuD0zRiEN"
      },
      "source": [
        "df.apply(double)"
      ],
      "execution_count": null,
      "outputs": []
    },
    {
      "cell_type": "code",
      "metadata": {
        "id": "08sRxia-Po4R"
      },
      "source": [
        "df.apply(lambda x: x+x)"
      ],
      "execution_count": null,
      "outputs": []
    },
    {
      "cell_type": "code",
      "metadata": {
        "id": "2cQ4H8Y4XF-X"
      },
      "source": [
        "df['new']=df.age2.apply(lambda x:[x+x for x in df.age2 if])"
      ],
      "execution_count": null,
      "outputs": []
    },
    {
      "cell_type": "code",
      "metadata": {
        "id": "otdmxZm_Xh3L"
      },
      "source": [
        "df"
      ],
      "execution_count": null,
      "outputs": []
    },
    {
      "cell_type": "code",
      "metadata": {
        "id": "yl7PYmJUW7kS"
      },
      "source": [
        ""
      ],
      "execution_count": null,
      "outputs": []
    },
    {
      "cell_type": "code",
      "metadata": {
        "id": "4Givqq2rKtJy"
      },
      "source": [
        "def my_fun(df):\n",
        "  if df['age1']>df['age2']:\n",
        "    return df['age1']-df['age2']\n",
        "  else:\n",
        "    print('less')"
      ],
      "execution_count": null,
      "outputs": []
    },
    {
      "cell_type": "code",
      "metadata": {
        "id": "3cfijrfQNAkv"
      },
      "source": [
        ""
      ],
      "execution_count": null,
      "outputs": []
    },
    {
      "cell_type": "code",
      "metadata": {
        "id": "39xJhrIQLccZ"
      },
      "source": [
        "import numpy as np\n",
        "condition=[df['age1']>df['age2']]\n",
        "choice=[df['age1']-df['age2']]\n",
        "df['diff']=np.select(condition,choice,default=0)\n",
        "df"
      ],
      "execution_count": null,
      "outputs": []
    },
    {
      "cell_type": "code",
      "metadata": {
        "id": "3Cbh4UjmMCDS"
      },
      "source": [
        "df = pd.DataFrame({'A': [1,1,1,1,0], \n",
        "                   'B': [9,8,3,2,2],\n",
        "                   'C': [3,3,3,10,3],\n",
        "                   'E': [4,4,4,4,4],\n",
        "                   'F': [5,5,5,5,5]})\n",
        "df"
      ],
      "execution_count": null,
      "outputs": []
    },
    {
      "cell_type": "code",
      "metadata": {
        "id": "dsl1iTKEWSoA"
      },
      "source": [
        "df = pd.DataFrame({'A': [1,1,1,1,0], \n",
        "                   'B': [9,8,3,2,2],\n",
        "                   'C': [3,3,3,10,3],\n",
        "                   'E': [4,4,4,4,4],\n",
        "                   'F': [5,5,5,5,5]})\n",
        "\n",
        "df['x'] = df.apply(lambda a: [a[i:i+2] for i in range(len(a)-2) if sum(a[i:i+2]) >= 10], axis=1)\n",
        "\n",
        "#Note the axis parameters tells if you want to apply this function by rows or by columns, axis = 1 applies the function to each row."
      ],
      "execution_count": null,
      "outputs": []
    },
    {
      "cell_type": "code",
      "metadata": {
        "id": "EdKBotHdWszT"
      },
      "source": [
        "df"
      ],
      "execution_count": null,
      "outputs": []
    },
    {
      "cell_type": "code",
      "metadata": {
        "id": "Huw5TZHoVmiT"
      },
      "source": [
        "df.apply(lambda x:[x+x for x in df ])"
      ],
      "execution_count": null,
      "outputs": []
    },
    {
      "cell_type": "code",
      "metadata": {
        "id": "JLdOS-7qKkCa"
      },
      "source": [
        "def my_fun(x, var1, var2, var3):\n",
        "    \n",
        "    if (x[var1]-x[var2])>0 :\n",
        "        x[var3]=x[var1]-x[var2]\n",
        "    else:\n",
        "        x[var3]=0\n",
        "    return x    \n",
        "\n",
        "df.apply(lambda x: my_fun(x, 'age1', 'age2','diff'), axis=1)"
      ],
      "execution_count": null,
      "outputs": []
    },
    {
      "cell_type": "code",
      "metadata": {
        "id": "zGBIFOeqVD_E"
      },
      "source": [
        "df"
      ],
      "execution_count": null,
      "outputs": []
    },
    {
      "cell_type": "code",
      "metadata": {
        "id": "ghNFflPt6vWv"
      },
      "source": [
        "def get_status(df):\n",
        "    if df['TIME_1'] == df['TIME_MIN']:\n",
        "        return df['STATUS_1']\n",
        "    elif df['TIME_2'] == df['TIME_MIN']:\n",
        "        return df['STATUS_2']\n",
        "    elif df['TIME_3'] == df['TIME_MIN']:\n",
        "        return df['STATUS_3']\n",
        "    elif df['TIME_4'] == df['TIME_MIN']:\n",
        "        return df['STATUS_4']\n",
        "    else:\n",
        "        return df['STATUS_5']\n",
        "\n",
        "df['STATUS'] = df.apply(get_status, axis = 1)"
      ],
      "execution_count": null,
      "outputs": []
    },
    {
      "cell_type": "code",
      "metadata": {
        "id": "iZxmpQqL6wOm"
      },
      "source": [
        "def status(df4):\n",
        "  if df4['Style'].str.contains('C')==True:\n",
        "    return df4['weightage']\n",
        "  elif df4['Style'].str.contains('A')==True:\n",
        "    return df4['new']\n",
        "  else:\n",
        "    return df4['trimsdone']\n",
        "\n",
        "df4['status']=df4.apply(status,axis=1)"
      ],
      "execution_count": null,
      "outputs": []
    },
    {
      "cell_type": "code",
      "metadata": {
        "id": "IP-4YbW8xiET"
      },
      "source": [
        "#df.value.str[:3]+'10'+df.value.str[5:]"
      ],
      "execution_count": null,
      "outputs": []
    },
    {
      "cell_type": "code",
      "metadata": {
        "id": "G45Fan17yoKT"
      },
      "source": [
        "#df4['Style'].str[:3]"
      ],
      "execution_count": null,
      "outputs": []
    },
    {
      "cell_type": "code",
      "metadata": {
        "id": "UzP6GCAXtd6Y"
      },
      "source": [
        "#cond = [df4['Style'].str[3:5] == '3F']\n",
        "#choice= [df4['Style'].str[:3]+'--'+df4['Style'].str[5:]]\n",
        "#df4['Sty']= np.select(cond,choice,default=df4['Style'])\n",
        "#df4"
      ],
      "execution_count": null,
      "outputs": []
    },
    {
      "cell_type": "code",
      "metadata": {
        "id": "cv3LkIoKY9cD"
      },
      "source": [
        "list=['Trims']"
      ],
      "execution_count": null,
      "outputs": []
    },
    {
      "cell_type": "code",
      "metadata": {
        "id": "Z6THfv4RYA03"
      },
      "source": [
        "[x for x in df4['new'] if x not in list]"
      ],
      "execution_count": null,
      "outputs": []
    },
    {
      "cell_type": "code",
      "metadata": {
        "id": "kgYWiAsIW7SV"
      },
      "source": [
        "my_list=[x for x in empty_list if x not in stopwords]"
      ],
      "execution_count": null,
      "outputs": []
    },
    {
      "cell_type": "code",
      "metadata": {
        "id": "bFc1-pkgXcfR"
      },
      "source": [
        "for i, r in df4.iterrows():\n",
        "  print(i,r[0])"
      ],
      "execution_count": null,
      "outputs": []
    },
    {
      "cell_type": "code",
      "metadata": {
        "id": "PYpyHzrdW30q"
      },
      "source": [
        "df = pd.DataFrame([[100,200,150,400,500,'a','b','a','c','a',100], [300,400,200,500,250,'b','b','c','c','c',200]], columns=['TIME_1', 'TIME_2', 'TIME_3', 'TIME_4', 'TIME_5','STATUS_1','STATUS_2','STATUS_3','STATUS_4','STATUS_5','TIME_MIN'])\n"
      ],
      "execution_count": null,
      "outputs": []
    },
    {
      "cell_type": "code",
      "metadata": {
        "id": "G00h7UQwW36r"
      },
      "source": [
        "def get_status(df):\n",
        "    if df['TIME_1'] == df['TIME_MIN']:\n",
        "        return df['STATUS_1']\n",
        "    elif df['TIME_2'] == df['TIME_MIN']:\n",
        "        return df['STATUS_2']\n",
        "    elif df['TIME_3'] == df['TIME_MIN']:\n",
        "        return df['STATUS_3']\n",
        "    elif df['TIME_4'] == df['TIME_MIN']:\n",
        "        return df['STATUS_4']\n",
        "    else:\n",
        "        return df['STATUS_5']\n",
        "\n",
        "df['STATUS'] = df.apply(get_status, axis = 1)"
      ],
      "execution_count": null,
      "outputs": []
    },
    {
      "cell_type": "code",
      "metadata": {
        "id": "I9sUB8mNxj3B"
      },
      "source": [
        "class MultiColumnLabelEncoder:\n",
        "    def __init__(self,columns = None):\n",
        "        self.columns = columns # array of column names to encode\n",
        "\n",
        "    def fit(self,X,y=None):\n",
        "        return self # not relevant here\n",
        "\n",
        "    def transform(self,X):\n",
        "        '''\n",
        "        Transforms columns of X specified in self.columns using\n",
        "        LabelEncoder(). If no columns specified, transforms all\n",
        "        columns in X.\n",
        "        '''\n",
        "        output = X.copy()\n",
        "        if self.columns is not None:\n",
        "            for col in self.columns:\n",
        "                output[col] = le.fit_transform(output[col])\n",
        "        else:\n",
        "            for colname,col in output.iteritems():\n",
        "                output[colname] = le.fit_transform(col)\n",
        "        return output\n",
        "\n",
        "    def fit_transform(self,X,y=None):\n",
        "        return self.fit(X,y).transform(X)\n",
        "\n",
        "    def inverse_transform(self, X):\n",
        "        output = X.copy()\n",
        "        if self.columns is not None:\n",
        "            for col in self.columns:\n",
        "                output[col] = le.inverse_transform(output[col])\n",
        "        else:\n",
        "            for colname,col in output.iteritems():\n",
        "                output[colname] = le.inverse_transform(col)\n",
        "        return output\n",
        "\n",
        "    def fit_inv_transform(self,X,y=None):\n",
        "        return self.fit(X,y).inverse_transform(X)        "
      ],
      "execution_count": null,
      "outputs": []
    },
    {
      "cell_type": "code",
      "metadata": {
        "id": "TRIMoyLXrEQK"
      },
      "source": [
        "df4.head()"
      ],
      "execution_count": null,
      "outputs": []
    },
    {
      "cell_type": "code",
      "metadata": {
        "id": "cwI_UMT8UYLG"
      },
      "source": [
        "def foo():\n",
        "  for col in df4.columns:\n",
        "    if df4[col].dtype == object:\n",
        "      return df4[col].apply(le.fit_transform)"
      ],
      "execution_count": null,
      "outputs": []
    },
    {
      "cell_type": "code",
      "metadata": {
        "id": "mg2F_poiVXvX"
      },
      "source": [
        "df4.apply(foo)"
      ],
      "execution_count": null,
      "outputs": []
    },
    {
      "cell_type": "code",
      "metadata": {
        "id": "wxLQbnjsUhLC"
      },
      "source": [
        "for col in df4.columns:\n",
        "  if df4[col].dtype == str: # Although, you see the dtype `object` but `str` is also fine \n",
        "  return df4[col].apply(le.fit_transform)"
      ],
      "execution_count": null,
      "outputs": []
    },
    {
      "cell_type": "code",
      "metadata": {
        "id": "OLVGW6d8CiE6"
      },
      "source": [
        "dff=MultiColumnLabelEncoder(columns = ['new','Style','Qty status','trimsdone']).fit_transform(df4)"
      ],
      "execution_count": null,
      "outputs": []
    },
    {
      "cell_type": "code",
      "metadata": {
        "id": "6bjOhamKsliq"
      },
      "source": [
        "MultiColumnLabelEncoder(columns = ['new','Style','Qty status','trimsdone']).fit_inv_transform(dff)"
      ],
      "execution_count": null,
      "outputs": []
    },
    {
      "cell_type": "code",
      "metadata": {
        "id": "UyjwoJ_nqydu"
      },
      "source": [
        "#df4.apply(le.inverse_transform)"
      ],
      "execution_count": null,
      "outputs": []
    },
    {
      "cell_type": "code",
      "metadata": {
        "id": "O4ZrxNaSqbXk"
      },
      "source": [
        "class MultiColumnLabelEncoder:\n",
        "\n",
        "    def __init__(self, columns=None):\n",
        "        self.columns = columns # array of column names to encode\n",
        "\n",
        "\n",
        "    def fit(self, X, y=None):\n",
        "        self.encoders = {}\n",
        "        columns = X.columns if self.columns is None else self.columns\n",
        "        for col in columns:\n",
        "            self.encoders[col] = le.fit(X[col])\n",
        "        return self\n",
        "\n",
        "\n",
        "    def transform(self, X):\n",
        "        output = X.copy()\n",
        "        columns = X.columns if self.columns is None else self.columns\n",
        "        for col in columns:\n",
        "            output[col] = self.encoders[col].transform(X[col])\n",
        "        return output\n",
        "\n",
        "\n",
        "    def fit_transform(self, X, y=None):\n",
        "        return self.fit(X,y).transform(X)\n",
        "\n",
        "\n",
        "    def inverse_transform(self, X):\n",
        "        output = X.copy()\n",
        "        columns = X.columns if self.columns is None else self.columns\n",
        "        for col in columns:\n",
        "            output[col] = self.encoders[col].inverse_transform(X[col])\n",
        "        return output"
      ],
      "execution_count": null,
      "outputs": []
    },
    {
      "cell_type": "code",
      "metadata": {
        "id": "cZ2UDJhTtfOj"
      },
      "source": [
        "multi = MultiColumnLabelEncoder(columns=['Style','Qty status'])"
      ],
      "execution_count": null,
      "outputs": []
    },
    {
      "cell_type": "code",
      "metadata": {
        "id": "0U6dy0RgtLAl"
      },
      "source": [
        "X = multi.fit_transform(df4)"
      ],
      "execution_count": null,
      "outputs": []
    },
    {
      "cell_type": "code",
      "metadata": {
        "id": "hBj-d8o-tq6y"
      },
      "source": [
        "X.head()"
      ],
      "execution_count": null,
      "outputs": []
    },
    {
      "cell_type": "code",
      "metadata": {
        "id": "Z_FF5WnCtOKi"
      },
      "source": [
        "inv = multi.inverse_transform(X)"
      ],
      "execution_count": null,
      "outputs": []
    },
    {
      "cell_type": "code",
      "metadata": {
        "id": "eI7O4-uam2Ga"
      },
      "source": [
        "a.head()"
      ],
      "execution_count": null,
      "outputs": []
    },
    {
      "cell_type": "code",
      "metadata": {
        "id": "f3WpSOjQmhlM"
      },
      "source": [
        "X.apply(le.inverse_transform)"
      ],
      "execution_count": null,
      "outputs": []
    },
    {
      "cell_type": "code",
      "metadata": {
        "id": "mQoUejuFmfef"
      },
      "source": [
        ""
      ],
      "execution_count": null,
      "outputs": []
    },
    {
      "cell_type": "code",
      "metadata": {
        "id": "SJBPX0BEgXoc"
      },
      "source": [
        "text = \"word1anotherword23nextone456lastone333\"\n",
        "numbers = [x for x in text if x.isdigit()==True]\n",
        "print(''.join(numbers))"
      ],
      "execution_count": null,
      "outputs": []
    },
    {
      "cell_type": "code",
      "metadata": {
        "id": "aR4MBq6dsXpC"
      },
      "source": [
        "y = []\n",
        "for x in (f(i) for i in range(5)):\n",
        "    for a in x:\n",
        "        y.append(a)"
      ],
      "execution_count": null,
      "outputs": []
    },
    {
      "cell_type": "code",
      "metadata": {
        "id": "vUGYnIoHaBPB"
      },
      "source": [
        "for col in train.columns:\n",
        "  if train[col].dtype == 'object':\n",
        "    le = LabelEncoder()\n",
        "    le.fit(list(train[col].astype(str).values)+list(test[col].astype(str).values))\n",
        "    train[col] = le.transform(list(train[col].astype(str).values))\n",
        "    test[col] = le.transform(list(train[col].astype(str).values))"
      ],
      "execution_count": null,
      "outputs": []
    },
    {
      "cell_type": "code",
      "metadata": {
        "id": "Tg8k6R7_JcFG"
      },
      "source": [
        "df=df.groupby(['Style','Qty status'])['Qty status'].count().rename('weight').groupby(level=0).transform(lambda x:x/x.sum())\n"
      ],
      "execution_count": null,
      "outputs": []
    },
    {
      "cell_type": "code",
      "metadata": {
        "id": "5-hhHxhk7NIh"
      },
      "source": [
        "df=df.reset_index()\n",
        "df['weight']=df['weight']*100"
      ],
      "execution_count": null,
      "outputs": []
    },
    {
      "cell_type": "code",
      "metadata": {
        "id": "dtvkt51H5649"
      },
      "source": [
        "df=df[['Style','Qty status','weight']]"
      ],
      "execution_count": null,
      "outputs": []
    },
    {
      "cell_type": "code",
      "metadata": {
        "id": "nAjo1GRr8Vhk"
      },
      "source": [
        "df.head()"
      ],
      "execution_count": null,
      "outputs": []
    },
    {
      "cell_type": "code",
      "metadata": {
        "id": "ZQfHRyFT8zPg"
      },
      "source": [
        "X = df[['Style','Qty status']].values\n",
        "y = df[['weight']].values"
      ],
      "execution_count": null,
      "outputs": []
    },
    {
      "cell_type": "code",
      "metadata": {
        "id": "cWQ6SIsA8qfr"
      },
      "source": [
        "from sklearn.preprocessing import LabelEncoder, OneHotEncoder\n",
        "from sklearn.compose import ColumnTransformer"
      ],
      "execution_count": null,
      "outputs": []
    },
    {
      "cell_type": "code",
      "metadata": {
        "id": "30SQfLBL8lC1"
      },
      "source": [
        "ct = ColumnTransformer([(\"Qty status\", OneHotEncoder(), [1]),(\"Style\", OneHotEncoder(), [1])], remainder = 'passthrough')\n",
        "X = ct.fit_transform(X)\n",
        "X = X[:, 2:]"
      ],
      "execution_count": null,
      "outputs": []
    },
    {
      "cell_type": "code",
      "metadata": {
        "id": "IJYUfpJK8l-9"
      },
      "source": [
        "X"
      ],
      "execution_count": null,
      "outputs": []
    },
    {
      "cell_type": "code",
      "metadata": {
        "id": "IFm9ELX58mBn"
      },
      "source": [
        ""
      ],
      "execution_count": null,
      "outputs": []
    },
    {
      "cell_type": "code",
      "metadata": {
        "id": "WAIQJq2k8mEP"
      },
      "source": [
        ""
      ],
      "execution_count": null,
      "outputs": []
    },
    {
      "cell_type": "code",
      "metadata": {
        "id": "yqnv6tm08mGf"
      },
      "source": [
        ""
      ],
      "execution_count": null,
      "outputs": []
    },
    {
      "cell_type": "code",
      "metadata": {
        "id": "VPQfHMus8mI8"
      },
      "source": [
        ""
      ],
      "execution_count": null,
      "outputs": []
    },
    {
      "cell_type": "code",
      "metadata": {
        "id": "TVdt6TM08mMD"
      },
      "source": [
        ""
      ],
      "execution_count": null,
      "outputs": []
    },
    {
      "cell_type": "code",
      "metadata": {
        "id": "rlmJqE2M8mOD"
      },
      "source": [
        ""
      ],
      "execution_count": null,
      "outputs": []
    },
    {
      "cell_type": "code",
      "metadata": {
        "id": "AA9OKZAS8mQX"
      },
      "source": [
        ""
      ],
      "execution_count": null,
      "outputs": []
    },
    {
      "cell_type": "code",
      "metadata": {
        "id": "6ROAtFW-8mTI"
      },
      "source": [
        ""
      ],
      "execution_count": null,
      "outputs": []
    }
  ]
}